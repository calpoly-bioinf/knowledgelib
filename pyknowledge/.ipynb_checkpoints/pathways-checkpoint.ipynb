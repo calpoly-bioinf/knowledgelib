{
 "cells": [
  {
   "cell_type": "code",
   "execution_count": 1,
   "metadata": {},
   "outputs": [],
   "source": [
    "import pandas as pd \n",
    "import matplotlib.pyplot as plt"
   ]
  },
  {
   "cell_type": "code",
   "execution_count": 2,
   "metadata": {},
   "outputs": [],
   "source": [
    "def get_pathway_genes(csv, minimum_entities=0):\n",
    "    pathways_df = pd.read_csv(csv)\n",
    "    pathways_df = pathways_df[pathways_df['#Entities found'] > minimum_entities]\n",
    "    pathways_df['Submitted entities found'] = pathways_df['Submitted entities found'].apply(lambda x: x.split(';'))\n",
    "    pathways_df = pathways_df.explode('Submitted entities found')\n",
    "    return pathways_df"
   ]
  },
  {
   "cell_type": "code",
   "execution_count": 1,
   "metadata": {},
   "outputs": [],
   "source": [
    "def get_pathway_distances(pathways_df, genes_df_scaled, output_file):\n",
    "    from joblib import Parallel, delayed\n",
    "    import pickle \n",
    "    ncores = 7\n",
    "    pair_ixs = pyknowledge.common.get_pair_inxs(genes_df_scaled.shape[0])\n",
    "    chunks_pair_ixs = list(pyknowledge.common.divide_chunks(pair_ixs,pyknowledge.common.calc_len_chunk(len(pair_ixs),ncores)))\n",
    "\n",
    "\n",
    "    D_s = {}\n",
    "\n",
    "    for e, i in enumerate(np.unique(pathways_df['Pathway identifier'])[0:1]):\n",
    "        print(e)\n",
    "        to_include = pathways_df[pathways_df['Pathway identifier'] == i]['Submitted entities found'].values\n",
    "\n",
    "        helper = lambda distance_func: pd.concat(Parallel(n_jobs=-1)(delayed(pyknowledge.distance.chunk_distance)(np.arctan(genes_df_scaled[to_include]),chunk,distance_func) for chunk in chunks_pair_ixs))\n",
    "        DL1 = helper(pyknowledge.distance.L1)\n",
    "        DL2 = helper(pyknowledge.distance.L2)\n",
    "        DFSIGN = helper(pyknowledge.distance.FSIGN)\n",
    "\n",
    "\n",
    "        D_s[f'DL1_{e}'] = DL1\n",
    "        D_s[f'DL2_{e}'] = DL2\n",
    "        D_s[f'DLSIGN_{e}'] = DFSIGN\n",
    "        D_s[f'checkpoint'] = e\n",
    "\n",
    "\n",
    "        with open(output_file, 'wb') as fp:\n",
    "            pickle.dump(D_s, fp, protocol=pickle.HIGHEST_PROTOCOL)"
   ]
  },
  {
   "cell_type": "code",
   "execution_count": null,
   "metadata": {},
   "outputs": [],
   "source": []
  }
 ],
 "metadata": {
  "kernelspec": {
   "display_name": "Python 3",
   "language": "python",
   "name": "python3"
  },
  "language_info": {
   "codemirror_mode": {
    "name": "ipython",
    "version": 3
   },
   "file_extension": ".py",
   "mimetype": "text/x-python",
   "name": "python",
   "nbconvert_exporter": "python",
   "pygments_lexer": "ipython3",
   "version": "3.7.3"
  }
 },
 "nbformat": 4,
 "nbformat_minor": 4
}
