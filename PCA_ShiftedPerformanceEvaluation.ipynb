{
 "cells": [
  {
   "cell_type": "code",
   "execution_count": 96,
   "id": "stainless-baseline",
   "metadata": {},
   "outputs": [],
   "source": [
    "import scipy.io\n",
    "import pandas as pd\n",
    "import numpy as np\n",
    "import pandas as pd\n",
    "import matplotlib.pyplot as plt\n",
    "from sklearn.cluster import KMeans\n",
    "from sklearn.decomposition import PCA\n",
    "from sklearn.preprocessing import StandardScaler\n",
    "\n",
    "mat = scipy.io.loadmat(\"/disk/metabric/BRCA1View20000.mat\")"
   ]
  },
  {
   "cell_type": "code",
   "execution_count": 97,
   "id": "brave-friendly",
   "metadata": {},
   "outputs": [
    {
     "data": {
      "text/html": [
       "<div>\n",
       "<style scoped>\n",
       "    .dataframe tbody tr th:only-of-type {\n",
       "        vertical-align: middle;\n",
       "    }\n",
       "\n",
       "    .dataframe tbody tr th {\n",
       "        vertical-align: top;\n",
       "    }\n",
       "\n",
       "    .dataframe thead th {\n",
       "        text-align: right;\n",
       "    }\n",
       "</style>\n",
       "<table border=\"1\" class=\"dataframe\">\n",
       "  <thead>\n",
       "    <tr style=\"text-align: right;\">\n",
       "      <th></th>\n",
       "      <th>SCGB2A2</th>\n",
       "      <th>MUCL1</th>\n",
       "      <th>SCGB1D2</th>\n",
       "      <th>PIP</th>\n",
       "      <th>LOC648852</th>\n",
       "      <th>DNAJA2</th>\n",
       "      <th>TFF3</th>\n",
       "      <th>S100P</th>\n",
       "      <th>CPB1</th>\n",
       "      <th>CEACAM6</th>\n",
       "      <th>...</th>\n",
       "      <th>DLEU7</th>\n",
       "      <th>LOC641311</th>\n",
       "      <th>LOC645307</th>\n",
       "      <th>IL1RAP</th>\n",
       "      <th>LOC647149</th>\n",
       "      <th>LOC642453</th>\n",
       "      <th>LOC652100</th>\n",
       "      <th>LOC646050</th>\n",
       "      <th>LOC644912</th>\n",
       "      <th>LOC652294</th>\n",
       "    </tr>\n",
       "  </thead>\n",
       "  <tbody>\n",
       "    <tr>\n",
       "      <th>0</th>\n",
       "      <td>6.365374</td>\n",
       "      <td>5.610561</td>\n",
       "      <td>5.134799</td>\n",
       "      <td>5.735802</td>\n",
       "      <td>5.855315</td>\n",
       "      <td>5.443985</td>\n",
       "      <td>8.005882</td>\n",
       "      <td>5.615179</td>\n",
       "      <td>6.682096</td>\n",
       "      <td>5.756946</td>\n",
       "      <td>...</td>\n",
       "      <td>5.441128</td>\n",
       "      <td>5.409726</td>\n",
       "      <td>5.420998</td>\n",
       "      <td>5.396492</td>\n",
       "      <td>5.358751</td>\n",
       "      <td>5.424770</td>\n",
       "      <td>5.411055</td>\n",
       "      <td>5.242460</td>\n",
       "      <td>5.197767</td>\n",
       "      <td>5.643537</td>\n",
       "    </tr>\n",
       "    <tr>\n",
       "      <th>1</th>\n",
       "      <td>14.330442</td>\n",
       "      <td>7.979139</td>\n",
       "      <td>10.244240</td>\n",
       "      <td>7.138279</td>\n",
       "      <td>9.890661</td>\n",
       "      <td>11.195867</td>\n",
       "      <td>13.511164</td>\n",
       "      <td>10.548596</td>\n",
       "      <td>5.491578</td>\n",
       "      <td>6.805606</td>\n",
       "      <td>...</td>\n",
       "      <td>5.392657</td>\n",
       "      <td>5.213895</td>\n",
       "      <td>5.167652</td>\n",
       "      <td>5.273045</td>\n",
       "      <td>5.287980</td>\n",
       "      <td>5.398061</td>\n",
       "      <td>5.226934</td>\n",
       "      <td>5.396744</td>\n",
       "      <td>5.352158</td>\n",
       "      <td>5.811813</td>\n",
       "    </tr>\n",
       "    <tr>\n",
       "      <th>2</th>\n",
       "      <td>14.388331</td>\n",
       "      <td>6.016715</td>\n",
       "      <td>12.164435</td>\n",
       "      <td>5.272691</td>\n",
       "      <td>6.468386</td>\n",
       "      <td>5.265518</td>\n",
       "      <td>13.386034</td>\n",
       "      <td>8.764722</td>\n",
       "      <td>7.331663</td>\n",
       "      <td>11.967719</td>\n",
       "      <td>...</td>\n",
       "      <td>5.328035</td>\n",
       "      <td>5.707537</td>\n",
       "      <td>5.327874</td>\n",
       "      <td>5.549589</td>\n",
       "      <td>5.333051</td>\n",
       "      <td>5.368544</td>\n",
       "      <td>5.296182</td>\n",
       "      <td>5.694022</td>\n",
       "      <td>5.459744</td>\n",
       "      <td>5.269015</td>\n",
       "    </tr>\n",
       "    <tr>\n",
       "      <th>3</th>\n",
       "      <td>13.111243</td>\n",
       "      <td>7.251862</td>\n",
       "      <td>8.389121</td>\n",
       "      <td>8.664654</td>\n",
       "      <td>10.378585</td>\n",
       "      <td>5.544646</td>\n",
       "      <td>11.159766</td>\n",
       "      <td>8.263224</td>\n",
       "      <td>5.497906</td>\n",
       "      <td>5.923506</td>\n",
       "      <td>...</td>\n",
       "      <td>5.410289</td>\n",
       "      <td>5.351022</td>\n",
       "      <td>5.009093</td>\n",
       "      <td>5.345468</td>\n",
       "      <td>5.176322</td>\n",
       "      <td>5.326991</td>\n",
       "      <td>5.480259</td>\n",
       "      <td>5.292691</td>\n",
       "      <td>5.242160</td>\n",
       "      <td>5.635111</td>\n",
       "    </tr>\n",
       "    <tr>\n",
       "      <th>4</th>\n",
       "      <td>12.243103</td>\n",
       "      <td>7.293489</td>\n",
       "      <td>10.919581</td>\n",
       "      <td>9.566137</td>\n",
       "      <td>8.503568</td>\n",
       "      <td>11.492583</td>\n",
       "      <td>11.531352</td>\n",
       "      <td>9.818938</td>\n",
       "      <td>9.443134</td>\n",
       "      <td>6.889670</td>\n",
       "      <td>...</td>\n",
       "      <td>5.402880</td>\n",
       "      <td>5.320883</td>\n",
       "      <td>5.487783</td>\n",
       "      <td>5.479967</td>\n",
       "      <td>5.332074</td>\n",
       "      <td>5.273141</td>\n",
       "      <td>5.282872</td>\n",
       "      <td>5.222482</td>\n",
       "      <td>5.186136</td>\n",
       "      <td>5.616094</td>\n",
       "    </tr>\n",
       "  </tbody>\n",
       "</table>\n",
       "<p>5 rows × 20000 columns</p>\n",
       "</div>"
      ],
      "text/plain": [
       "     SCGB2A2     MUCL1    SCGB1D2       PIP  LOC648852     DNAJA2       TFF3  \\\n",
       "0   6.365374  5.610561   5.134799  5.735802   5.855315   5.443985   8.005882   \n",
       "1  14.330442  7.979139  10.244240  7.138279   9.890661  11.195867  13.511164   \n",
       "2  14.388331  6.016715  12.164435  5.272691   6.468386   5.265518  13.386034   \n",
       "3  13.111243  7.251862   8.389121  8.664654  10.378585   5.544646  11.159766   \n",
       "4  12.243103  7.293489  10.919581  9.566137   8.503568  11.492583  11.531352   \n",
       "\n",
       "       S100P      CPB1    CEACAM6  ...     DLEU7  LOC641311  LOC645307  \\\n",
       "0   5.615179  6.682096   5.756946  ...  5.441128   5.409726   5.420998   \n",
       "1  10.548596  5.491578   6.805606  ...  5.392657   5.213895   5.167652   \n",
       "2   8.764722  7.331663  11.967719  ...  5.328035   5.707537   5.327874   \n",
       "3   8.263224  5.497906   5.923506  ...  5.410289   5.351022   5.009093   \n",
       "4   9.818938  9.443134   6.889670  ...  5.402880   5.320883   5.487783   \n",
       "\n",
       "     IL1RAP  LOC647149  LOC642453  LOC652100  LOC646050  LOC644912  LOC652294  \n",
       "0  5.396492   5.358751   5.424770   5.411055   5.242460   5.197767   5.643537  \n",
       "1  5.273045   5.287980   5.398061   5.226934   5.396744   5.352158   5.811813  \n",
       "2  5.549589   5.333051   5.368544   5.296182   5.694022   5.459744   5.269015  \n",
       "3  5.345468   5.176322   5.326991   5.480259   5.292691   5.242160   5.635111  \n",
       "4  5.479967   5.332074   5.273141   5.282872   5.222482   5.186136   5.616094  \n",
       "\n",
       "[5 rows x 20000 columns]"
      ]
     },
     "execution_count": 97,
     "metadata": {},
     "output_type": "execute_result"
    }
   ],
   "source": [
    "gene_labels = [g[0] for g in mat['gene'][0]]\n",
    "df = pd.DataFrame(mat['data'].transpose(), columns=gene_labels)\n",
    "df.head()"
   ]
  },
  {
   "cell_type": "code",
   "execution_count": 98,
   "id": "educational-replication",
   "metadata": {},
   "outputs": [
    {
     "data": {
      "text/plain": [
       "Text(0.5, 1.0, 'Variance Drop Off after 0,1,2')"
      ]
     },
     "execution_count": 98,
     "metadata": {},
     "output_type": "execute_result"
    },
    {
     "data": {
      "image/png": "[encoded data removed]",
      "text/plain": [
       "<Figure size 432x288 with 1 Axes>"
      ]
     },
     "metadata": {
      "needs_background": "light"
     },
     "output_type": "display_data"
    }
   ],
   "source": [
    "# Standardize the data to have a mean of ~0 and a variance of 1\n",
    "X_std = StandardScaler().fit_transform(df)\n",
    "# Create a PCA instance: pca\n",
    "pca = PCA(n_components=20)\n",
    "principalComponents = pca.fit_transform(X_std)\n",
    "# Plot the explained variances\n",
    "features = range(pca.n_components_)\n",
    "plt.bar(features, pca.explained_variance_ratio_, color='black')\n",
    "plt.xlabel('PCA features')\n",
    "plt.ylabel('variance %')\n",
    "plt.xticks(features)\n",
    "# Save components to a DataFrame\n",
    "PCA_components = pd.DataFrame(principalComponents)\n",
    "plt.title(\"Variance Drop Off after 0,1,2\")"
   ]
  },
  {
   "cell_type": "code",
   "execution_count": 99,
   "id": "hindu-roberts",
   "metadata": {},
   "outputs": [],
   "source": [
    "# PCA"
   ]
  },
  {
   "cell_type": "code",
   "execution_count": 100,
   "id": "legitimate-juice",
   "metadata": {},
   "outputs": [
    {
     "data": {
      "text/plain": [
       "Text(0, 0.5, 'PCA 2')"
      ]
     },
     "execution_count": 100,
     "metadata": {},
     "output_type": "execute_result"
    },
    {
     "data": {
      "image/png": "[encoded data removed]",
      "text/plain": [
       "<Figure size 432x288 with 1 Axes>"
      ]
     },
     "metadata": {
      "needs_background": "light"
     },
     "output_type": "display_data"
    }
   ],
   "source": [
    "plt.scatter(PCA_components[0], PCA_components[1], alpha=.1, color='black')\n",
    "plt.xlabel('PCA 1')\n",
    "plt.ylabel('PCA 2')"
   ]
  },
  {
   "cell_type": "code",
   "execution_count": 101,
   "id": "close-mechanism",
   "metadata": {},
   "outputs": [
    {
     "data": {
      "image/png": "[encoded data removed]",
      "text/plain": [
       "<Figure size 432x288 with 1 Axes>"
      ]
     },
     "metadata": {
      "needs_background": "light"
     },
     "output_type": "display_data"
    }
   ],
   "source": [
    "ks = range(1, 10)\n",
    "inertias = []\n",
    "for k in ks:\n",
    "    # Create a KMeans instance with k clusters: model\n",
    "    model = KMeans(n_clusters=k)\n",
    "    \n",
    "    # Fit model to samples\n",
    "    model.fit(PCA_components.iloc[:,:3])\n",
    "    \n",
    "    # Append the inertia to the list of inertias\n",
    "    inertias.append(model.inertia_)\n",
    "    \n",
    "plt.plot(ks, inertias, '-o', color='black')\n",
    "plt.xlabel('number of clusters, k')\n",
    "plt.ylabel('inertia')\n",
    "plt.xticks(ks)\n",
    "plt.show()"
   ]
  },
  {
   "cell_type": "code",
   "execution_count": 102,
   "id": "undefined-province",
   "metadata": {},
   "outputs": [
    {
     "data": {
      "text/plain": [
       "KMeans(n_clusters=4)"
      ]
     },
     "execution_count": 102,
     "metadata": {},
     "output_type": "execute_result"
    }
   ],
   "source": [
    "model = KMeans(n_clusters=4)\n",
    "    \n",
    "# Fit model to samples\n",
    "model.fit(PCA_components.iloc[:,:3])"
   ]
  },
  {
   "cell_type": "code",
   "execution_count": 103,
   "id": "simplified-desert",
   "metadata": {},
   "outputs": [],
   "source": [
    "df['kmean-label'] = model.labels_"
   ]
  },
  {
   "cell_type": "code",
   "execution_count": 104,
   "id": "cognitive-computer",
   "metadata": {},
   "outputs": [],
   "source": [
    "df['target'] = mat['targets']\n",
    "df['Subtype'] = df.target.map({1:'Basal',2:'HER2+',3:'LumA',4:'LumB',5:'Normal Like',6:'Normal'})"
   ]
  },
  {
   "cell_type": "code",
   "execution_count": 105,
   "id": "blind-stuff",
   "metadata": {},
   "outputs": [
    {
     "data": {
      "image/png": "[encoded data removed]",
      "text/plain": [
       "<Figure size 1440x360 with 4 Axes>"
      ]
     },
     "metadata": {
      "needs_background": "light"
     },
     "output_type": "display_data"
    }
   ],
   "source": [
    "import matplotlib.pyplot as plt\n",
    "%matplotlib inline  \n",
    "\n",
    "plt.figure(figsize=(20,5)) \n",
    "\n",
    "# Target Label in each Cluster\n",
    "for i in df['kmean-label'].unique():\n",
    "    plt.subplot(1,4,i+1)\n",
    "    vs = (df[df['kmean-label'] == i]['Subtype'].value_counts(normalize=True))\n",
    "    vs.sort_index(ascending=False).plot(kind = 'barh')\n",
    "    plt.title(f\"Cluster {i}\")"
   ]
  },
  {
   "cell_type": "code",
   "execution_count": null,
   "id": "interested-language",
   "metadata": {},
   "outputs": [],
   "source": []
  },
  {
   "cell_type": "code",
   "execution_count": 190,
   "id": "sophisticated-looking",
   "metadata": {},
   "outputs": [],
   "source": [
    "import random\n",
    "\n",
    "test_size = 200\n",
    "val_size = 30\n",
    "train_size = 1903\n",
    "\n",
    "sets = []\n",
    "\n",
    "for cluster in df['kmean-label'].unique():\n",
    "    curr = pd.DataFrame(index=range(2133),columns=[\"train\", \"test\", \"val\"])\n",
    "    for i in range(25):\n",
    "        random.seed(i)\n",
    "        shifted_set = df[df['kmean-label'] == cluster].index.values\n",
    "        \n",
    "        test_list = shifted_set[random.sample(range(0, len(shifted_set)), 200)]\n",
    "        \n",
    "        shifted_set = np.array(list(set(shifted_set) - set(test_list)))\n",
    "        \n",
    "        val_list = shifted_set[random.sample(range(0, len(shifted_set)), 30)]\n",
    "        \n",
    "        #remnants = list(set(shifted_set) - set(test_list) - set(val_list))\n",
    "        \n",
    "        train_list = list(set(range(0,2133)) - set(test_list) - set(val_list))\n",
    "        \n",
    "        #print(len(train_list), len(val_list), len(test_list))\n",
    "\n",
    "        for r in range(2133):\n",
    "            curr.at[r, 'val'] = [True if r in val_list else False][0]\n",
    "            curr.at[r, 'test'] = [True if r in test_list else False][0]\n",
    "            curr.at[r, 'train'] = [True if r in train_list else False][0]\n",
    "        sets.append(curr)"
   ]
  },
  {
   "cell_type": "code",
   "execution_count": null,
   "id": "outside-ownership",
   "metadata": {},
   "outputs": [],
   "source": []
  },
  {
   "cell_type": "code",
   "execution_count": null,
   "id": "phantom-seating",
   "metadata": {},
   "outputs": [],
   "source": []
  },
  {
   "cell_type": "code",
   "execution_count": null,
   "id": "romantic-carrier",
   "metadata": {},
   "outputs": [],
   "source": []
  },
  {
   "cell_type": "code",
   "execution_count": null,
   "id": "analyzed-radius",
   "metadata": {},
   "outputs": [],
   "source": []
  },
  {
   "cell_type": "code",
   "execution_count": null,
   "id": "median-somerset",
   "metadata": {},
   "outputs": [],
   "source": []
  }
 ],
 "metadata": {
  "kernelspec": {
   "display_name": "Python 3",
   "language": "python",
   "name": "python3"
  },
  "language_info": {
   "codemirror_mode": {
    "name": "ipython",
    "version": 3
   },
   "file_extension": ".py",
   "mimetype": "text/x-python",
   "name": "python",
   "nbconvert_exporter": "python",
   "pygments_lexer": "ipython3",
   "version": "3.7.3"
  }
 },
 "nbformat": 4,
 "nbformat_minor": 5
}
