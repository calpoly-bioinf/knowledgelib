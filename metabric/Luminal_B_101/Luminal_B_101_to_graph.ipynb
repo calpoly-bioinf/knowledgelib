{
 "cells": [
  {
   "cell_type": "code",
   "execution_count": 2,
   "metadata": {},
   "outputs": [],
   "source": [
    "%load_ext autoreload\n",
    "%autoreload 2\n",
    "%matplotlib inline"
   ]
  },
  {
   "cell_type": "code",
   "execution_count": 3,
   "metadata": {},
   "outputs": [],
   "source": [
    "from IPython.display import display, Markdown, Latex"
   ]
  },
  {
   "cell_type": "code",
   "execution_count": 4,
   "metadata": {},
   "outputs": [],
   "source": [
    "from pathlib import Path\n",
    "home = str(Path.home())"
   ]
  },
  {
   "cell_type": "code",
   "execution_count": 5,
   "metadata": {},
   "outputs": [],
   "source": [
    "import sys\n",
    "sys.path.insert(0,f'{home}/knowledgelib/')"
   ]
  },
  {
   "cell_type": "code",
   "execution_count": 6,
   "metadata": {},
   "outputs": [],
   "source": [
    "import pyknowledge"
   ]
  },
  {
   "cell_type": "code",
   "execution_count": 7,
   "metadata": {},
   "outputs": [],
   "source": [
    "import pandas as pd\n",
    "from sklearn.preprocessing import StandardScaler"
   ]
  },
  {
   "cell_type": "code",
   "execution_count": 8,
   "metadata": {},
   "outputs": [],
   "source": [
    "import scipy.io\n",
    "import pandas as pd\n",
    "import numpy as np\n",
    "\n",
    "mat = scipy.io.loadmat(\"/disk/metabric/BRCA1View20000.mat\")"
   ]
  },
  {
   "cell_type": "code",
   "execution_count": 9,
   "metadata": {},
   "outputs": [
    {
     "data": {
      "text/plain": [
       "0          SCGB2A2\n",
       "1            MUCL1\n",
       "2          SCGB1D2\n",
       "3              PIP\n",
       "4        LOC648852\n",
       "           ...    \n",
       "19995    LOC642453\n",
       "19996    LOC652100\n",
       "19997    LOC646050\n",
       "19998    LOC644912\n",
       "19999    LOC652294\n",
       "Length: 20000, dtype: object"
      ]
     },
     "execution_count": 9,
     "metadata": {},
     "output_type": "execute_result"
    }
   ],
   "source": [
    "gene_labels = open(\"gene_labels.txt\").read().split(\"\\n\")\n",
    "pd.Series(gene_labels)"
   ]
  },
  {
   "cell_type": "code",
   "execution_count": 10,
   "metadata": {},
   "outputs": [
    {
     "data": {
      "text/html": [
       "<div>\n",
       "<style scoped>\n",
       "    .dataframe tbody tr th:only-of-type {\n",
       "        vertical-align: middle;\n",
       "    }\n",
       "\n",
       "    .dataframe tbody tr th {\n",
       "        vertical-align: top;\n",
       "    }\n",
       "\n",
       "    .dataframe thead th {\n",
       "        text-align: right;\n",
       "    }\n",
       "</style>\n",
       "<table border=\"1\" class=\"dataframe\">\n",
       "  <thead>\n",
       "    <tr style=\"text-align: right;\">\n",
       "      <th></th>\n",
       "      <th>SCGB2A2</th>\n",
       "      <th>MUCL1</th>\n",
       "      <th>SCGB1D2</th>\n",
       "      <th>PIP</th>\n",
       "      <th>LOC648852</th>\n",
       "      <th>DNAJA2</th>\n",
       "      <th>TFF3</th>\n",
       "      <th>S100P</th>\n",
       "      <th>CPB1</th>\n",
       "      <th>CEACAM6</th>\n",
       "      <th>...</th>\n",
       "      <th>LOC645307</th>\n",
       "      <th>IL1RAP</th>\n",
       "      <th>LOC647149</th>\n",
       "      <th>LOC642453</th>\n",
       "      <th>LOC652100</th>\n",
       "      <th>LOC646050</th>\n",
       "      <th>LOC644912</th>\n",
       "      <th>LOC652294</th>\n",
       "      <th>target</th>\n",
       "      <th>Subtype</th>\n",
       "    </tr>\n",
       "  </thead>\n",
       "  <tbody>\n",
       "    <tr>\n",
       "      <th>0</th>\n",
       "      <td>6.365374</td>\n",
       "      <td>5.610561</td>\n",
       "      <td>5.134799</td>\n",
       "      <td>5.735802</td>\n",
       "      <td>5.855315</td>\n",
       "      <td>5.443985</td>\n",
       "      <td>8.005882</td>\n",
       "      <td>5.615179</td>\n",
       "      <td>6.682096</td>\n",
       "      <td>5.756946</td>\n",
       "      <td>...</td>\n",
       "      <td>5.420998</td>\n",
       "      <td>5.396492</td>\n",
       "      <td>5.358751</td>\n",
       "      <td>5.424770</td>\n",
       "      <td>5.411055</td>\n",
       "      <td>5.242460</td>\n",
       "      <td>5.197767</td>\n",
       "      <td>5.643537</td>\n",
       "      <td>6</td>\n",
       "      <td>Normal</td>\n",
       "    </tr>\n",
       "    <tr>\n",
       "      <th>1</th>\n",
       "      <td>14.330442</td>\n",
       "      <td>7.979139</td>\n",
       "      <td>10.244240</td>\n",
       "      <td>7.138279</td>\n",
       "      <td>9.890661</td>\n",
       "      <td>11.195867</td>\n",
       "      <td>13.511164</td>\n",
       "      <td>10.548596</td>\n",
       "      <td>5.491578</td>\n",
       "      <td>6.805606</td>\n",
       "      <td>...</td>\n",
       "      <td>5.167652</td>\n",
       "      <td>5.273045</td>\n",
       "      <td>5.287980</td>\n",
       "      <td>5.398061</td>\n",
       "      <td>5.226934</td>\n",
       "      <td>5.396744</td>\n",
       "      <td>5.352158</td>\n",
       "      <td>5.811813</td>\n",
       "      <td>4</td>\n",
       "      <td>LumB</td>\n",
       "    </tr>\n",
       "    <tr>\n",
       "      <th>2</th>\n",
       "      <td>14.388331</td>\n",
       "      <td>6.016715</td>\n",
       "      <td>12.164435</td>\n",
       "      <td>5.272691</td>\n",
       "      <td>6.468386</td>\n",
       "      <td>5.265518</td>\n",
       "      <td>13.386034</td>\n",
       "      <td>8.764722</td>\n",
       "      <td>7.331663</td>\n",
       "      <td>11.967719</td>\n",
       "      <td>...</td>\n",
       "      <td>5.327874</td>\n",
       "      <td>5.549589</td>\n",
       "      <td>5.333051</td>\n",
       "      <td>5.368544</td>\n",
       "      <td>5.296182</td>\n",
       "      <td>5.694022</td>\n",
       "      <td>5.459744</td>\n",
       "      <td>5.269015</td>\n",
       "      <td>4</td>\n",
       "      <td>LumB</td>\n",
       "    </tr>\n",
       "    <tr>\n",
       "      <th>3</th>\n",
       "      <td>13.111243</td>\n",
       "      <td>7.251862</td>\n",
       "      <td>8.389121</td>\n",
       "      <td>8.664654</td>\n",
       "      <td>10.378585</td>\n",
       "      <td>5.544646</td>\n",
       "      <td>11.159766</td>\n",
       "      <td>8.263224</td>\n",
       "      <td>5.497906</td>\n",
       "      <td>5.923506</td>\n",
       "      <td>...</td>\n",
       "      <td>5.009093</td>\n",
       "      <td>5.345468</td>\n",
       "      <td>5.176322</td>\n",
       "      <td>5.326991</td>\n",
       "      <td>5.480259</td>\n",
       "      <td>5.292691</td>\n",
       "      <td>5.242160</td>\n",
       "      <td>5.635111</td>\n",
       "      <td>5</td>\n",
       "      <td>Normal Like</td>\n",
       "    </tr>\n",
       "    <tr>\n",
       "      <th>4</th>\n",
       "      <td>12.243103</td>\n",
       "      <td>7.293489</td>\n",
       "      <td>10.919581</td>\n",
       "      <td>9.566137</td>\n",
       "      <td>8.503568</td>\n",
       "      <td>11.492583</td>\n",
       "      <td>11.531352</td>\n",
       "      <td>9.818938</td>\n",
       "      <td>9.443134</td>\n",
       "      <td>6.889670</td>\n",
       "      <td>...</td>\n",
       "      <td>5.487783</td>\n",
       "      <td>5.479967</td>\n",
       "      <td>5.332074</td>\n",
       "      <td>5.273141</td>\n",
       "      <td>5.282872</td>\n",
       "      <td>5.222482</td>\n",
       "      <td>5.186136</td>\n",
       "      <td>5.616094</td>\n",
       "      <td>3</td>\n",
       "      <td>LumA</td>\n",
       "    </tr>\n",
       "  </tbody>\n",
       "</table>\n",
       "<p>5 rows × 20002 columns</p>\n",
       "</div>"
      ],
      "text/plain": [
       "     SCGB2A2     MUCL1    SCGB1D2       PIP  LOC648852     DNAJA2       TFF3  \\\n",
       "0   6.365374  5.610561   5.134799  5.735802   5.855315   5.443985   8.005882   \n",
       "1  14.330442  7.979139  10.244240  7.138279   9.890661  11.195867  13.511164   \n",
       "2  14.388331  6.016715  12.164435  5.272691   6.468386   5.265518  13.386034   \n",
       "3  13.111243  7.251862   8.389121  8.664654  10.378585   5.544646  11.159766   \n",
       "4  12.243103  7.293489  10.919581  9.566137   8.503568  11.492583  11.531352   \n",
       "\n",
       "       S100P      CPB1    CEACAM6  ...  LOC645307    IL1RAP  LOC647149  \\\n",
       "0   5.615179  6.682096   5.756946  ...   5.420998  5.396492   5.358751   \n",
       "1  10.548596  5.491578   6.805606  ...   5.167652  5.273045   5.287980   \n",
       "2   8.764722  7.331663  11.967719  ...   5.327874  5.549589   5.333051   \n",
       "3   8.263224  5.497906   5.923506  ...   5.009093  5.345468   5.176322   \n",
       "4   9.818938  9.443134   6.889670  ...   5.487783  5.479967   5.332074   \n",
       "\n",
       "   LOC642453  LOC652100  LOC646050  LOC644912  LOC652294  target      Subtype  \n",
       "0   5.424770   5.411055   5.242460   5.197767   5.643537       6       Normal  \n",
       "1   5.398061   5.226934   5.396744   5.352158   5.811813       4         LumB  \n",
       "2   5.368544   5.296182   5.694022   5.459744   5.269015       4         LumB  \n",
       "3   5.326991   5.480259   5.292691   5.242160   5.635111       5  Normal Like  \n",
       "4   5.273141   5.282872   5.222482   5.186136   5.616094       3         LumA  \n",
       "\n",
       "[5 rows x 20002 columns]"
      ]
     },
     "execution_count": 10,
     "metadata": {},
     "output_type": "execute_result"
    }
   ],
   "source": [
    "gene_labels = [g[0] for g in mat['gene'][0]]\n",
    "df = pd.DataFrame(mat['data'].transpose(), columns=gene_labels)\n",
    "# df['id'] = mat['id'][0]\n",
    "df['target'] = mat['targets']\n",
    "df['Subtype'] = df.target.map({1:'Basal',2:'HER2+',3:'LumA',4:'LumB',5:'Normal Like',6:'Normal'})\n",
    "df.head()"
   ]
  },
  {
   "cell_type": "code",
   "execution_count": 11,
   "metadata": {},
   "outputs": [],
   "source": [
    "lum_genes = pd.read_csv('Luminal_B_101_Gene_List.csv')\n",
    "\n",
    "genes_df = df.loc[:,df.columns.isin(lum_genes[\"Gene\"])]"
   ]
  },
  {
   "cell_type": "markdown",
   "metadata": {},
   "source": [
    "## Here is where we would select difference scalers"
   ]
  },
  {
   "cell_type": "code",
   "execution_count": 12,
   "metadata": {},
   "outputs": [],
   "source": [
    "scaler = None\n",
    "\n",
    "if scaler is None:\n",
    "    scaler = StandardScaler()\n",
    "    scaler.fit(genes_df)\n",
    "\n",
    "genes_df_scaled = pd.DataFrame(scaler.transform(genes_df),index=genes_df.index,columns=genes_df.columns).fillna(0)"
   ]
  },
  {
   "cell_type": "code",
   "execution_count": 13,
   "metadata": {},
   "outputs": [
    {
     "data": {
      "text/html": [
       "<div>\n",
       "<style scoped>\n",
       "    .dataframe tbody tr th:only-of-type {\n",
       "        vertical-align: middle;\n",
       "    }\n",
       "\n",
       "    .dataframe tbody tr th {\n",
       "        vertical-align: top;\n",
       "    }\n",
       "\n",
       "    .dataframe thead th {\n",
       "        text-align: right;\n",
       "    }\n",
       "</style>\n",
       "<table border=\"1\" class=\"dataframe\">\n",
       "  <thead>\n",
       "    <tr style=\"text-align: right;\">\n",
       "      <th></th>\n",
       "      <th>CCND1</th>\n",
       "      <th>FAM83H</th>\n",
       "      <th>C17orf28</th>\n",
       "      <th>FAM83D</th>\n",
       "      <th>SRGAP1</th>\n",
       "      <th>UBE2C</th>\n",
       "      <th>BOP1</th>\n",
       "      <th>BRF2</th>\n",
       "      <th>KIFC2</th>\n",
       "      <th>TROAP</th>\n",
       "      <th>...</th>\n",
       "      <th>RAD54B</th>\n",
       "      <th>NFKBIL2</th>\n",
       "      <th>ZBTB10</th>\n",
       "      <th>PSMC3IP</th>\n",
       "      <th>LETM2</th>\n",
       "      <th>BRCA1</th>\n",
       "      <th>FAM82B</th>\n",
       "      <th>MYBL2</th>\n",
       "      <th>FRS2</th>\n",
       "      <th>CIT</th>\n",
       "    </tr>\n",
       "  </thead>\n",
       "  <tbody>\n",
       "    <tr>\n",
       "      <th>0</th>\n",
       "      <td>-0.100659</td>\n",
       "      <td>-3.189314</td>\n",
       "      <td>-1.163106</td>\n",
       "      <td>-1.368472</td>\n",
       "      <td>0.197607</td>\n",
       "      <td>-2.160346</td>\n",
       "      <td>-1.268345</td>\n",
       "      <td>0.235924</td>\n",
       "      <td>-0.933807</td>\n",
       "      <td>-1.898709</td>\n",
       "      <td>...</td>\n",
       "      <td>-1.410917</td>\n",
       "      <td>-0.539807</td>\n",
       "      <td>-0.990863</td>\n",
       "      <td>-1.394209</td>\n",
       "      <td>-1.683707</td>\n",
       "      <td>-1.760110</td>\n",
       "      <td>0.504558</td>\n",
       "      <td>-0.916205</td>\n",
       "      <td>-1.437369</td>\n",
       "      <td>1.309344</td>\n",
       "    </tr>\n",
       "    <tr>\n",
       "      <th>1</th>\n",
       "      <td>-0.396379</td>\n",
       "      <td>1.923176</td>\n",
       "      <td>0.505856</td>\n",
       "      <td>-0.638042</td>\n",
       "      <td>1.477128</td>\n",
       "      <td>0.040077</td>\n",
       "      <td>2.057732</td>\n",
       "      <td>2.492817</td>\n",
       "      <td>2.267095</td>\n",
       "      <td>-0.076725</td>\n",
       "      <td>...</td>\n",
       "      <td>0.275690</td>\n",
       "      <td>0.731575</td>\n",
       "      <td>-0.143936</td>\n",
       "      <td>-0.736753</td>\n",
       "      <td>-0.378679</td>\n",
       "      <td>-0.281442</td>\n",
       "      <td>1.326211</td>\n",
       "      <td>1.086842</td>\n",
       "      <td>-0.746088</td>\n",
       "      <td>-0.877594</td>\n",
       "    </tr>\n",
       "    <tr>\n",
       "      <th>2</th>\n",
       "      <td>0.153928</td>\n",
       "      <td>2.076008</td>\n",
       "      <td>0.727836</td>\n",
       "      <td>-0.948505</td>\n",
       "      <td>0.592500</td>\n",
       "      <td>-0.527023</td>\n",
       "      <td>1.303371</td>\n",
       "      <td>0.617340</td>\n",
       "      <td>1.742926</td>\n",
       "      <td>-0.027667</td>\n",
       "      <td>...</td>\n",
       "      <td>-0.095986</td>\n",
       "      <td>-1.137496</td>\n",
       "      <td>-1.343864</td>\n",
       "      <td>-0.062959</td>\n",
       "      <td>0.889682</td>\n",
       "      <td>1.095956</td>\n",
       "      <td>2.489593</td>\n",
       "      <td>0.528456</td>\n",
       "      <td>0.021510</td>\n",
       "      <td>-0.872164</td>\n",
       "    </tr>\n",
       "    <tr>\n",
       "      <th>3</th>\n",
       "      <td>0.764704</td>\n",
       "      <td>0.830027</td>\n",
       "      <td>-0.425847</td>\n",
       "      <td>-0.142911</td>\n",
       "      <td>0.458682</td>\n",
       "      <td>0.967930</td>\n",
       "      <td>1.843483</td>\n",
       "      <td>-0.298788</td>\n",
       "      <td>1.120019</td>\n",
       "      <td>1.767628</td>\n",
       "      <td>...</td>\n",
       "      <td>-0.692801</td>\n",
       "      <td>1.483901</td>\n",
       "      <td>-1.242918</td>\n",
       "      <td>0.485040</td>\n",
       "      <td>-0.336100</td>\n",
       "      <td>1.149192</td>\n",
       "      <td>0.498185</td>\n",
       "      <td>-1.617987</td>\n",
       "      <td>0.403393</td>\n",
       "      <td>2.220044</td>\n",
       "    </tr>\n",
       "    <tr>\n",
       "      <th>4</th>\n",
       "      <td>1.547597</td>\n",
       "      <td>0.188069</td>\n",
       "      <td>1.024349</td>\n",
       "      <td>-0.520472</td>\n",
       "      <td>0.484273</td>\n",
       "      <td>0.318252</td>\n",
       "      <td>-0.363769</td>\n",
       "      <td>2.339653</td>\n",
       "      <td>0.595944</td>\n",
       "      <td>0.124801</td>\n",
       "      <td>...</td>\n",
       "      <td>-0.001107</td>\n",
       "      <td>-0.621344</td>\n",
       "      <td>-1.815289</td>\n",
       "      <td>1.112204</td>\n",
       "      <td>1.060896</td>\n",
       "      <td>1.191882</td>\n",
       "      <td>-1.432317</td>\n",
       "      <td>2.028444</td>\n",
       "      <td>0.153414</td>\n",
       "      <td>-0.619178</td>\n",
       "    </tr>\n",
       "  </tbody>\n",
       "</table>\n",
       "<p>5 rows × 90 columns</p>\n",
       "</div>"
      ],
      "text/plain": [
       "      CCND1    FAM83H  C17orf28    FAM83D    SRGAP1     UBE2C      BOP1  \\\n",
       "0 -0.100659 -3.189314 -1.163106 -1.368472  0.197607 -2.160346 -1.268345   \n",
       "1 -0.396379  1.923176  0.505856 -0.638042  1.477128  0.040077  2.057732   \n",
       "2  0.153928  2.076008  0.727836 -0.948505  0.592500 -0.527023  1.303371   \n",
       "3  0.764704  0.830027 -0.425847 -0.142911  0.458682  0.967930  1.843483   \n",
       "4  1.547597  0.188069  1.024349 -0.520472  0.484273  0.318252 -0.363769   \n",
       "\n",
       "       BRF2     KIFC2     TROAP  ...    RAD54B   NFKBIL2    ZBTB10   PSMC3IP  \\\n",
       "0  0.235924 -0.933807 -1.898709  ... -1.410917 -0.539807 -0.990863 -1.394209   \n",
       "1  2.492817  2.267095 -0.076725  ...  0.275690  0.731575 -0.143936 -0.736753   \n",
       "2  0.617340  1.742926 -0.027667  ... -0.095986 -1.137496 -1.343864 -0.062959   \n",
       "3 -0.298788  1.120019  1.767628  ... -0.692801  1.483901 -1.242918  0.485040   \n",
       "4  2.339653  0.595944  0.124801  ... -0.001107 -0.621344 -1.815289  1.112204   \n",
       "\n",
       "      LETM2     BRCA1    FAM82B     MYBL2      FRS2       CIT  \n",
       "0 -1.683707 -1.760110  0.504558 -0.916205 -1.437369  1.309344  \n",
       "1 -0.378679 -0.281442  1.326211  1.086842 -0.746088 -0.877594  \n",
       "2  0.889682  1.095956  2.489593  0.528456  0.021510 -0.872164  \n",
       "3 -0.336100  1.149192  0.498185 -1.617987  0.403393  2.220044  \n",
       "4  1.060896  1.191882 -1.432317  2.028444  0.153414 -0.619178  \n",
       "\n",
       "[5 rows x 90 columns]"
      ]
     },
     "execution_count": 13,
     "metadata": {},
     "output_type": "execute_result"
    }
   ],
   "source": [
    "genes_df_scaled.head()"
   ]
  },
  {
   "cell_type": "code",
   "execution_count": 15,
   "metadata": {},
   "outputs": [
    {
     "data": {
      "text/plain": [
       "PCA(n_components=2)"
      ]
     },
     "execution_count": 15,
     "metadata": {},
     "output_type": "execute_result"
    }
   ],
   "source": [
    "data = genes_df_scaled.join(df[['Subtype']])\n",
    "pca_data = data.set_index('Subtype').loc['LumB']\n",
    "from sklearn.decomposition import PCA\n",
    "pca = PCA(n_components=2)\n",
    "pca.fit(pca_data)"
   ]
  },
  {
   "cell_type": "code",
   "execution_count": 27,
   "metadata": {},
   "outputs": [
    {
     "data": {
      "text/plain": [
       "array([0.2258795 , 0.10070977])"
      ]
     },
     "execution_count": 27,
     "metadata": {},
     "output_type": "execute_result"
    }
   ],
   "source": [
    "pca.explained_variance_ratio_"
   ]
  },
  {
   "cell_type": "code",
   "execution_count": 25,
   "metadata": {},
   "outputs": [
    {
     "data": {
      "text/html": [
       "<div>\n",
       "<style scoped>\n",
       "    .dataframe tbody tr th:only-of-type {\n",
       "        vertical-align: middle;\n",
       "    }\n",
       "\n",
       "    .dataframe tbody tr th {\n",
       "        vertical-align: top;\n",
       "    }\n",
       "\n",
       "    .dataframe thead th {\n",
       "        text-align: right;\n",
       "    }\n",
       "</style>\n",
       "<table border=\"1\" class=\"dataframe\">\n",
       "  <thead>\n",
       "    <tr style=\"text-align: right;\">\n",
       "      <th></th>\n",
       "      <th>PC1</th>\n",
       "      <th>PC2</th>\n",
       "      <th>Subtype</th>\n",
       "    </tr>\n",
       "  </thead>\n",
       "  <tbody>\n",
       "    <tr>\n",
       "      <th>0</th>\n",
       "      <td>-10.887005</td>\n",
       "      <td>-0.150642</td>\n",
       "      <td>Normal</td>\n",
       "    </tr>\n",
       "    <tr>\n",
       "      <th>1</th>\n",
       "      <td>6.661073</td>\n",
       "      <td>-3.643411</td>\n",
       "      <td>LumB</td>\n",
       "    </tr>\n",
       "    <tr>\n",
       "      <th>2</th>\n",
       "      <td>1.576173</td>\n",
       "      <td>-2.152591</td>\n",
       "      <td>LumB</td>\n",
       "    </tr>\n",
       "    <tr>\n",
       "      <th>3</th>\n",
       "      <td>-0.211867</td>\n",
       "      <td>-3.208371</td>\n",
       "      <td>Normal Like</td>\n",
       "    </tr>\n",
       "    <tr>\n",
       "      <th>4</th>\n",
       "      <td>-0.547350</td>\n",
       "      <td>2.891889</td>\n",
       "      <td>LumA</td>\n",
       "    </tr>\n",
       "    <tr>\n",
       "      <th>...</th>\n",
       "      <td>...</td>\n",
       "      <td>...</td>\n",
       "      <td>...</td>\n",
       "    </tr>\n",
       "    <tr>\n",
       "      <th>2128</th>\n",
       "      <td>-3.016126</td>\n",
       "      <td>0.228740</td>\n",
       "      <td>LumA</td>\n",
       "    </tr>\n",
       "    <tr>\n",
       "      <th>2129</th>\n",
       "      <td>-8.931000</td>\n",
       "      <td>-2.081556</td>\n",
       "      <td>Normal Like</td>\n",
       "    </tr>\n",
       "    <tr>\n",
       "      <th>2130</th>\n",
       "      <td>-4.210068</td>\n",
       "      <td>-0.552935</td>\n",
       "      <td>HER2+</td>\n",
       "    </tr>\n",
       "    <tr>\n",
       "      <th>2131</th>\n",
       "      <td>-5.430923</td>\n",
       "      <td>0.124227</td>\n",
       "      <td>Normal Like</td>\n",
       "    </tr>\n",
       "    <tr>\n",
       "      <th>2132</th>\n",
       "      <td>-2.954305</td>\n",
       "      <td>-0.833001</td>\n",
       "      <td>Basal</td>\n",
       "    </tr>\n",
       "  </tbody>\n",
       "</table>\n",
       "<p>2133 rows × 3 columns</p>\n",
       "</div>"
      ],
      "text/plain": [
       "            PC1       PC2      Subtype\n",
       "0    -10.887005 -0.150642       Normal\n",
       "1      6.661073 -3.643411         LumB\n",
       "2      1.576173 -2.152591         LumB\n",
       "3     -0.211867 -3.208371  Normal Like\n",
       "4     -0.547350  2.891889         LumA\n",
       "...         ...       ...          ...\n",
       "2128  -3.016126  0.228740         LumA\n",
       "2129  -8.931000 -2.081556  Normal Like\n",
       "2130  -4.210068 -0.552935        HER2+\n",
       "2131  -5.430923  0.124227  Normal Like\n",
       "2132  -2.954305 -0.833001        Basal\n",
       "\n",
       "[2133 rows x 3 columns]"
      ]
     },
     "execution_count": 25,
     "metadata": {},
     "output_type": "execute_result"
    }
   ],
   "source": [
    "data_transformed = pd.DataFrame(pca.transform(data.drop('Subtype',axis=1))).join(df[['Subtype']])\n",
    "data_transformed.columns = [\"PC1\",\"PC2\",\"Subtype\"]\n",
    "data_transformed"
   ]
  },
  {
   "cell_type": "code",
   "execution_count": 26,
   "metadata": {},
   "outputs": [
    {
     "data": {
      "text/html": [
       "\n",
       "<div id=\"altair-viz-956fb5e883024007ab1c9aa0ac1ec8e3\"></div>\n",
       "<script type=\"text/javascript\">\n",
       "  (function(spec, embedOpt){\n",
       "    let outputDiv = document.currentScript.previousElementSibling;\n",
       "    if (outputDiv.id !== \"altair-viz-956fb5e883024007ab1c9aa0ac1ec8e3\") {\n",
       "      outputDiv = document.getElementById(\"altair-viz-956fb5e883024007ab1c9aa0ac1ec8e3\");\n",
       "    }\n",
       "    const paths = {\n",
       "      \"vega\": \"https://cdn.jsdelivr.net/npm//vega@5?noext\",\n",
       "      \"vega-lib\": \"https://cdn.jsdelivr.net/npm//vega-lib?noext\",\n",
       "      \"vega-lite\": \"https://cdn.jsdelivr.net/npm//vega-lite@4.8.1?noext\",\n",
       "      \"vega-embed\": \"https://cdn.jsdelivr.net/npm//vega-embed@6?noext\",\n",
       "    };\n",
       "\n",
       "    function loadScript(lib) {\n",
       "      return new Promise(function(resolve, reject) {\n",
       "        var s = document.createElement('script');\n",
       "        s.src = paths[lib];\n",
       "        s.async = true;\n",
       "        s.onload = () => resolve(paths[lib]);\n",
       "        s.onerror = () => reject(`Error loading script: ${paths[lib]}`);\n",
       "        document.getElementsByTagName(\"head\")[0].appendChild(s);\n",
       "      });\n",
       "    }\n",
       "\n",
       "    function showError(err) {\n",
       "      outputDiv.innerHTML = `<div class=\"error\" style=\"color:red;\">${err}</div>`;\n",
       "      throw err;\n",
       "    }\n",
       "\n",
       "    function displayChart(vegaEmbed) {\n",
       "      vegaEmbed(outputDiv, spec, embedOpt)\n",
       "        .catch(err => showError(`Javascript Error: ${err.message}<br>This usually means there's a typo in your chart specification. See the javascript console for the full traceback.`));\n",
       "    }\n",
       "\n",
       "    if(typeof define === \"function\" && define.amd) {\n",
       "      requirejs.config({paths});\n",
       "      require([\"vega-embed\"], displayChart, err => showError(`Error loading script: ${err.message}`));\n",
       "    } else if (typeof vegaEmbed === \"function\") {\n",
       "      displayChart(vegaEmbed);\n",
       "    } else {\n",
       "      loadScript(\"vega\")\n",
       "        .then(() => loadScript(\"vega-lite\"))\n",
       "        .then(() => loadScript(\"vega-embed\"))\n",
       "        .catch(showError)\n",
       "        .then(() => displayChart(vegaEmbed));\n",
       "    }\n",
       "  })({\"config\": {\"view\": {\"continuousWidth\": 400, \"continuousHeight\": 300}}, \"data\": {\"name\": \"data-b01937f02190167d8cc9e289b21432de\"}, \"mark\": {\"type\": \"circle\", \"size\": 60}, \"encoding\": {\"color\": {\"type\": \"nominal\", \"field\": \"Subtype\"}, \"x\": {\"type\": \"quantitative\", \"field\": \"PC1\"}, \"y\": {\"type\": \"quantitative\", \"field\": \"PC2\"}}, \"$schema\": \"https://vega.github.io/schema/vega-lite/v4.8.1.json\", \"datasets\": {\"data-b01937f02190167d8cc9e289b21432de\": [{\"PC1\": -10.887005067724349, \"PC2\": -0.1506423368792826, \"Subtype\": \"Normal\"}, {\"PC1\": 6.661072839005846, \"PC2\": -3.643411254950381, \"Subtype\": \"LumB\"}, {\"PC1\": 1.5761732190406064, \"PC2\": -2.152591081732562, \"Subtype\": \"LumB\"}, {\"PC1\": -0.21186656818374036, \"PC2\": -3.2083707865468787, \"Subtype\": \"Normal Like\"}, {\"PC1\": -0.5473504188868683, \"PC2\": 2.8918887863873075, \"Subtype\": \"LumA\"}, {\"PC1\": 9.241598300349011, \"PC2\": 4.905530003247052, \"Subtype\": \"HER2+\"}, {\"PC1\": 3.911688197799878, \"PC2\": 0.26788386427187993, \"Subtype\": \"HER2+\"}, {\"PC1\": -0.39570583766215794, \"PC2\": -0.8883011481569404, \"Subtype\": \"LumB\"}, {\"PC1\": -9.305243326836996, \"PC2\": -0.8303541671310968, \"Subtype\": \"Normal\"}, {\"PC1\": -6.240261011522343, \"PC2\": -0.7389186177642418, \"Subtype\": \"LumA\"}, {\"PC1\": -7.983643759437497, \"PC2\": -2.1150631952804337, \"Subtype\": \"Normal\"}, {\"PC1\": -4.4847849641135555, \"PC2\": 1.1496347254848354, \"Subtype\": \"LumA\"}, {\"PC1\": -6.823726697789135, \"PC2\": -2.1723916874122273, \"Subtype\": \"Normal Like\"}, {\"PC1\": -4.77399802730949, \"PC2\": 0.14620001092781476, \"Subtype\": \"LumB\"}, {\"PC1\": -5.069768648934731, \"PC2\": -3.1910538580710877, \"Subtype\": \"LumA\"}, {\"PC1\": -5.5999950286288005, \"PC2\": -0.6727567287690575, \"Subtype\": \"HER2+\"}, {\"PC1\": -0.13489280339411958, \"PC2\": 0.2609929969286961, \"Subtype\": \"LumA\"}, {\"PC1\": 1.9021258493497457, \"PC2\": 5.414178660183911, \"Subtype\": \"LumB\"}, {\"PC1\": 4.136666054847536, \"PC2\": 0.5076804897482864, \"Subtype\": \"Normal\"}, {\"PC1\": -10.696896073737689, \"PC2\": -0.14775148339952413, \"Subtype\": \"Normal Like\"}, {\"PC1\": -6.260033828323148, \"PC2\": -0.3540266032525383, \"Subtype\": \"LumA\"}, {\"PC1\": -9.02712536247593, \"PC2\": -0.06866450515150738, \"Subtype\": \"Normal Like\"}, {\"PC1\": -7.530661980507748, \"PC2\": -2.002947966244687, \"Subtype\": \"Normal\"}, {\"PC1\": -6.397146617091805, \"PC2\": 0.28861261309748104, \"Subtype\": \"LumA\"}, {\"PC1\": -6.297436013863142, \"PC2\": -0.6742641753707667, \"Subtype\": \"LumB\"}, {\"PC1\": -8.666514729844613, \"PC2\": -1.8931353762306773, \"Subtype\": \"LumA\"}, {\"PC1\": -8.410224148682143, \"PC2\": -1.5792034842177427, \"Subtype\": \"LumA\"}, {\"PC1\": -9.675874622611678, \"PC2\": 0.09875586867326898, \"Subtype\": \"Normal Like\"}, {\"PC1\": 2.13007853349821, \"PC2\": -1.0092758224308902, \"Subtype\": \"LumB\"}, {\"PC1\": -6.206148290962828, \"PC2\": -2.527386793573112, \"Subtype\": \"LumA\"}, {\"PC1\": -1.021041328617177, \"PC2\": 6.702222102866044, \"Subtype\": \"Normal Like\"}, {\"PC1\": -4.339681526467818, \"PC2\": -0.7795189444462637, \"Subtype\": \"Basal\"}, {\"PC1\": 2.9367878238892198, \"PC2\": -2.8227591601552193, \"Subtype\": \"LumB\"}, {\"PC1\": -2.292605027131545, \"PC2\": -0.465415548388607, \"Subtype\": \"LumA\"}, {\"PC1\": -1.7968088058626894, \"PC2\": -1.2262158023273622, \"Subtype\": \"LumA\"}, {\"PC1\": -4.5454234798631274, \"PC2\": -1.508252909277685, \"Subtype\": \"Basal\"}, {\"PC1\": 0.15607658930847312, \"PC2\": -1.6824350733597166, \"Subtype\": \"LumA\"}, {\"PC1\": -11.937181013618206, \"PC2\": -1.2295857565258326, \"Subtype\": \"Normal\"}, {\"PC1\": 1.4554023400241531, \"PC2\": -1.5193317235131856, \"Subtype\": \"LumA\"}, {\"PC1\": 4.358742077821575, \"PC2\": -1.8942552995785735, \"Subtype\": \"Basal\"}, {\"PC1\": -2.0199501954674184, \"PC2\": -1.3414517205226382, \"Subtype\": \"LumA\"}, {\"PC1\": -1.3756889922072102, \"PC2\": -3.8067162108995243, \"Subtype\": \"Normal Like\"}, {\"PC1\": -8.637210705417488, \"PC2\": -1.8534722657350795, \"Subtype\": \"Normal\"}, {\"PC1\": 4.911241506922016, \"PC2\": -0.5299401654716698, \"Subtype\": \"LumB\"}, {\"PC1\": 0.06541104179730912, \"PC2\": 12.20098278372828, \"Subtype\": \"LumB\"}, {\"PC1\": -9.421635553598994, \"PC2\": -2.356070148351899, \"Subtype\": \"Normal\"}, {\"PC1\": -4.197861205672744, \"PC2\": -0.1909795441204822, \"Subtype\": \"LumB\"}, {\"PC1\": 2.6660712396457673, \"PC2\": -1.798221754062551, \"Subtype\": \"LumB\"}, {\"PC1\": -7.40861607058053, \"PC2\": 2.2968915749373804, \"Subtype\": \"LumA\"}, {\"PC1\": 4.8192215515815455, \"PC2\": -4.605785494838517, \"Subtype\": \"LumB\"}, {\"PC1\": -0.7486479186331388, \"PC2\": 2.329771865941126, \"Subtype\": \"LumA\"}, {\"PC1\": -8.601458349421216, \"PC2\": 0.5378167913954741, \"Subtype\": \"LumA\"}, {\"PC1\": -5.301223145855058, \"PC2\": -0.8382062156421162, \"Subtype\": \"LumA\"}, {\"PC1\": -9.90849763080868, \"PC2\": -0.6319407488562574, \"Subtype\": \"Normal\"}, {\"PC1\": -8.434775426834452, \"PC2\": -1.9405161463257898, \"Subtype\": \"LumA\"}, {\"PC1\": -7.4180931486403585, \"PC2\": -2.2710172630435217, \"Subtype\": \"LumA\"}, {\"PC1\": -4.127667262327489, \"PC2\": -1.2861338223891654, \"Subtype\": \"LumA\"}, {\"PC1\": -7.361518593609556, \"PC2\": -0.14888932017977274, \"Subtype\": \"LumA\"}, {\"PC1\": -4.673484957983998, \"PC2\": -0.8312658675323289, \"Subtype\": \"LumB\"}, {\"PC1\": -9.046924689028518, \"PC2\": 0.2366210836682902, \"Subtype\": \"Basal\"}, {\"PC1\": 5.101216381085241, \"PC2\": 0.02585104930856755, \"Subtype\": \"LumB\"}, {\"PC1\": 2.3080616301152777, \"PC2\": 3.0548494956849135, \"Subtype\": \"Normal Like\"}, {\"PC1\": -1.0335314071005175, \"PC2\": -2.484323931427228, \"Subtype\": \"LumB\"}, {\"PC1\": -3.413125435478478, \"PC2\": 2.851583705509516, \"Subtype\": \"Basal\"}, {\"PC1\": -0.11432489401534617, \"PC2\": 0.34355334472818694, \"Subtype\": \"LumA\"}, {\"PC1\": -4.62841249130763, \"PC2\": 0.9289253367464164, \"Subtype\": \"Basal\"}, {\"PC1\": 0.9627307807149882, \"PC2\": -1.0586023949398047, \"Subtype\": \"LumA\"}, {\"PC1\": 0.38790319586165734, \"PC2\": -0.505082255362705, \"Subtype\": \"LumA\"}, {\"PC1\": 3.6670906772108753, \"PC2\": 1.5922876552580674, \"Subtype\": \"LumB\"}, {\"PC1\": 1.5026207327626881, \"PC2\": -1.9190996018542164, \"Subtype\": \"LumB\"}, {\"PC1\": -3.1473747092344313, \"PC2\": -0.10638384854330643, \"Subtype\": \"LumB\"}, {\"PC1\": -1.7659612683003982, \"PC2\": 2.0075050228844566, \"Subtype\": \"LumA\"}, {\"PC1\": -4.082807166418512, \"PC2\": -3.903059132334645, \"Subtype\": \"LumA\"}, {\"PC1\": -1.1459131849311317, \"PC2\": 0.0588047664204679, \"Subtype\": \"HER2+\"}, {\"PC1\": 9.192739476087345, \"PC2\": 0.6937371883626005, \"Subtype\": \"LumB\"}, {\"PC1\": 5.492653013633005, \"PC2\": -1.4675266073535598, \"Subtype\": \"HER2+\"}, {\"PC1\": -9.300745992524888, \"PC2\": 0.37380174747933886, \"Subtype\": \"Basal\"}, {\"PC1\": -8.440761702483396, \"PC2\": 0.22854568617694593, \"Subtype\": \"LumA\"}, {\"PC1\": -8.528166264969927, \"PC2\": 0.05865746665602979, \"Subtype\": \"LumA\"}, {\"PC1\": -4.75076888651266, \"PC2\": -0.6506816778497279, \"Subtype\": \"LumA\"}, {\"PC1\": -2.377902771547148, \"PC2\": -3.29574071864898, \"Subtype\": \"HER2+\"}, {\"PC1\": -3.937457823009789, \"PC2\": -1.8966739185647674, \"Subtype\": \"LumA\"}, {\"PC1\": 3.320308489835091, \"PC2\": -2.2537707294288922, \"Subtype\": \"HER2+\"}, {\"PC1\": -6.442222924628283, \"PC2\": -1.8964901483209609, \"Subtype\": \"Normal Like\"}, {\"PC1\": -8.676754107771073, \"PC2\": -1.1804449350069457, \"Subtype\": \"Normal\"}, {\"PC1\": 5.730087736385834, \"PC2\": 7.053424727165087, \"Subtype\": \"LumB\"}, {\"PC1\": -1.7564147094896783, \"PC2\": -1.3784975695565158, \"Subtype\": \"Basal\"}, {\"PC1\": -9.195777453350411, \"PC2\": -1.098747593820504, \"Subtype\": \"LumA\"}, {\"PC1\": -4.754925144379527, \"PC2\": -3.2466228236895827, \"Subtype\": \"LumA\"}, {\"PC1\": -1.1982851747731769, \"PC2\": 0.5195288508926342, \"Subtype\": \"LumB\"}, {\"PC1\": -2.719092163346884, \"PC2\": -0.05687580825711304, \"Subtype\": \"LumB\"}, {\"PC1\": -3.630493379466697, \"PC2\": 5.688185469168589, \"Subtype\": \"LumA\"}, {\"PC1\": 2.5772196058010404, \"PC2\": -3.0635192286612316, \"Subtype\": \"LumB\"}, {\"PC1\": -1.0373541360286, \"PC2\": -3.174340452103239, \"Subtype\": \"HER2+\"}, {\"PC1\": -7.066287167657691, \"PC2\": -0.5836325133402015, \"Subtype\": \"LumA\"}, {\"PC1\": -5.598081075199204, \"PC2\": -0.887433847416901, \"Subtype\": \"LumA\"}, {\"PC1\": -10.048415638858295, \"PC2\": -1.4665275452540691, \"Subtype\": \"Normal\"}, {\"PC1\": -6.448922386379383, \"PC2\": -0.5871943268288442, \"Subtype\": \"LumB\"}, {\"PC1\": -5.805423183114453, \"PC2\": -0.3257257674692567, \"Subtype\": \"Basal\"}, {\"PC1\": -1.348233963812962, \"PC2\": 1.358907223402714, \"Subtype\": \"Basal\"}, {\"PC1\": -2.5130188654545123, \"PC2\": -1.2428830482693, \"Subtype\": \"HER2+\"}, {\"PC1\": 9.525497318288174, \"PC2\": 9.751242883725086, \"Subtype\": \"LumB\"}, {\"PC1\": -4.953955185354487, \"PC2\": -2.7029772903964018, \"Subtype\": \"HER2+\"}, {\"PC1\": 0.579874356927182, \"PC2\": -1.8783155149646051, \"Subtype\": \"LumB\"}, {\"PC1\": -9.081368300510125, \"PC2\": -0.24676918867128972, \"Subtype\": \"Normal Like\"}, {\"PC1\": -6.274656438755575, \"PC2\": -3.423540917155058, \"Subtype\": \"LumA\"}, {\"PC1\": 4.234777809893474, \"PC2\": -5.076326162845134, \"Subtype\": \"HER2+\"}, {\"PC1\": -2.831080037335978, \"PC2\": -2.232941420147013, \"Subtype\": \"Normal Like\"}, {\"PC1\": -0.4169164587403842, \"PC2\": -2.6096811030598004, \"Subtype\": \"HER2+\"}, {\"PC1\": -1.065902743408325, \"PC2\": -1.300047999707726, \"Subtype\": \"Basal\"}, {\"PC1\": -3.834035289499886, \"PC2\": 0.8221808833362765, \"Subtype\": \"LumA\"}, {\"PC1\": -10.567805239303647, \"PC2\": -0.9927408858427402, \"Subtype\": \"Normal\"}, {\"PC1\": -8.17533482095729, \"PC2\": 0.3494488998569962, \"Subtype\": \"Normal Like\"}, {\"PC1\": -5.381891816587579, \"PC2\": 0.13494567619934508, \"Subtype\": \"HER2+\"}, {\"PC1\": -4.856598675313841, \"PC2\": -2.248759208974332, \"Subtype\": \"HER2+\"}, {\"PC1\": 11.346801697007358, \"PC2\": -1.2590084876064183, \"Subtype\": \"LumB\"}, {\"PC1\": -1.0184706175467804, \"PC2\": -0.2960948598923715, \"Subtype\": \"LumB\"}, {\"PC1\": 13.770513724542376, \"PC2\": -6.108377345549515, \"Subtype\": \"LumB\"}, {\"PC1\": -5.798757820339234, \"PC2\": -0.4455899949944409, \"Subtype\": \"LumB\"}, {\"PC1\": 7.742216720554417, \"PC2\": 1.4427874347508396, \"Subtype\": \"LumB\"}, {\"PC1\": -5.892197119141116, \"PC2\": -0.09085739141250834, \"Subtype\": \"Basal\"}, {\"PC1\": -1.5886252442408069, \"PC2\": 6.197230006188007, \"Subtype\": \"LumA\"}, {\"PC1\": 1.0795869452681741, \"PC2\": -1.012305837288609, \"Subtype\": \"LumB\"}, {\"PC1\": -10.850770273436797, \"PC2\": -1.2272154422160635, \"Subtype\": \"Normal\"}, {\"PC1\": -6.776943017083778, \"PC2\": -0.6447391756108466, \"Subtype\": \"LumA\"}, {\"PC1\": -1.6091872013392823, \"PC2\": -1.1880466627797246, \"Subtype\": \"LumB\"}, {\"PC1\": -7.61807039463068, \"PC2\": 0.5220937835215876, \"Subtype\": \"LumA\"}, {\"PC1\": -7.78650174000586, \"PC2\": -1.3563950527764683, \"Subtype\": \"Normal Like\"}, {\"PC1\": -5.906584637277753, \"PC2\": 0.6978904001538062, \"Subtype\": \"LumB\"}, {\"PC1\": -10.658996183217361, \"PC2\": -0.4066408793328151, \"Subtype\": \"Normal\"}, {\"PC1\": 8.785453093279084, \"PC2\": -5.545455041817971, \"Subtype\": \"LumB\"}, {\"PC1\": 3.9188326149301855, \"PC2\": -0.11472848424128111, \"Subtype\": \"LumB\"}, {\"PC1\": -11.136830836421314, \"PC2\": -1.5183076607111827, \"Subtype\": \"Normal\"}, {\"PC1\": -1.7167150182671824, \"PC2\": -0.08223411918745482, \"Subtype\": \"LumA\"}, {\"PC1\": -6.116747897976594, \"PC2\": -1.8389551078119155, \"Subtype\": \"LumA\"}, {\"PC1\": -3.5115661807028036, \"PC2\": -1.909792118307897, \"Subtype\": \"Basal\"}, {\"PC1\": -7.134712455117523, \"PC2\": 0.6927181739281554, \"Subtype\": \"LumA\"}, {\"PC1\": -5.9626404846553935, \"PC2\": 0.05487059010910689, \"Subtype\": \"LumA\"}, {\"PC1\": 0.3967049583073219, \"PC2\": 0.46559261847053973, \"Subtype\": \"Basal\"}, {\"PC1\": -2.6066264160067893, \"PC2\": -1.5052182575936193, \"Subtype\": \"LumA\"}, {\"PC1\": -5.848960878341444, \"PC2\": -1.8958077908732411, \"Subtype\": \"LumB\"}, {\"PC1\": 2.149826385751036, \"PC2\": 0.30806410037383875, \"Subtype\": \"Basal\"}, {\"PC1\": -1.9343187537488529, \"PC2\": -4.475917562915047, \"Subtype\": \"Basal\"}, {\"PC1\": -7.159466730139162, \"PC2\": -0.4806234055328609, \"Subtype\": \"LumA\"}, {\"PC1\": 2.4095290612904865, \"PC2\": -2.925607805544475, \"Subtype\": \"Basal\"}, {\"PC1\": 5.746502360761166, \"PC2\": -0.8329923229980897, \"Subtype\": \"HER2+\"}, {\"PC1\": 1.8722074577270724, \"PC2\": 0.10944400859002869, \"Subtype\": \"HER2+\"}, {\"PC1\": -3.5835956235496353, \"PC2\": -2.661586228593441, \"Subtype\": \"Basal\"}, {\"PC1\": -5.640855772324195, \"PC2\": -1.3148662379379685, \"Subtype\": \"LumA\"}, {\"PC1\": 6.0457508009617245, \"PC2\": 7.553054140355518, \"Subtype\": \"LumA\"}, {\"PC1\": -3.7601244451774027, \"PC2\": -0.8256494998821398, \"Subtype\": \"LumA\"}, {\"PC1\": 0.047911825618432505, \"PC2\": -0.03778562975782579, \"Subtype\": \"Basal\"}, {\"PC1\": -5.20966300585944, \"PC2\": -0.6963206284352906, \"Subtype\": \"LumB\"}, {\"PC1\": 0.3648971601118747, \"PC2\": -1.824533194358607, \"Subtype\": \"HER2+\"}, {\"PC1\": 2.152622956761993, \"PC2\": -4.055926945617538, \"Subtype\": \"LumA\"}, {\"PC1\": -3.85530186200603, \"PC2\": -0.8065912184770018, \"Subtype\": \"LumA\"}, {\"PC1\": -0.4032232658940602, \"PC2\": -0.5267728356513792, \"Subtype\": \"LumB\"}, {\"PC1\": 4.20753579272592, \"PC2\": -6.297414505002819, \"Subtype\": \"Basal\"}, {\"PC1\": -6.733252251447134, \"PC2\": -2.2929498624215787, \"Subtype\": \"LumA\"}, {\"PC1\": 5.674761647867473, \"PC2\": 0.045806602849143424, \"Subtype\": \"HER2+\"}, {\"PC1\": -8.617763945433234, \"PC2\": 3.0215557116069047, \"Subtype\": \"LumB\"}, {\"PC1\": -3.2150386434699256, \"PC2\": -0.6120537855397526, \"Subtype\": \"LumA\"}, {\"PC1\": 3.564186727317054, \"PC2\": -4.4646047973666265, \"Subtype\": \"Basal\"}, {\"PC1\": -6.018461539902735, \"PC2\": -1.681719506525524, \"Subtype\": \"LumA\"}, {\"PC1\": -4.456247472585992, \"PC2\": -0.05163537686118738, \"Subtype\": \"LumA\"}, {\"PC1\": -0.6293901111355361, \"PC2\": 2.1612640650796733, \"Subtype\": \"LumA\"}, {\"PC1\": -5.325138123641668, \"PC2\": -1.306929772191898, \"Subtype\": \"HER2+\"}, {\"PC1\": -2.9137764642379675, \"PC2\": -2.1880997703758274, \"Subtype\": \"HER2+\"}, {\"PC1\": -6.469460113462654, \"PC2\": -0.6245748754588423, \"Subtype\": \"LumA\"}, {\"PC1\": 2.809223240894096, \"PC2\": 0.7221724933269393, \"Subtype\": \"LumB\"}, {\"PC1\": -4.740478672209332, \"PC2\": -1.5434231222063515, \"Subtype\": \"Basal\"}, {\"PC1\": -3.160426052585365, \"PC2\": -3.386947137827692, \"Subtype\": \"HER2+\"}, {\"PC1\": -2.018707662210286, \"PC2\": 5.409009717535249, \"Subtype\": \"LumB\"}, {\"PC1\": -8.504707240898918, \"PC2\": -0.565672503718904, \"Subtype\": \"LumA\"}, {\"PC1\": -2.4244966599897273, \"PC2\": -0.7089915401892547, \"Subtype\": \"Normal Like\"}, {\"PC1\": -9.13749273772465, \"PC2\": -0.11530478789517659, \"Subtype\": \"LumA\"}, {\"PC1\": 1.3703795071674156, \"PC2\": 0.419358302888735, \"Subtype\": \"Basal\"}, {\"PC1\": 2.4652990104255674, \"PC2\": 1.3690407564160205, \"Subtype\": \"LumB\"}, {\"PC1\": -4.331305154290999, \"PC2\": -0.28901465616635474, \"Subtype\": \"LumB\"}, {\"PC1\": 4.530563197830478, \"PC2\": -5.1120429082707455, \"Subtype\": \"LumB\"}, {\"PC1\": -3.7576089130864267, \"PC2\": -0.4983065138697981, \"Subtype\": \"LumB\"}, {\"PC1\": -3.734851328416402, \"PC2\": 0.8990993120760492, \"Subtype\": \"LumA\"}, {\"PC1\": -5.505413762317895, \"PC2\": -0.9738926526570081, \"Subtype\": \"LumA\"}, {\"PC1\": -0.30364663397482416, \"PC2\": -3.804326307199555, \"Subtype\": \"LumA\"}, {\"PC1\": -6.499166610440336, \"PC2\": 0.1049885587538318, \"Subtype\": \"LumB\"}, {\"PC1\": -7.789235344741095, \"PC2\": -2.5114391716863986, \"Subtype\": \"LumA\"}, {\"PC1\": -7.200964895366202, \"PC2\": -0.7697900217421517, \"Subtype\": \"LumA\"}, {\"PC1\": -11.45963431064877, \"PC2\": -0.5713467360653224, \"Subtype\": \"Normal\"}, {\"PC1\": -2.1043872730020876, \"PC2\": -1.4963484587478373, \"Subtype\": \"HER2+\"}, {\"PC1\": -9.216152763667873, \"PC2\": 0.5318020106251286, \"Subtype\": \"Normal Like\"}, {\"PC1\": -0.7447926822689042, \"PC2\": -0.07393296310830963, \"Subtype\": \"LumB\"}, {\"PC1\": 3.941493841424524, \"PC2\": -3.7473601957840277, \"Subtype\": \"Basal\"}, {\"PC1\": -3.959792990073678, \"PC2\": -0.7512957221044155, \"Subtype\": \"LumA\"}, {\"PC1\": -0.18390402001191114, \"PC2\": -3.6486196446383907, \"Subtype\": \"HER2+\"}, {\"PC1\": -6.094941142928167, \"PC2\": -0.8889240135866742, \"Subtype\": \"LumB\"}, {\"PC1\": -4.345545767683494, \"PC2\": 1.5007823362245287, \"Subtype\": \"Basal\"}, {\"PC1\": -4.001754047512478, \"PC2\": -3.0274218764762333, \"Subtype\": \"LumA\"}, {\"PC1\": -1.4827570831322825, \"PC2\": -1.249956402114578, \"Subtype\": \"Basal\"}, {\"PC1\": -8.722755150305106, \"PC2\": -2.2258200238816994, \"Subtype\": \"LumA\"}, {\"PC1\": -0.7653301566544423, \"PC2\": -3.125335844423132, \"Subtype\": \"HER2+\"}, {\"PC1\": -4.5899331454140455, \"PC2\": -1.382499728786973, \"Subtype\": \"LumA\"}, {\"PC1\": -7.696807879649152, \"PC2\": -0.22466694277248234, \"Subtype\": \"LumA\"}, {\"PC1\": -3.271885713029155, \"PC2\": -0.49644778836998776, \"Subtype\": \"LumA\"}, {\"PC1\": 1.709268841126357, \"PC2\": -3.070008186872821, \"Subtype\": \"LumB\"}, {\"PC1\": -10.248256625326308, \"PC2\": -0.9673430764136246, \"Subtype\": \"Normal\"}, {\"PC1\": -4.558248222496914, \"PC2\": -1.7414299189716997, \"Subtype\": \"Basal\"}, {\"PC1\": -5.563057982796494, \"PC2\": -0.603839739173083, \"Subtype\": \"LumA\"}, {\"PC1\": -10.468389766200742, \"PC2\": -0.8571780901857395, \"Subtype\": \"Normal\"}, {\"PC1\": 0.7537588982972951, \"PC2\": -3.8351145844384615, \"Subtype\": \"LumA\"}, {\"PC1\": -10.692449411892014, \"PC2\": -0.5332891725645414, \"Subtype\": \"Normal Like\"}, {\"PC1\": -2.352968090126117, \"PC2\": -0.12308382734926382, \"Subtype\": \"LumB\"}, {\"PC1\": -4.212578502901794, \"PC2\": -1.0511745125469187, \"Subtype\": \"LumA\"}, {\"PC1\": -6.176738676754672, \"PC2\": -0.18025644349012956, \"Subtype\": \"LumA\"}, {\"PC1\": -5.779585715471251, \"PC2\": -1.1369371460215365, \"Subtype\": \"LumA\"}, {\"PC1\": -7.1363934794707795, \"PC2\": 2.2440088673673895, \"Subtype\": \"Normal Like\"}, {\"PC1\": -5.808841213013548, \"PC2\": -0.3935334301216052, \"Subtype\": \"LumA\"}, {\"PC1\": 2.386726010293313, \"PC2\": 10.548455843531453, \"Subtype\": \"LumB\"}, {\"PC1\": -4.898850443495207, \"PC2\": 0.40890624205519743, \"Subtype\": \"LumB\"}, {\"PC1\": 2.7655862262141624, \"PC2\": 5.670429028725296, \"Subtype\": \"HER2+\"}, {\"PC1\": -7.021763798961486, \"PC2\": -1.8400783127339406, \"Subtype\": \"Normal Like\"}, {\"PC1\": -6.588520630777026, \"PC2\": -1.5556382764926795, \"Subtype\": \"Normal Like\"}, {\"PC1\": -10.132603174187738, \"PC2\": -0.6154976179997171, \"Subtype\": \"Normal Like\"}, {\"PC1\": -0.7613696423215516, \"PC2\": 0.45510994873765725, \"Subtype\": \"LumB\"}, {\"PC1\": 4.860425054878296, \"PC2\": 5.547557984476463, \"Subtype\": \"HER2+\"}, {\"PC1\": -0.8318221815856003, \"PC2\": -2.25260721826943, \"Subtype\": \"LumB\"}, {\"PC1\": -7.31160924388985, \"PC2\": -1.3841748811836887, \"Subtype\": \"Normal Like\"}, {\"PC1\": -4.540993412068392, \"PC2\": -0.9526526008955472, \"Subtype\": \"LumB\"}, {\"PC1\": -5.139744179714602, \"PC2\": -2.2814536520215607, \"Subtype\": \"LumA\"}, {\"PC1\": -1.567024715107072, \"PC2\": -3.657915967407739, \"Subtype\": \"LumB\"}, {\"PC1\": -9.08212705278221, \"PC2\": -0.7464456263482929, \"Subtype\": \"LumA\"}, {\"PC1\": -1.8756626923023065, \"PC2\": -3.5948702116521227, \"Subtype\": \"Normal Like\"}, {\"PC1\": -3.732194251429288, \"PC2\": -2.468613577367696, \"Subtype\": \"LumA\"}, {\"PC1\": -9.611523185923751, \"PC2\": -1.591507089173064, \"Subtype\": \"Normal\"}, {\"PC1\": -6.160939859499692, \"PC2\": -1.2480908197786063, \"Subtype\": \"LumA\"}, {\"PC1\": 4.080730591033132, \"PC2\": -1.7856970741238283, \"Subtype\": \"Basal\"}, {\"PC1\": -2.9799456143941754, \"PC2\": -2.3575739588888336, \"Subtype\": \"LumB\"}, {\"PC1\": -4.268363729492171, \"PC2\": 1.0289081803795384, \"Subtype\": \"LumB\"}, {\"PC1\": 2.7967067499261145, \"PC2\": 1.9991136002489855, \"Subtype\": \"LumB\"}, {\"PC1\": -6.351565881621853, \"PC2\": -1.123049624828018, \"Subtype\": \"LumA\"}, {\"PC1\": -10.632354554726271, \"PC2\": -0.6642932229391247, \"Subtype\": \"Normal\"}, {\"PC1\": -4.061561245928116, \"PC2\": 3.4990265548730437, \"Subtype\": \"Normal Like\"}, {\"PC1\": -2.866779924875289, \"PC2\": -0.6432289816073404, \"Subtype\": \"LumB\"}, {\"PC1\": -2.5093983728180076, \"PC2\": 3.4196183660589425, \"Subtype\": \"Basal\"}, {\"PC1\": -3.221858566888269, \"PC2\": -1.0458618599970992, \"Subtype\": \"Basal\"}, {\"PC1\": -0.03951805988789385, \"PC2\": -1.9605270241371562, \"Subtype\": \"LumA\"}, {\"PC1\": -4.865619140624527, \"PC2\": -0.9372090417471639, \"Subtype\": \"LumB\"}, {\"PC1\": -0.021106145813401728, \"PC2\": -0.2231555073274122, \"Subtype\": \"Basal\"}, {\"PC1\": 1.6213505307804428, \"PC2\": -2.9947801774706644, \"Subtype\": \"Basal\"}, {\"PC1\": -6.949064391974472, \"PC2\": -0.655501087266449, \"Subtype\": \"LumA\"}, {\"PC1\": -4.418332167679181, \"PC2\": -1.3245038022705413, \"Subtype\": \"LumB\"}, {\"PC1\": 0.3090777408170466, \"PC2\": -3.2922584125220467, \"Subtype\": \"Basal\"}, {\"PC1\": -7.838968995387685, \"PC2\": 0.10842989513649261, \"Subtype\": \"LumA\"}, {\"PC1\": -9.788235436408847, \"PC2\": -0.29816285896394035, \"Subtype\": \"Normal Like\"}, {\"PC1\": 1.1193434066246144, \"PC2\": 10.147315028205517, \"Subtype\": \"LumB\"}, {\"PC1\": -6.666355976457824, \"PC2\": -1.5455969332014652, \"Subtype\": \"LumA\"}, {\"PC1\": -3.8191826905219957, \"PC2\": 0.3510138711671951, \"Subtype\": \"Basal\"}, {\"PC1\": -1.3911900356560651, \"PC2\": -1.0368999360982454, \"Subtype\": \"Basal\"}, {\"PC1\": -6.637503515738321, \"PC2\": 1.1176247706361575, \"Subtype\": \"LumA\"}, {\"PC1\": -2.2081668097642067, \"PC2\": -1.1310940420026727, \"Subtype\": \"LumA\"}, {\"PC1\": -7.93944675099217, \"PC2\": -0.14403354556502482, \"Subtype\": \"Normal Like\"}, {\"PC1\": -6.198754765198547, \"PC2\": -0.5708014076456464, \"Subtype\": \"Basal\"}, {\"PC1\": 6.945928246705557, \"PC2\": 4.332134528073659, \"Subtype\": \"LumB\"}, {\"PC1\": -0.10317728843280619, \"PC2\": -1.5610537310909638, \"Subtype\": \"LumA\"}, {\"PC1\": -1.5122076758763079, \"PC2\": -2.458485462824221, \"Subtype\": \"LumA\"}, {\"PC1\": -9.27954549026042, \"PC2\": -0.4011226145722631, \"Subtype\": \"Normal\"}, {\"PC1\": 5.387398293521243, \"PC2\": 6.084272154899337, \"Subtype\": \"LumB\"}, {\"PC1\": -9.514493681458536, \"PC2\": -2.2410140590433176, \"Subtype\": \"Normal\"}, {\"PC1\": 4.582972079581282, \"PC2\": -2.9202455429383223, \"Subtype\": \"LumB\"}, {\"PC1\": 2.0554893577989284, \"PC2\": -1.8603020867141535, \"Subtype\": \"LumB\"}, {\"PC1\": -7.731756370526078, \"PC2\": -0.5549392465449327, \"Subtype\": \"LumA\"}, {\"PC1\": -4.874219726309216, \"PC2\": -2.451896731207797, \"Subtype\": \"HER2+\"}, {\"PC1\": -0.44775501871998724, \"PC2\": -1.5224955558438644, \"Subtype\": \"Basal\"}, {\"PC1\": -4.456336265401114, \"PC2\": -3.77510710810677, \"Subtype\": \"LumA\"}, {\"PC1\": -7.919701508520249, \"PC2\": -1.7794514188316122, \"Subtype\": \"Normal\"}, {\"PC1\": -1.0976761077013446, \"PC2\": -0.1868874099122605, \"Subtype\": \"Normal Like\"}, {\"PC1\": 2.3039045553316235, \"PC2\": 0.3138850694093484, \"Subtype\": \"LumB\"}, {\"PC1\": 0.24461334274134963, \"PC2\": -3.0207769079528264, \"Subtype\": \"LumA\"}, {\"PC1\": -8.845287352841282, \"PC2\": -0.9350718530889258, \"Subtype\": \"Normal Like\"}, {\"PC1\": -4.172806501635049, \"PC2\": -1.922253244830483, \"Subtype\": \"LumA\"}, {\"PC1\": -4.779877427008767, \"PC2\": -2.2393157171530524, \"Subtype\": \"Basal\"}, {\"PC1\": 3.2504028697697733, \"PC2\": -3.8254527984730538, \"Subtype\": \"LumB\"}, {\"PC1\": 0.7428790944723048, \"PC2\": -0.08825399341196039, \"Subtype\": \"LumA\"}, {\"PC1\": -3.934878650692308, \"PC2\": 1.5898751308435108, \"Subtype\": \"LumA\"}, {\"PC1\": -8.964869309179598, \"PC2\": -0.6324586332418434, \"Subtype\": \"Normal\"}, {\"PC1\": -8.036352627324689, \"PC2\": -1.698465046771829, \"Subtype\": \"Normal\"}, {\"PC1\": -6.639229931294028, \"PC2\": -1.073184681329257, \"Subtype\": \"LumB\"}, {\"PC1\": 5.694487756965699, \"PC2\": -4.066883213708776, \"Subtype\": \"Basal\"}, {\"PC1\": 2.065151848129527, \"PC2\": -0.9228341276865858, \"Subtype\": \"LumB\"}, {\"PC1\": -3.5763009125032013, \"PC2\": -4.195739005287651, \"Subtype\": \"LumA\"}, {\"PC1\": 6.299108068561168, \"PC2\": 1.8970892129139008, \"Subtype\": \"LumB\"}, {\"PC1\": 2.8820892688499247, \"PC2\": -6.501253162806816, \"Subtype\": \"Basal\"}, {\"PC1\": -0.06776618668461752, \"PC2\": -0.7606343900755537, \"Subtype\": \"LumA\"}, {\"PC1\": -5.393316349688194, \"PC2\": -0.6917916327699971, \"Subtype\": \"Basal\"}, {\"PC1\": 0.8656752276870944, \"PC2\": -2.6271283463347253, \"Subtype\": \"Basal\"}, {\"PC1\": -7.2266601300838, \"PC2\": 0.5303306088279148, \"Subtype\": \"LumA\"}, {\"PC1\": -3.303396982825768, \"PC2\": 0.052059599486943484, \"Subtype\": \"LumA\"}, {\"PC1\": -2.80778638196278, \"PC2\": -4.194952349957908, \"Subtype\": \"HER2+\"}, {\"PC1\": -1.8409256316620315, \"PC2\": -0.0014483342307906313, \"Subtype\": \"LumA\"}, {\"PC1\": -4.949207087519439, \"PC2\": -1.200047113004236, \"Subtype\": \"Basal\"}, {\"PC1\": 4.728326313720873, \"PC2\": 9.413198500866976, \"Subtype\": \"LumB\"}, {\"PC1\": -4.416690726385321, \"PC2\": -2.9809050223371276, \"Subtype\": \"HER2+\"}, {\"PC1\": -2.2394567407960375, \"PC2\": -2.1959691481261503, \"Subtype\": \"Basal\"}, {\"PC1\": 2.030483279949764, \"PC2\": 2.939533152608752, \"Subtype\": \"LumB\"}, {\"PC1\": 6.180872550328095, \"PC2\": -7.143752654590457, \"Subtype\": \"HER2+\"}, {\"PC1\": -3.614542559960949, \"PC2\": -3.0499018681888876, \"Subtype\": \"LumA\"}, {\"PC1\": 5.127839725347731, \"PC2\": -2.2011041941079688, \"Subtype\": \"LumB\"}, {\"PC1\": 12.77320732327243, \"PC2\": -1.5269488048554265, \"Subtype\": \"LumB\"}, {\"PC1\": -4.15249708599058, \"PC2\": -2.4404222625309906, \"Subtype\": \"Normal Like\"}, {\"PC1\": -10.46293180140741, \"PC2\": -1.0148616185382573, \"Subtype\": \"LumA\"}, {\"PC1\": -0.9089158701717969, \"PC2\": -2.1743363305490604, \"Subtype\": \"LumA\"}, {\"PC1\": 4.709242387378369, \"PC2\": -4.560376783959803, \"Subtype\": \"Basal\"}, {\"PC1\": -1.3806173628617417, \"PC2\": -1.945648961117015, \"Subtype\": \"LumA\"}, {\"PC1\": -0.22501136276816242, \"PC2\": -1.910666983428287, \"Subtype\": \"Basal\"}, {\"PC1\": -11.461308092818676, \"PC2\": -0.3900263842409483, \"Subtype\": \"Normal\"}, {\"PC1\": -10.690465110032406, \"PC2\": -0.4530522312626279, \"Subtype\": \"Normal\"}, {\"PC1\": 4.423160110575166, \"PC2\": 2.5805828726873212, \"Subtype\": \"LumB\"}, {\"PC1\": -8.28961540818558, \"PC2\": -2.5985957209214536, \"Subtype\": \"Normal\"}, {\"PC1\": -10.059894841238075, \"PC2\": -0.9298691581348008, \"Subtype\": \"Normal Like\"}, {\"PC1\": -5.732974475941817, \"PC2\": 0.2144608230638534, \"Subtype\": \"LumA\"}, {\"PC1\": -9.446522546331174, \"PC2\": -0.2992068204010754, \"Subtype\": \"Normal\"}, {\"PC1\": -5.940895496462104, \"PC2\": -1.429951905976693, \"Subtype\": \"LumA\"}, {\"PC1\": -6.038388571984543, \"PC2\": -1.7185046371238575, \"Subtype\": \"LumA\"}, {\"PC1\": -7.71207207398566, \"PC2\": -1.9135399720531385, \"Subtype\": \"Normal Like\"}, {\"PC1\": -5.6954961118141, \"PC2\": -0.5718807992998444, \"Subtype\": \"LumB\"}, {\"PC1\": -7.512751621081916, \"PC2\": -0.47231138625117575, \"Subtype\": \"Normal\"}, {\"PC1\": -3.2567512354029273, \"PC2\": -0.6128991830120529, \"Subtype\": \"LumB\"}, {\"PC1\": -6.75888638659486, \"PC2\": -0.3199095596610423, \"Subtype\": \"LumB\"}, {\"PC1\": -0.3775231889007649, \"PC2\": -1.101565944006407, \"Subtype\": \"LumA\"}, {\"PC1\": -1.8985309583215888, \"PC2\": 5.36674875105552, \"Subtype\": \"LumA\"}, {\"PC1\": -4.895893588290725, \"PC2\": 0.14748475900002636, \"Subtype\": \"LumB\"}, {\"PC1\": -4.204644436683263, \"PC2\": -3.9208397349718793, \"Subtype\": \"HER2+\"}, {\"PC1\": -0.8299453193152092, \"PC2\": 1.902401569234698, \"Subtype\": \"LumB\"}, {\"PC1\": -7.735833552976923, \"PC2\": 0.5519958267125782, \"Subtype\": \"Normal Like\"}, {\"PC1\": -6.249985692172543, \"PC2\": 0.7735856316405754, \"Subtype\": \"Normal Like\"}, {\"PC1\": -4.699491739379359, \"PC2\": -0.7565834298626545, \"Subtype\": \"LumB\"}, {\"PC1\": -7.219020440981727, \"PC2\": 0.0547921366920578, \"Subtype\": \"Normal\"}, {\"PC1\": -3.1933026518218606, \"PC2\": 0.4275883431357474, \"Subtype\": \"LumA\"}, {\"PC1\": -0.8338762394974283, \"PC2\": -3.4608223703927097, \"Subtype\": \"Basal\"}, {\"PC1\": 0.4813798836732366, \"PC2\": 2.966074559587637, \"Subtype\": \"LumB\"}, {\"PC1\": -1.309721763495135, \"PC2\": -1.8025253806046628, \"Subtype\": \"LumA\"}, {\"PC1\": 3.130645901523919, \"PC2\": -2.297743604321532, \"Subtype\": \"Basal\"}, {\"PC1\": 7.980170783932518, \"PC2\": -4.506557418771622, \"Subtype\": \"HER2+\"}, {\"PC1\": 3.8330568244251277, \"PC2\": 0.025574642053540184, \"Subtype\": \"LumB\"}, {\"PC1\": -0.12872265315539544, \"PC2\": -0.6306819081699979, \"Subtype\": \"Basal\"}, {\"PC1\": -4.286839654384445, \"PC2\": -0.8027199366560253, \"Subtype\": \"LumB\"}, {\"PC1\": -4.130906277396658, \"PC2\": -2.800056899023589, \"Subtype\": \"LumA\"}, {\"PC1\": 6.2752173884725435, \"PC2\": -4.756982217893857, \"Subtype\": \"Basal\"}, {\"PC1\": -2.595733721981224, \"PC2\": -1.5537982670704786, \"Subtype\": \"LumA\"}, {\"PC1\": -6.586701234112859, \"PC2\": -0.2229786201802148, \"Subtype\": \"LumA\"}, {\"PC1\": -2.623401902661459, \"PC2\": 2.596345392850172, \"Subtype\": \"Basal\"}, {\"PC1\": -2.961677682827343, \"PC2\": 0.3891343536075202, \"Subtype\": \"HER2+\"}, {\"PC1\": -5.216103802547601, \"PC2\": 0.1336062411374755, \"Subtype\": \"Normal Like\"}, {\"PC1\": 4.272929442255337, \"PC2\": -1.568291803318808, \"Subtype\": \"Basal\"}, {\"PC1\": 3.200582968649083, \"PC2\": 4.185147064317442, \"Subtype\": \"LumB\"}, {\"PC1\": -0.4732685311298017, \"PC2\": 3.009658504252747, \"Subtype\": \"LumB\"}, {\"PC1\": 0.21609055059863755, \"PC2\": -3.689890406750397, \"Subtype\": \"Basal\"}, {\"PC1\": -2.409592964055756, \"PC2\": 0.8489929302847474, \"Subtype\": \"HER2+\"}, {\"PC1\": -6.608369311419727, \"PC2\": -0.7245820553233961, \"Subtype\": \"LumA\"}, {\"PC1\": -3.3609270468990666, \"PC2\": 1.0000754805630494, \"Subtype\": \"LumB\"}, {\"PC1\": -4.706530303693754, \"PC2\": -0.16675852816392345, \"Subtype\": \"Basal\"}, {\"PC1\": -13.083759845100932, \"PC2\": 2.9555087028088103, \"Subtype\": \"LumB\"}, {\"PC1\": -4.700534855688818, \"PC2\": -0.9348002577904724, \"Subtype\": \"LumA\"}, {\"PC1\": -6.9751181282435395, \"PC2\": -1.7066031947432403, \"Subtype\": \"Basal\"}, {\"PC1\": -0.11006311838104012, \"PC2\": 0.9916294555328671, \"Subtype\": \"Basal\"}, {\"PC1\": 8.207672975549045, \"PC2\": 0.6474887578763793, \"Subtype\": \"LumB\"}, {\"PC1\": 4.199811282157063, \"PC2\": 0.42985247516426095, \"Subtype\": \"LumB\"}, {\"PC1\": 4.870307605135117, \"PC2\": 0.7471147535245293, \"Subtype\": \"LumB\"}, {\"PC1\": -2.7647410407251494, \"PC2\": 0.935304302124454, \"Subtype\": \"Basal\"}, {\"PC1\": 0.4274095614421542, \"PC2\": -0.1495488611825759, \"Subtype\": \"LumB\"}, {\"PC1\": -3.263185283555984, \"PC2\": 1.2200031657415882, \"Subtype\": \"HER2+\"}, {\"PC1\": -2.6561728497827612, \"PC2\": -3.001931350242787, \"Subtype\": \"LumB\"}, {\"PC1\": -4.8924491703726085, \"PC2\": 3.0383739193495387, \"Subtype\": \"Basal\"}, {\"PC1\": 2.2546578584127746, \"PC2\": -2.2545499476663378, \"Subtype\": \"Basal\"}, {\"PC1\": 0.8125921027313155, \"PC2\": 0.09059991633561225, \"Subtype\": \"LumB\"}, {\"PC1\": -4.983615716365682, \"PC2\": -1.726669536632774, \"Subtype\": \"LumA\"}, {\"PC1\": -5.467279904199134, \"PC2\": -1.2085881405413437, \"Subtype\": \"LumA\"}, {\"PC1\": -5.024776172442418, \"PC2\": -1.7293673540728345, \"Subtype\": \"LumA\"}, {\"PC1\": -2.406187592625094, \"PC2\": -1.3122416023694359, \"Subtype\": \"Normal Like\"}, {\"PC1\": 3.0180253722906465, \"PC2\": -1.7291023818307285, \"Subtype\": \"LumA\"}, {\"PC1\": 2.95240553603117, \"PC2\": -5.100313650933486, \"Subtype\": \"LumB\"}, {\"PC1\": -1.8195656511349345, \"PC2\": -1.6064694797817467, \"Subtype\": \"LumA\"}, {\"PC1\": -2.9701273929640344, \"PC2\": -1.1642359993528348, \"Subtype\": \"LumB\"}, {\"PC1\": 4.44220598535169, \"PC2\": -2.6661335234583583, \"Subtype\": \"LumB\"}, {\"PC1\": -0.45165646990547426, \"PC2\": 0.2909298170554673, \"Subtype\": \"HER2+\"}, {\"PC1\": -9.869904737896974, \"PC2\": -0.16995563395044064, \"Subtype\": \"Basal\"}, {\"PC1\": -3.0400345023659407, \"PC2\": -1.6782816564041514, \"Subtype\": \"HER2+\"}, {\"PC1\": -10.703002482490934, \"PC2\": -0.43033800015574375, \"Subtype\": \"Normal\"}, {\"PC1\": -3.6753251686586377, \"PC2\": -2.5051319501371694, \"Subtype\": \"Normal Like\"}, {\"PC1\": -0.10110214090213251, \"PC2\": 10.329055130016373, \"Subtype\": \"LumA\"}, {\"PC1\": -6.252195155876358, \"PC2\": -0.04661079348878734, \"Subtype\": \"LumB\"}, {\"PC1\": -2.5824938605360814, \"PC2\": -2.0457862134801306, \"Subtype\": \"HER2+\"}, {\"PC1\": -3.704593581054564, \"PC2\": -1.1813612343257611, \"Subtype\": \"LumA\"}, {\"PC1\": 3.9134291332647906, \"PC2\": -5.8427865743511775, \"Subtype\": \"Basal\"}, {\"PC1\": -1.772854743604684, \"PC2\": 0.7117189975085312, \"Subtype\": \"LumB\"}, {\"PC1\": -7.242221389210246, \"PC2\": 0.1410172044919185, \"Subtype\": \"Normal\"}, {\"PC1\": -5.9092516560860044, \"PC2\": -0.4417443150683224, \"Subtype\": \"LumA\"}, {\"PC1\": -6.165953365785427, \"PC2\": -0.6514031994927365, \"Subtype\": \"Normal Like\"}, {\"PC1\": -5.789830915369251, \"PC2\": -1.485286377352911, \"Subtype\": \"LumA\"}, {\"PC1\": -2.772675643224329, \"PC2\": -1.0508236626564653, \"Subtype\": \"LumB\"}, {\"PC1\": -6.153081053534617, \"PC2\": -0.7483978153720395, \"Subtype\": \"Basal\"}, {\"PC1\": 3.1245931827014233, \"PC2\": -4.184716391054816, \"Subtype\": \"LumB\"}, {\"PC1\": -5.099308970861876, \"PC2\": -1.9047883019345726, \"Subtype\": \"LumA\"}, {\"PC1\": -6.032616736111308, \"PC2\": -1.6621013538234723, \"Subtype\": \"Normal Like\"}, {\"PC1\": 0.2792755241219032, \"PC2\": -3.540938438343838, \"Subtype\": \"Basal\"}, {\"PC1\": -8.192701216174406, \"PC2\": -0.22695103662065202, \"Subtype\": \"LumB\"}, {\"PC1\": -6.278707365190879, \"PC2\": -1.4472223465733594, \"Subtype\": \"LumA\"}, {\"PC1\": -3.7575898408740396, \"PC2\": -0.31806944133920195, \"Subtype\": \"LumB\"}, {\"PC1\": -2.731592809962287, \"PC2\": -4.015856738497533, \"Subtype\": \"LumA\"}, {\"PC1\": -3.9944822400309703, \"PC2\": -1.623597408856775, \"Subtype\": \"Normal Like\"}, {\"PC1\": -10.171325008261304, \"PC2\": -0.4741353916845122, \"Subtype\": \"Normal\"}, {\"PC1\": 6.461137064784236, \"PC2\": -0.9909844257267635, \"Subtype\": \"HER2+\"}, {\"PC1\": -2.2780061529421642, \"PC2\": 0.3283986463259831, \"Subtype\": \"Basal\"}, {\"PC1\": 4.304034957974648, \"PC2\": 4.669205436078896, \"Subtype\": \"LumB\"}, {\"PC1\": -8.507606287138078, \"PC2\": -0.4315014347613195, \"Subtype\": \"LumA\"}, {\"PC1\": -5.374669408284813, \"PC2\": -1.2246230317801639, \"Subtype\": \"Basal\"}, {\"PC1\": -1.4023256540175608, \"PC2\": 0.16979811427308977, \"Subtype\": \"LumA\"}, {\"PC1\": -7.484958005542685, \"PC2\": -0.572164852833224, \"Subtype\": \"LumA\"}, {\"PC1\": -3.203872070520971, \"PC2\": -0.13975678813318168, \"Subtype\": \"LumA\"}, {\"PC1\": 5.465763754559708, \"PC2\": 0.1941835946397338, \"Subtype\": \"LumB\"}, {\"PC1\": 0.6830677384972408, \"PC2\": -4.163919871361456, \"Subtype\": \"Basal\"}, {\"PC1\": -6.408827763394925, \"PC2\": -1.6698660425365024, \"Subtype\": \"LumA\"}, {\"PC1\": -1.830374065623498, \"PC2\": -1.3822017686211256, \"Subtype\": \"LumB\"}, {\"PC1\": -0.6705323098581464, \"PC2\": -3.8759826583176156, \"Subtype\": \"LumA\"}, {\"PC1\": -6.1530553745500125, \"PC2\": -0.30151741669801313, \"Subtype\": \"HER2+\"}, {\"PC1\": -4.80916426136971, \"PC2\": 0.1223127261831974, \"Subtype\": \"Basal\"}, {\"PC1\": 3.5737480616959334, \"PC2\": -0.3715144098865149, \"Subtype\": \"Basal\"}, {\"PC1\": 2.419400539310748, \"PC2\": -0.6036028472150157, \"Subtype\": \"Basal\"}, {\"PC1\": 0.15523247005510526, \"PC2\": 3.924451726444028, \"Subtype\": \"Normal Like\"}, {\"PC1\": -3.4464410408411084, \"PC2\": -1.0059912348510205, \"Subtype\": \"LumA\"}, {\"PC1\": -4.715808437164672, \"PC2\": 0.20752811502319393, \"Subtype\": \"LumA\"}, {\"PC1\": -0.29157052192137733, \"PC2\": -2.2436544231963977, \"Subtype\": \"LumA\"}, {\"PC1\": -5.531742673170226, \"PC2\": -0.018156373612407007, \"Subtype\": \"LumA\"}, {\"PC1\": -4.081992976194951, \"PC2\": -3.4171558262997217, \"Subtype\": \"Basal\"}, {\"PC1\": 11.51964873922638, \"PC2\": 2.7682446802866596, \"Subtype\": \"LumB\"}, {\"PC1\": -7.1319792198048475, \"PC2\": -0.008376916640725695, \"Subtype\": \"LumA\"}, {\"PC1\": 0.025225919459522968, \"PC2\": 7.650304049013603, \"Subtype\": \"LumA\"}, {\"PC1\": 2.156527356262384, \"PC2\": 6.5434287129527755, \"Subtype\": \"LumB\"}, {\"PC1\": 0.6935983043367457, \"PC2\": -1.5236381029254802, \"Subtype\": \"LumB\"}, {\"PC1\": -0.26709508422645234, \"PC2\": 6.24436303569379, \"Subtype\": \"LumB\"}, {\"PC1\": 0.46402558683284867, \"PC2\": 2.005722269383693, \"Subtype\": \"LumB\"}, {\"PC1\": -9.466324907932206, \"PC2\": 4.185814857794465, \"Subtype\": \"LumB\"}, {\"PC1\": -0.6965367241865941, \"PC2\": -2.9969402437853385, \"Subtype\": \"LumA\"}, {\"PC1\": 0.5403460562468507, \"PC2\": -0.3153713283805292, \"Subtype\": \"HER2+\"}, {\"PC1\": 1.9375585789972316, \"PC2\": 2.0221609938521445, \"Subtype\": \"HER2+\"}, {\"PC1\": -7.86489248161013, \"PC2\": -0.5730223504137036, \"Subtype\": \"Normal Like\"}, {\"PC1\": -5.930371608926968, \"PC2\": -0.6671407755928118, \"Subtype\": \"LumA\"}, {\"PC1\": -1.9178684454440116, \"PC2\": 0.0021559085656863448, \"Subtype\": \"LumA\"}, {\"PC1\": 1.0483665027543392, \"PC2\": -3.587435289729484, \"Subtype\": \"LumA\"}, {\"PC1\": -1.6328644132772137, \"PC2\": -1.1060981899486626, \"Subtype\": \"Basal\"}, {\"PC1\": 6.84329836287529, \"PC2\": -3.1183891349848407, \"Subtype\": \"LumB\"}, {\"PC1\": -4.064615860308023, \"PC2\": -0.7003432694044813, \"Subtype\": \"LumA\"}, {\"PC1\": -2.163173521920494, \"PC2\": -0.509216245262214, \"Subtype\": \"LumB\"}, {\"PC1\": -5.336179447947791, \"PC2\": -4.211247584084244, \"Subtype\": \"Normal Like\"}, {\"PC1\": 3.0083342669189204, \"PC2\": 3.3468057214264877, \"Subtype\": \"LumA\"}, {\"PC1\": -7.712712966544066, \"PC2\": -0.3404282375172405, \"Subtype\": \"Basal\"}, {\"PC1\": 6.562055088263843, \"PC2\": -2.5323051876061866, \"Subtype\": \"HER2+\"}, {\"PC1\": -8.778628777649878, \"PC2\": -1.4207119550107037, \"Subtype\": \"Normal\"}, {\"PC1\": -1.849586281715607, \"PC2\": -0.838647493856387, \"Subtype\": \"HER2+\"}, {\"PC1\": 8.678719151952643, \"PC2\": -7.204586702969835, \"Subtype\": \"LumB\"}, {\"PC1\": -0.4282296996024231, \"PC2\": -3.8580848099997307, \"Subtype\": \"HER2+\"}, {\"PC1\": -8.878259067333808, \"PC2\": 0.059481489176987895, \"Subtype\": \"LumA\"}, {\"PC1\": -2.884758498276724, \"PC2\": -0.8885653084013484, \"Subtype\": \"LumB\"}, {\"PC1\": -2.82482844299885, \"PC2\": -1.6831399159206613, \"Subtype\": \"LumA\"}, {\"PC1\": 3.6588524400479794, \"PC2\": -4.420174645350817, \"Subtype\": \"LumB\"}, {\"PC1\": -11.17881004355494, \"PC2\": -0.9590321361862137, \"Subtype\": \"Normal Like\"}, {\"PC1\": -2.6971531130540463, \"PC2\": -3.7509550559548157, \"Subtype\": \"HER2+\"}, {\"PC1\": 0.15336191107815292, \"PC2\": -4.306606291150384, \"Subtype\": \"HER2+\"}, {\"PC1\": -1.5212018952498942, \"PC2\": -0.08093368607995585, \"Subtype\": \"LumA\"}, {\"PC1\": -6.801939201854025, \"PC2\": -0.8318744568154451, \"Subtype\": \"Basal\"}, {\"PC1\": 7.800850613715197, \"PC2\": -5.842154353939706, \"Subtype\": \"LumB\"}, {\"PC1\": 3.0348686336313384, \"PC2\": 0.9452109347908465, \"Subtype\": \"LumB\"}, {\"PC1\": -9.37871379833507, \"PC2\": 0.43873724259951374, \"Subtype\": \"Normal Like\"}, {\"PC1\": -5.703728862713138, \"PC2\": -1.471992976844931, \"Subtype\": \"LumA\"}, {\"PC1\": -4.225501419390249, \"PC2\": -0.6498818891492051, \"Subtype\": \"LumA\"}, {\"PC1\": -6.486938468501184, \"PC2\": 0.34195830529414806, \"Subtype\": \"LumB\"}, {\"PC1\": 4.129436720592146, \"PC2\": 5.80915552864301, \"Subtype\": \"LumB\"}, {\"PC1\": 8.470882781234435, \"PC2\": -0.6722658888365816, \"Subtype\": \"LumB\"}, {\"PC1\": -1.9590215000938076, \"PC2\": 10.008698912073209, \"Subtype\": \"LumB\"}, {\"PC1\": 1.2889957779720838, \"PC2\": -1.0755418767291969, \"Subtype\": \"LumB\"}, {\"PC1\": -3.1322763289480067, \"PC2\": -0.10195411647922431, \"Subtype\": \"LumA\"}, {\"PC1\": -1.871565125040263, \"PC2\": 0.054156893430943445, \"Subtype\": \"LumB\"}, {\"PC1\": -0.22159334853067308, \"PC2\": -1.2270447803126934, \"Subtype\": \"LumB\"}, {\"PC1\": 1.4026707234972615, \"PC2\": -0.675247408987624, \"Subtype\": \"LumB\"}, {\"PC1\": -2.217464565446369, \"PC2\": -1.1370156812398713, \"Subtype\": \"LumB\"}, {\"PC1\": -7.056696114439158, \"PC2\": 0.12675423632853755, \"Subtype\": \"LumA\"}, {\"PC1\": -5.560537530000259, \"PC2\": -0.9987816725303886, \"Subtype\": \"Normal Like\"}, {\"PC1\": -1.417194372262383, \"PC2\": -0.051658637237962365, \"Subtype\": \"LumB\"}, {\"PC1\": -4.6331498123827215, \"PC2\": -1.3701493132752331, \"Subtype\": \"Normal Like\"}, {\"PC1\": -4.667651737559917, \"PC2\": -1.2362853460391452, \"Subtype\": \"HER2+\"}, {\"PC1\": -13.673228612077752, \"PC2\": 1.8554131223134163, \"Subtype\": \"LumB\"}, {\"PC1\": 0.1192958202484088, \"PC2\": -1.1053686178520876, \"Subtype\": \"LumA\"}, {\"PC1\": -1.28703847755259, \"PC2\": -7.063677019865316, \"Subtype\": \"LumA\"}, {\"PC1\": -6.758606847154087, \"PC2\": -0.7945658371847658, \"Subtype\": \"LumA\"}, {\"PC1\": -0.30885274078771857, \"PC2\": -3.7550183802826287, \"Subtype\": \"Basal\"}, {\"PC1\": -3.490373586194524, \"PC2\": -0.3502984425602059, \"Subtype\": \"LumA\"}, {\"PC1\": -1.5212993435782662, \"PC2\": -3.1498995508530028, \"Subtype\": \"LumB\"}, {\"PC1\": -6.567722724733427, \"PC2\": -0.359849431543758, \"Subtype\": \"LumB\"}, {\"PC1\": 2.6337888857419625, \"PC2\": -2.239472796647901, \"Subtype\": \"LumA\"}, {\"PC1\": 0.34918746512087345, \"PC2\": 2.489203809027246, \"Subtype\": \"HER2+\"}, {\"PC1\": -6.57224065838097, \"PC2\": -2.5241454044884066, \"Subtype\": \"LumA\"}, {\"PC1\": 2.179485132491691, \"PC2\": 2.193958333719509, \"Subtype\": \"LumB\"}, {\"PC1\": -5.036534883469411, \"PC2\": 1.1049048296848107, \"Subtype\": \"Normal Like\"}, {\"PC1\": 0.9826299426903117, \"PC2\": -5.957219932524637, \"Subtype\": \"HER2+\"}, {\"PC1\": -1.5338378332324423, \"PC2\": -1.61170172362451, \"Subtype\": \"Basal\"}, {\"PC1\": -0.15454160197003072, \"PC2\": -0.4733298071911635, \"Subtype\": \"LumA\"}, {\"PC1\": 0.026734272689825773, \"PC2\": -3.529426066751878, \"Subtype\": \"LumA\"}, {\"PC1\": 4.6819346113605524, \"PC2\": -0.7827891052888653, \"Subtype\": \"Normal Like\"}, {\"PC1\": 5.396523751883136, \"PC2\": -2.4379150439009574, \"Subtype\": \"LumB\"}, {\"PC1\": -7.553372419677193, \"PC2\": -0.2584275875978841, \"Subtype\": \"LumA\"}, {\"PC1\": 1.2707285932076462, \"PC2\": -4.674092536769326, \"Subtype\": \"Basal\"}, {\"PC1\": 7.703134122652001, \"PC2\": -6.261423160283098, \"Subtype\": \"HER2+\"}, {\"PC1\": -1.2694372952193609, \"PC2\": -1.6957391329613896, \"Subtype\": \"LumB\"}, {\"PC1\": -5.988354914217285, \"PC2\": -1.1149317862426056, \"Subtype\": \"LumA\"}, {\"PC1\": -6.302940813344505, \"PC2\": -1.2424124848413785, \"Subtype\": \"LumA\"}, {\"PC1\": -4.259011634273406, \"PC2\": -3.0741569857377242, \"Subtype\": \"LumA\"}, {\"PC1\": -9.257917739497778, \"PC2\": -0.4968337963270155, \"Subtype\": \"Normal Like\"}, {\"PC1\": -6.43730687364852, \"PC2\": -0.6661246112226084, \"Subtype\": \"LumA\"}, {\"PC1\": -4.787177532503245, \"PC2\": 0.6184213359380981, \"Subtype\": \"LumA\"}, {\"PC1\": 3.849372654379753, \"PC2\": -1.666790434120002, \"Subtype\": \"LumA\"}, {\"PC1\": -10.215676138341802, \"PC2\": -0.6216118238149789, \"Subtype\": \"Normal\"}, {\"PC1\": -0.7406244852628967, \"PC2\": -1.0832981040276388, \"Subtype\": \"Basal\"}, {\"PC1\": -1.29214309558229, \"PC2\": -1.9469281902275957, \"Subtype\": \"Basal\"}, {\"PC1\": 4.4319608448500665, \"PC2\": 2.74409162299303, \"Subtype\": \"LumB\"}, {\"PC1\": -0.6255861472325109, \"PC2\": -1.8194484333534917, \"Subtype\": \"Normal\"}, {\"PC1\": -4.184432105632507, \"PC2\": -0.824236075892024, \"Subtype\": \"LumA\"}, {\"PC1\": -1.9933253425307127, \"PC2\": -2.013637399718484, \"Subtype\": \"Basal\"}, {\"PC1\": -6.161482287813702, \"PC2\": -2.9809672269707965, \"Subtype\": \"LumA\"}, {\"PC1\": 3.615211807113728, \"PC2\": -2.677032035043667, \"Subtype\": \"Basal\"}, {\"PC1\": 1.9337522965359817, \"PC2\": -0.13702553314475263, \"Subtype\": \"LumB\"}, {\"PC1\": 1.8719147874040878, \"PC2\": -2.4156244196415946, \"Subtype\": \"LumB\"}, {\"PC1\": 2.950179289018575, \"PC2\": -0.5672730936811959, \"Subtype\": \"LumB\"}, {\"PC1\": -2.5500693653056046, \"PC2\": -2.561590815140939, \"Subtype\": \"LumA\"}, {\"PC1\": -3.21454742496705, \"PC2\": -1.9369657386102175, \"Subtype\": \"Normal Like\"}, {\"PC1\": -3.1361989152365304, \"PC2\": 0.45754461896552034, \"Subtype\": \"LumB\"}, {\"PC1\": -4.708540877643069, \"PC2\": -0.8182587377565091, \"Subtype\": \"Basal\"}, {\"PC1\": -3.3452032626836665, \"PC2\": -2.263943728440732, \"Subtype\": \"LumA\"}, {\"PC1\": 0.4643060669365449, \"PC2\": -0.6855793476817972, \"Subtype\": \"Basal\"}, {\"PC1\": -5.948327553326142, \"PC2\": 1.3083076292290912, \"Subtype\": \"LumA\"}, {\"PC1\": -0.41026624484882696, \"PC2\": -0.8807614438339122, \"Subtype\": \"LumA\"}, {\"PC1\": -9.964552738971657, \"PC2\": -1.1617228480864192, \"Subtype\": \"Basal\"}, {\"PC1\": -1.8570353743230221, \"PC2\": -4.503216487400359, \"Subtype\": \"HER2+\"}, {\"PC1\": 4.261420880357687, \"PC2\": -4.69918726916454, \"Subtype\": \"HER2+\"}, {\"PC1\": -0.23184230872759384, \"PC2\": -2.7352535954655366, \"Subtype\": \"HER2+\"}, {\"PC1\": 9.47473069385419, \"PC2\": 1.0136224621607162, \"Subtype\": \"LumA\"}, {\"PC1\": 2.0495040810341325, \"PC2\": -1.53011206343449, \"Subtype\": \"LumA\"}, {\"PC1\": -3.630602039884874, \"PC2\": -0.5757983432882908, \"Subtype\": \"LumA\"}, {\"PC1\": 0.986667772079046, \"PC2\": 2.144257974619429, \"Subtype\": \"HER2+\"}, {\"PC1\": -2.975044215974686, \"PC2\": -1.0047656494370234, \"Subtype\": \"HER2+\"}, {\"PC1\": -9.330886021455132, \"PC2\": -1.3444032934333783, \"Subtype\": \"Normal\"}, {\"PC1\": 1.6686811693979793, \"PC2\": 0.40641385130697594, \"Subtype\": \"Normal Like\"}, {\"PC1\": -4.54885964722343, \"PC2\": 0.46187271433928134, \"Subtype\": \"LumB\"}, {\"PC1\": 0.710409166923036, \"PC2\": 1.7497059844076366, \"Subtype\": \"LumB\"}, {\"PC1\": 6.567199879997777, \"PC2\": 5.9388359682131115, \"Subtype\": \"LumB\"}, {\"PC1\": -3.6316104713231905, \"PC2\": -4.210602655252202, \"Subtype\": \"HER2+\"}, {\"PC1\": -4.195045529783452, \"PC2\": -0.3080395512810105, \"Subtype\": \"LumA\"}, {\"PC1\": 12.494402613193751, \"PC2\": -8.306051296414863, \"Subtype\": \"LumB\"}, {\"PC1\": -3.878211249975288, \"PC2\": -0.36482447430252196, \"Subtype\": \"LumA\"}, {\"PC1\": -4.73532218800718, \"PC2\": 2.932768118138914, \"Subtype\": \"LumB\"}, {\"PC1\": -1.708717597990435, \"PC2\": -1.148649378882112, \"Subtype\": \"Basal\"}, {\"PC1\": 3.6861650013319744, \"PC2\": -0.7772498448390223, \"Subtype\": \"LumB\"}, {\"PC1\": -2.7301544741281667, \"PC2\": -3.359469250143809, \"Subtype\": \"Normal Like\"}, {\"PC1\": 6.120085149002872, \"PC2\": 2.177408561774484, \"Subtype\": \"LumA\"}, {\"PC1\": -1.2917182518881996, \"PC2\": 0.13904436840486226, \"Subtype\": \"HER2+\"}, {\"PC1\": -8.26465365043176, \"PC2\": -2.207086359951834, \"Subtype\": \"Normal\"}, {\"PC1\": 5.0263926707635465, \"PC2\": -2.635761258665324, \"Subtype\": \"LumB\"}, {\"PC1\": 3.398140813621067, \"PC2\": -4.74119184483982, \"Subtype\": \"HER2+\"}, {\"PC1\": 3.4951041605575557, \"PC2\": 0.3339534505162985, \"Subtype\": \"HER2+\"}, {\"PC1\": -4.029126001539661, \"PC2\": -1.5022450264035958, \"Subtype\": \"LumB\"}, {\"PC1\": 7.995262206227081, \"PC2\": -3.818958364678832, \"Subtype\": \"HER2+\"}, {\"PC1\": -3.584980796056928, \"PC2\": -1.1074350223675422, \"Subtype\": \"Basal\"}, {\"PC1\": -6.550713347273304, \"PC2\": -1.2730069317951063, \"Subtype\": \"LumA\"}, {\"PC1\": -3.919611396153691, \"PC2\": -1.9393070470505114, \"Subtype\": \"LumB\"}, {\"PC1\": -1.1978136925647156, \"PC2\": -2.8116330515459027, \"Subtype\": \"HER2+\"}, {\"PC1\": 1.1679999030962034, \"PC2\": -1.349494396184712, \"Subtype\": \"LumB\"}, {\"PC1\": 2.8713891733920778, \"PC2\": 1.4119455307837974, \"Subtype\": \"LumA\"}, {\"PC1\": 1.2292476687852507, \"PC2\": 3.5739454490385376, \"Subtype\": \"LumB\"}, {\"PC1\": -1.5654660713824142, \"PC2\": 2.755487613427699, \"Subtype\": \"LumA\"}, {\"PC1\": 10.9106893793313, \"PC2\": 2.627457885962673, \"Subtype\": \"LumB\"}, {\"PC1\": 0.92818862438667, \"PC2\": -2.7202229905991078, \"Subtype\": \"Basal\"}, {\"PC1\": 1.597815501587279, \"PC2\": 2.122288377787746, \"Subtype\": \"Basal\"}, {\"PC1\": 0.6356043984406877, \"PC2\": -0.5751801142996645, \"Subtype\": \"Basal\"}, {\"PC1\": -5.437292829124572, \"PC2\": -1.0266709645045824, \"Subtype\": \"LumA\"}, {\"PC1\": 2.7104940368122517, \"PC2\": 5.253265978435788, \"Subtype\": \"LumB\"}, {\"PC1\": -6.2316114964266305, \"PC2\": -0.5202043086587045, \"Subtype\": \"Basal\"}, {\"PC1\": -4.245691378376658, \"PC2\": 3.9867804167439154, \"Subtype\": \"Normal Like\"}, {\"PC1\": 0.9343116168198984, \"PC2\": -0.49883965257492185, \"Subtype\": \"LumB\"}, {\"PC1\": 0.7773868001546204, \"PC2\": -5.361997892426253, \"Subtype\": \"Normal Like\"}, {\"PC1\": -9.353703847160402, \"PC2\": -0.19821678719911917, \"Subtype\": \"Normal Like\"}, {\"PC1\": -7.913038419420494, \"PC2\": -1.9716613737868263, \"Subtype\": \"Normal\"}, {\"PC1\": -0.7860082049368864, \"PC2\": -0.12980166785338915, \"Subtype\": \"LumA\"}, {\"PC1\": -4.916618534907203, \"PC2\": -1.3008664872200275, \"Subtype\": \"LumA\"}, {\"PC1\": 6.35133532404135, \"PC2\": 2.1603032509328335, \"Subtype\": \"LumA\"}, {\"PC1\": -6.826780398021705, \"PC2\": -0.3985387409704684, \"Subtype\": \"LumA\"}, {\"PC1\": -6.287776322944838, \"PC2\": -0.37054601987712305, \"Subtype\": \"LumA\"}, {\"PC1\": -6.349454589791366, \"PC2\": -1.206622677307747, \"Subtype\": \"LumB\"}, {\"PC1\": -2.3917169042819344, \"PC2\": 1.1446628714259974, \"Subtype\": \"LumA\"}, {\"PC1\": 0.9871887984442703, \"PC2\": -3.5219934136052915, \"Subtype\": \"Basal\"}, {\"PC1\": 1.982479093237411, \"PC2\": -3.7264218813025183, \"Subtype\": \"Normal Like\"}, {\"PC1\": -5.292826635775759, \"PC2\": -1.317489183134328, \"Subtype\": \"Normal Like\"}, {\"PC1\": -3.9052720557763196, \"PC2\": -1.460534779854364, \"Subtype\": \"HER2+\"}, {\"PC1\": -4.532889078505166, \"PC2\": -1.5364277298092814, \"Subtype\": \"LumA\"}, {\"PC1\": -3.0874102053614134, \"PC2\": -0.4310581977259278, \"Subtype\": \"LumB\"}, {\"PC1\": -0.6141043350051648, \"PC2\": -1.4090841882852132, \"Subtype\": \"LumA\"}, {\"PC1\": -2.51372943160876, \"PC2\": -3.5629149092336663, \"Subtype\": \"Normal Like\"}, {\"PC1\": -1.2498472958457378, \"PC2\": -3.1844244910617974, \"Subtype\": \"LumB\"}, {\"PC1\": -9.34272750751521, \"PC2\": -1.2213096423490004, \"Subtype\": \"Normal\"}, {\"PC1\": -6.33720151452694, \"PC2\": -0.9354598204439859, \"Subtype\": \"HER2+\"}, {\"PC1\": -4.707051950179242, \"PC2\": 0.5012728971425975, \"Subtype\": \"LumA\"}, {\"PC1\": -10.3022848676933, \"PC2\": -1.1206899185704917, \"Subtype\": \"Normal\"}, {\"PC1\": -7.381094102235957, \"PC2\": -1.498679361895261, \"Subtype\": \"Basal\"}, {\"PC1\": -7.106319271107181, \"PC2\": -0.06674426140427746, \"Subtype\": \"LumA\"}, {\"PC1\": 2.471395122282613, \"PC2\": -1.3988876061656648, \"Subtype\": \"Basal\"}, {\"PC1\": -3.4738893516888303, \"PC2\": -2.930890807604627, \"Subtype\": \"LumA\"}, {\"PC1\": 0.739813767568652, \"PC2\": -0.32082045438323675, \"Subtype\": \"LumA\"}, {\"PC1\": -1.6166419697235264, \"PC2\": -0.09689356909608249, \"Subtype\": \"HER2+\"}, {\"PC1\": -7.698436478535346, \"PC2\": -0.991619251465625, \"Subtype\": \"LumA\"}, {\"PC1\": -4.528581329912334, \"PC2\": -3.2359140736327108, \"Subtype\": \"LumA\"}, {\"PC1\": -1.7749606150932384, \"PC2\": -0.6757855514750363, \"Subtype\": \"Normal Like\"}, {\"PC1\": -2.4635737513029476, \"PC2\": 0.859771804559524, \"Subtype\": \"LumA\"}, {\"PC1\": 4.025729262497495, \"PC2\": 0.11056250106871214, \"Subtype\": \"Basal\"}, {\"PC1\": -4.068365232687671, \"PC2\": -0.6608403942723258, \"Subtype\": \"LumA\"}, {\"PC1\": -4.423532060164726, \"PC2\": -2.204142872689988, \"Subtype\": \"Basal\"}, {\"PC1\": -0.38911563003179694, \"PC2\": -2.8304300480193185, \"Subtype\": \"LumB\"}, {\"PC1\": -3.5788858212609966, \"PC2\": -1.4632515181899923, \"Subtype\": \"HER2+\"}, {\"PC1\": 4.098605177306326, \"PC2\": -1.6656596577172418, \"Subtype\": \"LumB\"}, {\"PC1\": -8.693276096795545, \"PC2\": -1.5268917307946417, \"Subtype\": \"Normal\"}, {\"PC1\": 7.214549761641719, \"PC2\": 10.119744611332951, \"Subtype\": \"LumB\"}, {\"PC1\": -2.321245479329778, \"PC2\": -1.3347220937905024, \"Subtype\": \"LumA\"}, {\"PC1\": -5.332466107500023, \"PC2\": -2.4659063248579507, \"Subtype\": \"LumA\"}, {\"PC1\": 3.7240059698052246, \"PC2\": -5.475726361913804, \"Subtype\": \"Normal Like\"}, {\"PC1\": 0.8372645204491328, \"PC2\": -4.125313339793776, \"Subtype\": \"Normal Like\"}, {\"PC1\": 1.0427935233690093, \"PC2\": -4.281339115406977, \"Subtype\": \"HER2+\"}, {\"PC1\": -0.6356390352360128, \"PC2\": -2.8620040768444563, \"Subtype\": \"LumA\"}, {\"PC1\": -3.690252494855049, \"PC2\": -2.297962649599035, \"Subtype\": \"LumA\"}, {\"PC1\": -6.6726877635104636, \"PC2\": -0.1892028165766816, \"Subtype\": \"LumB\"}, {\"PC1\": 3.3332935504392984, \"PC2\": 2.960713663611266, \"Subtype\": \"LumB\"}, {\"PC1\": 1.9974727090475048, \"PC2\": 2.4190113383065923, \"Subtype\": \"Basal\"}, {\"PC1\": -5.314521294791156, \"PC2\": 0.4653231462739266, \"Subtype\": \"LumA\"}, {\"PC1\": 2.2521942229545995, \"PC2\": -0.5941220334860888, \"Subtype\": \"LumB\"}, {\"PC1\": -11.623592645599784, \"PC2\": -1.02838298080969, \"Subtype\": \"Normal\"}, {\"PC1\": -4.9245952361641185, \"PC2\": -0.5556074145004758, \"Subtype\": \"LumA\"}, {\"PC1\": -2.3583974879879133, \"PC2\": 6.186674342745588, \"Subtype\": \"Normal Like\"}, {\"PC1\": -3.9092399881440416, \"PC2\": -1.6840637617922423, \"Subtype\": \"Basal\"}, {\"PC1\": -5.0377098254890464, \"PC2\": -1.281499610378156, \"Subtype\": \"LumA\"}, {\"PC1\": 1.719559451778654, \"PC2\": -2.568816722777403, \"Subtype\": \"HER2+\"}, {\"PC1\": -9.628301728015176, \"PC2\": 0.3161511366228588, \"Subtype\": \"LumA\"}, {\"PC1\": -3.4025347848390224, \"PC2\": -2.2304078958555666, \"Subtype\": \"Basal\"}, {\"PC1\": 3.470915110282035, \"PC2\": -3.3500350640356014, \"Subtype\": \"LumB\"}, {\"PC1\": -1.9597030876787451, \"PC2\": -1.559880106132709, \"Subtype\": \"LumA\"}, {\"PC1\": -5.846889584707764, \"PC2\": -1.7999107547820388, \"Subtype\": \"Basal\"}, {\"PC1\": 0.2800056064249374, \"PC2\": 1.1814608743587414, \"Subtype\": \"LumB\"}, {\"PC1\": -6.790958227460693, \"PC2\": -1.880434149737313, \"Subtype\": \"LumA\"}, {\"PC1\": 4.308208219655544, \"PC2\": 3.5894707068868263, \"Subtype\": \"LumB\"}, {\"PC1\": 0.5399317634185276, \"PC2\": -4.705559939628234, \"Subtype\": \"Basal\"}, {\"PC1\": -7.6748276814224825, \"PC2\": -0.9936980665281725, \"Subtype\": \"LumA\"}, {\"PC1\": 10.645314142730657, \"PC2\": -1.4525276712437492, \"Subtype\": \"Basal\"}, {\"PC1\": 6.004916320624498, \"PC2\": 14.652560583748937, \"Subtype\": \"LumB\"}, {\"PC1\": -9.90253347753216, \"PC2\": -1.3888806237482927, \"Subtype\": \"Normal\"}, {\"PC1\": -9.20835148243291, \"PC2\": -1.1755782556825565, \"Subtype\": \"LumA\"}, {\"PC1\": 2.236415946822765, \"PC2\": -2.0787288778471815, \"Subtype\": \"HER2+\"}, {\"PC1\": -7.925338009447089, \"PC2\": -1.7696754367767311, \"Subtype\": \"HER2+\"}, {\"PC1\": -7.024409028776491, \"PC2\": -2.340793100241839, \"Subtype\": \"LumA\"}, {\"PC1\": -5.892004726710335, \"PC2\": -0.28267598708697256, \"Subtype\": \"LumB\"}, {\"PC1\": -5.251721514878739, \"PC2\": -0.5089032578808902, \"Subtype\": \"LumA\"}, {\"PC1\": -7.643252663507704, \"PC2\": -3.7111248354450614, \"Subtype\": \"LumA\"}, {\"PC1\": 6.045223076644707, \"PC2\": 1.9387631883500653, \"Subtype\": \"LumB\"}, {\"PC1\": -1.2176090147601235, \"PC2\": -1.402034699520644, \"Subtype\": \"LumB\"}, {\"PC1\": -10.010783397402625, \"PC2\": -0.9952785611743565, \"Subtype\": \"Normal Like\"}, {\"PC1\": -3.336846384642498, \"PC2\": -0.8513619729032212, \"Subtype\": \"LumB\"}, {\"PC1\": -4.382657572791212, \"PC2\": -0.07117132743151605, \"Subtype\": \"Basal\"}, {\"PC1\": -7.717866807057443, \"PC2\": -0.903495989066107, \"Subtype\": \"Normal Like\"}, {\"PC1\": -8.592566914171973, \"PC2\": -0.5596298684500632, \"Subtype\": \"LumA\"}, {\"PC1\": -8.609305505523643, \"PC2\": 0.07540683064339507, \"Subtype\": \"Normal Like\"}, {\"PC1\": -3.094568242586615, \"PC2\": -4.022220093192124, \"Subtype\": \"Basal\"}, {\"PC1\": 4.767462367239994, \"PC2\": 4.310172013730657, \"Subtype\": \"LumB\"}, {\"PC1\": 1.8903491348189236, \"PC2\": -4.491953967726018, \"Subtype\": \"Basal\"}, {\"PC1\": -0.050112846088125045, \"PC2\": -2.361990372003088, \"Subtype\": \"LumA\"}, {\"PC1\": 0.5422177041272906, \"PC2\": -2.870091990240007, \"Subtype\": \"HER2+\"}, {\"PC1\": -3.6064482166770264, \"PC2\": -0.5075300673975599, \"Subtype\": \"HER2+\"}, {\"PC1\": 3.93334027164645, \"PC2\": -4.354165671463165, \"Subtype\": \"HER2+\"}, {\"PC1\": -3.9853705544808684, \"PC2\": -2.1029194789648393, \"Subtype\": \"HER2+\"}, {\"PC1\": -5.2640673582946995, \"PC2\": -0.16571501252200335, \"Subtype\": \"LumB\"}, {\"PC1\": -8.040056853862165, \"PC2\": -0.965017194494465, \"Subtype\": \"Normal\"}, {\"PC1\": -5.989098720591675, \"PC2\": -0.8768046678293022, \"Subtype\": \"LumA\"}, {\"PC1\": 1.1918697648736942, \"PC2\": -1.7065961755743482, \"Subtype\": \"Basal\"}, {\"PC1\": -3.740690847726421, \"PC2\": 0.26623261699360135, \"Subtype\": \"Basal\"}, {\"PC1\": -0.23087127819011072, \"PC2\": -5.181678166124007, \"Subtype\": \"HER2+\"}, {\"PC1\": -6.765872841676851, \"PC2\": -1.3783827536735542, \"Subtype\": \"LumA\"}, {\"PC1\": -0.9072428581643535, \"PC2\": -2.159489478934573, \"Subtype\": \"Normal Like\"}, {\"PC1\": -8.618328619132676, \"PC2\": 0.07938566647694999, \"Subtype\": \"Basal\"}, {\"PC1\": -5.444570785521166, \"PC2\": 1.1521122286454073, \"Subtype\": \"LumA\"}, {\"PC1\": 5.350545140292472, \"PC2\": -0.847070906921665, \"Subtype\": \"LumA\"}, {\"PC1\": 3.4148119406070614, \"PC2\": -0.884631184977924, \"Subtype\": \"Basal\"}, {\"PC1\": -6.647345213645635, \"PC2\": -2.0710228749704154, \"Subtype\": \"LumB\"}, {\"PC1\": -4.169968465584611, \"PC2\": -3.1497146063441095, \"Subtype\": \"Normal\"}, {\"PC1\": 7.548338961118629, \"PC2\": -5.050248286762495, \"Subtype\": \"Basal\"}, {\"PC1\": 1.7149097448901305, \"PC2\": 0.48804831052804315, \"Subtype\": \"Basal\"}, {\"PC1\": -9.067317257492592, \"PC2\": -0.5491236107078579, \"Subtype\": \"Normal\"}, {\"PC1\": -9.590719816485333, \"PC2\": -1.2103300496797553, \"Subtype\": \"Normal\"}, {\"PC1\": -3.4444657554325175, \"PC2\": -2.7158019168181378, \"Subtype\": \"LumB\"}, {\"PC1\": -1.201001678925243, \"PC2\": 1.1387667732539986, \"Subtype\": \"LumA\"}, {\"PC1\": -9.420064252170087, \"PC2\": -0.5693037817242375, \"Subtype\": \"Normal\"}, {\"PC1\": -9.134625810813743, \"PC2\": -0.8786908363578779, \"Subtype\": \"Normal\"}, {\"PC1\": -2.431462317077455, \"PC2\": 0.46857661619750945, \"Subtype\": \"Basal\"}, {\"PC1\": 2.023267033313295, \"PC2\": -1.4543942021997318, \"Subtype\": \"LumA\"}, {\"PC1\": -5.200419158859706, \"PC2\": -0.09943836695251794, \"Subtype\": \"LumA\"}, {\"PC1\": -11.22251098607106, \"PC2\": 1.7877848986086413, \"Subtype\": \"LumB\"}, {\"PC1\": -3.2131988706978043, \"PC2\": 0.4210680529551195, \"Subtype\": \"LumA\"}, {\"PC1\": -0.9279793139394542, \"PC2\": -2.5739671540258557, \"Subtype\": \"Basal\"}, {\"PC1\": 0.08164321024926892, \"PC2\": 1.2439710130978157, \"Subtype\": \"LumA\"}, {\"PC1\": -1.3637383637758953, \"PC2\": 2.8904816537023956, \"Subtype\": \"HER2+\"}, {\"PC1\": -4.366418120192911, \"PC2\": 1.2353920727212593, \"Subtype\": \"Basal\"}, {\"PC1\": -1.9567535628073633, \"PC2\": -1.4901132580078884, \"Subtype\": \"Basal\"}, {\"PC1\": -4.808808004619872, \"PC2\": -0.22321284176717257, \"Subtype\": \"Basal\"}, {\"PC1\": 6.760051102795807, \"PC2\": -0.5880737214950282, \"Subtype\": \"HER2+\"}, {\"PC1\": -9.534005578066841, \"PC2\": -1.5462554825682553, \"Subtype\": \"Normal\"}, {\"PC1\": -3.9406241642356274, \"PC2\": -1.1045758217978114, \"Subtype\": \"LumA\"}, {\"PC1\": -6.870799535303332, \"PC2\": 0.6987630469059739, \"Subtype\": \"LumA\"}, {\"PC1\": -2.6196389666244917, \"PC2\": 0.08571222626276805, \"Subtype\": \"LumA\"}, {\"PC1\": 2.493353162899843, \"PC2\": -5.4010539863692095, \"Subtype\": \"HER2+\"}, {\"PC1\": -6.97737878276119, \"PC2\": -0.8859981436803865, \"Subtype\": \"LumA\"}, {\"PC1\": -5.823887728537365, \"PC2\": -1.8181603345342843, \"Subtype\": \"LumA\"}, {\"PC1\": -3.4647653392888995, \"PC2\": 2.1543239706841626, \"Subtype\": \"Basal\"}, {\"PC1\": 2.8025556380083247, \"PC2\": -6.506304176048227, \"Subtype\": \"HER2+\"}, {\"PC1\": -1.4024603581632498, \"PC2\": -0.42863002112373266, \"Subtype\": \"LumB\"}, {\"PC1\": -4.6262879290744126, \"PC2\": -1.3227495342719904, \"Subtype\": \"LumA\"}, {\"PC1\": -9.775331404591306, \"PC2\": -0.5694765687584978, \"Subtype\": \"Normal Like\"}, {\"PC1\": -4.124206683952892, \"PC2\": -2.3857195074627207, \"Subtype\": \"HER2+\"}, {\"PC1\": 3.79065419595801, \"PC2\": -3.820533664845409, \"Subtype\": \"HER2+\"}, {\"PC1\": -7.6185477288308885, \"PC2\": -0.7774262825226702, \"Subtype\": \"LumA\"}, {\"PC1\": -4.113858374460343, \"PC2\": -0.4337745577452331, \"Subtype\": \"LumA\"}, {\"PC1\": -2.5061711553883756, \"PC2\": 3.824676805234027, \"Subtype\": \"HER2+\"}, {\"PC1\": -10.931462778230475, \"PC2\": 0.44849403390569964, \"Subtype\": \"Normal\"}, {\"PC1\": -8.708296113181682, \"PC2\": 0.14567914028657356, \"Subtype\": \"Normal Like\"}, {\"PC1\": -8.870624743321692, \"PC2\": -0.8446365957419363, \"Subtype\": \"Normal Like\"}, {\"PC1\": -4.474910795796255, \"PC2\": 0.3823475274374301, \"Subtype\": \"HER2+\"}, {\"PC1\": -4.306103087934168, \"PC2\": -1.491530907030037, \"Subtype\": \"LumA\"}, {\"PC1\": -1.6193504649512445, \"PC2\": 3.4568883172032927, \"Subtype\": \"LumB\"}, {\"PC1\": -5.402206062191946, \"PC2\": -2.7697226559342734, \"Subtype\": \"LumB\"}, {\"PC1\": -7.256275662318988, \"PC2\": -1.1867773342230237, \"Subtype\": \"Basal\"}, {\"PC1\": -0.6713063537105579, \"PC2\": 10.140359545700994, \"Subtype\": \"LumB\"}, {\"PC1\": -10.275736925292673, \"PC2\": -0.7944857224393534, \"Subtype\": \"Normal\"}, {\"PC1\": 1.5123016467374837, \"PC2\": 0.6459494965234542, \"Subtype\": \"LumB\"}, {\"PC1\": -11.219123981841227, \"PC2\": -0.7114304192109999, \"Subtype\": \"Normal\"}, {\"PC1\": -1.6789608562501397, \"PC2\": 1.6899196529298997, \"Subtype\": \"Normal Like\"}, {\"PC1\": 7.278973026639753, \"PC2\": 3.5721541400911767, \"Subtype\": \"LumB\"}, {\"PC1\": -10.04010081896358, \"PC2\": -0.7671816535046895, \"Subtype\": \"Normal\"}, {\"PC1\": -0.019766818122962014, \"PC2\": -4.514282280865186, \"Subtype\": \"Normal Like\"}, {\"PC1\": 3.3484072226137216, \"PC2\": -1.459589172622916, \"Subtype\": \"Normal\"}, {\"PC1\": 6.449456173094103, \"PC2\": -3.579596691936631, \"Subtype\": \"LumB\"}, {\"PC1\": -5.924361147534663, \"PC2\": 1.0123586843758121, \"Subtype\": \"LumB\"}, {\"PC1\": -1.8384027590520207, \"PC2\": -0.6918414755392116, \"Subtype\": \"LumB\"}, {\"PC1\": -7.055977252089352, \"PC2\": -1.7203765770503785, \"Subtype\": \"LumA\"}, {\"PC1\": 4.769481456032869, \"PC2\": -2.5519326032408793, \"Subtype\": \"LumB\"}, {\"PC1\": -4.755303057481901, \"PC2\": -4.326043119112058, \"Subtype\": \"LumA\"}, {\"PC1\": -0.7206926112426267, \"PC2\": -4.8082998514086235, \"Subtype\": \"HER2+\"}, {\"PC1\": -3.9767501391922235, \"PC2\": -0.5969089991142159, \"Subtype\": \"LumA\"}, {\"PC1\": -4.830807288676944, \"PC2\": -1.519666455048531, \"Subtype\": \"LumA\"}, {\"PC1\": -3.443110184688527, \"PC2\": -0.9383930111046018, \"Subtype\": \"LumA\"}, {\"PC1\": 0.6418342466782975, \"PC2\": -4.048217986562868, \"Subtype\": \"LumA\"}, {\"PC1\": 6.2367973222779485, \"PC2\": -2.221005166654945, \"Subtype\": \"HER2+\"}, {\"PC1\": -7.621378308653445, \"PC2\": -0.21123155869679705, \"Subtype\": \"Normal Like\"}, {\"PC1\": -9.977351933561, \"PC2\": -0.8959226126815679, \"Subtype\": \"Normal\"}, {\"PC1\": -5.961764163163346, \"PC2\": -0.9581016575353244, \"Subtype\": \"LumA\"}, {\"PC1\": -1.7153661091279095, \"PC2\": -1.802989356420777, \"Subtype\": \"HER2+\"}, {\"PC1\": -10.303617742829925, \"PC2\": -0.5443069738994495, \"Subtype\": \"Normal\"}, {\"PC1\": -10.758514563279961, \"PC2\": -0.5720284685550757, \"Subtype\": \"Normal Like\"}, {\"PC1\": -2.015665452907185, \"PC2\": -3.497100203845627, \"Subtype\": \"Basal\"}, {\"PC1\": -2.806553517460184, \"PC2\": 2.371314194064162, \"Subtype\": \"LumA\"}, {\"PC1\": -6.108509036207454, \"PC2\": -4.005102844264254, \"Subtype\": \"LumA\"}, {\"PC1\": -2.026568349221099, \"PC2\": 1.234625119197847, \"Subtype\": \"Basal\"}, {\"PC1\": -4.378888410251584, \"PC2\": 1.4124644010482175, \"Subtype\": \"Normal Like\"}, {\"PC1\": 6.692455726410904, \"PC2\": -1.543465241692354, \"Subtype\": \"Basal\"}, {\"PC1\": -5.373603941500368, \"PC2\": -1.1075187953784755, \"Subtype\": \"Basal\"}, {\"PC1\": 5.768290545905334, \"PC2\": -10.214309623607884, \"Subtype\": \"Basal\"}, {\"PC1\": 1.5232278156637202, \"PC2\": -2.795494250412678, \"Subtype\": \"Basal\"}, {\"PC1\": -1.5600651681979858, \"PC2\": -0.9665648179853311, \"Subtype\": \"LumA\"}, {\"PC1\": -5.477565622274807, \"PC2\": -0.6162296891299915, \"Subtype\": \"Basal\"}, {\"PC1\": -8.561443367870694, \"PC2\": 0.10799252596946007, \"Subtype\": \"LumA\"}, {\"PC1\": 0.2489066397459956, \"PC2\": 2.1986976176154545, \"Subtype\": \"LumB\"}, {\"PC1\": -4.350263000646079, \"PC2\": 0.13016992217562515, \"Subtype\": \"LumA\"}, {\"PC1\": -7.505965349991048, \"PC2\": -0.3393701573442084, \"Subtype\": \"LumA\"}, {\"PC1\": -4.430029423358028, \"PC2\": 0.12862052431765963, \"Subtype\": \"LumB\"}, {\"PC1\": -4.449274361879572, \"PC2\": -0.8333201482112672, \"Subtype\": \"Basal\"}, {\"PC1\": -9.379381754593284, \"PC2\": -1.752135021972885, \"Subtype\": \"Normal\"}, {\"PC1\": -7.754018999558037, \"PC2\": -2.639841229373506, \"Subtype\": \"Basal\"}, {\"PC1\": -12.123705010581313, \"PC2\": 0.1513346088637925, \"Subtype\": \"Normal Like\"}, {\"PC1\": 6.392782171151624, \"PC2\": -3.393334167128657, \"Subtype\": \"Normal Like\"}, {\"PC1\": -0.46615340205323696, \"PC2\": -3.8665880365681535, \"Subtype\": \"Basal\"}, {\"PC1\": -1.0194478671255292, \"PC2\": -0.9412120638250497, \"Subtype\": \"Basal\"}, {\"PC1\": -6.324636968239062, \"PC2\": 2.8884947513102945, \"Subtype\": \"Normal Like\"}, {\"PC1\": -9.292617933458118, \"PC2\": -0.6846592647355897, \"Subtype\": \"LumA\"}, {\"PC1\": -8.751884754552126, \"PC2\": -0.551974606966378, \"Subtype\": \"Normal Like\"}, {\"PC1\": 2.3207725118896123, \"PC2\": 3.8755616624971307, \"Subtype\": \"LumB\"}, {\"PC1\": -5.60375799233744, \"PC2\": -0.5260417063941268, \"Subtype\": \"LumA\"}, {\"PC1\": 0.6083089723488262, \"PC2\": -1.8611635249371192, \"Subtype\": \"Basal\"}, {\"PC1\": -6.547938836356465, \"PC2\": -0.8104562993372518, \"Subtype\": \"LumA\"}, {\"PC1\": -2.879186319337496, \"PC2\": -0.9530686450158811, \"Subtype\": \"Basal\"}, {\"PC1\": -3.3882000022792553, \"PC2\": -2.01083372104278, \"Subtype\": \"HER2+\"}, {\"PC1\": -6.51412349415556, \"PC2\": -1.3983346880943681, \"Subtype\": \"Normal Like\"}, {\"PC1\": -11.16075461650911, \"PC2\": -0.2225360049868001, \"Subtype\": \"Normal\"}, {\"PC1\": 2.5927758102256373, \"PC2\": 1.476149337901932, \"Subtype\": \"LumB\"}, {\"PC1\": -6.510090104090143, \"PC2\": -2.0077732536842476, \"Subtype\": \"Normal\"}, {\"PC1\": 4.546109261769837, \"PC2\": -3.197741760466496, \"Subtype\": \"HER2+\"}, {\"PC1\": -9.119310126556805, \"PC2\": 0.10020452626740727, \"Subtype\": \"Basal\"}, {\"PC1\": -6.577547491307721, \"PC2\": -1.3938967921455827, \"Subtype\": \"LumA\"}, {\"PC1\": -7.087378325837231, \"PC2\": -1.5706107005955772, \"Subtype\": \"LumA\"}, {\"PC1\": -5.417618137273368, \"PC2\": 0.04366072669611232, \"Subtype\": \"Basal\"}, {\"PC1\": -1.9981959915464997, \"PC2\": -3.2619892869914944, \"Subtype\": \"HER2+\"}, {\"PC1\": -5.176449313451208, \"PC2\": -1.7727506648692941, \"Subtype\": \"LumA\"}, {\"PC1\": 0.5620856258248669, \"PC2\": -2.741045165477547, \"Subtype\": \"Basal\"}, {\"PC1\": -6.714292277069694, \"PC2\": -1.1402352856705882, \"Subtype\": \"LumA\"}, {\"PC1\": -10.348439751182324, \"PC2\": -1.075297426490978, \"Subtype\": \"Normal\"}, {\"PC1\": 1.437907271330706, \"PC2\": 1.3722423975324807, \"Subtype\": \"LumB\"}, {\"PC1\": -7.30739379356888, \"PC2\": -0.8753654591282143, \"Subtype\": \"Normal Like\"}, {\"PC1\": 5.918607115021656, \"PC2\": -4.132370557566838, \"Subtype\": \"LumB\"}, {\"PC1\": 8.406112545092554, \"PC2\": -3.7641167624486314, \"Subtype\": \"LumB\"}, {\"PC1\": 2.963156778017974, \"PC2\": -3.530432552750805, \"Subtype\": \"HER2+\"}, {\"PC1\": -9.290516518430172, \"PC2\": -1.0400415416609061, \"Subtype\": \"Normal Like\"}, {\"PC1\": 1.7419823536500967, \"PC2\": -3.2571324587050743, \"Subtype\": \"LumA\"}, {\"PC1\": 1.8026498883519884, \"PC2\": -1.5257684124284399, \"Subtype\": \"LumB\"}, {\"PC1\": -6.362093569619849, \"PC2\": -1.171427866381516, \"Subtype\": \"LumA\"}, {\"PC1\": -1.082942497229521, \"PC2\": -0.8127595991515677, \"Subtype\": \"LumA\"}, {\"PC1\": -2.7660298735409135, \"PC2\": -2.68192019508149, \"Subtype\": \"HER2+\"}, {\"PC1\": -2.845652182728565, \"PC2\": -2.7465407405476645, \"Subtype\": \"LumA\"}, {\"PC1\": -4.571431592315433, \"PC2\": -1.016888426974764, \"Subtype\": \"LumA\"}, {\"PC1\": 0.36943915289630413, \"PC2\": -2.9693488904050374, \"Subtype\": \"LumB\"}, {\"PC1\": -3.840624188187015, \"PC2\": -1.2459984574587626, \"Subtype\": \"Basal\"}, {\"PC1\": 11.768495509825048, \"PC2\": -6.259088921997792, \"Subtype\": \"LumB\"}, {\"PC1\": -6.261579227146369, \"PC2\": -0.5610294276338516, \"Subtype\": \"LumA\"}, {\"PC1\": 9.151926926015495, \"PC2\": 2.9356168682843786, \"Subtype\": \"LumB\"}, {\"PC1\": -2.8609929283019944, \"PC2\": -2.757494109330027, \"Subtype\": \"LumA\"}, {\"PC1\": -2.147784509770944, \"PC2\": -2.636457932344778, \"Subtype\": \"HER2+\"}, {\"PC1\": 7.484419637530296, \"PC2\": 0.5109244754310441, \"Subtype\": \"LumB\"}, {\"PC1\": -0.6135387133394616, \"PC2\": 1.1250560068982673, \"Subtype\": \"Basal\"}, {\"PC1\": -6.440766057729253, \"PC2\": -1.077418203227736, \"Subtype\": \"LumA\"}, {\"PC1\": -1.1816051192959243, \"PC2\": -1.7454198513213777, \"Subtype\": \"HER2+\"}, {\"PC1\": -5.293698106132972, \"PC2\": -0.1253874170685983, \"Subtype\": \"LumA\"}, {\"PC1\": -1.2669788619428028, \"PC2\": -1.0542583333946758, \"Subtype\": \"LumA\"}, {\"PC1\": -4.676289897327327, \"PC2\": 2.6867934705779963, \"Subtype\": \"LumB\"}, {\"PC1\": 0.563451266216745, \"PC2\": 3.501827760736135, \"Subtype\": \"LumA\"}, {\"PC1\": -3.5773722282770377, \"PC2\": -1.6325662074022873, \"Subtype\": \"LumA\"}, {\"PC1\": -7.3590096833018634, \"PC2\": -0.6093578612561407, \"Subtype\": \"LumA\"}, {\"PC1\": -7.257231819860596, \"PC2\": -0.6923088421596921, \"Subtype\": \"LumA\"}, {\"PC1\": -4.40203468140825, \"PC2\": -0.8427882267786612, \"Subtype\": \"LumA\"}, {\"PC1\": 0.06629218681388392, \"PC2\": 0.4192047097019173, \"Subtype\": \"Basal\"}, {\"PC1\": -5.029245778598971, \"PC2\": 0.8136442977540252, \"Subtype\": \"LumA\"}, {\"PC1\": -1.7585384528907748, \"PC2\": -0.3108228134962681, \"Subtype\": \"HER2+\"}, {\"PC1\": -1.9127384302705008, \"PC2\": 0.9804219238166794, \"Subtype\": \"LumB\"}, {\"PC1\": 7.154832471055752, \"PC2\": 1.941864137114721, \"Subtype\": \"Basal\"}, {\"PC1\": 0.1856057667140893, \"PC2\": -4.767688347583022, \"Subtype\": \"LumB\"}, {\"PC1\": -4.427039696588707, \"PC2\": -1.9926380292978716, \"Subtype\": \"Basal\"}, {\"PC1\": 1.4493620409893457, \"PC2\": -3.4866445532476593, \"Subtype\": \"LumA\"}, {\"PC1\": 1.5340226769083622, \"PC2\": -1.2035523267374315, \"Subtype\": \"LumB\"}, {\"PC1\": 5.231254764843096, \"PC2\": -5.4206390387496155, \"Subtype\": \"HER2+\"}, {\"PC1\": -10.142849046363477, \"PC2\": 0.7931380040938332, \"Subtype\": \"LumB\"}, {\"PC1\": -0.5095261184874922, \"PC2\": 3.0036910887741, \"Subtype\": \"LumB\"}, {\"PC1\": -4.829375680913221, \"PC2\": -0.41720103034293077, \"Subtype\": \"LumB\"}, {\"PC1\": -10.050511054027258, \"PC2\": -0.2108319813702498, \"Subtype\": \"Normal\"}, {\"PC1\": 5.085579761220228, \"PC2\": 1.458172857174332, \"Subtype\": \"Basal\"}, {\"PC1\": -0.8522082227896568, \"PC2\": -1.7664926831655763, \"Subtype\": \"Basal\"}, {\"PC1\": -8.354568547270373, \"PC2\": -1.2698592170191434, \"Subtype\": \"Normal Like\"}, {\"PC1\": -4.397673726648883, \"PC2\": -1.3177887302697442, \"Subtype\": \"LumA\"}, {\"PC1\": -4.414378114870859, \"PC2\": -1.134940517183681, \"Subtype\": \"LumA\"}, {\"PC1\": -6.843658063293124, \"PC2\": -0.2501109644766055, \"Subtype\": \"LumA\"}, {\"PC1\": -1.7431826574022287, \"PC2\": 0.6945300750937389, \"Subtype\": \"LumB\"}, {\"PC1\": -7.396813222964357, \"PC2\": -2.3430466050821654, \"Subtype\": \"Normal\"}, {\"PC1\": -3.937394826646296, \"PC2\": -2.616419026408823, \"Subtype\": \"LumA\"}, {\"PC1\": -8.273032273701064, \"PC2\": 0.08938419248936212, \"Subtype\": \"LumA\"}, {\"PC1\": -2.5757261814132355, \"PC2\": -2.9589673274748036, \"Subtype\": \"LumB\"}, {\"PC1\": 0.514738602624165, \"PC2\": -2.6384526384821685, \"Subtype\": \"Basal\"}, {\"PC1\": 0.3205066990434074, \"PC2\": 6.294862807643721, \"Subtype\": \"LumA\"}, {\"PC1\": -4.377527347552594, \"PC2\": -1.0502666369526719, \"Subtype\": \"LumA\"}, {\"PC1\": -3.129786826444403, \"PC2\": -0.8541099767713376, \"Subtype\": \"LumB\"}, {\"PC1\": -5.105619551730692, \"PC2\": -0.9452168551231858, \"Subtype\": \"LumB\"}, {\"PC1\": 4.935179688183034, \"PC2\": -5.387282967288996, \"Subtype\": \"LumB\"}, {\"PC1\": 1.8485536780337788, \"PC2\": 0.13066423323974619, \"Subtype\": \"LumB\"}, {\"PC1\": 11.545471664947621, \"PC2\": -6.298165568340347, \"Subtype\": \"LumB\"}, {\"PC1\": 3.948921099846163, \"PC2\": -2.073157130891674, \"Subtype\": \"Basal\"}, {\"PC1\": -5.698242493720147, \"PC2\": -0.43685465659493505, \"Subtype\": \"Basal\"}, {\"PC1\": 4.351002001713246, \"PC2\": 0.25115753852254163, \"Subtype\": \"LumB\"}, {\"PC1\": -4.794635611396075, \"PC2\": -1.0693498053891175, \"Subtype\": \"LumB\"}, {\"PC1\": 3.7829661511187456, \"PC2\": 0.8796994040942918, \"Subtype\": \"LumB\"}, {\"PC1\": -5.320693506213842, \"PC2\": -0.30158122781473556, \"Subtype\": \"LumB\"}, {\"PC1\": -1.784677911094067, \"PC2\": -3.8541069561520316, \"Subtype\": \"HER2+\"}, {\"PC1\": 3.2644759418680174, \"PC2\": 0.08378419010070509, \"Subtype\": \"LumB\"}, {\"PC1\": -2.8599806889387858, \"PC2\": -0.8911595359528747, \"Subtype\": \"HER2+\"}, {\"PC1\": -2.764675407679846, \"PC2\": -1.5971845786620589, \"Subtype\": \"LumA\"}, {\"PC1\": -5.314801644907713, \"PC2\": -1.4105773178892116, \"Subtype\": \"LumA\"}, {\"PC1\": -1.3961309755990723, \"PC2\": 0.9823547974166986, \"Subtype\": \"Basal\"}, {\"PC1\": -9.0950588633806, \"PC2\": -1.0751695778089527, \"Subtype\": \"Normal\"}, {\"PC1\": -0.8392288493564535, \"PC2\": -4.488343625305299, \"Subtype\": \"Normal Like\"}, {\"PC1\": -1.7282428549936086, \"PC2\": -4.221028304545391, \"Subtype\": \"Basal\"}, {\"PC1\": 1.919586980727053, \"PC2\": -4.059920583906089, \"Subtype\": \"LumB\"}, {\"PC1\": -7.235538630971901, \"PC2\": -1.9031759552764924, \"Subtype\": \"LumA\"}, {\"PC1\": -8.334760717428152, \"PC2\": -0.693354630565046, \"Subtype\": \"LumA\"}, {\"PC1\": -2.4774481873731764, \"PC2\": -0.05232217986034681, \"Subtype\": \"LumB\"}, {\"PC1\": -6.80000035292086, \"PC2\": -2.4053344093237046, \"Subtype\": \"LumA\"}, {\"PC1\": -7.932620576274457, \"PC2\": -1.498870972835947, \"Subtype\": \"Normal\"}, {\"PC1\": 0.5679911542032594, \"PC2\": -0.35789657451728496, \"Subtype\": \"LumB\"}, {\"PC1\": -4.573258691021679, \"PC2\": -1.1838897718302894, \"Subtype\": \"LumA\"}, {\"PC1\": -3.0448840481844597, \"PC2\": 0.15134741306547633, \"Subtype\": \"Basal\"}, {\"PC1\": -10.248600848060578, \"PC2\": 0.038124363877353, \"Subtype\": \"Normal Like\"}, {\"PC1\": 2.7254583091845017, \"PC2\": -2.967003663392936, \"Subtype\": \"HER2+\"}, {\"PC1\": -6.79393997495921, \"PC2\": -2.513737981974062, \"Subtype\": \"Normal\"}, {\"PC1\": -7.059276199863945, \"PC2\": -1.0482936873705495, \"Subtype\": \"Normal Like\"}, {\"PC1\": -2.5276553443200998, \"PC2\": 0.6186577540161282, \"Subtype\": \"Basal\"}, {\"PC1\": 0.4848038625456955, \"PC2\": -5.292859457290964, \"Subtype\": \"Basal\"}, {\"PC1\": 6.719141329349504, \"PC2\": 6.1581674235477815, \"Subtype\": \"HER2+\"}, {\"PC1\": -1.2961452832079625, \"PC2\": -3.08215163205845, \"Subtype\": \"LumA\"}, {\"PC1\": -2.175434238243421, \"PC2\": -1.2856822910581858, \"Subtype\": \"HER2+\"}, {\"PC1\": 8.434838814559166, \"PC2\": 6.415483618559861, \"Subtype\": \"LumA\"}, {\"PC1\": -4.824966326956626, \"PC2\": 0.3663556280539207, \"Subtype\": \"LumA\"}, {\"PC1\": -3.3877002882587823, \"PC2\": -3.730359709656611, \"Subtype\": \"LumA\"}, {\"PC1\": 3.8351151637485352, \"PC2\": 9.28624516677074, \"Subtype\": \"LumB\"}, {\"PC1\": 1.872107905364329, \"PC2\": -1.956710007569603, \"Subtype\": \"HER2+\"}, {\"PC1\": -8.679896284888116, \"PC2\": -0.09008423500448585, \"Subtype\": \"Basal\"}, {\"PC1\": -9.838950399275316, \"PC2\": 0.6531899232648095, \"Subtype\": \"LumA\"}, {\"PC1\": 1.1159734550785163, \"PC2\": 2.5290276062096675, \"Subtype\": \"HER2+\"}, {\"PC1\": -0.8203463447085313, \"PC2\": -2.457026203420266, \"Subtype\": \"LumB\"}, {\"PC1\": -5.216726854387448, \"PC2\": -0.43527062233374525, \"Subtype\": \"LumA\"}, {\"PC1\": -4.397604723698619, \"PC2\": 1.3955573794774758, \"Subtype\": \"HER2+\"}, {\"PC1\": -8.748067836726724, \"PC2\": -1.2460855944243647, \"Subtype\": \"Normal Like\"}, {\"PC1\": -5.310296945734862, \"PC2\": -0.9899723965243229, \"Subtype\": \"LumA\"}, {\"PC1\": -1.100399203402735, \"PC2\": -4.7256188967827, \"Subtype\": \"HER2+\"}, {\"PC1\": -5.384883071088583, \"PC2\": -0.7418483318465601, \"Subtype\": \"LumA\"}, {\"PC1\": -8.288584679111958, \"PC2\": 1.3877341066578295, \"Subtype\": \"LumA\"}, {\"PC1\": -9.075014346478318, \"PC2\": -0.2541915934213331, \"Subtype\": \"Normal\"}, {\"PC1\": -5.342481332470179, \"PC2\": -0.9295282174361618, \"Subtype\": \"Basal\"}, {\"PC1\": -8.653942932737388, \"PC2\": -1.2913265299841012, \"Subtype\": \"Normal\"}, {\"PC1\": -3.2690582507465593, \"PC2\": 0.01709394859557282, \"Subtype\": \"LumB\"}, {\"PC1\": 3.0523731216462076, \"PC2\": -0.8507554396374734, \"Subtype\": \"Basal\"}, {\"PC1\": -10.430209935642369, \"PC2\": -1.2925213197098284, \"Subtype\": \"Normal\"}, {\"PC1\": -6.7973983502343485, \"PC2\": -0.6918612275826148, \"Subtype\": \"LumB\"}, {\"PC1\": 1.110435920048375, \"PC2\": -3.2351779281339144, \"Subtype\": \"Basal\"}, {\"PC1\": -7.112215557668437, \"PC2\": -0.012759673550187338, \"Subtype\": \"LumA\"}, {\"PC1\": -1.8646143707825453, \"PC2\": 1.1622320849271053, \"Subtype\": \"Basal\"}, {\"PC1\": -0.3325466248339282, \"PC2\": -0.004381108280865147, \"Subtype\": \"LumB\"}, {\"PC1\": 1.231915609076025, \"PC2\": -3.08904205658431, \"Subtype\": \"Basal\"}, {\"PC1\": -8.197858489453509, \"PC2\": 0.05740366659242145, \"Subtype\": \"LumA\"}, {\"PC1\": -10.98544485151207, \"PC2\": -0.829969040690569, \"Subtype\": \"Normal\"}, {\"PC1\": -3.680452937414928, \"PC2\": -1.8403627179856585, \"Subtype\": \"LumA\"}, {\"PC1\": -1.1295794665735042, \"PC2\": -4.786268880619462, \"Subtype\": \"Normal Like\"}, {\"PC1\": 0.1338358280277057, \"PC2\": 1.4948004678790991, \"Subtype\": \"LumB\"}, {\"PC1\": -0.23815273728793507, \"PC2\": 0.6888580806079906, \"Subtype\": \"LumB\"}, {\"PC1\": -1.884572467583926, \"PC2\": 1.2913848211701824, \"Subtype\": \"Normal Like\"}, {\"PC1\": -11.312324416690492, \"PC2\": -0.48773320513789825, \"Subtype\": \"Normal\"}, {\"PC1\": -4.840252840230616, \"PC2\": -1.0904614914195627, \"Subtype\": \"LumA\"}, {\"PC1\": -4.583584125946803, \"PC2\": 0.2197065234506841, \"Subtype\": \"LumA\"}, {\"PC1\": -5.0364480891429375, \"PC2\": -3.5604880282774074, \"Subtype\": \"HER2+\"}, {\"PC1\": -13.516437738126742, \"PC2\": -0.6532179759017753, \"Subtype\": \"Normal\"}, {\"PC1\": -2.872420555747265, \"PC2\": -0.7105172065280851, \"Subtype\": \"LumB\"}, {\"PC1\": -0.6369421523744265, \"PC2\": -0.8724995138655832, \"Subtype\": \"HER2+\"}, {\"PC1\": 5.1040241427094735, \"PC2\": -0.5538274041970811, \"Subtype\": \"LumA\"}, {\"PC1\": -7.445395289902029, \"PC2\": -1.4851486814148371, \"Subtype\": \"LumA\"}, {\"PC1\": -5.574468437688009, \"PC2\": -1.5823094899693204, \"Subtype\": \"LumA\"}, {\"PC1\": -4.549049433131324, \"PC2\": -2.631642180877589, \"Subtype\": \"LumA\"}, {\"PC1\": -8.673973977502927, \"PC2\": -0.788713814580391, \"Subtype\": \"Normal Like\"}, {\"PC1\": -3.339130917049876, \"PC2\": -0.5790053085769186, \"Subtype\": \"LumA\"}, {\"PC1\": -6.331104650623275, \"PC2\": -0.8543721813294546, \"Subtype\": \"LumA\"}, {\"PC1\": -10.231007164021056, \"PC2\": -1.3308687364365954, \"Subtype\": \"Normal\"}, {\"PC1\": -4.8789463190101, \"PC2\": -1.0368389423642224, \"Subtype\": \"LumA\"}, {\"PC1\": -5.550179715497819, \"PC2\": 0.8288246346822973, \"Subtype\": \"LumA\"}, {\"PC1\": -3.2456183812646002, \"PC2\": -0.10949142819685938, \"Subtype\": \"LumA\"}, {\"PC1\": -0.22279006451212682, \"PC2\": -0.9066987289586982, \"Subtype\": \"Basal\"}, {\"PC1\": 0.23824150732657198, \"PC2\": 0.5725632707255804, \"Subtype\": \"LumB\"}, {\"PC1\": -4.918114397720262, \"PC2\": -2.118448081188111, \"Subtype\": \"LumA\"}, {\"PC1\": -4.36053218420956, \"PC2\": 0.2852545671911184, \"Subtype\": \"Normal Like\"}, {\"PC1\": -6.110113166756275, \"PC2\": -0.19944757693814302, \"Subtype\": \"LumA\"}, {\"PC1\": -1.6052315499698047, \"PC2\": 0.47138751723169653, \"Subtype\": \"LumA\"}, {\"PC1\": -3.380902042066945, \"PC2\": -3.9193336500187987, \"Subtype\": \"LumB\"}, {\"PC1\": -4.620455320340238, \"PC2\": -1.015661873394846, \"Subtype\": \"Basal\"}, {\"PC1\": -2.512790428402522, \"PC2\": -1.3819116307607267, \"Subtype\": \"LumA\"}, {\"PC1\": -6.0445371575043865, \"PC2\": 0.5227514125631766, \"Subtype\": \"LumA\"}, {\"PC1\": -1.209547544234933, \"PC2\": -3.3409435110184273, \"Subtype\": \"LumB\"}, {\"PC1\": 5.040925154349986, \"PC2\": -0.42091213889578954, \"Subtype\": \"LumB\"}, {\"PC1\": -7.048887741151894, \"PC2\": -0.16184526229595236, \"Subtype\": \"Normal Like\"}, {\"PC1\": -2.9428423424318373, \"PC2\": -1.496873998016194, \"Subtype\": \"Basal\"}, {\"PC1\": -2.5933596318071137, \"PC2\": -1.5513870070541693, \"Subtype\": \"HER2+\"}, {\"PC1\": -5.847604056094714, \"PC2\": 0.0809723213020855, \"Subtype\": \"LumB\"}, {\"PC1\": -5.467779690281653, \"PC2\": 5.157649654974246, \"Subtype\": \"LumA\"}, {\"PC1\": -6.976958738118751, \"PC2\": 0.014663916286308152, \"Subtype\": \"Basal\"}, {\"PC1\": -2.342840554094735, \"PC2\": -2.101892123240902, \"Subtype\": \"Basal\"}, {\"PC1\": -1.8799627602331417, \"PC2\": -2.397883914693942, \"Subtype\": \"LumA\"}, {\"PC1\": -7.47032410567795, \"PC2\": -1.2170524656977868, \"Subtype\": \"LumA\"}, {\"PC1\": 2.368293096763668, \"PC2\": 4.563060063984891, \"Subtype\": \"HER2+\"}, {\"PC1\": -0.8986627999614508, \"PC2\": -1.7574231757339456, \"Subtype\": \"LumB\"}, {\"PC1\": -1.5834508274347021, \"PC2\": -1.7560745796689634, \"Subtype\": \"Basal\"}, {\"PC1\": -3.696747907014264, \"PC2\": 0.0145880834715254, \"Subtype\": \"HER2+\"}, {\"PC1\": -8.151148695858597, \"PC2\": -0.2920091733247759, \"Subtype\": \"LumA\"}, {\"PC1\": -2.33387100866533, \"PC2\": -1.699383147087462, \"Subtype\": \"Normal Like\"}, {\"PC1\": -6.491738009038971, \"PC2\": -2.1484906281746046, \"Subtype\": \"Normal\"}, {\"PC1\": -3.6598972824994926, \"PC2\": 5.594725106231557, \"Subtype\": \"LumA\"}, {\"PC1\": -2.222017636579585, \"PC2\": -0.18760714755672508, \"Subtype\": \"LumA\"}, {\"PC1\": -4.3518656737790815, \"PC2\": -1.500970822157093, \"Subtype\": \"LumA\"}, {\"PC1\": -2.847776261827499, \"PC2\": 6.4206240794888485, \"Subtype\": \"Basal\"}, {\"PC1\": -3.9724505527466873, \"PC2\": -1.6309480168618808, \"Subtype\": \"LumB\"}, {\"PC1\": 0.8041194297436804, \"PC2\": 6.014374271844204, \"Subtype\": \"LumB\"}, {\"PC1\": 0.7560080330411073, \"PC2\": -5.225529946055704, \"Subtype\": \"Basal\"}, {\"PC1\": -1.2820382601492657, \"PC2\": -2.0730087860091264, \"Subtype\": \"LumB\"}, {\"PC1\": 1.5098629992906543, \"PC2\": 0.29826777687683764, \"Subtype\": \"HER2+\"}, {\"PC1\": -9.775789190983271, \"PC2\": 0.2947295218781519, \"Subtype\": \"Normal\"}, {\"PC1\": 8.16815401098352, \"PC2\": 0.539576797838819, \"Subtype\": \"LumB\"}, {\"PC1\": -3.5622133893706383, \"PC2\": -0.9104795687988616, \"Subtype\": \"LumA\"}, {\"PC1\": -0.7645715524588694, \"PC2\": -0.24742830223575413, \"Subtype\": \"HER2+\"}, {\"PC1\": -5.796407352373557, \"PC2\": -1.222644193376868, \"Subtype\": \"HER2+\"}, {\"PC1\": -3.446891855751288, \"PC2\": -3.7777247130251137, \"Subtype\": \"LumA\"}, {\"PC1\": -9.86762744138764, \"PC2\": -0.7069760801254243, \"Subtype\": \"Basal\"}, {\"PC1\": -2.034549368214416, \"PC2\": -4.641476436609064, \"Subtype\": \"LumA\"}, {\"PC1\": -5.124153593431768, \"PC2\": -1.5104866880472163, \"Subtype\": \"LumA\"}, {\"PC1\": 1.862562827417028, \"PC2\": -2.698240492955835, \"Subtype\": \"Basal\"}, {\"PC1\": -10.704345045654524, \"PC2\": 0.5002554047226737, \"Subtype\": \"Basal\"}, {\"PC1\": -6.2512439784398195, \"PC2\": -2.720263387562767, \"Subtype\": \"Normal Like\"}, {\"PC1\": -2.202133890968717, \"PC2\": 1.647310396811928, \"Subtype\": \"LumA\"}, {\"PC1\": -3.661582463195416, \"PC2\": 1.8195158127036544, \"Subtype\": \"LumA\"}, {\"PC1\": -6.844118619977541, \"PC2\": -0.9806803282326008, \"Subtype\": \"Normal Like\"}, {\"PC1\": -7.361482952785081, \"PC2\": -1.5374761433231119, \"Subtype\": \"LumA\"}, {\"PC1\": -2.270481565121981, \"PC2\": 0.3204793957586555, \"Subtype\": \"LumB\"}, {\"PC1\": 9.963358082242486, \"PC2\": -2.099457990678486, \"Subtype\": \"LumB\"}, {\"PC1\": 5.145614386324908, \"PC2\": -3.9767444075425837, \"Subtype\": \"LumB\"}, {\"PC1\": -10.885555095259011, \"PC2\": 4.267542087973013, \"Subtype\": \"LumB\"}, {\"PC1\": -2.3298607183974944, \"PC2\": -0.3980914882717937, \"Subtype\": \"LumA\"}, {\"PC1\": -5.3831271826244445, \"PC2\": -0.946888916508336, \"Subtype\": \"LumA\"}, {\"PC1\": -9.904608444279063, \"PC2\": -0.6587442570114977, \"Subtype\": \"Normal\"}, {\"PC1\": -0.8832103590298049, \"PC2\": 0.8520688619214174, \"Subtype\": \"LumB\"}, {\"PC1\": -4.810280651424424, \"PC2\": -0.7511157049094979, \"Subtype\": \"Basal\"}, {\"PC1\": -9.0928519667295, \"PC2\": -0.4176025787996835, \"Subtype\": \"LumA\"}, {\"PC1\": -5.288408792101095, \"PC2\": 0.10230578394741313, \"Subtype\": \"LumA\"}, {\"PC1\": -0.6525537666497961, \"PC2\": 1.2510328596356475, \"Subtype\": \"Basal\"}, {\"PC1\": -4.837059170211569, \"PC2\": 0.06865197819322298, \"Subtype\": \"Basal\"}, {\"PC1\": -1.5148062185876128, \"PC2\": -1.639973608813789, \"Subtype\": \"LumA\"}, {\"PC1\": -2.2717632937967553, \"PC2\": -1.3327883512505518, \"Subtype\": \"Basal\"}, {\"PC1\": 0.18558606210188372, \"PC2\": -3.569310540699673, \"Subtype\": \"LumA\"}, {\"PC1\": -11.049555167736138, \"PC2\": 0.057962513392309595, \"Subtype\": \"Normal\"}, {\"PC1\": -4.770031490200878, \"PC2\": 1.892005225930134, \"Subtype\": \"Basal\"}, {\"PC1\": -8.273189378054473, \"PC2\": 3.841175932953092, \"Subtype\": \"Normal Like\"}, {\"PC1\": 2.555440780024235, \"PC2\": 1.8958759063238637, \"Subtype\": \"LumA\"}, {\"PC1\": -8.138741087641957, \"PC2\": -1.8249025975807704, \"Subtype\": \"Normal\"}, {\"PC1\": 6.582560589508194, \"PC2\": -4.761092212438387, \"Subtype\": \"LumB\"}, {\"PC1\": -1.9338380871831906, \"PC2\": 0.4798767092596654, \"Subtype\": \"Basal\"}, {\"PC1\": -4.734135033792732, \"PC2\": -1.6007550738897245, \"Subtype\": \"LumA\"}, {\"PC1\": -9.462295916238407, \"PC2\": -1.6937866923734943, \"Subtype\": \"Normal\"}, {\"PC1\": 0.3665313753565357, \"PC2\": -0.023037189533669403, \"Subtype\": \"LumB\"}, {\"PC1\": -4.85146437370864, \"PC2\": -0.2852979723115103, \"Subtype\": \"Basal\"}, {\"PC1\": -4.728057240958519, \"PC2\": 1.9867064127117935, \"Subtype\": \"Basal\"}, {\"PC1\": -4.005806147049228, \"PC2\": -0.44909992596520604, \"Subtype\": \"Normal Like\"}, {\"PC1\": -2.772721058854775, \"PC2\": -0.509848360210693, \"Subtype\": \"LumB\"}, {\"PC1\": -3.844657145661797, \"PC2\": 0.5134130591076673, \"Subtype\": \"LumA\"}, {\"PC1\": 4.904501881587441, \"PC2\": -6.7391627514692765, \"Subtype\": \"LumB\"}, {\"PC1\": -6.6437669421397, \"PC2\": -0.7621930951849465, \"Subtype\": \"LumA\"}, {\"PC1\": -5.160717873338885, \"PC2\": -0.8585753814753664, \"Subtype\": \"HER2+\"}, {\"PC1\": -6.276073766304446, \"PC2\": -2.2282361749912103, \"Subtype\": \"HER2+\"}, {\"PC1\": 0.796078633768389, \"PC2\": -2.136214062221348, \"Subtype\": \"LumB\"}, {\"PC1\": -5.628054259280997, \"PC2\": -0.6000098265018003, \"Subtype\": \"LumA\"}, {\"PC1\": -9.369257017418088, \"PC2\": 1.0821712198986142, \"Subtype\": \"LumA\"}, {\"PC1\": -1.182057694752841, \"PC2\": -0.10855680707264444, \"Subtype\": \"Basal\"}, {\"PC1\": -7.7215658799072076, \"PC2\": -2.5864115618138372, \"Subtype\": \"Normal\"}, {\"PC1\": -7.988576170479467, \"PC2\": -0.3320837164559669, \"Subtype\": \"LumA\"}, {\"PC1\": -8.066640049109761, \"PC2\": -1.1181711245268058, \"Subtype\": \"LumA\"}, {\"PC1\": -1.1314046886562923, \"PC2\": -1.0556329240881062, \"Subtype\": \"Basal\"}, {\"PC1\": 3.3565186028012093, \"PC2\": -3.347112883460263, \"Subtype\": \"LumB\"}, {\"PC1\": -3.613525383886909, \"PC2\": -1.9570874518312895, \"Subtype\": \"LumA\"}, {\"PC1\": -0.9565496044479577, \"PC2\": 0.872300916982137, \"Subtype\": \"LumB\"}, {\"PC1\": -7.987956706798081, \"PC2\": -0.39088850434707106, \"Subtype\": \"LumB\"}, {\"PC1\": 7.725443923249809, \"PC2\": 6.733048134100393, \"Subtype\": \"LumA\"}, {\"PC1\": 4.875745265377757, \"PC2\": 1.5327012634485637, \"Subtype\": \"Basal\"}, {\"PC1\": -1.37708743015211, \"PC2\": 1.1123434405790857, \"Subtype\": \"HER2+\"}, {\"PC1\": -2.254875831922641, \"PC2\": -0.010385539758620221, \"Subtype\": \"LumA\"}, {\"PC1\": -3.6284809548484254, \"PC2\": -1.6995483539936973, \"Subtype\": \"LumB\"}, {\"PC1\": -5.714875630741058, \"PC2\": -0.09117142972829474, \"Subtype\": \"LumA\"}, {\"PC1\": -3.486811562203964, \"PC2\": 4.377164799928842, \"Subtype\": \"Basal\"}, {\"PC1\": -8.512060294967581, \"PC2\": -1.1413141924802095, \"Subtype\": \"Normal\"}, {\"PC1\": -5.106913909712498, \"PC2\": -1.1767801681940482, \"Subtype\": \"LumA\"}, {\"PC1\": -1.9911870128387594, \"PC2\": 0.014987321797350468, \"Subtype\": \"LumB\"}, {\"PC1\": 4.450995033565443, \"PC2\": -5.970352974330056, \"Subtype\": \"HER2+\"}, {\"PC1\": 3.3812153210644222, \"PC2\": -4.703280963743837, \"Subtype\": \"HER2+\"}, {\"PC1\": -3.377583367342365, \"PC2\": 0.9066102245377754, \"Subtype\": \"LumA\"}, {\"PC1\": -6.7604943744264645, \"PC2\": 0.19499276057349949, \"Subtype\": \"LumA\"}, {\"PC1\": 8.35497686244953, \"PC2\": 2.8915942004612534, \"Subtype\": \"HER2+\"}, {\"PC1\": -10.675269506995633, \"PC2\": -0.26479220198596576, \"Subtype\": \"Normal\"}, {\"PC1\": 3.7616583640218315, \"PC2\": 8.99959590539891, \"Subtype\": \"LumB\"}, {\"PC1\": -7.394402218085267, \"PC2\": -0.5234697321985979, \"Subtype\": \"LumB\"}, {\"PC1\": 4.046715589294314, \"PC2\": 0.9703676007056621, \"Subtype\": \"LumB\"}, {\"PC1\": 8.53454383334959, \"PC2\": 0.07937864249266621, \"Subtype\": \"LumA\"}, {\"PC1\": -1.1837449362292713, \"PC2\": -2.424504991341902, \"Subtype\": \"LumA\"}, {\"PC1\": -5.465623582957481, \"PC2\": -2.8533199189493637, \"Subtype\": \"LumA\"}, {\"PC1\": 6.80381412561619, \"PC2\": 0.26555193055446324, \"Subtype\": \"LumB\"}, {\"PC1\": 0.9572547652475584, \"PC2\": -4.30494872855231, \"Subtype\": \"HER2+\"}, {\"PC1\": -7.838722323000359, \"PC2\": 0.3187335248490342, \"Subtype\": \"LumB\"}, {\"PC1\": 7.911662829911293, \"PC2\": 0.8199613112084568, \"Subtype\": \"LumB\"}, {\"PC1\": -0.41753741295844105, \"PC2\": -3.484257443072553, \"Subtype\": \"HER2+\"}, {\"PC1\": -1.8518205813368642, \"PC2\": -2.5608312568234095, \"Subtype\": \"Normal Like\"}, {\"PC1\": -3.4966206057875517, \"PC2\": -1.867681844138949, \"Subtype\": \"LumA\"}, {\"PC1\": 3.94731476715235, \"PC2\": 0.7129051768876459, \"Subtype\": \"Basal\"}, {\"PC1\": -4.48981218883033, \"PC2\": 4.157710308792064, \"Subtype\": \"LumA\"}, {\"PC1\": -1.5262266056548084, \"PC2\": -5.288016039608402, \"Subtype\": \"LumA\"}, {\"PC1\": -3.412730817553355, \"PC2\": -1.7386411046966412, \"Subtype\": \"LumA\"}, {\"PC1\": -5.011187220871607, \"PC2\": -2.1038149687219097, \"Subtype\": \"Normal Like\"}, {\"PC1\": 4.118634111511336, \"PC2\": -2.5905634233167936, \"Subtype\": \"LumB\"}, {\"PC1\": -3.591346462317103, \"PC2\": -0.7969069289688191, \"Subtype\": \"LumA\"}, {\"PC1\": -3.5089793384507986, \"PC2\": -1.0110789772255815, \"Subtype\": \"LumA\"}, {\"PC1\": -2.604002678562874, \"PC2\": -1.9721142531514706, \"Subtype\": \"LumA\"}, {\"PC1\": 3.6909856434295345, \"PC2\": -0.08707063460825364, \"Subtype\": \"LumB\"}, {\"PC1\": 4.160888147705589, \"PC2\": -2.5439059915008237, \"Subtype\": \"HER2+\"}, {\"PC1\": -9.361576386026343, \"PC2\": -0.4077345637125466, \"Subtype\": \"LumA\"}, {\"PC1\": -4.997056882848927, \"PC2\": -1.1879886009668752, \"Subtype\": \"LumA\"}, {\"PC1\": -1.4628686910228281, \"PC2\": -1.346983533236834, \"Subtype\": \"Basal\"}, {\"PC1\": -3.1060697155336556, \"PC2\": -0.13547625786129253, \"Subtype\": \"LumB\"}, {\"PC1\": -6.180213441987335, \"PC2\": -1.7117174980050736, \"Subtype\": \"HER2+\"}, {\"PC1\": -3.8859874724772796, \"PC2\": -0.2872187170570436, \"Subtype\": \"LumA\"}, {\"PC1\": 8.722273162220056, \"PC2\": 4.058790049504566, \"Subtype\": \"HER2+\"}, {\"PC1\": -3.8760337383497823, \"PC2\": -0.1907315876745966, \"Subtype\": \"LumB\"}, {\"PC1\": 1.5957770224881698, \"PC2\": 3.3226272331207687, \"Subtype\": \"LumB\"}, {\"PC1\": -5.315548424678676, \"PC2\": -0.7025378084925334, \"Subtype\": \"LumA\"}, {\"PC1\": 1.158405044863813, \"PC2\": -3.3086347489091956, \"Subtype\": \"Basal\"}, {\"PC1\": -2.4961826351442484, \"PC2\": -2.5203065928358077, \"Subtype\": \"LumA\"}, {\"PC1\": 0.8752818004325011, \"PC2\": 1.0807931715389587, \"Subtype\": \"LumA\"}, {\"PC1\": -8.11917459422544, \"PC2\": -0.3624412619997216, \"Subtype\": \"LumA\"}, {\"PC1\": -3.323617417948045, \"PC2\": 0.08459037273757522, \"Subtype\": \"Basal\"}, {\"PC1\": 1.2884913277080274, \"PC2\": -1.998208201981326, \"Subtype\": \"Basal\"}, {\"PC1\": -9.879697749813314, \"PC2\": -0.4850625102126841, \"Subtype\": \"Normal Like\"}, {\"PC1\": 6.362560352043219, \"PC2\": -0.21746821012796666, \"Subtype\": \"LumB\"}, {\"PC1\": -5.50309843787996, \"PC2\": -3.353843837303064, \"Subtype\": \"Normal Like\"}, {\"PC1\": -2.8686690950452975, \"PC2\": -0.06165378020645673, \"Subtype\": \"LumA\"}, {\"PC1\": -9.561928474878437, \"PC2\": 0.7111098490760837, \"Subtype\": \"Basal\"}, {\"PC1\": -11.397024205579884, \"PC2\": -0.18337391669811864, \"Subtype\": \"Normal\"}, {\"PC1\": -10.742513312792754, \"PC2\": -1.0907761655420551, \"Subtype\": \"Normal\"}, {\"PC1\": -7.481756215970766, \"PC2\": -1.4195768382737446, \"Subtype\": \"LumA\"}, {\"PC1\": -6.825666178899734, \"PC2\": -2.296189346404192, \"Subtype\": \"Normal Like\"}, {\"PC1\": -3.3460859201759376, \"PC2\": -0.21966054032146123, \"Subtype\": \"Basal\"}, {\"PC1\": -10.596314662664309, \"PC2\": -0.2208257849677481, \"Subtype\": \"Normal Like\"}, {\"PC1\": -1.2018756048711194, \"PC2\": -2.7999094746365487, \"Subtype\": \"Basal\"}, {\"PC1\": 0.27272004688543416, \"PC2\": -1.503032782318939, \"Subtype\": \"LumA\"}, {\"PC1\": 11.46097287891536, \"PC2\": -4.290501834904778, \"Subtype\": \"LumA\"}, {\"PC1\": -7.641356007228867, \"PC2\": -1.4293545788150765, \"Subtype\": \"LumA\"}, {\"PC1\": -7.379578932902884, \"PC2\": -0.13802522133386105, \"Subtype\": \"Normal Like\"}, {\"PC1\": -8.61106468678804, \"PC2\": 0.38373532775140423, \"Subtype\": \"LumA\"}, {\"PC1\": -8.372762979394892, \"PC2\": -0.1528077462831079, \"Subtype\": \"Normal Like\"}, {\"PC1\": 0.5960062511223565, \"PC2\": 1.7618156725157779, \"Subtype\": \"LumB\"}, {\"PC1\": -0.5868383185699074, \"PC2\": -0.08748690052775307, \"Subtype\": \"LumA\"}, {\"PC1\": 4.881885539449307, \"PC2\": 0.10613666341608416, \"Subtype\": \"LumB\"}, {\"PC1\": -2.6659867262361696, \"PC2\": -1.2034108224660505, \"Subtype\": \"Normal Like\"}, {\"PC1\": -4.707311458433946, \"PC2\": -0.39783276608944945, \"Subtype\": \"LumB\"}, {\"PC1\": 1.8360573732468581, \"PC2\": -2.9621924411067226, \"Subtype\": \"LumB\"}, {\"PC1\": -1.3614405729667585, \"PC2\": -4.177983471853423, \"Subtype\": \"HER2+\"}, {\"PC1\": 4.214112190985986, \"PC2\": -3.222901737227417, \"Subtype\": \"Basal\"}, {\"PC1\": -4.783734483804677, \"PC2\": 3.723321285773027, \"Subtype\": \"LumA\"}, {\"PC1\": -1.0566132620129571, \"PC2\": -3.949508512836561, \"Subtype\": \"LumB\"}, {\"PC1\": -0.48374190789607, \"PC2\": -0.7845762135663281, \"Subtype\": \"LumA\"}, {\"PC1\": -2.9710623314546956, \"PC2\": -0.46886627018565447, \"Subtype\": \"LumB\"}, {\"PC1\": -9.149200208195552, \"PC2\": 0.9936366225194304, \"Subtype\": \"Normal Like\"}, {\"PC1\": -8.56783483376068, \"PC2\": 0.4296133744371076, \"Subtype\": \"LumA\"}, {\"PC1\": -2.8764605280680833, \"PC2\": -0.6662686351942169, \"Subtype\": \"HER2+\"}, {\"PC1\": -3.110710096118879, \"PC2\": -1.2232101865613698, \"Subtype\": \"LumA\"}, {\"PC1\": -4.133664403348388, \"PC2\": -2.720726306880824, \"Subtype\": \"HER2+\"}, {\"PC1\": 0.007688609936149217, \"PC2\": 1.992703244826359, \"Subtype\": \"LumA\"}, {\"PC1\": -0.3602821810314097, \"PC2\": 6.820839831455367, \"Subtype\": \"HER2+\"}, {\"PC1\": 0.8546511951046568, \"PC2\": -3.528472283882545, \"Subtype\": \"Basal\"}, {\"PC1\": -0.7900431490772751, \"PC2\": 0.7057238408344167, \"Subtype\": \"LumB\"}, {\"PC1\": -4.615013109014584, \"PC2\": -0.2191945071575389, \"Subtype\": \"LumA\"}, {\"PC1\": -10.069073493060513, \"PC2\": -0.5507902642633792, \"Subtype\": \"Normal\"}, {\"PC1\": 2.867207519931388, \"PC2\": 2.0155335529178124, \"Subtype\": \"Basal\"}, {\"PC1\": 0.8886294620017905, \"PC2\": -0.42754379967171713, \"Subtype\": \"LumA\"}, {\"PC1\": -1.100651517376961, \"PC2\": -3.848604695451423, \"Subtype\": \"LumA\"}, {\"PC1\": -2.9409675033352864, \"PC2\": -2.8307869776261336, \"Subtype\": \"HER2+\"}, {\"PC1\": 9.219598216249395, \"PC2\": -3.9095653456403965, \"Subtype\": \"LumB\"}, {\"PC1\": -5.263466601915572, \"PC2\": 0.08712492382190401, \"Subtype\": \"LumA\"}, {\"PC1\": -2.981429323532793, \"PC2\": -0.25716993612636946, \"Subtype\": \"LumA\"}, {\"PC1\": -7.470558227041543, \"PC2\": 0.2029850252316073, \"Subtype\": \"LumA\"}, {\"PC1\": 1.879022162509644, \"PC2\": -5.117486805452206, \"Subtype\": \"Basal\"}, {\"PC1\": -6.030101276944529, \"PC2\": -0.5945929994821066, \"Subtype\": \"LumA\"}, {\"PC1\": -2.947026311302967, \"PC2\": -0.8419666417505801, \"Subtype\": \"LumA\"}, {\"PC1\": 3.9727948953100305, \"PC2\": 5.9124787787058874, \"Subtype\": \"LumB\"}, {\"PC1\": 2.92702811012834, \"PC2\": -6.162159069510357, \"Subtype\": \"Basal\"}, {\"PC1\": 5.912325224288181, \"PC2\": 0.39535947860014686, \"Subtype\": \"LumB\"}, {\"PC1\": -3.2212332588555554, \"PC2\": -0.19011669113341464, \"Subtype\": \"LumB\"}, {\"PC1\": 2.988025965149101, \"PC2\": -2.0738961571485524, \"Subtype\": \"LumB\"}, {\"PC1\": -8.04682451706263, \"PC2\": -1.646929769445771, \"Subtype\": \"Normal Like\"}, {\"PC1\": -5.678104650027716, \"PC2\": -0.3660160947070003, \"Subtype\": \"LumA\"}, {\"PC1\": -9.469038039257224, \"PC2\": -0.48390799899072107, \"Subtype\": \"LumA\"}, {\"PC1\": 0.969203029872893, \"PC2\": 10.652446626634339, \"Subtype\": \"Basal\"}, {\"PC1\": -5.28409553443353, \"PC2\": -0.2753814183623366, \"Subtype\": \"LumA\"}, {\"PC1\": 4.413605835097723, \"PC2\": -5.2215576181593635, \"Subtype\": \"HER2+\"}, {\"PC1\": -4.815566421298841, \"PC2\": -1.3735533345910096, \"Subtype\": \"LumA\"}, {\"PC1\": -4.912990263403901, \"PC2\": 0.07637453478947477, \"Subtype\": \"Basal\"}, {\"PC1\": 0.42460996086698166, \"PC2\": 2.730263525980362, \"Subtype\": \"LumA\"}, {\"PC1\": -6.064624393409939, \"PC2\": -2.6964645248973005, \"Subtype\": \"LumA\"}, {\"PC1\": 6.976564861629811, \"PC2\": -5.3101789047959285, \"Subtype\": \"Basal\"}, {\"PC1\": -6.210567615080182, \"PC2\": -0.024056192948076465, \"Subtype\": \"LumA\"}, {\"PC1\": -6.325838294530674, \"PC2\": -2.6722914624482823, \"Subtype\": \"LumA\"}, {\"PC1\": -5.358524483558335, \"PC2\": -0.33107247121972067, \"Subtype\": \"LumA\"}, {\"PC1\": -3.246038665233576, \"PC2\": -0.8629049665191149, \"Subtype\": \"LumA\"}, {\"PC1\": -9.710653429576475, \"PC2\": 0.5630700085691204, \"Subtype\": \"LumA\"}, {\"PC1\": 0.8853371147176984, \"PC2\": 0.19780093955408268, \"Subtype\": \"Basal\"}, {\"PC1\": 4.091448027820336, \"PC2\": -5.643527391435541, \"Subtype\": \"LumA\"}, {\"PC1\": -1.219710704226376, \"PC2\": -0.8094763273337384, \"Subtype\": \"LumA\"}, {\"PC1\": 2.3312796188793428, \"PC2\": 0.4382687912875448, \"Subtype\": \"Basal\"}, {\"PC1\": -1.3860308387467715, \"PC2\": -3.0521769147399893, \"Subtype\": \"HER2+\"}, {\"PC1\": -3.627309740901534, \"PC2\": -0.018393539121977973, \"Subtype\": \"LumA\"}, {\"PC1\": -1.1295382282972075, \"PC2\": -3.8856861925312587, \"Subtype\": \"LumA\"}, {\"PC1\": -0.9301335116279142, \"PC2\": 9.357880946544464, \"Subtype\": \"Basal\"}, {\"PC1\": -2.1020528867359016, \"PC2\": -0.46224042206307353, \"Subtype\": \"LumB\"}, {\"PC1\": -6.247319804335612, \"PC2\": -0.5475736802592288, \"Subtype\": \"LumA\"}, {\"PC1\": -3.1977784484297733, \"PC2\": -2.187386603602586, \"Subtype\": \"Basal\"}, {\"PC1\": 2.7457737762009033, \"PC2\": -3.5411048628499557, \"Subtype\": \"LumB\"}, {\"PC1\": -12.299120712799057, \"PC2\": -0.1318662582643057, \"Subtype\": \"Normal Like\"}, {\"PC1\": -2.2963082572642457, \"PC2\": -1.7729456854319459, \"Subtype\": \"Basal\"}, {\"PC1\": -6.262931268383379, \"PC2\": -1.1904913723843624, \"Subtype\": \"LumA\"}, {\"PC1\": -2.427882739194687, \"PC2\": -2.0549132853555134, \"Subtype\": \"LumB\"}, {\"PC1\": -5.411723670055237, \"PC2\": -1.2761031765144115, \"Subtype\": \"LumA\"}, {\"PC1\": -2.2329136328823735, \"PC2\": -1.1801734121574319, \"Subtype\": \"LumB\"}, {\"PC1\": -6.3790752000500435, \"PC2\": -1.7035491265913034, \"Subtype\": \"Normal\"}, {\"PC1\": -7.2785248513557965, \"PC2\": -0.7777451657074597, \"Subtype\": \"Normal Like\"}, {\"PC1\": -2.490836722884293, \"PC2\": 0.4183753355771058, \"Subtype\": \"LumB\"}, {\"PC1\": -7.331615839239385, \"PC2\": -0.6549095027951735, \"Subtype\": \"LumA\"}, {\"PC1\": -11.661470689893699, \"PC2\": -0.2480002047550021, \"Subtype\": \"Normal\"}, {\"PC1\": -4.755890418307642, \"PC2\": 1.6427446221300228, \"Subtype\": \"LumB\"}, {\"PC1\": 2.9800318266777572, \"PC2\": -2.1914276909380392, \"Subtype\": \"Basal\"}, {\"PC1\": -5.568974483017649, \"PC2\": -0.6718397091960177, \"Subtype\": \"LumA\"}, {\"PC1\": -0.42028654054459175, \"PC2\": 0.7805737030694053, \"Subtype\": \"LumB\"}, {\"PC1\": -6.501532275832437, \"PC2\": -0.7275081721393624, \"Subtype\": \"Normal Like\"}, {\"PC1\": -7.992579563792804, \"PC2\": -1.2134659987133753, \"Subtype\": \"Normal Like\"}, {\"PC1\": 7.724670540270707, \"PC2\": -4.9649623360028725, \"Subtype\": \"Basal\"}, {\"PC1\": -3.604355380029877, \"PC2\": -0.7990097041235542, \"Subtype\": \"LumA\"}, {\"PC1\": -6.265307350174578, \"PC2\": -1.2955999754111145, \"Subtype\": \"LumA\"}, {\"PC1\": -6.008462256139589, \"PC2\": -1.7193775273911875, \"Subtype\": \"LumA\"}, {\"PC1\": -10.483250585237055, \"PC2\": 0.7836322483647066, \"Subtype\": \"LumA\"}, {\"PC1\": -3.908627974148152, \"PC2\": -2.2360048083315536, \"Subtype\": \"Basal\"}, {\"PC1\": -4.325976365777797, \"PC2\": 0.9034752259750596, \"Subtype\": \"LumA\"}, {\"PC1\": -5.0183261294930395, \"PC2\": -3.278521887028925, \"Subtype\": \"LumA\"}, {\"PC1\": -0.38329355651256647, \"PC2\": -4.778792042608736, \"Subtype\": \"LumB\"}, {\"PC1\": -2.196981197629635, \"PC2\": 1.9443206150009087, \"Subtype\": \"HER2+\"}, {\"PC1\": -0.9995761819221299, \"PC2\": -1.3291631228322887, \"Subtype\": \"Basal\"}, {\"PC1\": 3.0976802157153216, \"PC2\": -2.4749806185187118, \"Subtype\": \"Basal\"}, {\"PC1\": -6.486205312952068, \"PC2\": -1.9012336170798014, \"Subtype\": \"LumA\"}, {\"PC1\": 2.680817436641322, \"PC2\": 1.294326891834123, \"Subtype\": \"LumB\"}, {\"PC1\": -6.609677211847751, \"PC2\": 0.3018789365347295, \"Subtype\": \"LumA\"}, {\"PC1\": -6.105387623036507, \"PC2\": -1.0805093059810238, \"Subtype\": \"Basal\"}, {\"PC1\": -7.135471584355997, \"PC2\": -0.5827227584769171, \"Subtype\": \"LumA\"}, {\"PC1\": -4.915639534934101, \"PC2\": -0.08058309594365069, \"Subtype\": \"LumA\"}, {\"PC1\": -3.4391975668315324, \"PC2\": -4.223111673929873, \"Subtype\": \"Normal Like\"}, {\"PC1\": -4.823869580750246, \"PC2\": -1.3611449088124414, \"Subtype\": \"LumA\"}, {\"PC1\": -1.1367085293933994, \"PC2\": 3.3973732098577623, \"Subtype\": \"LumA\"}, {\"PC1\": -6.156856924485769, \"PC2\": -1.664777594971652, \"Subtype\": \"LumA\"}, {\"PC1\": 1.0182293623552012, \"PC2\": -2.688539562674365, \"Subtype\": \"Normal\"}, {\"PC1\": -3.082018868036933, \"PC2\": -0.5105395990345181, \"Subtype\": \"LumA\"}, {\"PC1\": 4.247326896076259, \"PC2\": -5.598094720359219, \"Subtype\": \"Basal\"}, {\"PC1\": 2.934299505751579, \"PC2\": 1.5568988118910956, \"Subtype\": \"LumB\"}, {\"PC1\": 7.52111104334839, \"PC2\": -5.4709713915846425, \"Subtype\": \"LumB\"}, {\"PC1\": 6.0200307589540465, \"PC2\": -3.662311524914189, \"Subtype\": \"Basal\"}, {\"PC1\": -3.240941421664956, \"PC2\": -2.441757351844952, \"Subtype\": \"LumA\"}, {\"PC1\": 1.2744171255560666, \"PC2\": 6.185309312313274, \"Subtype\": \"LumA\"}, {\"PC1\": -6.555900300215178, \"PC2\": -0.632156234881366, \"Subtype\": \"Normal Like\"}, {\"PC1\": 2.8851449863905514, \"PC2\": -0.08640167611593526, \"Subtype\": \"LumA\"}, {\"PC1\": -4.713864408429614, \"PC2\": -1.128915931399633, \"Subtype\": \"Basal\"}, {\"PC1\": -0.06887227677341672, \"PC2\": 2.2198179881303615, \"Subtype\": \"Normal Like\"}, {\"PC1\": -2.7235908836369194, \"PC2\": 9.36345322145922, \"Subtype\": \"LumA\"}, {\"PC1\": -3.8794208798722245, \"PC2\": 0.23951521215750007, \"Subtype\": \"LumA\"}, {\"PC1\": 0.12840019351769513, \"PC2\": 0.3733992078670046, \"Subtype\": \"Basal\"}, {\"PC1\": -0.966853572816751, \"PC2\": 0.014563189860731268, \"Subtype\": \"LumB\"}, {\"PC1\": -10.62975470014775, \"PC2\": 0.014490699448719353, \"Subtype\": \"Normal\"}, {\"PC1\": -0.11970367115267005, \"PC2\": 1.2637257976657674, \"Subtype\": \"Normal Like\"}, {\"PC1\": 2.8107947480975364, \"PC2\": -1.1267994408176725, \"Subtype\": \"LumB\"}, {\"PC1\": -6.028474624692846, \"PC2\": -1.79372609631544, \"Subtype\": \"LumA\"}, {\"PC1\": -3.280906575885978, \"PC2\": -2.26944024996156, \"Subtype\": \"HER2+\"}, {\"PC1\": -10.7756482822193, \"PC2\": 1.9827597701598594, \"Subtype\": \"LumA\"}, {\"PC1\": -9.472767943751743, \"PC2\": 0.21492105907834783, \"Subtype\": \"Normal\"}, {\"PC1\": -3.2553844874428535, \"PC2\": -0.7303288942689574, \"Subtype\": \"LumB\"}, {\"PC1\": -2.2528426906362435, \"PC2\": -2.8515729583534926, \"Subtype\": \"Basal\"}, {\"PC1\": -9.607322975128604, \"PC2\": -0.8317341565181005, \"Subtype\": \"Normal\"}, {\"PC1\": -1.5065339470568149, \"PC2\": 0.23507821066522755, \"Subtype\": \"LumB\"}, {\"PC1\": 6.428586486671668, \"PC2\": 0.7504149228616304, \"Subtype\": \"LumA\"}, {\"PC1\": -3.6022314651967444, \"PC2\": -2.22088864753457, \"Subtype\": \"HER2+\"}, {\"PC1\": -5.6617876428425085, \"PC2\": -1.6125153046607839, \"Subtype\": \"HER2+\"}, {\"PC1\": -3.7964263365653244, \"PC2\": -0.08175697735341163, \"Subtype\": \"LumA\"}, {\"PC1\": 1.347393239830756, \"PC2\": 2.0649559449895576, \"Subtype\": \"Basal\"}, {\"PC1\": -6.95249865100156, \"PC2\": 0.09118631205267695, \"Subtype\": \"HER2+\"}, {\"PC1\": -11.020618877033096, \"PC2\": -0.3674899347393097, \"Subtype\": \"Basal\"}, {\"PC1\": -0.21434921605963717, \"PC2\": -0.9825830002848621, \"Subtype\": \"LumA\"}, {\"PC1\": 2.5104390859920227, \"PC2\": -0.21691902826396878, \"Subtype\": \"Basal\"}, {\"PC1\": 2.5206727572353302, \"PC2\": -1.719362730800036, \"Subtype\": \"HER2+\"}, {\"PC1\": 2.3608242096798584, \"PC2\": -1.4811671051758522, \"Subtype\": \"LumA\"}, {\"PC1\": -2.0588822789776824, \"PC2\": -2.5758393575075926, \"Subtype\": \"Basal\"}, {\"PC1\": -1.1633765299959025, \"PC2\": -2.516773769031693, \"Subtype\": \"Basal\"}, {\"PC1\": 0.3672303938616643, \"PC2\": 9.486931706416389, \"Subtype\": \"LumB\"}, {\"PC1\": -4.829369447462433, \"PC2\": 5.287850693012698, \"Subtype\": \"LumA\"}, {\"PC1\": 8.06625442205124, \"PC2\": 0.5603485467016948, \"Subtype\": \"LumB\"}, {\"PC1\": -2.4973572896790577, \"PC2\": -0.715398147609281, \"Subtype\": \"HER2+\"}, {\"PC1\": -7.938800529285261, \"PC2\": 0.11603589205987547, \"Subtype\": \"LumA\"}, {\"PC1\": -5.404703518525733, \"PC2\": 0.8082826368811599, \"Subtype\": \"LumA\"}, {\"PC1\": -2.8189029032440254, \"PC2\": -1.2427777651620193, \"Subtype\": \"Basal\"}, {\"PC1\": -0.25555739376853487, \"PC2\": -1.8803638252661905, \"Subtype\": \"Basal\"}, {\"PC1\": 7.319762053947125, \"PC2\": -4.325233742393904, \"Subtype\": \"Basal\"}, {\"PC1\": -7.050377374348475, \"PC2\": -2.6656182477672536, \"Subtype\": \"LumA\"}, {\"PC1\": -3.215380085284029, \"PC2\": -2.9930598053609225, \"Subtype\": \"Basal\"}, {\"PC1\": -9.844162966964603, \"PC2\": -2.1973551451018594, \"Subtype\": \"Normal\"}, {\"PC1\": -5.9130463624303005, \"PC2\": -4.808798098234104, \"Subtype\": \"HER2+\"}, {\"PC1\": -5.261390770640921, \"PC2\": -0.9239882415140315, \"Subtype\": \"HER2+\"}, {\"PC1\": -1.7753013076460937, \"PC2\": -0.44244524358475995, \"Subtype\": \"LumA\"}, {\"PC1\": 5.144998124301709, \"PC2\": -3.325195274098483, \"Subtype\": \"HER2+\"}, {\"PC1\": -4.221609663263481, \"PC2\": -1.6288521388134136, \"Subtype\": \"LumA\"}, {\"PC1\": -9.351498565646537, \"PC2\": -0.01590014796556902, \"Subtype\": \"LumA\"}, {\"PC1\": -8.047035776788151, \"PC2\": 0.13787743228345925, \"Subtype\": \"LumA\"}, {\"PC1\": 0.1852504375440063, \"PC2\": 1.6589940656188502, \"Subtype\": \"Basal\"}, {\"PC1\": -10.97668282627696, \"PC2\": -0.24071061522313367, \"Subtype\": \"LumA\"}, {\"PC1\": -8.208116001329847, \"PC2\": 4.392315038150356, \"Subtype\": \"LumB\"}, {\"PC1\": 3.2121721511687404, \"PC2\": -2.4041945786513965, \"Subtype\": \"LumB\"}, {\"PC1\": -1.449884470944085, \"PC2\": 0.4029081336761911, \"Subtype\": \"LumA\"}, {\"PC1\": -8.389106146769926, \"PC2\": 0.4292583007856462, \"Subtype\": \"Normal Like\"}, {\"PC1\": -9.809292008517145, \"PC2\": -0.21411103949716256, \"Subtype\": \"Normal\"}, {\"PC1\": -5.576546668519325, \"PC2\": -0.9921381289543489, \"Subtype\": \"LumA\"}, {\"PC1\": -4.316462455983833, \"PC2\": -0.3331034317089539, \"Subtype\": \"LumB\"}, {\"PC1\": 0.167033851801029, \"PC2\": -3.242545067693822, \"Subtype\": \"LumA\"}, {\"PC1\": -1.1190164977908184, \"PC2\": -0.861745912876784, \"Subtype\": \"Basal\"}, {\"PC1\": -10.695486287206757, \"PC2\": -0.11884519965640686, \"Subtype\": \"Normal\"}, {\"PC1\": -3.293760946342714, \"PC2\": 1.2405000181053079, \"Subtype\": \"Normal Like\"}, {\"PC1\": -9.994756961555982, \"PC2\": -1.7884366553032005, \"Subtype\": \"LumA\"}, {\"PC1\": -5.645954316567593, \"PC2\": 0.318298669519238, \"Subtype\": \"LumB\"}, {\"PC1\": -3.1399516657424793, \"PC2\": 0.027286131021681554, \"Subtype\": \"LumA\"}, {\"PC1\": -5.340324968951463, \"PC2\": -1.7752123820199788, \"Subtype\": \"LumA\"}, {\"PC1\": -11.168079506381961, \"PC2\": 0.10246750945664712, \"Subtype\": \"Normal\"}, {\"PC1\": -1.7454693674736126, \"PC2\": -2.7436333047046673, \"Subtype\": \"LumA\"}, {\"PC1\": -4.707971084357192, \"PC2\": 0.5545446865012145, \"Subtype\": \"LumB\"}, {\"PC1\": -1.7485511210598323, \"PC2\": -2.1901066945422634, \"Subtype\": \"LumB\"}, {\"PC1\": 1.6764634797148719, \"PC2\": -4.7997123760944325, \"Subtype\": \"HER2+\"}, {\"PC1\": -3.390419652048265, \"PC2\": -0.9516556075427856, \"Subtype\": \"Normal Like\"}, {\"PC1\": -8.885148026761431, \"PC2\": -1.7187510889269433, \"Subtype\": \"Normal\"}, {\"PC1\": 6.089102662741353, \"PC2\": -1.0695820236020162, \"Subtype\": \"LumA\"}, {\"PC1\": -4.316950613590071, \"PC2\": -0.34285019840564884, \"Subtype\": \"HER2+\"}, {\"PC1\": 7.0391227255673074, \"PC2\": 2.033734315160095, \"Subtype\": \"LumB\"}, {\"PC1\": -0.9704655719225657, \"PC2\": -3.8829334119851393, \"Subtype\": \"Basal\"}, {\"PC1\": -2.6100249267095363, \"PC2\": -1.508345646596137, \"Subtype\": \"LumB\"}, {\"PC1\": -6.638397098494565, \"PC2\": -2.1629935762353267, \"Subtype\": \"Normal Like\"}, {\"PC1\": -0.46880384637316946, \"PC2\": 0.6083914111436127, \"Subtype\": \"LumB\"}, {\"PC1\": -3.7589866897496917, \"PC2\": -1.965544317350708, \"Subtype\": \"Basal\"}, {\"PC1\": 4.739593258039469, \"PC2\": 5.555802637741191, \"Subtype\": \"Basal\"}, {\"PC1\": -7.163577843966223, \"PC2\": -0.9352530112084, \"Subtype\": \"Normal Like\"}, {\"PC1\": -4.356827063792771, \"PC2\": -2.231784396214458, \"Subtype\": \"Normal Like\"}, {\"PC1\": -5.486669333994838, \"PC2\": -1.7657787193315106, \"Subtype\": \"LumA\"}, {\"PC1\": -5.2240822569792575, \"PC2\": -4.07328134809693, \"Subtype\": \"Normal Like\"}, {\"PC1\": -3.685319342775053, \"PC2\": -1.0021599186084225, \"Subtype\": \"LumA\"}, {\"PC1\": -2.3505037845236774, \"PC2\": -2.1534992772260586, \"Subtype\": \"Basal\"}, {\"PC1\": -0.7247269590060714, \"PC2\": 0.21560601883684438, \"Subtype\": \"Basal\"}, {\"PC1\": -4.521909203770134, \"PC2\": -2.249856603485335, \"Subtype\": \"LumA\"}, {\"PC1\": -4.615873852484271, \"PC2\": -0.9117238378374978, \"Subtype\": \"LumA\"}, {\"PC1\": -0.04956261363648908, \"PC2\": -1.7195761004144439, \"Subtype\": \"HER2+\"}, {\"PC1\": 7.782980102283949, \"PC2\": -3.8059464527577123, \"Subtype\": \"HER2+\"}, {\"PC1\": -1.987614325650531, \"PC2\": -1.9809404274948204, \"Subtype\": \"Basal\"}, {\"PC1\": -7.033085393416965, \"PC2\": -2.645139729074859, \"Subtype\": \"LumA\"}, {\"PC1\": -11.078957442073897, \"PC2\": 0.7220222409161497, \"Subtype\": \"Normal\"}, {\"PC1\": 2.3706535440158607, \"PC2\": -0.7764379931746617, \"Subtype\": \"HER2+\"}, {\"PC1\": -1.3558297252470817, \"PC2\": -4.940387789188711, \"Subtype\": \"Normal\"}, {\"PC1\": -0.821265452898556, \"PC2\": -2.502368458336086, \"Subtype\": \"HER2+\"}, {\"PC1\": 6.610568034263607, \"PC2\": 0.7467206294916161, \"Subtype\": \"LumB\"}, {\"PC1\": 1.681185344540557, \"PC2\": -0.3761662475098279, \"Subtype\": \"Basal\"}, {\"PC1\": -8.502227954513886, \"PC2\": 0.12745477103813244, \"Subtype\": \"LumA\"}, {\"PC1\": -4.54897151725554, \"PC2\": -0.6452979305272876, \"Subtype\": \"Basal\"}, {\"PC1\": -3.600593512242486, \"PC2\": -1.1880764066661806, \"Subtype\": \"LumB\"}, {\"PC1\": -2.7723628206809603, \"PC2\": -2.725726755881243, \"Subtype\": \"Basal\"}, {\"PC1\": -2.5930041585119503, \"PC2\": -2.7405543836220168, \"Subtype\": \"Basal\"}, {\"PC1\": -11.30639201046833, \"PC2\": 0.8438863368896997, \"Subtype\": \"HER2+\"}, {\"PC1\": -5.889327347325802, \"PC2\": -0.20278452040452305, \"Subtype\": \"Normal Like\"}, {\"PC1\": -4.842726385843285, \"PC2\": -3.2821939736381496, \"Subtype\": \"Basal\"}, {\"PC1\": 2.144972227384599, \"PC2\": 1.1697104150072433, \"Subtype\": \"LumB\"}, {\"PC1\": 4.234624550784277, \"PC2\": -2.286741816137566, \"Subtype\": \"LumA\"}, {\"PC1\": -7.809837082370679, \"PC2\": -1.2836482061089172, \"Subtype\": \"Normal\"}, {\"PC1\": -7.32161348818952, \"PC2\": 0.11943924412138142, \"Subtype\": \"HER2+\"}, {\"PC1\": -3.656686128315126, \"PC2\": -0.40295786089295066, \"Subtype\": \"LumB\"}, {\"PC1\": -7.025304406822144, \"PC2\": -0.1014584313243498, \"Subtype\": \"Normal Like\"}, {\"PC1\": -10.731803335791607, \"PC2\": 0.10511999726306533, \"Subtype\": \"Normal\"}, {\"PC1\": -11.307431392650612, \"PC2\": -0.6700013105650565, \"Subtype\": \"Normal\"}, {\"PC1\": -5.481000212306533, \"PC2\": 2.9781090304848314, \"Subtype\": \"Basal\"}, {\"PC1\": -11.648793090926254, \"PC2\": 0.47153350822150547, \"Subtype\": \"Normal\"}, {\"PC1\": 2.3171867575472467, \"PC2\": -2.226893850625792, \"Subtype\": \"HER2+\"}, {\"PC1\": -5.758956035656963, \"PC2\": -1.128540065310035, \"Subtype\": \"LumA\"}, {\"PC1\": -3.5360283738165834, \"PC2\": -0.7660789039134676, \"Subtype\": \"LumA\"}, {\"PC1\": 4.562099429393196, \"PC2\": 8.960998574173374, \"Subtype\": \"LumB\"}, {\"PC1\": -3.638399593730164, \"PC2\": -1.4749557041835493, \"Subtype\": \"LumA\"}, {\"PC1\": -4.91437415601367, \"PC2\": -4.012278200847442, \"Subtype\": \"LumA\"}, {\"PC1\": -8.939639799216902, \"PC2\": -1.5355986476055759, \"Subtype\": \"Normal\"}, {\"PC1\": -0.04245893709727636, \"PC2\": -4.734489879673912, \"Subtype\": \"LumA\"}, {\"PC1\": -3.942085167771451, \"PC2\": -0.3771570907901112, \"Subtype\": \"LumB\"}, {\"PC1\": -2.817418254445304, \"PC2\": -2.7424554190811086, \"Subtype\": \"HER2+\"}, {\"PC1\": -1.3383498828373486, \"PC2\": -0.21182697416663612, \"Subtype\": \"HER2+\"}, {\"PC1\": 1.007507507386478, \"PC2\": -1.754295297845308, \"Subtype\": \"Basal\"}, {\"PC1\": -6.482598849002386, \"PC2\": -1.6616495459803673, \"Subtype\": \"Normal Like\"}, {\"PC1\": -7.0390918738686485, \"PC2\": -0.49855452223350066, \"Subtype\": \"Normal\"}, {\"PC1\": -3.580887673554636, \"PC2\": 0.8262941594989587, \"Subtype\": \"LumB\"}, {\"PC1\": -0.6235076663274032, \"PC2\": 8.628369989562783, \"Subtype\": \"LumB\"}, {\"PC1\": -5.643105447603549, \"PC2\": -0.173697264509498, \"Subtype\": \"Normal Like\"}, {\"PC1\": -1.7723636610611955, \"PC2\": -0.49794421290815194, \"Subtype\": \"LumB\"}, {\"PC1\": -5.006820278949363, \"PC2\": -1.6113577463170135, \"Subtype\": \"LumA\"}, {\"PC1\": -6.626962902219396, \"PC2\": -1.4514002949030993, \"Subtype\": \"Basal\"}, {\"PC1\": -3.3105691678049936, \"PC2\": 1.2905531442536387, \"Subtype\": \"HER2+\"}, {\"PC1\": -10.420088413064907, \"PC2\": -1.353781627085689, \"Subtype\": \"Normal\"}, {\"PC1\": 0.9426228784824839, \"PC2\": -0.8991908179840067, \"Subtype\": \"LumB\"}, {\"PC1\": -7.656903000074167, \"PC2\": -1.1815233496789204, \"Subtype\": \"LumA\"}, {\"PC1\": -3.2079655264155207, \"PC2\": -0.7408852987615752, \"Subtype\": \"LumB\"}, {\"PC1\": -6.586590776961441, \"PC2\": 0.8741871555733264, \"Subtype\": \"LumB\"}, {\"PC1\": 1.6188683240821982, \"PC2\": -3.049417557674523, \"Subtype\": \"LumA\"}, {\"PC1\": -3.638906135269789, \"PC2\": -0.27419597476012997, \"Subtype\": \"Basal\"}, {\"PC1\": 2.438600241423583, \"PC2\": 1.2833426975544924, \"Subtype\": \"LumB\"}, {\"PC1\": -2.424797959317258, \"PC2\": -0.3123208545218839, \"Subtype\": \"LumB\"}, {\"PC1\": -5.868984145786806, \"PC2\": -0.18203854329690386, \"Subtype\": \"LumB\"}, {\"PC1\": -9.936816225179697, \"PC2\": -0.194969185403863, \"Subtype\": \"Basal\"}, {\"PC1\": -3.320869095933979, \"PC2\": -0.7347932499156393, \"Subtype\": \"HER2+\"}, {\"PC1\": -7.383322773125522, \"PC2\": -0.7744259560233444, \"Subtype\": \"Normal Like\"}, {\"PC1\": 2.0934667747140194, \"PC2\": 0.15035725401243596, \"Subtype\": \"LumA\"}, {\"PC1\": -0.25006181733012367, \"PC2\": -1.3378113911914733, \"Subtype\": \"Basal\"}, {\"PC1\": -8.313650680486678, \"PC2\": -1.7183310511504732, \"Subtype\": \"Normal\"}, {\"PC1\": -6.86265486779317, \"PC2\": -1.683003326953931, \"Subtype\": \"LumA\"}, {\"PC1\": -7.5211301669886454, \"PC2\": -1.3000984927921646, \"Subtype\": \"LumA\"}, {\"PC1\": -0.5289054496534419, \"PC2\": 0.2871295976053882, \"Subtype\": \"LumA\"}, {\"PC1\": -7.5020581157820585, \"PC2\": -1.4168375635747439, \"Subtype\": \"Normal Like\"}, {\"PC1\": -7.029725303507364, \"PC2\": 0.9372466945584766, \"Subtype\": \"LumA\"}, {\"PC1\": -6.219019531090863, \"PC2\": -0.0846539202910877, \"Subtype\": \"LumB\"}, {\"PC1\": -7.1141634734148385, \"PC2\": 0.15949840106371452, \"Subtype\": \"LumB\"}, {\"PC1\": -6.295168345446096, \"PC2\": -0.8108253149680105, \"Subtype\": \"LumA\"}, {\"PC1\": -1.3675192237807574, \"PC2\": -2.925045820242072, \"Subtype\": \"LumB\"}, {\"PC1\": -7.039220416070824, \"PC2\": 0.4993652955730474, \"Subtype\": \"Normal Like\"}, {\"PC1\": -2.7203959762141072, \"PC2\": 0.4544424794940823, \"Subtype\": \"LumA\"}, {\"PC1\": -6.6326780794332665, \"PC2\": 0.3785912986398254, \"Subtype\": \"LumA\"}, {\"PC1\": 8.364753821882687, \"PC2\": 5.344793518515482, \"Subtype\": \"Basal\"}, {\"PC1\": -9.258350025456762, \"PC2\": -1.1312645936589116, \"Subtype\": \"Normal\"}, {\"PC1\": -10.893856194565593, \"PC2\": 0.25262483519498563, \"Subtype\": \"Normal\"}, {\"PC1\": -8.40301215405231, \"PC2\": 6.6961591087986605, \"Subtype\": \"LumB\"}, {\"PC1\": 2.0655329287412125, \"PC2\": 2.446519108614543, \"Subtype\": \"LumB\"}, {\"PC1\": -4.505850285054346, \"PC2\": -0.2135014499086163, \"Subtype\": \"LumB\"}, {\"PC1\": -9.723990125262603, \"PC2\": -1.6441199747398776, \"Subtype\": \"Normal\"}, {\"PC1\": 0.6844580904001363, \"PC2\": 0.9318264157264152, \"Subtype\": \"LumA\"}, {\"PC1\": 2.231918600139073, \"PC2\": -1.0013594052371853, \"Subtype\": \"LumB\"}, {\"PC1\": 0.4136575465419709, \"PC2\": 1.2566973455469064, \"Subtype\": \"HER2+\"}, {\"PC1\": -9.969514425253228, \"PC2\": -1.914518059656786, \"Subtype\": \"Normal Like\"}, {\"PC1\": -5.790073821297312, \"PC2\": -1.4519360041858727, \"Subtype\": \"LumA\"}, {\"PC1\": -5.485967074853947, \"PC2\": -2.396433831181842, \"Subtype\": \"LumA\"}, {\"PC1\": -5.108290444169373, \"PC2\": -0.5071061766051039, \"Subtype\": \"LumB\"}, {\"PC1\": -7.568407969319499, \"PC2\": -1.0373865889168956, \"Subtype\": \"LumA\"}, {\"PC1\": -4.778465773245251, \"PC2\": -1.6139934283830226, \"Subtype\": \"LumB\"}, {\"PC1\": -1.326405493783475, \"PC2\": -1.942733917420242, \"Subtype\": \"HER2+\"}, {\"PC1\": -6.081631822398643, \"PC2\": 0.8014574258944496, \"Subtype\": \"LumA\"}, {\"PC1\": -6.695655945457899, \"PC2\": 0.03511565390718402, \"Subtype\": \"Basal\"}, {\"PC1\": -2.1901554979905216, \"PC2\": -2.021316862184332, \"Subtype\": \"Basal\"}, {\"PC1\": 0.9422486582238948, \"PC2\": -1.4374876834582362, \"Subtype\": \"LumB\"}, {\"PC1\": -4.074843069579228, \"PC2\": -0.9963403326429641, \"Subtype\": \"Normal Like\"}, {\"PC1\": 2.718480039016676, \"PC2\": -2.1223355120045566, \"Subtype\": \"HER2+\"}, {\"PC1\": -0.05562503053878861, \"PC2\": -3.096134138629186, \"Subtype\": \"Basal\"}, {\"PC1\": 2.951267607282664, \"PC2\": -3.40678166321993, \"Subtype\": \"HER2+\"}, {\"PC1\": -2.431564885447075, \"PC2\": 2.292106538335168, \"Subtype\": \"LumA\"}, {\"PC1\": -7.7352828809756495, \"PC2\": -0.3171095193259476, \"Subtype\": \"LumA\"}, {\"PC1\": -2.4938863770680015, \"PC2\": 0.39569248259838674, \"Subtype\": \"LumA\"}, {\"PC1\": 6.270138589033881, \"PC2\": 3.893878428088946, \"Subtype\": \"Basal\"}, {\"PC1\": -2.673946669567989, \"PC2\": -1.2232828020496873, \"Subtype\": \"Basal\"}, {\"PC1\": -5.242126689460084, \"PC2\": -0.14113006776040615, \"Subtype\": \"LumA\"}, {\"PC1\": 12.06879025276205, \"PC2\": -1.4480365237790807, \"Subtype\": \"LumA\"}, {\"PC1\": -6.095606649046164, \"PC2\": -0.33838495548642594, \"Subtype\": \"LumB\"}, {\"PC1\": -6.1145120916792886, \"PC2\": -0.9611647657416722, \"Subtype\": \"Normal Like\"}, {\"PC1\": -0.017513104519859535, \"PC2\": -4.344605061697096, \"Subtype\": \"HER2+\"}, {\"PC1\": -5.941512863068328, \"PC2\": -0.7126534901236474, \"Subtype\": \"Basal\"}, {\"PC1\": -0.4779673649118413, \"PC2\": 3.7933262504095406, \"Subtype\": \"LumA\"}, {\"PC1\": -2.2859050208247806, \"PC2\": 1.5068251821974967, \"Subtype\": \"LumA\"}, {\"PC1\": -9.006875672029905, \"PC2\": -1.8021919077858084, \"Subtype\": \"LumA\"}, {\"PC1\": 3.9886420907820397, \"PC2\": 6.942216000508589, \"Subtype\": \"LumA\"}, {\"PC1\": -5.601295811686018, \"PC2\": -1.4383218818196972, \"Subtype\": \"Normal Like\"}, {\"PC1\": -5.128617114102388, \"PC2\": -1.104258566440997, \"Subtype\": \"LumA\"}, {\"PC1\": -5.280811004435284, \"PC2\": -2.8929069172309876, \"Subtype\": \"LumA\"}, {\"PC1\": 1.4654138992394508, \"PC2\": -2.528121281797061, \"Subtype\": \"HER2+\"}, {\"PC1\": 4.595924613980008, \"PC2\": 2.375462004575184, \"Subtype\": \"Basal\"}, {\"PC1\": 5.7786968174169235, \"PC2\": -0.7679122564178048, \"Subtype\": \"LumA\"}, {\"PC1\": -2.379124925164465, \"PC2\": 0.6069283742408309, \"Subtype\": \"LumA\"}, {\"PC1\": -4.139432947176184, \"PC2\": -2.574116957634841, \"Subtype\": \"Normal Like\"}, {\"PC1\": -5.909993721416334, \"PC2\": -1.5003133048536514, \"Subtype\": \"LumA\"}, {\"PC1\": 1.3922431510871827, \"PC2\": -4.8672255733520675, \"Subtype\": \"LumA\"}, {\"PC1\": 5.402143668622362, \"PC2\": -6.2761687040792395, \"Subtype\": \"LumB\"}, {\"PC1\": -3.8518156687417147, \"PC2\": -1.6198896911727458, \"Subtype\": \"LumA\"}, {\"PC1\": -7.7799716148518625, \"PC2\": -0.2032916426055145, \"Subtype\": \"LumA\"}, {\"PC1\": -3.152777619937669, \"PC2\": -1.0684480177381763, \"Subtype\": \"LumB\"}, {\"PC1\": 1.4071706174289058, \"PC2\": 1.1005082238396309, \"Subtype\": \"LumB\"}, {\"PC1\": -7.020408097450257, \"PC2\": -0.3146334774857325, \"Subtype\": \"LumA\"}, {\"PC1\": -5.117453504077812, \"PC2\": -0.38634749247450295, \"Subtype\": \"Basal\"}, {\"PC1\": -9.019989260191501, \"PC2\": -1.0211954513380106, \"Subtype\": \"Normal\"}, {\"PC1\": -8.156583551592513, \"PC2\": 0.8059182085268886, \"Subtype\": \"LumA\"}, {\"PC1\": -3.12878539795077, \"PC2\": 0.13126523345134916, \"Subtype\": \"HER2+\"}, {\"PC1\": 3.620258211194648, \"PC2\": 0.8318251343640732, \"Subtype\": \"LumB\"}, {\"PC1\": 4.329040225503178, \"PC2\": 8.967914749206761, \"Subtype\": \"LumB\"}, {\"PC1\": -8.404868309863446, \"PC2\": -1.1001277660982207, \"Subtype\": \"LumA\"}, {\"PC1\": -3.6976627350017264, \"PC2\": -1.9903295151291056, \"Subtype\": \"LumA\"}, {\"PC1\": -5.967681182506374, \"PC2\": -0.598276631617009, \"Subtype\": \"LumB\"}, {\"PC1\": -6.118865856818751, \"PC2\": -2.218441968771157, \"Subtype\": \"LumA\"}, {\"PC1\": -6.957017361951, \"PC2\": 1.6715782049979775, \"Subtype\": \"Basal\"}, {\"PC1\": -11.198919722136013, \"PC2\": -0.4650334725595155, \"Subtype\": \"LumA\"}, {\"PC1\": -8.214314632701814, \"PC2\": -1.4376016661280502, \"Subtype\": \"LumA\"}, {\"PC1\": -4.479392725237283, \"PC2\": 1.3335733352755728, \"Subtype\": \"Basal\"}, {\"PC1\": -2.948526870993665, \"PC2\": -2.0066190546616927, \"Subtype\": \"Basal\"}, {\"PC1\": 10.269230628884305, \"PC2\": -0.6577751489188189, \"Subtype\": \"Basal\"}, {\"PC1\": 3.275000075744794, \"PC2\": -0.17988954585193684, \"Subtype\": \"LumB\"}, {\"PC1\": 3.481129839962174, \"PC2\": 0.6446275155205058, \"Subtype\": \"LumA\"}, {\"PC1\": -1.6005421918498866, \"PC2\": 4.53014277815027, \"Subtype\": \"LumA\"}, {\"PC1\": -0.8868183219660466, \"PC2\": -1.691152359026954, \"Subtype\": \"HER2+\"}, {\"PC1\": -8.256344674337887, \"PC2\": -0.6432082566431457, \"Subtype\": \"Normal Like\"}, {\"PC1\": -9.938948323978154, \"PC2\": -0.7328306643648967, \"Subtype\": \"Normal Like\"}, {\"PC1\": 5.8398096293305795, \"PC2\": 1.8082536670092402, \"Subtype\": \"HER2+\"}, {\"PC1\": -4.072116240476656, \"PC2\": 6.025109314307831, \"Subtype\": \"Normal Like\"}, {\"PC1\": -2.4715421934531707, \"PC2\": -4.295129149550234, \"Subtype\": \"Normal Like\"}, {\"PC1\": -3.9138469152326247, \"PC2\": -2.9081037836472152, \"Subtype\": \"HER2+\"}, {\"PC1\": -5.566358731869614, \"PC2\": -1.4841537334967179, \"Subtype\": \"LumA\"}, {\"PC1\": -7.243721054796578, \"PC2\": -0.3368369909039416, \"Subtype\": \"LumA\"}, {\"PC1\": -4.443726886737718, \"PC2\": 1.8493314711307567, \"Subtype\": \"LumA\"}, {\"PC1\": -3.415793050861368, \"PC2\": -0.4946092572540251, \"Subtype\": \"LumA\"}, {\"PC1\": -3.683608370124703, \"PC2\": -0.7223437037930256, \"Subtype\": \"LumA\"}, {\"PC1\": -0.303009652667772, \"PC2\": -2.2919944194567314, \"Subtype\": \"Basal\"}, {\"PC1\": -2.089852776938594, \"PC2\": -0.14326603192969814, \"Subtype\": \"LumA\"}, {\"PC1\": -7.804269340643453, \"PC2\": -0.3455773691702597, \"Subtype\": \"LumA\"}, {\"PC1\": -0.7085717171075896, \"PC2\": 0.08336704635383946, \"Subtype\": \"LumB\"}, {\"PC1\": -2.808299290375304, \"PC2\": -2.553732973468797, \"Subtype\": \"LumA\"}, {\"PC1\": -8.27643825976004, \"PC2\": -1.247425956292702, \"Subtype\": \"Normal\"}, {\"PC1\": -3.4839958696452844, \"PC2\": -2.710541762321488, \"Subtype\": \"LumB\"}, {\"PC1\": -5.746338717470516, \"PC2\": -0.6536378450503526, \"Subtype\": \"LumA\"}, {\"PC1\": -2.1795559892604452, \"PC2\": 1.9291538150242018, \"Subtype\": \"LumB\"}, {\"PC1\": -6.827560918384525, \"PC2\": -0.8606380241657743, \"Subtype\": \"HER2+\"}, {\"PC1\": -6.559909464909689, \"PC2\": 0.064165025529049, \"Subtype\": \"HER2+\"}, {\"PC1\": 1.45801317083413, \"PC2\": -1.796095397242973, \"Subtype\": \"LumB\"}, {\"PC1\": -6.104426677574472, \"PC2\": -1.730981347070463, \"Subtype\": \"LumA\"}, {\"PC1\": -2.581448036427053, \"PC2\": -0.7108233137733313, \"Subtype\": \"HER2+\"}, {\"PC1\": -5.161303363726808, \"PC2\": 0.18249830087172517, \"Subtype\": \"LumA\"}, {\"PC1\": -3.22501003581427, \"PC2\": 0.09830805671871916, \"Subtype\": \"HER2+\"}, {\"PC1\": -6.25534332654589, \"PC2\": -0.6634096754219679, \"Subtype\": \"Normal Like\"}, {\"PC1\": 0.5093172153976299, \"PC2\": -3.5130660332595434, \"Subtype\": \"LumB\"}, {\"PC1\": -7.418229017577866, \"PC2\": -0.63932396104299, \"Subtype\": \"LumA\"}, {\"PC1\": -8.669741529824261, \"PC2\": -0.3752476375242254, \"Subtype\": \"LumA\"}, {\"PC1\": 2.437493595046304, \"PC2\": -4.313144615127169, \"Subtype\": \"LumB\"}, {\"PC1\": -4.315671727978511, \"PC2\": -1.3601191285340408, \"Subtype\": \"Basal\"}, {\"PC1\": -7.343875369466399, \"PC2\": -1.8605514401096397, \"Subtype\": \"Normal Like\"}, {\"PC1\": -10.837453539166319, \"PC2\": -0.24002533492118988, \"Subtype\": \"Normal\"}, {\"PC1\": 4.9978123782593835, \"PC2\": -6.764207085174476, \"Subtype\": \"HER2+\"}, {\"PC1\": -6.505455294285655, \"PC2\": -1.0623708132375467, \"Subtype\": \"LumA\"}, {\"PC1\": 8.409059814995173, \"PC2\": -4.0511550547221535, \"Subtype\": \"LumB\"}, {\"PC1\": -1.789722042445781, \"PC2\": -3.2415377391882165, \"Subtype\": \"LumA\"}, {\"PC1\": -3.788265277748688, \"PC2\": -1.2409238985911957, \"Subtype\": \"HER2+\"}, {\"PC1\": -3.9980507860785783, \"PC2\": -3.920584141689159, \"Subtype\": \"HER2+\"}, {\"PC1\": -5.858316242748231, \"PC2\": -0.343796547813336, \"Subtype\": \"LumA\"}, {\"PC1\": 4.39822044468182, \"PC2\": -5.037567305730357, \"Subtype\": \"HER2+\"}, {\"PC1\": -5.142386652424476, \"PC2\": -2.0797819182996453, \"Subtype\": \"Basal\"}, {\"PC1\": 4.813019274775605, \"PC2\": 1.8402116265835122, \"Subtype\": \"Basal\"}, {\"PC1\": 2.9115444544844467, \"PC2\": -1.024507293759276, \"Subtype\": \"LumB\"}, {\"PC1\": -1.0232047259666968, \"PC2\": -3.478520623282118, \"Subtype\": \"HER2+\"}, {\"PC1\": -7.418094807004607, \"PC2\": -1.1165693227848161, \"Subtype\": \"LumA\"}, {\"PC1\": 0.333216410102808, \"PC2\": -5.479381687441889, \"Subtype\": \"Normal Like\"}, {\"PC1\": -0.7969273091737764, \"PC2\": 0.11413217069645004, \"Subtype\": \"LumB\"}, {\"PC1\": -4.0623700813978285, \"PC2\": -0.9217308956046203, \"Subtype\": \"LumA\"}, {\"PC1\": -0.5641622520467413, \"PC2\": 1.3716511421290298, \"Subtype\": \"LumB\"}, {\"PC1\": 0.3635621469016524, \"PC2\": -3.4711471194671177, \"Subtype\": \"LumB\"}, {\"PC1\": -2.402185967283222, \"PC2\": 2.384957929602715, \"Subtype\": \"LumA\"}, {\"PC1\": -3.1385213424785907, \"PC2\": -3.0229639294540593, \"Subtype\": \"Normal Like\"}, {\"PC1\": -4.36885359583461, \"PC2\": 1.1783646549796631, \"Subtype\": \"LumB\"}, {\"PC1\": 4.890108618098374, \"PC2\": -4.772770368638136, \"Subtype\": \"Basal\"}, {\"PC1\": -6.12302007800737, \"PC2\": -1.662905474273979, \"Subtype\": \"LumA\"}, {\"PC1\": -5.688932124904326, \"PC2\": -1.7593133040293472, \"Subtype\": \"LumA\"}, {\"PC1\": 4.3424213674090515, \"PC2\": 0.9186613849466909, \"Subtype\": \"LumB\"}, {\"PC1\": 2.774624829558713, \"PC2\": -0.8327641853504608, \"Subtype\": \"LumB\"}, {\"PC1\": -11.107538073306445, \"PC2\": -0.003495466236027014, \"Subtype\": \"Normal Like\"}, {\"PC1\": 0.3515394029631251, \"PC2\": -5.709988112657181, \"Subtype\": \"LumB\"}, {\"PC1\": -1.9780228214597442, \"PC2\": -1.1931519682340987, \"Subtype\": \"Normal Like\"}, {\"PC1\": -6.329433072159654, \"PC2\": -0.6051319258605757, \"Subtype\": \"HER2+\"}, {\"PC1\": -1.1979184979595876, \"PC2\": 0.4708114914371411, \"Subtype\": \"Basal\"}, {\"PC1\": -3.6808425348193663, \"PC2\": -0.8656817460513285, \"Subtype\": \"LumB\"}, {\"PC1\": -0.8779125410849938, \"PC2\": 0.21656718450590484, \"Subtype\": \"Basal\"}, {\"PC1\": -5.272591650963457, \"PC2\": -2.2331263440625926, \"Subtype\": \"LumA\"}, {\"PC1\": -5.640400045140459, \"PC2\": -1.372366694093385, \"Subtype\": \"LumA\"}, {\"PC1\": -5.15859823631378, \"PC2\": 0.019543012664369502, \"Subtype\": \"LumB\"}, {\"PC1\": -6.910531480029265, \"PC2\": -0.4868188037284557, \"Subtype\": \"LumA\"}, {\"PC1\": -9.113186110274377, \"PC2\": 0.757985053045029, \"Subtype\": \"LumA\"}, {\"PC1\": -3.454375392578612, \"PC2\": -0.9451007789598181, \"Subtype\": \"LumB\"}, {\"PC1\": 0.0393144747749955, \"PC2\": -3.9870564508109108, \"Subtype\": \"LumB\"}, {\"PC1\": 4.610477448851584, \"PC2\": -1.743975918705665, \"Subtype\": \"HER2+\"}, {\"PC1\": -4.575692761042238, \"PC2\": -2.3430603360160234, \"Subtype\": \"LumA\"}, {\"PC1\": 0.27721657886953044, \"PC2\": -4.405792579627591, \"Subtype\": \"HER2+\"}, {\"PC1\": 4.1795689270551994, \"PC2\": -1.800691363615164, \"Subtype\": \"LumA\"}, {\"PC1\": -3.689137210090062, \"PC2\": -1.886705879906476, \"Subtype\": \"LumA\"}, {\"PC1\": 0.8682068610185173, \"PC2\": -2.083847180021057, \"Subtype\": \"Basal\"}, {\"PC1\": -7.520753756079834, \"PC2\": -1.1019439027711926, \"Subtype\": \"LumA\"}, {\"PC1\": 5.1026975942147255, \"PC2\": 5.846192318792511, \"Subtype\": \"LumA\"}, {\"PC1\": -4.4710191251073965, \"PC2\": -1.8542153709283107, \"Subtype\": \"Normal Like\"}, {\"PC1\": -6.989838306325117, \"PC2\": -1.0428593759502307, \"Subtype\": \"LumA\"}, {\"PC1\": -2.3801009861036504, \"PC2\": -1.467493998697495, \"Subtype\": \"LumA\"}, {\"PC1\": -6.888559467411834, \"PC2\": 0.26326945376336114, \"Subtype\": \"LumA\"}, {\"PC1\": -10.9982168258904, \"PC2\": -0.7168976363241162, \"Subtype\": \"Normal\"}, {\"PC1\": -5.299866495251504, \"PC2\": -0.054122020198407145, \"Subtype\": \"LumB\"}, {\"PC1\": -5.6873443837860895, \"PC2\": -1.082030455819854, \"Subtype\": \"LumB\"}, {\"PC1\": -1.6208107382838264, \"PC2\": -2.713329040032407, \"Subtype\": \"Basal\"}, {\"PC1\": 0.04902082125261195, \"PC2\": -2.5441091176346164, \"Subtype\": \"Basal\"}, {\"PC1\": -6.00759766258639, \"PC2\": -0.8308683477017941, \"Subtype\": \"LumA\"}, {\"PC1\": -6.11489951230001, \"PC2\": -2.0283278404283904, \"Subtype\": \"LumA\"}, {\"PC1\": 6.093670432537994, \"PC2\": -1.0768215738551055, \"Subtype\": \"HER2+\"}, {\"PC1\": -1.929141665739674, \"PC2\": -3.329840293822663, \"Subtype\": \"Basal\"}, {\"PC1\": -5.2656873871910825, \"PC2\": -0.1309203070500475, \"Subtype\": \"LumA\"}, {\"PC1\": 3.386277744714014, \"PC2\": -1.7381655193708552, \"Subtype\": \"LumB\"}, {\"PC1\": -8.824930986150543, \"PC2\": -0.97692273898565, \"Subtype\": \"Normal\"}, {\"PC1\": 0.6702638962499544, \"PC2\": -1.442233213004281, \"Subtype\": \"Basal\"}, {\"PC1\": 2.4514333132775414, \"PC2\": -2.138769979785098, \"Subtype\": \"LumA\"}, {\"PC1\": -5.50567566383375, \"PC2\": 4.358729411288709, \"Subtype\": \"Basal\"}, {\"PC1\": 5.464908679852608, \"PC2\": 8.366707607437307, \"Subtype\": \"Normal\"}, {\"PC1\": 5.52945238735422, \"PC2\": 1.7311206735073952, \"Subtype\": \"Basal\"}, {\"PC1\": -1.2884107537464577, \"PC2\": 7.817542361029617, \"Subtype\": \"LumB\"}, {\"PC1\": -8.058688547734926, \"PC2\": -0.3836738132178541, \"Subtype\": \"LumA\"}, {\"PC1\": 0.3364685472176302, \"PC2\": -0.34741632884986845, \"Subtype\": \"LumB\"}, {\"PC1\": -3.862976193153611, \"PC2\": -2.434504499077056, \"Subtype\": \"Normal Like\"}, {\"PC1\": -3.9495438332731223, \"PC2\": -3.948675908883799, \"Subtype\": \"Normal Like\"}, {\"PC1\": -3.0109271991400495, \"PC2\": 4.448060580278575, \"Subtype\": \"Basal\"}, {\"PC1\": 0.6226873703890318, \"PC2\": -3.458856263513174, \"Subtype\": \"HER2+\"}, {\"PC1\": -3.187223232424953, \"PC2\": -0.7852664975856914, \"Subtype\": \"LumA\"}, {\"PC1\": -8.421994569996011, \"PC2\": -0.31402147408217923, \"Subtype\": \"LumA\"}, {\"PC1\": 4.344953140438803, \"PC2\": -1.6027894991109093, \"Subtype\": \"LumB\"}, {\"PC1\": -7.858021455929739, \"PC2\": -2.24427028755656, \"Subtype\": \"Normal\"}, {\"PC1\": 6.307413815351462, \"PC2\": -5.107310131484139, \"Subtype\": \"LumB\"}, {\"PC1\": -7.217757410372418, \"PC2\": -1.414091679365943, \"Subtype\": \"Normal\"}, {\"PC1\": -8.24592367836211, \"PC2\": -0.5141082982626082, \"Subtype\": \"Normal\"}, {\"PC1\": -2.4888264357863963, \"PC2\": -1.6841799711194951, \"Subtype\": \"LumA\"}, {\"PC1\": 1.3305186111939384, \"PC2\": 3.4928701897210095, \"Subtype\": \"Basal\"}, {\"PC1\": 2.1282676090566666, \"PC2\": -1.4085379416208081, \"Subtype\": \"Basal\"}, {\"PC1\": -4.03103564090012, \"PC2\": -1.1662880532219397, \"Subtype\": \"Normal Like\"}, {\"PC1\": -7.697378236372564, \"PC2\": 4.996061070309736, \"Subtype\": \"LumA\"}, {\"PC1\": -4.384705261022075, \"PC2\": -2.7394024977151186, \"Subtype\": \"HER2+\"}, {\"PC1\": -1.1167131150112395, \"PC2\": -2.5577080785359505, \"Subtype\": \"Basal\"}, {\"PC1\": 2.7031714213065627, \"PC2\": 11.543243328422154, \"Subtype\": \"Basal\"}, {\"PC1\": 0.4646190005871829, \"PC2\": -1.0435025890688965, \"Subtype\": \"Basal\"}, {\"PC1\": -10.76904211706012, \"PC2\": -0.6911452714765798, \"Subtype\": \"Normal\"}, {\"PC1\": -3.677435296434215, \"PC2\": -1.8165019972965248, \"Subtype\": \"LumB\"}, {\"PC1\": 1.15272030297222, \"PC2\": -1.1674385547841262, \"Subtype\": \"LumA\"}, {\"PC1\": -7.923234330243906, \"PC2\": -1.0101371253133757, \"Subtype\": \"LumA\"}, {\"PC1\": -6.527382452723156, \"PC2\": -0.28357079316271927, \"Subtype\": \"LumA\"}, {\"PC1\": -3.7594320528995118, \"PC2\": -2.0607004299190934, \"Subtype\": \"LumA\"}, {\"PC1\": -9.480567870914465, \"PC2\": -0.18845243548301707, \"Subtype\": \"Normal Like\"}, {\"PC1\": -5.188823205682986, \"PC2\": -0.4515142806605313, \"Subtype\": \"HER2+\"}, {\"PC1\": -2.533173584780133, \"PC2\": -0.1003923569089096, \"Subtype\": \"LumA\"}, {\"PC1\": -8.365423020772885, \"PC2\": 5.08609752932462, \"Subtype\": \"LumB\"}, {\"PC1\": 1.8265948011038537, \"PC2\": -5.141203616052437, \"Subtype\": \"Normal Like\"}, {\"PC1\": -6.83049891428494, \"PC2\": -1.8518773725825686, \"Subtype\": \"LumA\"}, {\"PC1\": -1.7252728083040145, \"PC2\": -2.603742306336576, \"Subtype\": \"LumA\"}, {\"PC1\": -6.799451675968102, \"PC2\": -0.9457005061429088, \"Subtype\": \"LumA\"}, {\"PC1\": -4.371456067688267, \"PC2\": -2.3271512141720483, \"Subtype\": \"HER2+\"}, {\"PC1\": 0.31916773365221646, \"PC2\": 6.828867685788161, \"Subtype\": \"LumB\"}, {\"PC1\": -5.468233008136025, \"PC2\": -1.1768316088540003, \"Subtype\": \"Basal\"}, {\"PC1\": -5.656026127451646, \"PC2\": 0.1776514995446534, \"Subtype\": \"LumA\"}, {\"PC1\": -3.643011516718762, \"PC2\": -3.155878748964868, \"Subtype\": \"LumA\"}, {\"PC1\": -12.875183569282832, \"PC2\": -0.26814648677356895, \"Subtype\": \"Normal Like\"}, {\"PC1\": -0.6677032710235634, \"PC2\": 0.08963805541427339, \"Subtype\": \"Basal\"}, {\"PC1\": -0.2566622234410099, \"PC2\": -0.740623544425148, \"Subtype\": \"LumA\"}, {\"PC1\": 6.622755250105328, \"PC2\": -1.2693203718043564, \"Subtype\": \"HER2+\"}, {\"PC1\": -6.143675045273577, \"PC2\": -0.4046440275479913, \"Subtype\": \"LumB\"}, {\"PC1\": -10.726897568102352, \"PC2\": 0.2556668567476485, \"Subtype\": \"Normal\"}, {\"PC1\": 4.186332401460912, \"PC2\": -3.5027674791709296, \"Subtype\": \"Normal Like\"}, {\"PC1\": -5.090235440380246, \"PC2\": -1.4969101515926158, \"Subtype\": \"LumA\"}, {\"PC1\": -3.9522102750844166, \"PC2\": -1.0641495113172117, \"Subtype\": \"HER2+\"}, {\"PC1\": -5.415319326481202, \"PC2\": -1.0236754896845484, \"Subtype\": \"Basal\"}, {\"PC1\": -3.58475828482158, \"PC2\": -1.5141692724760323, \"Subtype\": \"LumB\"}, {\"PC1\": 1.485838725715183, \"PC2\": 5.37250933811729, \"Subtype\": \"LumB\"}, {\"PC1\": -0.7099595005157069, \"PC2\": -1.8045390345258603, \"Subtype\": \"LumA\"}, {\"PC1\": -3.605949358511916, \"PC2\": -1.0848996077582531, \"Subtype\": \"Basal\"}, {\"PC1\": -6.238582805857164, \"PC2\": -1.2682675149868678, \"Subtype\": \"LumA\"}, {\"PC1\": -2.5280157967362302, \"PC2\": -1.6332911505315846, \"Subtype\": \"LumB\"}, {\"PC1\": -2.941721275460517, \"PC2\": 2.729368094041033, \"Subtype\": \"Basal\"}, {\"PC1\": -2.786704001048683, \"PC2\": -1.629635855169114, \"Subtype\": \"LumA\"}, {\"PC1\": -3.113878146914849, \"PC2\": -3.5107213699635977, \"Subtype\": \"HER2+\"}, {\"PC1\": 5.587238714709355, \"PC2\": 6.809940316469594, \"Subtype\": \"LumB\"}, {\"PC1\": -0.14606080474565358, \"PC2\": -0.1899674484258471, \"Subtype\": \"LumB\"}, {\"PC1\": -7.853659104392724, \"PC2\": -0.29846567009691055, \"Subtype\": \"Normal Like\"}, {\"PC1\": -3.0477608506098774, \"PC2\": -1.421162899653541, \"Subtype\": \"LumA\"}, {\"PC1\": -9.777263516711125, \"PC2\": 0.2155709388903302, \"Subtype\": \"LumB\"}, {\"PC1\": -0.1975331675750696, \"PC2\": 2.1721130222390235, \"Subtype\": \"LumA\"}, {\"PC1\": -3.8684189552883566, \"PC2\": -0.678719052495384, \"Subtype\": \"LumB\"}, {\"PC1\": -10.371295620216197, \"PC2\": -0.9359233870584507, \"Subtype\": \"Normal\"}, {\"PC1\": 1.222481105568806, \"PC2\": 2.7806964062991533, \"Subtype\": \"LumA\"}, {\"PC1\": -2.9978119750936, \"PC2\": -2.175660866766179, \"Subtype\": \"LumA\"}, {\"PC1\": -0.7209580882060841, \"PC2\": -1.2374462463239084, \"Subtype\": \"LumB\"}, {\"PC1\": -10.80437826124714, \"PC2\": 0.7612822463627732, \"Subtype\": \"Basal\"}, {\"PC1\": -0.7561562281734697, \"PC2\": -1.6822149801914912, \"Subtype\": \"LumA\"}, {\"PC1\": 7.628794157914716, \"PC2\": 12.043419189419776, \"Subtype\": \"LumB\"}, {\"PC1\": -7.279518896410895, \"PC2\": -0.38917167610276043, \"Subtype\": \"LumA\"}, {\"PC1\": 8.246346309542295, \"PC2\": -4.301860145290529, \"Subtype\": \"HER2+\"}, {\"PC1\": 1.0870407145944443, \"PC2\": -4.436314480375979, \"Subtype\": \"Normal Like\"}, {\"PC1\": -2.711401598065135, \"PC2\": 0.21879230878974457, \"Subtype\": \"LumB\"}, {\"PC1\": -6.10795313357905, \"PC2\": -0.5931733245337685, \"Subtype\": \"LumA\"}, {\"PC1\": -8.837286527990791, \"PC2\": -0.5966502480888037, \"Subtype\": \"Basal\"}, {\"PC1\": 8.255508112816209, \"PC2\": 0.5020152135516663, \"Subtype\": \"LumA\"}, {\"PC1\": -0.34311396798888155, \"PC2\": -4.875435907184639, \"Subtype\": \"Basal\"}, {\"PC1\": -0.5892788275153169, \"PC2\": -2.539732403349072, \"Subtype\": \"HER2+\"}, {\"PC1\": -2.4936927604825394, \"PC2\": 0.0011994705000620122, \"Subtype\": \"Normal Like\"}, {\"PC1\": -0.03754321842601137, \"PC2\": -4.399148260728091, \"Subtype\": \"LumB\"}, {\"PC1\": -4.269472660039958, \"PC2\": -0.2830162081070843, \"Subtype\": \"LumB\"}, {\"PC1\": -7.043570583822052, \"PC2\": -2.2910411406746305, \"Subtype\": \"LumA\"}, {\"PC1\": 2.7597063126827956, \"PC2\": -0.432780494590036, \"Subtype\": \"LumB\"}, {\"PC1\": -9.703469484360841, \"PC2\": -0.5979015526366112, \"Subtype\": \"Normal Like\"}, {\"PC1\": -0.7111546297831952, \"PC2\": -2.7780063986734214, \"Subtype\": \"Basal\"}, {\"PC1\": -4.054406285137285, \"PC2\": -1.4607336555664532, \"Subtype\": \"LumA\"}, {\"PC1\": -3.3371767303139404, \"PC2\": 0.18610393218145566, \"Subtype\": \"LumA\"}, {\"PC1\": -9.972929351987382, \"PC2\": -1.2689347980932761, \"Subtype\": \"Normal Like\"}, {\"PC1\": -6.252935510545192, \"PC2\": -0.10804350609071896, \"Subtype\": \"LumA\"}, {\"PC1\": -4.914723602058603, \"PC2\": -2.6805023209433108, \"Subtype\": \"HER2+\"}, {\"PC1\": -0.6069929728284028, \"PC2\": -0.5149244953026555, \"Subtype\": \"LumA\"}, {\"PC1\": -2.434817758022981, \"PC2\": -0.5644011512624578, \"Subtype\": \"HER2+\"}, {\"PC1\": -3.6766914465255294, \"PC2\": 0.7012576772811724, \"Subtype\": \"LumA\"}, {\"PC1\": -0.6951517753397896, \"PC2\": -1.9198026403756916, \"Subtype\": \"Normal Like\"}, {\"PC1\": -6.946582496545647, \"PC2\": -2.6906021103759006, \"Subtype\": \"Normal Like\"}, {\"PC1\": -3.649103855951494, \"PC2\": -0.11255960792206789, \"Subtype\": \"Basal\"}, {\"PC1\": -8.037704676173949, \"PC2\": -0.6001600287637476, \"Subtype\": \"LumA\"}, {\"PC1\": 2.189585258454634, \"PC2\": 2.9865664588433045, \"Subtype\": \"HER2+\"}, {\"PC1\": 4.305480518195158, \"PC2\": 1.8588272852494445, \"Subtype\": \"LumA\"}, {\"PC1\": 6.612388897063346, \"PC2\": -4.745498930441948, \"Subtype\": \"Basal\"}, {\"PC1\": -8.016834332428855, \"PC2\": -0.37937786053465045, \"Subtype\": \"LumA\"}, {\"PC1\": -5.272736951982238, \"PC2\": -1.0066511696500207, \"Subtype\": \"LumB\"}, {\"PC1\": 6.456294541219963, \"PC2\": 1.6418256926650319, \"Subtype\": \"LumA\"}, {\"PC1\": -11.296880101260493, \"PC2\": -0.4404161991877935, \"Subtype\": \"Normal\"}, {\"PC1\": -4.432916430743295, \"PC2\": -0.6355954356251561, \"Subtype\": \"LumB\"}, {\"PC1\": -11.20041851072353, \"PC2\": 0.5255847767501317, \"Subtype\": \"Normal\"}, {\"PC1\": -6.284413730512146, \"PC2\": 0.012001337906618281, \"Subtype\": \"LumA\"}, {\"PC1\": -8.355155035792416, \"PC2\": -0.7411496592497548, \"Subtype\": \"LumA\"}, {\"PC1\": -4.043612329853346, \"PC2\": -1.1105753024954677, \"Subtype\": \"LumA\"}, {\"PC1\": -11.910626731221821, \"PC2\": 1.7225559856339452, \"Subtype\": \"LumB\"}, {\"PC1\": -4.944713828769882, \"PC2\": -1.8125822926572754, \"Subtype\": \"LumA\"}, {\"PC1\": 2.4246848801141487, \"PC2\": -3.8252145817044494, \"Subtype\": \"LumB\"}, {\"PC1\": -6.659414437759069, \"PC2\": -1.980767272650827, \"Subtype\": \"Basal\"}, {\"PC1\": 0.12367033784301673, \"PC2\": -1.6682237822000754, \"Subtype\": \"Basal\"}, {\"PC1\": 5.991875073329841, \"PC2\": -3.159467085417162, \"Subtype\": \"LumB\"}, {\"PC1\": -9.485965419776685, \"PC2\": -0.6973359487917136, \"Subtype\": \"Normal Like\"}, {\"PC1\": -5.321152074055617, \"PC2\": 1.3725994611257977, \"Subtype\": \"Basal\"}, {\"PC1\": -7.383014339991956, \"PC2\": -1.0285499414436108, \"Subtype\": \"Normal Like\"}, {\"PC1\": -5.702519503079817, \"PC2\": -1.4125955154244842, \"Subtype\": \"LumA\"}, {\"PC1\": -0.22532238526222978, \"PC2\": 3.4573704586333944, \"Subtype\": \"HER2+\"}, {\"PC1\": 2.817331325412726, \"PC2\": 9.578206400619225, \"Subtype\": \"LumB\"}, {\"PC1\": -2.4727775441197166, \"PC2\": 0.3604106367452329, \"Subtype\": \"LumA\"}, {\"PC1\": -0.12343029406652113, \"PC2\": -4.270779487243145, \"Subtype\": \"LumA\"}, {\"PC1\": 0.37788653853595117, \"PC2\": -4.502405820115631, \"Subtype\": \"LumA\"}, {\"PC1\": -0.9726843941995359, \"PC2\": 2.386776933404722, \"Subtype\": \"LumA\"}, {\"PC1\": 0.09467488342475745, \"PC2\": 0.004901823242793657, \"Subtype\": \"LumA\"}, {\"PC1\": -6.626500590397488, \"PC2\": 0.33192772551754324, \"Subtype\": \"HER2+\"}, {\"PC1\": -2.0972173664215736, \"PC2\": -0.8387764632558697, \"Subtype\": \"HER2+\"}, {\"PC1\": 8.180143652667349, \"PC2\": 4.332747161305169, \"Subtype\": \"LumA\"}, {\"PC1\": 1.9118592209237, \"PC2\": 0.676572712860471, \"Subtype\": \"LumA\"}, {\"PC1\": 2.2466493594358563, \"PC2\": -2.4086279892510496, \"Subtype\": \"HER2+\"}, {\"PC1\": -2.213380342216976, \"PC2\": -1.4139638845748332, \"Subtype\": \"HER2+\"}, {\"PC1\": -1.0542576531894743, \"PC2\": 0.34920299303136093, \"Subtype\": \"LumB\"}, {\"PC1\": -1.4138759949731359, \"PC2\": -3.1017356101847646, \"Subtype\": \"Basal\"}, {\"PC1\": -0.9158637547619507, \"PC2\": -0.892381561743976, \"Subtype\": \"Basal\"}, {\"PC1\": -3.271196653331836, \"PC2\": 0.12994614414728406, \"Subtype\": \"LumB\"}, {\"PC1\": -7.806342235425721, \"PC2\": -1.6728136981497275, \"Subtype\": \"Normal\"}, {\"PC1\": 3.202981583629132, \"PC2\": 5.811403949004971, \"Subtype\": \"LumB\"}, {\"PC1\": -11.648978407152137, \"PC2\": 0.559674410583663, \"Subtype\": \"Basal\"}, {\"PC1\": 0.287889481339579, \"PC2\": -4.253434239020236, \"Subtype\": \"Normal Like\"}, {\"PC1\": -7.553314278330271, \"PC2\": -1.6077882637217016, \"Subtype\": \"Normal Like\"}, {\"PC1\": -3.7466000810046562, \"PC2\": -1.3459260629490823, \"Subtype\": \"LumA\"}, {\"PC1\": -5.894490642413862, \"PC2\": -0.11900945659105747, \"Subtype\": \"LumA\"}, {\"PC1\": 5.158554214313588, \"PC2\": 8.760844137958662, \"Subtype\": \"LumB\"}, {\"PC1\": 0.3888945847459464, \"PC2\": -2.6474854241170713, \"Subtype\": \"HER2+\"}, {\"PC1\": -3.1234992999815128, \"PC2\": -2.1122416053123754, \"Subtype\": \"LumB\"}, {\"PC1\": -8.548052123661996, \"PC2\": -1.336713982654668, \"Subtype\": \"Normal Like\"}, {\"PC1\": 1.098468375485646, \"PC2\": -2.4531217388736253, \"Subtype\": \"LumB\"}, {\"PC1\": -8.507496665047517, \"PC2\": -0.6042784225899666, \"Subtype\": \"Normal\"}, {\"PC1\": -7.189192367839278, \"PC2\": 0.9597427565168738, \"Subtype\": \"LumB\"}, {\"PC1\": 5.8002927828159185, \"PC2\": -2.011186819863536, \"Subtype\": \"LumB\"}, {\"PC1\": 2.3927949279052965, \"PC2\": -1.7352958611858578, \"Subtype\": \"LumB\"}, {\"PC1\": -3.7484063451614076, \"PC2\": -0.7064313861451386, \"Subtype\": \"LumA\"}, {\"PC1\": -6.529221967305323, \"PC2\": -0.8245056947556488, \"Subtype\": \"LumA\"}, {\"PC1\": -2.2403143283067215, \"PC2\": -1.0289420612090239, \"Subtype\": \"LumA\"}, {\"PC1\": -0.617765617672057, \"PC2\": 0.059044952933538244, \"Subtype\": \"LumA\"}, {\"PC1\": 2.2996361444066893, \"PC2\": -4.045959711406015, \"Subtype\": \"HER2+\"}, {\"PC1\": -11.085613532055262, \"PC2\": 2.7309877072538398, \"Subtype\": \"LumB\"}, {\"PC1\": -10.604391694855034, \"PC2\": 0.0009586848586813917, \"Subtype\": \"Normal\"}, {\"PC1\": -2.118271254988849, \"PC2\": -2.6614964421044096, \"Subtype\": \"Basal\"}, {\"PC1\": -5.944683525046048, \"PC2\": 0.690877056333184, \"Subtype\": \"LumA\"}, {\"PC1\": 1.6735672585109547, \"PC2\": -1.1960118070009202, \"Subtype\": \"LumB\"}, {\"PC1\": -4.423165462821548, \"PC2\": -0.03402952340877566, \"Subtype\": \"HER2+\"}, {\"PC1\": -7.12476939660163, \"PC2\": -0.08233346110081223, \"Subtype\": \"Normal Like\"}, {\"PC1\": -2.780299316209009, \"PC2\": -0.28927684051605174, \"Subtype\": \"LumA\"}, {\"PC1\": 2.6761771772331002, \"PC2\": -0.30946270263562775, \"Subtype\": \"LumB\"}, {\"PC1\": -2.7341064297842754, \"PC2\": -1.9412807319450687, \"Subtype\": \"HER2+\"}, {\"PC1\": 4.549654410105804, \"PC2\": -5.771227651688141, \"Subtype\": \"HER2+\"}, {\"PC1\": -9.493040531929518, \"PC2\": -1.1845506927476226, \"Subtype\": \"Normal\"}, {\"PC1\": -3.7395836041305035, \"PC2\": 0.13800152410625308, \"Subtype\": \"LumB\"}, {\"PC1\": -7.3513559165308635, \"PC2\": -0.7407149538677823, \"Subtype\": \"Normal Like\"}, {\"PC1\": -8.186554314983557, \"PC2\": -1.6164215158254396, \"Subtype\": \"Normal\"}, {\"PC1\": 0.21690347255022435, \"PC2\": -1.602405014682312, \"Subtype\": \"LumA\"}, {\"PC1\": -3.01649546065287, \"PC2\": -0.09526852616370025, \"Subtype\": \"Basal\"}, {\"PC1\": 0.6867985466443775, \"PC2\": -1.392342659832314, \"Subtype\": \"Basal\"}, {\"PC1\": -8.459449545368207, \"PC2\": 2.1539368304478286, \"Subtype\": \"LumB\"}, {\"PC1\": -8.798267010340645, \"PC2\": -1.2833901935295782, \"Subtype\": \"Normal Like\"}, {\"PC1\": -8.785041855590283, \"PC2\": 3.0948487418603015, \"Subtype\": \"LumB\"}, {\"PC1\": 14.960750446084406, \"PC2\": 6.453174313194511, \"Subtype\": \"LumB\"}, {\"PC1\": -0.7830494951702467, \"PC2\": -4.414470514988642, \"Subtype\": \"HER2+\"}, {\"PC1\": -1.2460637593543584, \"PC2\": 0.1837402120443562, \"Subtype\": \"LumA\"}, {\"PC1\": -2.339547407565816, \"PC2\": -0.7181006164280282, \"Subtype\": \"LumA\"}, {\"PC1\": -0.7392358601587696, \"PC2\": -1.3314919594064498, \"Subtype\": \"Basal\"}, {\"PC1\": -5.570008561461118, \"PC2\": 0.6888924994762462, \"Subtype\": \"Basal\"}, {\"PC1\": -2.6527857591068926, \"PC2\": -1.7757610353750248, \"Subtype\": \"LumA\"}, {\"PC1\": 5.368972566780434, \"PC2\": -0.785124932545501, \"Subtype\": \"HER2+\"}, {\"PC1\": -10.490949642999325, \"PC2\": -0.0889311572086627, \"Subtype\": \"Normal\"}, {\"PC1\": -3.031332515955446, \"PC2\": 0.8121519690666519, \"Subtype\": \"LumB\"}, {\"PC1\": 3.086110827981078, \"PC2\": -3.492959314111071, \"Subtype\": \"Basal\"}, {\"PC1\": -1.4631419875349039, \"PC2\": -0.04472240843886096, \"Subtype\": \"LumB\"}, {\"PC1\": -4.856387292784677, \"PC2\": -2.785650398747476, \"Subtype\": \"LumA\"}, {\"PC1\": 2.377536167539571, \"PC2\": 4.981324134825821, \"Subtype\": \"Normal Like\"}, {\"PC1\": -0.2529035992727426, \"PC2\": -3.9411789103888633, \"Subtype\": \"LumA\"}, {\"PC1\": -0.47155958872707116, \"PC2\": 2.1541017618985587, \"Subtype\": \"Basal\"}, {\"PC1\": 4.75964130832715, \"PC2\": -4.02049364512587, \"Subtype\": \"LumB\"}, {\"PC1\": -1.2242152392682781, \"PC2\": -0.8074786588872424, \"Subtype\": \"LumA\"}, {\"PC1\": -6.3799010603430135, \"PC2\": -0.26638779911455546, \"Subtype\": \"Basal\"}, {\"PC1\": -5.952612844373243, \"PC2\": -1.2441309770071993, \"Subtype\": \"LumB\"}, {\"PC1\": -5.672574171579451, \"PC2\": -0.9047527916636681, \"Subtype\": \"LumA\"}, {\"PC1\": 3.3327060087748346, \"PC2\": -2.7057659992370464, \"Subtype\": \"Basal\"}, {\"PC1\": -7.534617334925477, \"PC2\": -0.09903543423942462, \"Subtype\": \"Normal Like\"}, {\"PC1\": 9.992847530978755, \"PC2\": -0.6904102290024402, \"Subtype\": \"LumB\"}, {\"PC1\": 3.145843790268859, \"PC2\": -2.2420061222558214, \"Subtype\": \"Basal\"}, {\"PC1\": -6.279140658226213, \"PC2\": -1.697074211099503, \"Subtype\": \"LumA\"}, {\"PC1\": 0.3923282358400392, \"PC2\": -2.1665144150941202, \"Subtype\": \"LumB\"}, {\"PC1\": -0.616711617532437, \"PC2\": -2.2667680096690703, \"Subtype\": \"LumA\"}, {\"PC1\": 4.931618116913221, \"PC2\": -2.4761615042711584, \"Subtype\": \"LumB\"}, {\"PC1\": 0.5745065465832836, \"PC2\": -2.589637657824288, \"Subtype\": \"LumA\"}, {\"PC1\": -6.309895723960977, \"PC2\": 2.195713294651138, \"Subtype\": \"LumB\"}, {\"PC1\": -8.068328833099521, \"PC2\": -0.6449795183516063, \"Subtype\": \"LumA\"}, {\"PC1\": -8.558651094595383, \"PC2\": -0.5695001433834824, \"Subtype\": \"Normal Like\"}, {\"PC1\": -0.6850061429087131, \"PC2\": -0.16786314645829942, \"Subtype\": \"LumA\"}, {\"PC1\": -5.915682711886139, \"PC2\": -1.0259046819721265, \"Subtype\": \"LumB\"}, {\"PC1\": -3.3474583939382314, \"PC2\": -3.7581436169269695, \"Subtype\": \"HER2+\"}, {\"PC1\": -4.082742477625726, \"PC2\": 2.9618944675300165, \"Subtype\": \"LumA\"}, {\"PC1\": -1.920024151113398, \"PC2\": -0.80765481363971, \"Subtype\": \"LumA\"}, {\"PC1\": 2.4464220357015662, \"PC2\": 1.0496459854944302, \"Subtype\": \"LumB\"}, {\"PC1\": -2.981795586566386, \"PC2\": -0.8153378766823797, \"Subtype\": \"LumB\"}, {\"PC1\": -2.098587776784959, \"PC2\": 0.26140766138118016, \"Subtype\": \"HER2+\"}, {\"PC1\": -2.0744501412281604, \"PC2\": -4.828156651161483, \"Subtype\": \"LumB\"}, {\"PC1\": -9.50983443016994, \"PC2\": -0.4130379503852066, \"Subtype\": \"LumA\"}, {\"PC1\": -6.603841857883678, \"PC2\": -1.1021138795498528, \"Subtype\": \"LumA\"}, {\"PC1\": 7.101952622189576, \"PC2\": -1.2179882806125775, \"Subtype\": \"LumB\"}, {\"PC1\": -5.223692424547891, \"PC2\": -3.2127776994282526, \"Subtype\": \"LumB\"}, {\"PC1\": -4.385867467408924, \"PC2\": -2.066756835390518, \"Subtype\": \"LumA\"}, {\"PC1\": -9.41456783268476, \"PC2\": -1.4310382181969943, \"Subtype\": \"Normal\"}, {\"PC1\": -2.4926203565090708, \"PC2\": -2.040688835571099, \"Subtype\": \"HER2+\"}, {\"PC1\": -5.867197192849137, \"PC2\": -2.509920665885802, \"Subtype\": \"LumA\"}, {\"PC1\": 7.863365418719168, \"PC2\": 0.26716442011437286, \"Subtype\": \"HER2+\"}, {\"PC1\": 2.3247844250359053, \"PC2\": -5.556655785163738, \"Subtype\": \"LumB\"}, {\"PC1\": 1.2625299532170655, \"PC2\": -4.538141008531004, \"Subtype\": \"HER2+\"}, {\"PC1\": -2.408296978423082, \"PC2\": 0.500100451196541, \"Subtype\": \"LumA\"}, {\"PC1\": -0.25107543199170035, \"PC2\": 0.6493426402734075, \"Subtype\": \"LumA\"}, {\"PC1\": -3.622723729142608, \"PC2\": -0.9042367007696892, \"Subtype\": \"LumA\"}, {\"PC1\": 1.91199328899216, \"PC2\": 11.908661784979886, \"Subtype\": \"LumB\"}, {\"PC1\": -4.833069613096972, \"PC2\": -3.193672781442839, \"Subtype\": \"Normal Like\"}, {\"PC1\": -11.075316872079348, \"PC2\": -0.7574409343920029, \"Subtype\": \"Normal\"}, {\"PC1\": -5.06888863222601, \"PC2\": -1.5133959919567233, \"Subtype\": \"LumA\"}, {\"PC1\": -3.2242172795484594, \"PC2\": -2.153232268953427, \"Subtype\": \"LumA\"}, {\"PC1\": -4.152776293567786, \"PC2\": -2.4514436777929522, \"Subtype\": \"LumA\"}, {\"PC1\": -8.349940294144618, \"PC2\": -1.0435876285861456, \"Subtype\": \"Normal Like\"}, {\"PC1\": 3.130827499805432, \"PC2\": 2.282215853941772, \"Subtype\": \"LumB\"}, {\"PC1\": -4.78871290935967, \"PC2\": -0.738190444903509, \"Subtype\": \"LumB\"}, {\"PC1\": -2.586764637649678, \"PC2\": -1.1254689508208133, \"Subtype\": \"LumB\"}, {\"PC1\": -8.611353543708757, \"PC2\": -1.9311828030497702, \"Subtype\": \"Normal\"}, {\"PC1\": -1.7603917583851978, \"PC2\": -1.0360390413791591, \"Subtype\": \"Basal\"}, {\"PC1\": -1.6331034503059105, \"PC2\": -4.062852588285423, \"Subtype\": \"Basal\"}, {\"PC1\": -7.57073269156739, \"PC2\": -1.1867824112007204, \"Subtype\": \"Basal\"}, {\"PC1\": -7.677161483676357, \"PC2\": 0.290151888177067, \"Subtype\": \"LumA\"}, {\"PC1\": -5.460853949001023, \"PC2\": 0.22888878774785956, \"Subtype\": \"Basal\"}, {\"PC1\": -7.061235748135104, \"PC2\": 3.5043165519167347, \"Subtype\": \"Basal\"}, {\"PC1\": -0.9085428071411382, \"PC2\": -1.2453447088165408, \"Subtype\": \"Basal\"}, {\"PC1\": -9.28525067896984, \"PC2\": -0.26063563883062496, \"Subtype\": \"LumA\"}, {\"PC1\": 6.056693930717094, \"PC2\": -1.9317021513606087, \"Subtype\": \"Basal\"}, {\"PC1\": -7.776864536848231, \"PC2\": 0.458874769639855, \"Subtype\": \"Basal\"}, {\"PC1\": 2.130691341261248, \"PC2\": -1.148449284516423, \"Subtype\": \"LumB\"}, {\"PC1\": -4.5442562463246645, \"PC2\": -0.5048384797987702, \"Subtype\": \"LumB\"}, {\"PC1\": 3.989339752732364, \"PC2\": -2.49547130763149, \"Subtype\": \"LumB\"}, {\"PC1\": 1.248069842497801, \"PC2\": -1.515085370955881, \"Subtype\": \"Basal\"}, {\"PC1\": 0.9000838804812579, \"PC2\": 1.271740416204935, \"Subtype\": \"LumB\"}, {\"PC1\": -4.497804213522922, \"PC2\": -0.6937717365385869, \"Subtype\": \"Normal Like\"}, {\"PC1\": -7.134644536580139, \"PC2\": -0.9034732184877109, \"Subtype\": \"HER2+\"}, {\"PC1\": -2.084852662770063, \"PC2\": 0.11169821058252422, \"Subtype\": \"HER2+\"}, {\"PC1\": -3.424429877000781, \"PC2\": -0.9198084222665233, \"Subtype\": \"LumA\"}, {\"PC1\": 3.247198868866249, \"PC2\": -3.667455001290077, \"Subtype\": \"LumA\"}, {\"PC1\": 1.9592790029893985, \"PC2\": 0.8483930818991628, \"Subtype\": \"LumB\"}, {\"PC1\": -2.7008408137314124, \"PC2\": 3.3086141763870147, \"Subtype\": \"LumA\"}, {\"PC1\": -7.961335792616794, \"PC2\": -2.210137373753558, \"Subtype\": \"Normal Like\"}, {\"PC1\": -9.617730209208256, \"PC2\": -1.7346060385150008, \"Subtype\": \"Normal\"}, {\"PC1\": -1.7555406596773835, \"PC2\": -0.7703376255394456, \"Subtype\": \"Basal\"}, {\"PC1\": -3.4795223413866117, \"PC2\": 5.842567088398423, \"Subtype\": \"LumA\"}, {\"PC1\": -6.017907919057241, \"PC2\": -0.7340262440490298, \"Subtype\": \"LumA\"}, {\"PC1\": -5.437731094920863, \"PC2\": 0.6426059060265852, \"Subtype\": \"LumA\"}, {\"PC1\": -4.023624848863826, \"PC2\": -3.9898908275936806, \"Subtype\": \"LumA\"}, {\"PC1\": -7.393218464096194, \"PC2\": -0.9821707873418418, \"Subtype\": \"Normal Like\"}, {\"PC1\": -2.5426018909043364, \"PC2\": 0.358499259035375, \"Subtype\": \"LumA\"}, {\"PC1\": -4.487633319033851, \"PC2\": -2.4781673975162146, \"Subtype\": \"LumA\"}, {\"PC1\": 0.3635028759449736, \"PC2\": -2.5534400390400416, \"Subtype\": \"Basal\"}, {\"PC1\": 6.726097648534287, \"PC2\": -0.5923938666006741, \"Subtype\": \"LumB\"}, {\"PC1\": -9.204110697698534, \"PC2\": -1.0336997997299189, \"Subtype\": \"Normal Like\"}, {\"PC1\": 5.51198826579998, \"PC2\": 0.7434264655888222, \"Subtype\": \"LumA\"}, {\"PC1\": -7.811161911779365, \"PC2\": -0.2978027836763916, \"Subtype\": \"Normal\"}, {\"PC1\": -2.280938249876514, \"PC2\": -2.8861888622344654, \"Subtype\": \"Basal\"}, {\"PC1\": 0.02161385517487008, \"PC2\": -5.378706793703438, \"Subtype\": \"LumA\"}, {\"PC1\": -5.097012071551384, \"PC2\": -0.2714343812353172, \"Subtype\": \"LumA\"}, {\"PC1\": -10.501306297263712, \"PC2\": -0.7422384521398142, \"Subtype\": \"Normal\"}, {\"PC1\": 0.6979000456844773, \"PC2\": 0.4308176911672864, \"Subtype\": \"LumB\"}, {\"PC1\": 8.779750935420338, \"PC2\": -2.9663624686687613, \"Subtype\": \"LumB\"}, {\"PC1\": -6.943333727499665, \"PC2\": -0.16352079461546318, \"Subtype\": \"LumA\"}, {\"PC1\": -4.230440342889874, \"PC2\": 0.8274737275865828, \"Subtype\": \"LumA\"}, {\"PC1\": 4.908261960037442, \"PC2\": -3.1743751955045836, \"Subtype\": \"Basal\"}, {\"PC1\": 4.597821513427283, \"PC2\": -4.154512629835877, \"Subtype\": \"Normal Like\"}, {\"PC1\": -3.6291192588220507, \"PC2\": -1.3321880870639229, \"Subtype\": \"LumA\"}, {\"PC1\": 0.5555113343183415, \"PC2\": -3.5309371481464433, \"Subtype\": \"Normal Like\"}, {\"PC1\": -7.277992740529827, \"PC2\": -1.897979411240858, \"Subtype\": \"Basal\"}, {\"PC1\": -5.572239397961619, \"PC2\": -0.1768347794620602, \"Subtype\": \"LumB\"}, {\"PC1\": 3.0145218616869895, \"PC2\": -2.324517083681894, \"Subtype\": \"LumB\"}, {\"PC1\": -5.069946693657439, \"PC2\": -1.2017028802756673, \"Subtype\": \"LumA\"}, {\"PC1\": 3.9355856512805105, \"PC2\": -0.4916664512612971, \"Subtype\": \"HER2+\"}, {\"PC1\": -4.086915135538756, \"PC2\": -5.610334403418256, \"Subtype\": \"HER2+\"}, {\"PC1\": -0.8887848415785085, \"PC2\": -0.4788451206783326, \"Subtype\": \"Normal Like\"}, {\"PC1\": -3.4942896094301483, \"PC2\": 5.790345051786584, \"Subtype\": \"LumA\"}, {\"PC1\": -4.1845992118664, \"PC2\": -2.767658734503573, \"Subtype\": \"LumA\"}, {\"PC1\": -0.4515034924608448, \"PC2\": -3.7746329472002134, \"Subtype\": \"LumB\"}, {\"PC1\": -8.35527411520748, \"PC2\": -1.1582537575055079, \"Subtype\": \"Normal\"}, {\"PC1\": -3.0000174813818083, \"PC2\": -1.6221285216659782, \"Subtype\": \"LumB\"}, {\"PC1\": -7.131325165530231, \"PC2\": 0.5158706829741121, \"Subtype\": \"LumB\"}, {\"PC1\": -3.7009571350971866, \"PC2\": -3.5420024853995953, \"Subtype\": \"Basal\"}, {\"PC1\": -8.4056147039557, \"PC2\": 0.16703605082269235, \"Subtype\": \"LumA\"}, {\"PC1\": 2.3134374539813494, \"PC2\": -2.6584338658055238, \"Subtype\": \"HER2+\"}, {\"PC1\": -7.205231878785782, \"PC2\": -1.1647567845157607, \"Subtype\": \"LumA\"}, {\"PC1\": -4.943680940113576, \"PC2\": -0.2639121689277002, \"Subtype\": \"LumA\"}, {\"PC1\": -8.929363794607651, \"PC2\": -1.4552010358513412, \"Subtype\": \"Normal Like\"}, {\"PC1\": -4.373807955294433, \"PC2\": -0.7120164203631021, \"Subtype\": \"LumA\"}, {\"PC1\": 5.846852888358867, \"PC2\": 5.6403091533018355, \"Subtype\": \"LumB\"}, {\"PC1\": 2.0552765075900363, \"PC2\": -0.9864729976870915, \"Subtype\": \"Basal\"}, {\"PC1\": -4.189656952494679, \"PC2\": -0.13493786547019013, \"Subtype\": \"Normal Like\"}, {\"PC1\": 0.8075158450761004, \"PC2\": -5.177867966050952, \"Subtype\": \"LumA\"}, {\"PC1\": -4.446230999201646, \"PC2\": -0.977215652196041, \"Subtype\": \"HER2+\"}, {\"PC1\": -4.599390456453084, \"PC2\": 0.9129318850360245, \"Subtype\": \"HER2+\"}, {\"PC1\": -10.651015775816026, \"PC2\": -0.3268454058056757, \"Subtype\": \"Normal\"}, {\"PC1\": -6.96587307259995, \"PC2\": -2.162792865592646, \"Subtype\": \"Normal Like\"}, {\"PC1\": -2.045728606012641, \"PC2\": -0.12738453980150585, \"Subtype\": \"LumB\"}, {\"PC1\": -2.7830172712547716, \"PC2\": -1.2510515790959462, \"Subtype\": \"Normal Like\"}, {\"PC1\": -5.87153116674355, \"PC2\": -0.5533140139595407, \"Subtype\": \"LumA\"}, {\"PC1\": -6.095537213271912, \"PC2\": -1.2027594583857375, \"Subtype\": \"Basal\"}, {\"PC1\": -5.796019325100706, \"PC2\": 0.8590269788364379, \"Subtype\": \"HER2+\"}, {\"PC1\": -6.036899118097737, \"PC2\": -1.7989152474091694, \"Subtype\": \"Normal Like\"}, {\"PC1\": -5.408749083965525, \"PC2\": -1.4153575041658206, \"Subtype\": \"Normal Like\"}, {\"PC1\": 3.837132114163004, \"PC2\": 4.756414817819453, \"Subtype\": \"LumB\"}, {\"PC1\": -2.140077741489257, \"PC2\": -3.1978268247964663, \"Subtype\": \"HER2+\"}, {\"PC1\": -0.03524737694018476, \"PC2\": 3.8105073281579744, \"Subtype\": \"HER2+\"}, {\"PC1\": -10.038965173803565, \"PC2\": -1.883292627046141, \"Subtype\": \"Normal\"}, {\"PC1\": -2.6012840053682815, \"PC2\": -0.22849339514337727, \"Subtype\": \"LumB\"}, {\"PC1\": 4.434428796973756, \"PC2\": -3.340216604924095, \"Subtype\": \"HER2+\"}, {\"PC1\": -3.00597959894846, \"PC2\": -0.6653872340233735, \"Subtype\": \"LumB\"}, {\"PC1\": -3.330258535947292, \"PC2\": -1.6014119340255217, \"Subtype\": \"LumB\"}, {\"PC1\": -3.1041257512235494, \"PC2\": -3.958601225135754, \"Subtype\": \"LumB\"}, {\"PC1\": -4.818953896655084, \"PC2\": -1.293191968806038, \"Subtype\": \"Normal Like\"}, {\"PC1\": -2.3197468674936714, \"PC2\": -0.44455835963272455, \"Subtype\": \"LumA\"}, {\"PC1\": -7.497440844701728, \"PC2\": -1.1926893488784727, \"Subtype\": \"Normal Like\"}, {\"PC1\": -6.603187545494016, \"PC2\": -2.199724434184965, \"Subtype\": \"Normal Like\"}, {\"PC1\": 6.216536948429332, \"PC2\": -1.1990266202481812, \"Subtype\": \"LumB\"}, {\"PC1\": -10.712613183145452, \"PC2\": 0.6079172953997208, \"Subtype\": \"Basal\"}, {\"PC1\": -2.503906748300014, \"PC2\": -1.4919263165165002, \"Subtype\": \"Normal Like\"}, {\"PC1\": -3.4940105257017695, \"PC2\": 2.0161923288660253, \"Subtype\": \"LumA\"}, {\"PC1\": 0.9422291891109548, \"PC2\": -2.467371791501406, \"Subtype\": \"HER2+\"}, {\"PC1\": -6.403441922466262, \"PC2\": -1.0386049370940862, \"Subtype\": \"LumA\"}, {\"PC1\": -2.5323310261502723, \"PC2\": -0.3239826091582207, \"Subtype\": \"LumB\"}, {\"PC1\": -6.187918537333415, \"PC2\": -0.572487715267975, \"Subtype\": \"LumB\"}, {\"PC1\": -3.7671330153569724, \"PC2\": -0.9991759790997015, \"Subtype\": \"LumA\"}, {\"PC1\": -9.861416390224528, \"PC2\": -0.15304084679512292, \"Subtype\": \"Normal\"}, {\"PC1\": 2.4572153884945855, \"PC2\": 0.31287857765071997, \"Subtype\": \"LumB\"}, {\"PC1\": -1.771217513294502, \"PC2\": -0.5305844029935471, \"Subtype\": \"Basal\"}, {\"PC1\": 0.5125879622584755, \"PC2\": -1.440701843942478, \"Subtype\": \"LumB\"}, {\"PC1\": -8.780405989784175, \"PC2\": -2.149252866564378, \"Subtype\": \"LumB\"}, {\"PC1\": -4.299351201041323, \"PC2\": -2.781467508305033, \"Subtype\": \"LumA\"}, {\"PC1\": -5.297600418342703, \"PC2\": -1.1335790332352365, \"Subtype\": \"LumA\"}, {\"PC1\": 0.5146236053845883, \"PC2\": -4.784249910792904, \"Subtype\": \"Normal\"}, {\"PC1\": 5.087659103982214, \"PC2\": -0.6637455973254023, \"Subtype\": \"LumA\"}, {\"PC1\": -1.791410353492951, \"PC2\": 3.898499314779185, \"Subtype\": \"Basal\"}, {\"PC1\": 0.26226369929211807, \"PC2\": 0.6099509395619966, \"Subtype\": \"Basal\"}, {\"PC1\": -6.800098799342092, \"PC2\": -0.6774543635095425, \"Subtype\": \"LumB\"}, {\"PC1\": -10.486974584137812, \"PC2\": -0.5694216651569505, \"Subtype\": \"Normal Like\"}, {\"PC1\": -8.078993996293256, \"PC2\": -1.7216703951391317, \"Subtype\": \"Normal\"}, {\"PC1\": -8.846881498795428, \"PC2\": -0.45091922394521144, \"Subtype\": \"LumA\"}, {\"PC1\": 2.9761667448699822, \"PC2\": -2.407556735894696, \"Subtype\": \"LumB\"}, {\"PC1\": -5.802560172505767, \"PC2\": -1.0615962906499292, \"Subtype\": \"Normal\"}, {\"PC1\": 1.809306182602592, \"PC2\": -3.2521672809331466, \"Subtype\": \"LumA\"}, {\"PC1\": -2.913004415483127, \"PC2\": -3.707810548269134, \"Subtype\": \"LumA\"}, {\"PC1\": -0.27366659666687915, \"PC2\": 6.629967655404856, \"Subtype\": \"LumA\"}, {\"PC1\": -6.161191883718847, \"PC2\": -0.6649846921572263, \"Subtype\": \"LumA\"}, {\"PC1\": -1.4377603110860078, \"PC2\": 0.022416746210475395, \"Subtype\": \"LumA\"}, {\"PC1\": 2.8209989795944783, \"PC2\": 1.7433278634555294, \"Subtype\": \"LumB\"}, {\"PC1\": -2.033674090611902, \"PC2\": -0.18062007262738017, \"Subtype\": \"Basal\"}, {\"PC1\": 1.179301970765988, \"PC2\": 1.5877534605715735, \"Subtype\": \"LumB\"}, {\"PC1\": -5.193628132740263, \"PC2\": -0.34391798286449204, \"Subtype\": \"LumA\"}, {\"PC1\": -10.083099253684615, \"PC2\": -0.4412752233732101, \"Subtype\": \"LumA\"}, {\"PC1\": 1.357078042787002, \"PC2\": -1.3799409644113234, \"Subtype\": \"LumB\"}, {\"PC1\": -0.9019176269856785, \"PC2\": -0.9843811604634177, \"Subtype\": \"LumB\"}, {\"PC1\": -3.2872027023650148, \"PC2\": -1.0919440633387376, \"Subtype\": \"LumA\"}, {\"PC1\": -4.533828987072836, \"PC2\": -0.6431297861063655, \"Subtype\": \"LumB\"}, {\"PC1\": 7.461281941263025, \"PC2\": -2.797636169693762, \"Subtype\": \"Basal\"}, {\"PC1\": -9.605652728142308, \"PC2\": -0.15305137053413032, \"Subtype\": \"Basal\"}, {\"PC1\": -1.0552213047618642, \"PC2\": -4.332536790527155, \"Subtype\": \"LumA\"}, {\"PC1\": 1.4404447015640498, \"PC2\": -4.36134032591161, \"Subtype\": \"LumB\"}, {\"PC1\": 2.362588923622657, \"PC2\": -2.456665113425844, \"Subtype\": \"Basal\"}, {\"PC1\": -1.984493381726168, \"PC2\": -1.4483047802138136, \"Subtype\": \"LumA\"}, {\"PC1\": -2.585478008161464, \"PC2\": -0.9569956688208687, \"Subtype\": \"LumA\"}, {\"PC1\": 0.4671757410701252, \"PC2\": 0.7484501076305942, \"Subtype\": \"LumB\"}, {\"PC1\": -1.4055824984084282, \"PC2\": -1.4318274110530982, \"Subtype\": \"LumB\"}, {\"PC1\": -6.03452683142923, \"PC2\": -3.8749922701008788, \"Subtype\": \"HER2+\"}, {\"PC1\": -5.938332531509074, \"PC2\": -3.1419387911811714, \"Subtype\": \"Basal\"}, {\"PC1\": -1.080988942449856, \"PC2\": -2.16936514498852, \"Subtype\": \"LumA\"}, {\"PC1\": -5.528018789462496, \"PC2\": -0.1440165501172163, \"Subtype\": \"LumB\"}, {\"PC1\": 2.5767775078530955, \"PC2\": -3.8294139295328633, \"Subtype\": \"HER2+\"}, {\"PC1\": 1.1236414715844427, \"PC2\": 2.3937507137563996, \"Subtype\": \"LumB\"}, {\"PC1\": -6.284935886368912, \"PC2\": -1.9808147062179888, \"Subtype\": \"HER2+\"}, {\"PC1\": -7.435174183256913, \"PC2\": -0.11164096373535251, \"Subtype\": \"Basal\"}, {\"PC1\": -7.779857277669055, \"PC2\": -0.7940359189162898, \"Subtype\": \"Normal Like\"}, {\"PC1\": -3.4454455216174216, \"PC2\": -2.5989062127368543, \"Subtype\": \"LumB\"}, {\"PC1\": -9.76223481042795, \"PC2\": -0.8905715314542798, \"Subtype\": \"Normal\"}, {\"PC1\": -9.365824600927361, \"PC2\": -0.15122483665427586, \"Subtype\": \"LumA\"}, {\"PC1\": -10.79567853871343, \"PC2\": 0.13406280458396264, \"Subtype\": \"Normal Like\"}, {\"PC1\": -2.9639778718444916, \"PC2\": -0.8462602074982863, \"Subtype\": \"LumB\"}, {\"PC1\": -1.6321317640932202, \"PC2\": -2.0383921329223726, \"Subtype\": \"HER2+\"}, {\"PC1\": -5.277741086001492, \"PC2\": -0.5893397966069958, \"Subtype\": \"LumA\"}, {\"PC1\": -8.566328264730183, \"PC2\": -1.5260999200249619, \"Subtype\": \"Normal\"}, {\"PC1\": -1.002054979516522, \"PC2\": -2.5348495307846584, \"Subtype\": \"HER2+\"}, {\"PC1\": -6.095751491072766, \"PC2\": -2.9341470010498045, \"Subtype\": \"LumB\"}, {\"PC1\": 3.194422645376463, \"PC2\": -3.3116446163025604, \"Subtype\": \"HER2+\"}, {\"PC1\": -1.3966516618503948, \"PC2\": 3.666742608643834, \"Subtype\": \"Normal Like\"}, {\"PC1\": -9.864083837356265, \"PC2\": 0.2270581960409688, \"Subtype\": \"LumA\"}, {\"PC1\": -7.004689154359421, \"PC2\": -0.09419283126657506, \"Subtype\": \"Basal\"}, {\"PC1\": 1.2420699086090423, \"PC2\": -4.07733441768315, \"Subtype\": \"LumB\"}, {\"PC1\": -8.101185359509692, \"PC2\": -0.16816208320349924, \"Subtype\": \"Basal\"}, {\"PC1\": -2.4485506015381935, \"PC2\": -1.9338244597296987, \"Subtype\": \"LumA\"}, {\"PC1\": -4.272927544622495, \"PC2\": -0.6894504639907537, \"Subtype\": \"LumA\"}, {\"PC1\": -1.7128752502170805, \"PC2\": -1.0010818411943208, \"Subtype\": \"Normal Like\"}, {\"PC1\": -4.647969028936562, \"PC2\": -1.9528085100437127, \"Subtype\": \"LumA\"}, {\"PC1\": -1.2882032626263507, \"PC2\": -2.5627545536003025, \"Subtype\": \"HER2+\"}, {\"PC1\": -7.704933438304461, \"PC2\": -0.6135861614810129, \"Subtype\": \"LumA\"}, {\"PC1\": -3.662199221901737, \"PC2\": -1.667058889669933, \"Subtype\": \"LumA\"}, {\"PC1\": 1.136164827992191, \"PC2\": -3.575356957113683, \"Subtype\": \"LumB\"}, {\"PC1\": -6.887576923943195, \"PC2\": -0.03927903848170719, \"Subtype\": \"LumA\"}, {\"PC1\": -3.5954419676282114, \"PC2\": -1.4989394711342359, \"Subtype\": \"LumB\"}, {\"PC1\": -4.775029923449812, \"PC2\": -2.8801663212052295, \"Subtype\": \"LumA\"}, {\"PC1\": -3.2851565495849324, \"PC2\": -1.1245766194384783, \"Subtype\": \"LumA\"}, {\"PC1\": 5.669121737525538, \"PC2\": -0.2721316081256721, \"Subtype\": \"LumB\"}, {\"PC1\": 11.068220945374485, \"PC2\": 0.03452896623143574, \"Subtype\": \"LumB\"}, {\"PC1\": -8.154354537179247, \"PC2\": -0.591896500809335, \"Subtype\": \"LumB\"}, {\"PC1\": -0.9857463808321604, \"PC2\": -0.8205550455496918, \"Subtype\": \"HER2+\"}, {\"PC1\": -1.6795477605651894, \"PC2\": -0.32721010586577537, \"Subtype\": \"LumB\"}, {\"PC1\": -0.9279317239423459, \"PC2\": -4.629185597909432, \"Subtype\": \"HER2+\"}, {\"PC1\": 1.1113141795808743, \"PC2\": 3.502291978520991, \"Subtype\": \"LumB\"}, {\"PC1\": -2.33776157760102, \"PC2\": -1.0191524587169358, \"Subtype\": \"LumB\"}, {\"PC1\": 1.0855855807466521, \"PC2\": -3.9125538586826467, \"Subtype\": \"LumA\"}, {\"PC1\": -1.873069734638807, \"PC2\": -0.4625804747125921, \"Subtype\": \"LumB\"}, {\"PC1\": 1.0485171740957404, \"PC2\": -2.4734730969646512, \"Subtype\": \"LumB\"}, {\"PC1\": 10.108858128511486, \"PC2\": 1.0867461050575278, \"Subtype\": \"LumB\"}, {\"PC1\": -5.896906667859756, \"PC2\": 0.01137671871181029, \"Subtype\": \"LumA\"}, {\"PC1\": -4.420146849891726, \"PC2\": -4.1767834706365585, \"Subtype\": \"LumA\"}, {\"PC1\": -5.422146021770563, \"PC2\": -0.21561003849374102, \"Subtype\": \"LumA\"}, {\"PC1\": -4.505367132953087, \"PC2\": 1.108870643023637, \"Subtype\": \"HER2+\"}, {\"PC1\": 3.8767040346524304, \"PC2\": 1.5991896970856132, \"Subtype\": \"HER2+\"}, {\"PC1\": -3.499525899151077, \"PC2\": -1.3051563356931752, \"Subtype\": \"HER2+\"}, {\"PC1\": -9.62747655358832, \"PC2\": -1.7659681267395946, \"Subtype\": \"Normal\"}, {\"PC1\": 6.727292980028221, \"PC2\": 0.3422821143432385, \"Subtype\": \"LumB\"}, {\"PC1\": -3.8316256294796887, \"PC2\": 0.3892307753688719, \"Subtype\": \"HER2+\"}, {\"PC1\": -3.9992230801708293, \"PC2\": -1.4340023737725707, \"Subtype\": \"LumA\"}, {\"PC1\": 4.115120726084918, \"PC2\": -3.6010451115260187, \"Subtype\": \"LumB\"}, {\"PC1\": -2.0314626474589184, \"PC2\": -1.5062330036618066, \"Subtype\": \"LumA\"}, {\"PC1\": -5.745811514002393, \"PC2\": 1.3004523880383525, \"Subtype\": \"LumA\"}, {\"PC1\": 6.418860658878329, \"PC2\": 1.516321110896523, \"Subtype\": \"LumB\"}, {\"PC1\": -3.351815288882122, \"PC2\": -2.8016358562181973, \"Subtype\": \"LumB\"}, {\"PC1\": 5.461959521342719, \"PC2\": -1.6347732087974016, \"Subtype\": \"HER2+\"}, {\"PC1\": 4.164741834880105, \"PC2\": 0.9412249568238809, \"Subtype\": \"LumA\"}, {\"PC1\": -6.141782038253735, \"PC2\": -0.5023958186905345, \"Subtype\": \"LumA\"}, {\"PC1\": -1.0031491157841372, \"PC2\": 0.5741530105212265, \"Subtype\": \"LumB\"}, {\"PC1\": -5.776821046375751, \"PC2\": -2.630938827751094, \"Subtype\": \"LumA\"}, {\"PC1\": -6.297671357785345, \"PC2\": -0.8262710021912734, \"Subtype\": \"LumA\"}, {\"PC1\": -8.936113678102858, \"PC2\": -0.5585935381838293, \"Subtype\": \"Basal\"}, {\"PC1\": -8.162166981335606, \"PC2\": 0.12516688665474332, \"Subtype\": \"Normal Like\"}, {\"PC1\": -3.5418660627985803, \"PC2\": 1.4672218741334806, \"Subtype\": \"LumA\"}, {\"PC1\": 2.9134379127406245, \"PC2\": 2.622112114920826, \"Subtype\": \"LumB\"}, {\"PC1\": -6.158522096351957, \"PC2\": -0.9209839428284242, \"Subtype\": \"LumA\"}, {\"PC1\": 2.786914378107751, \"PC2\": 3.045736004278427, \"Subtype\": \"LumA\"}, {\"PC1\": 4.776390396531219, \"PC2\": -0.9812303280492273, \"Subtype\": \"HER2+\"}, {\"PC1\": -10.08831610054067, \"PC2\": -0.867749912464626, \"Subtype\": \"LumA\"}, {\"PC1\": -6.971969553611641, \"PC2\": -1.8471125850427654, \"Subtype\": \"HER2+\"}, {\"PC1\": -2.4859884567967234, \"PC2\": -0.08697144014542285, \"Subtype\": \"LumB\"}, {\"PC1\": -0.8922904452863973, \"PC2\": -1.9569961992948355, \"Subtype\": \"LumB\"}, {\"PC1\": -1.912181275773902, \"PC2\": -2.2541985183755666, \"Subtype\": \"LumA\"}, {\"PC1\": -6.943927288489911, \"PC2\": -0.6795624514875023, \"Subtype\": \"LumA\"}, {\"PC1\": 4.385594194903569, \"PC2\": 1.9298229483552263, \"Subtype\": \"HER2+\"}, {\"PC1\": -0.36203240780710544, \"PC2\": -1.8561382816280285, \"Subtype\": \"LumA\"}, {\"PC1\": -4.5635281516840775, \"PC2\": -1.0298479772168498, \"Subtype\": \"LumA\"}, {\"PC1\": -1.5508090832535935, \"PC2\": -2.645473114309528, \"Subtype\": \"LumA\"}, {\"PC1\": -1.9263831436814998, \"PC2\": -2.5611407432321527, \"Subtype\": \"HER2+\"}, {\"PC1\": -5.969256387906885, \"PC2\": -0.6145931924490873, \"Subtype\": \"LumB\"}, {\"PC1\": 2.1777792084790217, \"PC2\": -1.2225499875506114, \"Subtype\": \"Basal\"}, {\"PC1\": -10.37801706813155, \"PC2\": -1.0930582553939705, \"Subtype\": \"Normal\"}, {\"PC1\": -4.646081926382712, \"PC2\": -0.41107109263356534, \"Subtype\": \"LumA\"}, {\"PC1\": -3.1074126869034164, \"PC2\": -1.0684558677163465, \"Subtype\": \"LumA\"}, {\"PC1\": -6.052554320762054, \"PC2\": -0.7279886632060132, \"Subtype\": \"LumA\"}, {\"PC1\": -3.159021762819421, \"PC2\": -1.131459581114135, \"Subtype\": \"LumB\"}, {\"PC1\": -3.30730058920755, \"PC2\": -0.8020332563494537, \"Subtype\": \"LumB\"}, {\"PC1\": -7.860956703085615, \"PC2\": 0.17645943440852538, \"Subtype\": \"LumA\"}, {\"PC1\": -3.6697457375166023, \"PC2\": -1.0149134751045732, \"Subtype\": \"LumB\"}, {\"PC1\": -10.12736901956704, \"PC2\": -1.108236153594753, \"Subtype\": \"Normal\"}, {\"PC1\": 3.18886634320076, \"PC2\": 0.12553856835203944, \"Subtype\": \"LumA\"}, {\"PC1\": 1.2702528031465932, \"PC2\": -3.5010814811464597, \"Subtype\": \"LumB\"}, {\"PC1\": 0.5409604108131951, \"PC2\": -3.2650749468695874, \"Subtype\": \"LumB\"}, {\"PC1\": 1.178223070301738, \"PC2\": 1.4712558909694766, \"Subtype\": \"Basal\"}, {\"PC1\": 12.015464497303055, \"PC2\": -8.81694119408311, \"Subtype\": \"HER2+\"}, {\"PC1\": -4.926542676699092, \"PC2\": -0.8812781882889428, \"Subtype\": \"LumA\"}, {\"PC1\": -4.477239781652147, \"PC2\": -1.000657368938396, \"Subtype\": \"Basal\"}, {\"PC1\": -9.526634098360878, \"PC2\": -0.7386885957441367, \"Subtype\": \"LumA\"}, {\"PC1\": -3.5281028184551833, \"PC2\": -0.3600432043694995, \"Subtype\": \"LumA\"}, {\"PC1\": -8.04263450844073, \"PC2\": -0.5538239805576125, \"Subtype\": \"LumA\"}, {\"PC1\": -9.277768428303874, \"PC2\": -0.935158132181139, \"Subtype\": \"Normal\"}, {\"PC1\": -8.2953552921564, \"PC2\": -0.3300386781946023, \"Subtype\": \"Normal Like\"}, {\"PC1\": -1.557180006293896, \"PC2\": 0.2939748835057011, \"Subtype\": \"LumA\"}, {\"PC1\": -5.47474310168377, \"PC2\": -1.659145167857415, \"Subtype\": \"LumA\"}, {\"PC1\": -5.411084599580976, \"PC2\": -1.0984406029785607, \"Subtype\": \"Normal Like\"}, {\"PC1\": -6.993239972686351, \"PC2\": -1.0977621806458335, \"Subtype\": \"LumA\"}, {\"PC1\": -2.0242684987454376, \"PC2\": 1.033552976800541, \"Subtype\": \"LumA\"}, {\"PC1\": -5.725885241891792, \"PC2\": -1.7020997298069442, \"Subtype\": \"Normal Like\"}, {\"PC1\": -2.8871467035893943, \"PC2\": -6.289647000260204, \"Subtype\": \"HER2+\"}, {\"PC1\": 1.7163493883108092, \"PC2\": -5.046950917355879, \"Subtype\": \"HER2+\"}, {\"PC1\": -3.377620644468497, \"PC2\": -0.7978118218269827, \"Subtype\": \"Normal Like\"}, {\"PC1\": -8.55219048816745, \"PC2\": -1.2542315425927082, \"Subtype\": \"LumA\"}, {\"PC1\": -4.856917700707919, \"PC2\": -1.6367325605861516, \"Subtype\": \"LumA\"}, {\"PC1\": -5.828870641605942, \"PC2\": -1.7017107481353646, \"Subtype\": \"LumA\"}, {\"PC1\": 1.2684798643880104, \"PC2\": -3.9275370944345136, \"Subtype\": \"LumA\"}, {\"PC1\": -1.2057075597702585, \"PC2\": -0.2716513947053871, \"Subtype\": \"LumA\"}, {\"PC1\": -0.7568494806655698, \"PC2\": -2.4180573409344, \"Subtype\": \"Normal Like\"}, {\"PC1\": -4.264282525253444, \"PC2\": -0.6996653933422562, \"Subtype\": \"LumA\"}, {\"PC1\": -6.118554734293387, \"PC2\": -0.259343003810275, \"Subtype\": \"LumA\"}, {\"PC1\": -0.15602146973876238, \"PC2\": -3.5797843691217053, \"Subtype\": \"Normal Like\"}, {\"PC1\": -3.0161256513241637, \"PC2\": 0.2287396278263282, \"Subtype\": \"LumA\"}, {\"PC1\": -8.930999555664084, \"PC2\": -2.0815561744735036, \"Subtype\": \"Normal Like\"}, {\"PC1\": -4.210067852908005, \"PC2\": -0.5529351648418692, \"Subtype\": \"HER2+\"}, {\"PC1\": -5.430923407229829, \"PC2\": 0.12422732458744906, \"Subtype\": \"Normal Like\"}, {\"PC1\": -2.9543052265558454, \"PC2\": -0.8330005710361088, \"Subtype\": \"Basal\"}]}}, {\"mode\": \"vega-lite\"});\n",
       "</script>"
      ],
      "text/plain": [
       "alt.Chart(...)"
      ]
     },
     "execution_count": 26,
     "metadata": {},
     "output_type": "execute_result"
    }
   ],
   "source": [
    "import altair as alt\n",
    "alt.Chart(data_transformed).mark_circle(size=60).encode(\n",
    "    x='PC1',\n",
    "    y='PC2',\n",
    "    color='Subtype:N'\n",
    "    #tooltip=['Name', 'Origin', 'Horsepower', 'Miles_per_Gallon']\n",
    ")#.interactive()"
   ]
  },
  {
   "cell_type": "markdown",
   "metadata": {},
   "source": [
    "### Look at the genes individually"
   ]
  },
  {
   "cell_type": "code",
   "execution_count": null,
   "metadata": {},
   "outputs": [],
   "source": [
    "source = genes_df_scaled.join(df[['Subtype','target']]).melt(id_vars=['Subtype','target'])\n",
    "source.columns = [\"Subtype\",\"target\",\"Gene\",\"Value\"]\n",
    "counts = source.groupby('Subtype')['target'].count().to_frame()\n",
    "counts.columns = ['Count']\n",
    "source = source.set_index('Subtype').join(counts).reset_index()\n",
    "# use the url approach to keep notebook smaller\n",
    "url = 'Luminal_B_101_to_graph_fig1.json'\n",
    "pyknowledge.plot.prepare_url(source,url)\n",
    "source"
   ]
  },
  {
   "cell_type": "code",
   "execution_count": 26,
   "metadata": {},
   "outputs": [
    {
     "data": {
      "text/html": [
       "\n",
       "<div id=\"altair-viz-496b5907b79c42bd8a3e15c7a3f4bbfa\"></div>\n",
       "<script type=\"text/javascript\">\n",
       "  (function(spec, embedOpt){\n",
       "    let outputDiv = document.currentScript.previousElementSibling;\n",
       "    if (outputDiv.id !== \"altair-viz-496b5907b79c42bd8a3e15c7a3f4bbfa\") {\n",
       "      outputDiv = document.getElementById(\"altair-viz-496b5907b79c42bd8a3e15c7a3f4bbfa\");\n",
       "    }\n",
       "    const paths = {\n",
       "      \"vega\": \"https://cdn.jsdelivr.net/npm//vega@5?noext\",\n",
       "      \"vega-lib\": \"https://cdn.jsdelivr.net/npm//vega-lib?noext\",\n",
       "      \"vega-lite\": \"https://cdn.jsdelivr.net/npm//vega-lite@4.8.1?noext\",\n",
       "      \"vega-embed\": \"https://cdn.jsdelivr.net/npm//vega-embed@6?noext\",\n",
       "    };\n",
       "\n",
       "    function loadScript(lib) {\n",
       "      return new Promise(function(resolve, reject) {\n",
       "        var s = document.createElement('script');\n",
       "        s.src = paths[lib];\n",
       "        s.async = true;\n",
       "        s.onload = () => resolve(paths[lib]);\n",
       "        s.onerror = () => reject(`Error loading script: ${paths[lib]}`);\n",
       "        document.getElementsByTagName(\"head\")[0].appendChild(s);\n",
       "      });\n",
       "    }\n",
       "\n",
       "    function showError(err) {\n",
       "      outputDiv.innerHTML = `<div class=\"error\" style=\"color:red;\">${err}</div>`;\n",
       "      throw err;\n",
       "    }\n",
       "\n",
       "    function displayChart(vegaEmbed) {\n",
       "      vegaEmbed(outputDiv, spec, embedOpt)\n",
       "        .catch(err => showError(`Javascript Error: ${err.message}<br>This usually means there's a typo in your chart specification. See the javascript console for the full traceback.`));\n",
       "    }\n",
       "\n",
       "    if(typeof define === \"function\" && define.amd) {\n",
       "      requirejs.config({paths});\n",
       "      require([\"vega-embed\"], displayChart, err => showError(`Error loading script: ${err.message}`));\n",
       "    } else if (typeof vegaEmbed === \"function\") {\n",
       "      displayChart(vegaEmbed);\n",
       "    } else {\n",
       "      loadScript(\"vega\")\n",
       "        .then(() => loadScript(\"vega-lite\"))\n",
       "        .then(() => loadScript(\"vega-embed\"))\n",
       "        .catch(showError)\n",
       "        .then(() => displayChart(vegaEmbed));\n",
       "    }\n",
       "  })({\"config\": {\"view\": {\"continuousWidth\": 400, \"continuousHeight\": 300}}, \"data\": {\"url\": \"Luminal_B_101_to_graph_fig1\"}, \"mark\": {\"type\": \"area\", \"interpolate\": \"step\", \"opacity\": 0.3}, \"encoding\": {\"color\": {\"type\": \"nominal\", \"field\": \"Subtype\"}, \"row\": {\"type\": \"nominal\", \"field\": \"Gene\"}, \"x\": {\"type\": \"quantitative\", \"bin\": {\"maxbins\": 100}, \"field\": \"Value\"}, \"y\": {\"type\": \"quantitative\", \"aggregate\": \"sum\", \"axis\": {\"format\": \"%\"}, \"field\": \"pct\", \"stack\": null}}, \"transform\": [{\"calculate\": \"100 / datum.Count\", \"as\": \"pct\"}], \"$schema\": \"https://vega.github.io/schema/vega-lite/v4.8.1.json\"}, {\"mode\": \"vega-lite\"});\n",
       "</script>"
      ],
      "text/plain": [
       "alt.Chart(...)"
      ]
     },
     "execution_count": 26,
     "metadata": {},
     "output_type": "execute_result"
    }
   ],
   "source": [
    "pyknowledge.plot.histogram_1(url,'Value','Subtype','Gene')"
   ]
  },
  {
   "cell_type": "markdown",
   "metadata": {},
   "source": [
    "## Knowledge Overview\n",
    "These genes are deemed important based on previous research into the LuminalB subtype. The pattern is unspecified and is a set of genes. As previously mentioned, the relationship between pairs of samples is the input to the modified cross-entropy loss function. This requires defining a distance between samples. We define the distance as the number of the number of LumB genes within one standard deviation of one another."
   ]
  },
  {
   "cell_type": "code",
   "execution_count": 28,
   "metadata": {},
   "outputs": [],
   "source": [
    "# get us ready to parallize distance\n",
    "ncores = 7\n",
    "pair_ixs = pyknowledge.common.get_pair_inxs(df.shape[0])\n",
    "chunks_pair_ixs = list(pyknowledge.common.divide_chunks(pair_ixs,pyknowledge.common.calc_len_chunk(len(pair_ixs),ncores)))"
   ]
  },
  {
   "cell_type": "code",
   "execution_count": 29,
   "metadata": {},
   "outputs": [],
   "source": [
    "from joblib import Parallel, delayed"
   ]
  },
  {
   "cell_type": "code",
   "execution_count": 37,
   "metadata": {},
   "outputs": [],
   "source": [
    "helper = lambda distance_func: pd.concat(Parallel(n_jobs=-1)(delayed(pyknowledge.distance.chunk_distance)(genes_df_scaled,chunk,distance_func) for chunk in chunks_pair_ixs))"
   ]
  },
  {
   "cell_type": "code",
   "execution_count": 38,
   "metadata": {},
   "outputs": [],
   "source": [
    "DL1 = helper(pyknowledge.distance.L1)"
   ]
  },
  {
   "cell_type": "code",
   "execution_count": 39,
   "metadata": {},
   "outputs": [],
   "source": [
    "DL2 = helper(pyknowledge.distance.L2)"
   ]
  },
  {
   "cell_type": "code",
   "execution_count": 40,
   "metadata": {},
   "outputs": [],
   "source": [
    "DFSIGN = helper(pyknowledge.distance.FSIGN)"
   ]
  },
  {
   "cell_type": "code",
   "execution_count": 41,
   "metadata": {},
   "outputs": [
    {
     "data": {
      "text/plain": [
       "DataTransformerRegistry.enable('default')"
      ]
     },
     "execution_count": 41,
     "metadata": {},
     "output_type": "execute_result"
    }
   ],
   "source": [
    "alt.data_transformers.disable_max_rows()"
   ]
  },
  {
   "cell_type": "code",
   "execution_count": 43,
   "metadata": {},
   "outputs": [],
   "source": [
    "Ds = {'DL1':DL1,'DL2':DL2,'DFSIGN':DFSIGN}"
   ]
  },
  {
   "cell_type": "code",
   "execution_count": 44,
   "metadata": {},
   "outputs": [],
   "source": [
    "distances = {}\n",
    "for key in Ds.keys():\n",
    "    distances[key] = pd.DataFrame(list(Ds[key]['distance']),columns=[key],index=Ds[key].index)"
   ]
  },
  {
   "cell_type": "code",
   "execution_count": 46,
   "metadata": {},
   "outputs": [],
   "source": [
    "for key in distances.keys():\n",
    "    distances[key] = pyknowledge.distance.remove_self_ref(distances[key]).dropna()"
   ]
  },
  {
   "cell_type": "code",
   "execution_count": 50,
   "metadata": {},
   "outputs": [],
   "source": [
    "for key in distances.keys():\n",
    "    distances[key] = pyknowledge.common.add_labels(df,distances[key])"
   ]
  },
  {
   "cell_type": "code",
   "execution_count": 51,
   "metadata": {
    "scrolled": true
   },
   "outputs": [
    {
     "data": {
      "text/html": [
       "<div>\n",
       "<style scoped>\n",
       "    .dataframe tbody tr th:only-of-type {\n",
       "        vertical-align: middle;\n",
       "    }\n",
       "\n",
       "    .dataframe tbody tr th {\n",
       "        vertical-align: top;\n",
       "    }\n",
       "\n",
       "    .dataframe thead th {\n",
       "        text-align: right;\n",
       "    }\n",
       "</style>\n",
       "<table border=\"1\" class=\"dataframe\">\n",
       "  <thead>\n",
       "    <tr style=\"text-align: right;\">\n",
       "      <th></th>\n",
       "      <th></th>\n",
       "      <th>DFSIGN</th>\n",
       "      <th>label1</th>\n",
       "      <th>label2</th>\n",
       "      <th>label1_label2</th>\n",
       "    </tr>\n",
       "    <tr>\n",
       "      <th>index1</th>\n",
       "      <th>index2</th>\n",
       "      <th></th>\n",
       "      <th></th>\n",
       "      <th></th>\n",
       "      <th></th>\n",
       "    </tr>\n",
       "  </thead>\n",
       "  <tbody>\n",
       "    <tr>\n",
       "      <th rowspan=\"5\" valign=\"top\">0</th>\n",
       "      <th>1</th>\n",
       "      <td>0.422222</td>\n",
       "      <td>Normal</td>\n",
       "      <td>LumB</td>\n",
       "      <td>Normal - LumB</td>\n",
       "    </tr>\n",
       "    <tr>\n",
       "      <th>2</th>\n",
       "      <td>0.433333</td>\n",
       "      <td>Normal</td>\n",
       "      <td>LumB</td>\n",
       "      <td>Normal - LumB</td>\n",
       "    </tr>\n",
       "    <tr>\n",
       "      <th>3</th>\n",
       "      <td>0.466667</td>\n",
       "      <td>Normal</td>\n",
       "      <td>Normal Like</td>\n",
       "      <td>Normal - Normal Like</td>\n",
       "    </tr>\n",
       "    <tr>\n",
       "      <th>4</th>\n",
       "      <td>0.366667</td>\n",
       "      <td>Normal</td>\n",
       "      <td>LumA</td>\n",
       "      <td>Normal - LumA</td>\n",
       "    </tr>\n",
       "    <tr>\n",
       "      <th>5</th>\n",
       "      <td>0.344444</td>\n",
       "      <td>Normal</td>\n",
       "      <td>HER2+</td>\n",
       "      <td>Normal - HER2+</td>\n",
       "    </tr>\n",
       "  </tbody>\n",
       "</table>\n",
       "</div>"
      ],
      "text/plain": [
       "                 DFSIGN  label1       label2         label1_label2\n",
       "index1 index2                                                     \n",
       "0      1       0.422222  Normal         LumB         Normal - LumB\n",
       "       2       0.433333  Normal         LumB         Normal - LumB\n",
       "       3       0.466667  Normal  Normal Like  Normal - Normal Like\n",
       "       4       0.366667  Normal         LumA         Normal - LumA\n",
       "       5       0.344444  Normal        HER2+        Normal - HER2+"
      ]
     },
     "execution_count": 51,
     "metadata": {},
     "output_type": "execute_result"
    }
   ],
   "source": [
    "distances[key].head()"
   ]
  },
  {
   "cell_type": "markdown",
   "metadata": {},
   "source": [
    "### Prepare our distances for plotting"
   ]
  },
  {
   "cell_type": "code",
   "execution_count": 71,
   "metadata": {},
   "outputs": [],
   "source": [
    "subtypes = df.Subtype.unique()\n",
    "for subtype in subtypes:\n",
    "    for key in distances.keys():\n",
    "        source = pyknowledge.plot.prepare_source1(df,distances[key],subtype,subtypes)\n",
    "        group_counts = source.groupby('label1_label2')[key].count().to_frame()\n",
    "        group_counts.columns = ['Count']\n",
    "        source = source.set_index('label1_label2').join(group_counts).reset_index()\n",
    "        url = f\"{subtype}_{key}_hist.json\"\n",
    "        source.to_json(url,orient='records')"
   ]
  },
  {
   "cell_type": "code",
   "execution_count": 72,
   "metadata": {},
   "outputs": [
    {
     "data": {
      "text/html": [
       "<div>\n",
       "<style scoped>\n",
       "    .dataframe tbody tr th:only-of-type {\n",
       "        vertical-align: middle;\n",
       "    }\n",
       "\n",
       "    .dataframe tbody tr th {\n",
       "        vertical-align: top;\n",
       "    }\n",
       "\n",
       "    .dataframe thead th {\n",
       "        text-align: right;\n",
       "    }\n",
       "</style>\n",
       "<table border=\"1\" class=\"dataframe\">\n",
       "  <thead>\n",
       "    <tr style=\"text-align: right;\">\n",
       "      <th></th>\n",
       "      <th>label1_label2</th>\n",
       "      <th>index1</th>\n",
       "      <th>index2</th>\n",
       "      <th>DFSIGN</th>\n",
       "      <th>label1</th>\n",
       "      <th>label2</th>\n",
       "      <th>label1_label2_ordered</th>\n",
       "      <th>Count</th>\n",
       "    </tr>\n",
       "  </thead>\n",
       "  <tbody>\n",
       "    <tr>\n",
       "      <th>0</th>\n",
       "      <td>Basal - Basal</td>\n",
       "      <td>31</td>\n",
       "      <td>35</td>\n",
       "      <td>0.622222</td>\n",
       "      <td>Basal</td>\n",
       "      <td>Basal</td>\n",
       "      <td>Basal - Basal</td>\n",
       "      <td>54285</td>\n",
       "    </tr>\n",
       "    <tr>\n",
       "      <th>1</th>\n",
       "      <td>Basal - Basal</td>\n",
       "      <td>31</td>\n",
       "      <td>39</td>\n",
       "      <td>0.522222</td>\n",
       "      <td>Basal</td>\n",
       "      <td>Basal</td>\n",
       "      <td>Basal - Basal</td>\n",
       "      <td>54285</td>\n",
       "    </tr>\n",
       "    <tr>\n",
       "      <th>2</th>\n",
       "      <td>Basal - Basal</td>\n",
       "      <td>31</td>\n",
       "      <td>59</td>\n",
       "      <td>0.644444</td>\n",
       "      <td>Basal</td>\n",
       "      <td>Basal</td>\n",
       "      <td>Basal - Basal</td>\n",
       "      <td>54285</td>\n",
       "    </tr>\n",
       "    <tr>\n",
       "      <th>3</th>\n",
       "      <td>Basal - Basal</td>\n",
       "      <td>31</td>\n",
       "      <td>63</td>\n",
       "      <td>0.622222</td>\n",
       "      <td>Basal</td>\n",
       "      <td>Basal</td>\n",
       "      <td>Basal - Basal</td>\n",
       "      <td>54285</td>\n",
       "    </tr>\n",
       "    <tr>\n",
       "      <th>4</th>\n",
       "      <td>Basal - Basal</td>\n",
       "      <td>31</td>\n",
       "      <td>65</td>\n",
       "      <td>0.688889</td>\n",
       "      <td>Basal</td>\n",
       "      <td>Basal</td>\n",
       "      <td>Basal - Basal</td>\n",
       "      <td>54285</td>\n",
       "    </tr>\n",
       "  </tbody>\n",
       "</table>\n",
       "</div>"
      ],
      "text/plain": [
       "   label1_label2  index1  index2    DFSIGN label1 label2  \\\n",
       "0  Basal - Basal      31      35  0.622222  Basal  Basal   \n",
       "1  Basal - Basal      31      39  0.522222  Basal  Basal   \n",
       "2  Basal - Basal      31      59  0.644444  Basal  Basal   \n",
       "3  Basal - Basal      31      63  0.622222  Basal  Basal   \n",
       "4  Basal - Basal      31      65  0.688889  Basal  Basal   \n",
       "\n",
       "  label1_label2_ordered  Count  \n",
       "0         Basal - Basal  54285  \n",
       "1         Basal - Basal  54285  \n",
       "2         Basal - Basal  54285  \n",
       "3         Basal - Basal  54285  \n",
       "4         Basal - Basal  54285  "
      ]
     },
     "execution_count": 72,
     "metadata": {},
     "output_type": "execute_result"
    }
   ],
   "source": [
    "source.head()"
   ]
  },
  {
   "cell_type": "code",
   "execution_count": 73,
   "metadata": {},
   "outputs": [
    {
     "data": {
      "text/markdown": [
       "### DL1: LumA"
      ],
      "text/plain": [
       "<IPython.core.display.Markdown object>"
      ]
     },
     "metadata": {},
     "output_type": "display_data"
    },
    {
     "data": {
      "text/html": [
       "\n",
       "<div id=\"altair-viz-d9a7ae7c02764dfc907047b87466c849\"></div>\n",
       "<script type=\"text/javascript\">\n",
       "  (function(spec, embedOpt){\n",
       "    let outputDiv = document.currentScript.previousElementSibling;\n",
       "    if (outputDiv.id !== \"altair-viz-d9a7ae7c02764dfc907047b87466c849\") {\n",
       "      outputDiv = document.getElementById(\"altair-viz-d9a7ae7c02764dfc907047b87466c849\");\n",
       "    }\n",
       "    const paths = {\n",
       "      \"vega\": \"https://cdn.jsdelivr.net/npm//vega@5?noext\",\n",
       "      \"vega-lib\": \"https://cdn.jsdelivr.net/npm//vega-lib?noext\",\n",
       "      \"vega-lite\": \"https://cdn.jsdelivr.net/npm//vega-lite@4.8.1?noext\",\n",
       "      \"vega-embed\": \"https://cdn.jsdelivr.net/npm//vega-embed@6?noext\",\n",
       "    };\n",
       "\n",
       "    function loadScript(lib) {\n",
       "      return new Promise(function(resolve, reject) {\n",
       "        var s = document.createElement('script');\n",
       "        s.src = paths[lib];\n",
       "        s.async = true;\n",
       "        s.onload = () => resolve(paths[lib]);\n",
       "        s.onerror = () => reject(`Error loading script: ${paths[lib]}`);\n",
       "        document.getElementsByTagName(\"head\")[0].appendChild(s);\n",
       "      });\n",
       "    }\n",
       "\n",
       "    function showError(err) {\n",
       "      outputDiv.innerHTML = `<div class=\"error\" style=\"color:red;\">${err}</div>`;\n",
       "      throw err;\n",
       "    }\n",
       "\n",
       "    function displayChart(vegaEmbed) {\n",
       "      vegaEmbed(outputDiv, spec, embedOpt)\n",
       "        .catch(err => showError(`Javascript Error: ${err.message}<br>This usually means there's a typo in your chart specification. See the javascript console for the full traceback.`));\n",
       "    }\n",
       "\n",
       "    if(typeof define === \"function\" && define.amd) {\n",
       "      requirejs.config({paths});\n",
       "      require([\"vega-embed\"], displayChart, err => showError(`Error loading script: ${err.message}`));\n",
       "    } else if (typeof vegaEmbed === \"function\") {\n",
       "      displayChart(vegaEmbed);\n",
       "    } else {\n",
       "      loadScript(\"vega\")\n",
       "        .then(() => loadScript(\"vega-lite\"))\n",
       "        .then(() => loadScript(\"vega-embed\"))\n",
       "        .catch(showError)\n",
       "        .then(() => displayChart(vegaEmbed));\n",
       "    }\n",
       "  })({\"config\": {\"view\": {\"continuousWidth\": 400, \"continuousHeight\": 300}}, \"data\": {\"url\": \"LumA_DL1_hist.json\"}, \"mark\": {\"type\": \"area\", \"interpolate\": \"step\", \"opacity\": 0.3}, \"encoding\": {\"color\": {\"type\": \"nominal\", \"field\": \"label1_label2\", \"title\": \"Label - Label\"}, \"x\": {\"type\": \"quantitative\", \"bin\": {\"maxbins\": 50}, \"field\": \"DL1\"}, \"y\": {\"type\": \"quantitative\", \"aggregate\": \"sum\", \"axis\": {\"format\": \"%\"}, \"field\": \"pct\", \"stack\": null}}, \"transform\": [{\"calculate\": \"1 / datum.Count\", \"as\": \"pct\"}], \"$schema\": \"https://vega.github.io/schema/vega-lite/v4.8.1.json\"}, {\"mode\": \"vega-lite\"});\n",
       "</script>"
      ],
      "text/plain": [
       "alt.Chart(...)"
      ]
     },
     "metadata": {},
     "output_type": "display_data"
    },
    {
     "data": {
      "text/markdown": [
       "### DL1: LumB"
      ],
      "text/plain": [
       "<IPython.core.display.Markdown object>"
      ]
     },
     "metadata": {},
     "output_type": "display_data"
    },
    {
     "data": {
      "text/html": [
       "\n",
       "<div id=\"altair-viz-fe4dd14cb74941a387aaf1eac20878f5\"></div>\n",
       "<script type=\"text/javascript\">\n",
       "  (function(spec, embedOpt){\n",
       "    let outputDiv = document.currentScript.previousElementSibling;\n",
       "    if (outputDiv.id !== \"altair-viz-fe4dd14cb74941a387aaf1eac20878f5\") {\n",
       "      outputDiv = document.getElementById(\"altair-viz-fe4dd14cb74941a387aaf1eac20878f5\");\n",
       "    }\n",
       "    const paths = {\n",
       "      \"vega\": \"https://cdn.jsdelivr.net/npm//vega@5?noext\",\n",
       "      \"vega-lib\": \"https://cdn.jsdelivr.net/npm//vega-lib?noext\",\n",
       "      \"vega-lite\": \"https://cdn.jsdelivr.net/npm//vega-lite@4.8.1?noext\",\n",
       "      \"vega-embed\": \"https://cdn.jsdelivr.net/npm//vega-embed@6?noext\",\n",
       "    };\n",
       "\n",
       "    function loadScript(lib) {\n",
       "      return new Promise(function(resolve, reject) {\n",
       "        var s = document.createElement('script');\n",
       "        s.src = paths[lib];\n",
       "        s.async = true;\n",
       "        s.onload = () => resolve(paths[lib]);\n",
       "        s.onerror = () => reject(`Error loading script: ${paths[lib]}`);\n",
       "        document.getElementsByTagName(\"head\")[0].appendChild(s);\n",
       "      });\n",
       "    }\n",
       "\n",
       "    function showError(err) {\n",
       "      outputDiv.innerHTML = `<div class=\"error\" style=\"color:red;\">${err}</div>`;\n",
       "      throw err;\n",
       "    }\n",
       "\n",
       "    function displayChart(vegaEmbed) {\n",
       "      vegaEmbed(outputDiv, spec, embedOpt)\n",
       "        .catch(err => showError(`Javascript Error: ${err.message}<br>This usually means there's a typo in your chart specification. See the javascript console for the full traceback.`));\n",
       "    }\n",
       "\n",
       "    if(typeof define === \"function\" && define.amd) {\n",
       "      requirejs.config({paths});\n",
       "      require([\"vega-embed\"], displayChart, err => showError(`Error loading script: ${err.message}`));\n",
       "    } else if (typeof vegaEmbed === \"function\") {\n",
       "      displayChart(vegaEmbed);\n",
       "    } else {\n",
       "      loadScript(\"vega\")\n",
       "        .then(() => loadScript(\"vega-lite\"))\n",
       "        .then(() => loadScript(\"vega-embed\"))\n",
       "        .catch(showError)\n",
       "        .then(() => displayChart(vegaEmbed));\n",
       "    }\n",
       "  })({\"config\": {\"view\": {\"continuousWidth\": 400, \"continuousHeight\": 300}}, \"data\": {\"url\": \"LumB_DL1_hist.json\"}, \"mark\": {\"type\": \"area\", \"interpolate\": \"step\", \"opacity\": 0.3}, \"encoding\": {\"color\": {\"type\": \"nominal\", \"field\": \"label1_label2\", \"title\": \"Label - Label\"}, \"x\": {\"type\": \"quantitative\", \"bin\": {\"maxbins\": 50}, \"field\": \"DL1\"}, \"y\": {\"type\": \"quantitative\", \"aggregate\": \"sum\", \"axis\": {\"format\": \"%\"}, \"field\": \"pct\", \"stack\": null}}, \"transform\": [{\"calculate\": \"1 / datum.Count\", \"as\": \"pct\"}], \"$schema\": \"https://vega.github.io/schema/vega-lite/v4.8.1.json\"}, {\"mode\": \"vega-lite\"});\n",
       "</script>"
      ],
      "text/plain": [
       "alt.Chart(...)"
      ]
     },
     "metadata": {},
     "output_type": "display_data"
    },
    {
     "data": {
      "text/markdown": [
       "### DL2: LumA"
      ],
      "text/plain": [
       "<IPython.core.display.Markdown object>"
      ]
     },
     "metadata": {},
     "output_type": "display_data"
    },
    {
     "data": {
      "text/html": [
       "\n",
       "<div id=\"altair-viz-3c443b5efc0b467b81ba8390e94b616b\"></div>\n",
       "<script type=\"text/javascript\">\n",
       "  (function(spec, embedOpt){\n",
       "    let outputDiv = document.currentScript.previousElementSibling;\n",
       "    if (outputDiv.id !== \"altair-viz-3c443b5efc0b467b81ba8390e94b616b\") {\n",
       "      outputDiv = document.getElementById(\"altair-viz-3c443b5efc0b467b81ba8390e94b616b\");\n",
       "    }\n",
       "    const paths = {\n",
       "      \"vega\": \"https://cdn.jsdelivr.net/npm//vega@5?noext\",\n",
       "      \"vega-lib\": \"https://cdn.jsdelivr.net/npm//vega-lib?noext\",\n",
       "      \"vega-lite\": \"https://cdn.jsdelivr.net/npm//vega-lite@4.8.1?noext\",\n",
       "      \"vega-embed\": \"https://cdn.jsdelivr.net/npm//vega-embed@6?noext\",\n",
       "    };\n",
       "\n",
       "    function loadScript(lib) {\n",
       "      return new Promise(function(resolve, reject) {\n",
       "        var s = document.createElement('script');\n",
       "        s.src = paths[lib];\n",
       "        s.async = true;\n",
       "        s.onload = () => resolve(paths[lib]);\n",
       "        s.onerror = () => reject(`Error loading script: ${paths[lib]}`);\n",
       "        document.getElementsByTagName(\"head\")[0].appendChild(s);\n",
       "      });\n",
       "    }\n",
       "\n",
       "    function showError(err) {\n",
       "      outputDiv.innerHTML = `<div class=\"error\" style=\"color:red;\">${err}</div>`;\n",
       "      throw err;\n",
       "    }\n",
       "\n",
       "    function displayChart(vegaEmbed) {\n",
       "      vegaEmbed(outputDiv, spec, embedOpt)\n",
       "        .catch(err => showError(`Javascript Error: ${err.message}<br>This usually means there's a typo in your chart specification. See the javascript console for the full traceback.`));\n",
       "    }\n",
       "\n",
       "    if(typeof define === \"function\" && define.amd) {\n",
       "      requirejs.config({paths});\n",
       "      require([\"vega-embed\"], displayChart, err => showError(`Error loading script: ${err.message}`));\n",
       "    } else if (typeof vegaEmbed === \"function\") {\n",
       "      displayChart(vegaEmbed);\n",
       "    } else {\n",
       "      loadScript(\"vega\")\n",
       "        .then(() => loadScript(\"vega-lite\"))\n",
       "        .then(() => loadScript(\"vega-embed\"))\n",
       "        .catch(showError)\n",
       "        .then(() => displayChart(vegaEmbed));\n",
       "    }\n",
       "  })({\"config\": {\"view\": {\"continuousWidth\": 400, \"continuousHeight\": 300}}, \"data\": {\"url\": \"LumA_DL2_hist.json\"}, \"mark\": {\"type\": \"area\", \"interpolate\": \"step\", \"opacity\": 0.3}, \"encoding\": {\"color\": {\"type\": \"nominal\", \"field\": \"label1_label2\", \"title\": \"Label - Label\"}, \"x\": {\"type\": \"quantitative\", \"bin\": {\"maxbins\": 50}, \"field\": \"DL2\"}, \"y\": {\"type\": \"quantitative\", \"aggregate\": \"sum\", \"axis\": {\"format\": \"%\"}, \"field\": \"pct\", \"stack\": null}}, \"transform\": [{\"calculate\": \"1 / datum.Count\", \"as\": \"pct\"}], \"$schema\": \"https://vega.github.io/schema/vega-lite/v4.8.1.json\"}, {\"mode\": \"vega-lite\"});\n",
       "</script>"
      ],
      "text/plain": [
       "alt.Chart(...)"
      ]
     },
     "metadata": {},
     "output_type": "display_data"
    },
    {
     "data": {
      "text/markdown": [
       "### DL2: LumB"
      ],
      "text/plain": [
       "<IPython.core.display.Markdown object>"
      ]
     },
     "metadata": {},
     "output_type": "display_data"
    },
    {
     "data": {
      "text/html": [
       "\n",
       "<div id=\"altair-viz-f20b2554374b43d49101315e648ab869\"></div>\n",
       "<script type=\"text/javascript\">\n",
       "  (function(spec, embedOpt){\n",
       "    let outputDiv = document.currentScript.previousElementSibling;\n",
       "    if (outputDiv.id !== \"altair-viz-f20b2554374b43d49101315e648ab869\") {\n",
       "      outputDiv = document.getElementById(\"altair-viz-f20b2554374b43d49101315e648ab869\");\n",
       "    }\n",
       "    const paths = {\n",
       "      \"vega\": \"https://cdn.jsdelivr.net/npm//vega@5?noext\",\n",
       "      \"vega-lib\": \"https://cdn.jsdelivr.net/npm//vega-lib?noext\",\n",
       "      \"vega-lite\": \"https://cdn.jsdelivr.net/npm//vega-lite@4.8.1?noext\",\n",
       "      \"vega-embed\": \"https://cdn.jsdelivr.net/npm//vega-embed@6?noext\",\n",
       "    };\n",
       "\n",
       "    function loadScript(lib) {\n",
       "      return new Promise(function(resolve, reject) {\n",
       "        var s = document.createElement('script');\n",
       "        s.src = paths[lib];\n",
       "        s.async = true;\n",
       "        s.onload = () => resolve(paths[lib]);\n",
       "        s.onerror = () => reject(`Error loading script: ${paths[lib]}`);\n",
       "        document.getElementsByTagName(\"head\")[0].appendChild(s);\n",
       "      });\n",
       "    }\n",
       "\n",
       "    function showError(err) {\n",
       "      outputDiv.innerHTML = `<div class=\"error\" style=\"color:red;\">${err}</div>`;\n",
       "      throw err;\n",
       "    }\n",
       "\n",
       "    function displayChart(vegaEmbed) {\n",
       "      vegaEmbed(outputDiv, spec, embedOpt)\n",
       "        .catch(err => showError(`Javascript Error: ${err.message}<br>This usually means there's a typo in your chart specification. See the javascript console for the full traceback.`));\n",
       "    }\n",
       "\n",
       "    if(typeof define === \"function\" && define.amd) {\n",
       "      requirejs.config({paths});\n",
       "      require([\"vega-embed\"], displayChart, err => showError(`Error loading script: ${err.message}`));\n",
       "    } else if (typeof vegaEmbed === \"function\") {\n",
       "      displayChart(vegaEmbed);\n",
       "    } else {\n",
       "      loadScript(\"vega\")\n",
       "        .then(() => loadScript(\"vega-lite\"))\n",
       "        .then(() => loadScript(\"vega-embed\"))\n",
       "        .catch(showError)\n",
       "        .then(() => displayChart(vegaEmbed));\n",
       "    }\n",
       "  })({\"config\": {\"view\": {\"continuousWidth\": 400, \"continuousHeight\": 300}}, \"data\": {\"url\": \"LumB_DL2_hist.json\"}, \"mark\": {\"type\": \"area\", \"interpolate\": \"step\", \"opacity\": 0.3}, \"encoding\": {\"color\": {\"type\": \"nominal\", \"field\": \"label1_label2\", \"title\": \"Label - Label\"}, \"x\": {\"type\": \"quantitative\", \"bin\": {\"maxbins\": 50}, \"field\": \"DL2\"}, \"y\": {\"type\": \"quantitative\", \"aggregate\": \"sum\", \"axis\": {\"format\": \"%\"}, \"field\": \"pct\", \"stack\": null}}, \"transform\": [{\"calculate\": \"1 / datum.Count\", \"as\": \"pct\"}], \"$schema\": \"https://vega.github.io/schema/vega-lite/v4.8.1.json\"}, {\"mode\": \"vega-lite\"});\n",
       "</script>"
      ],
      "text/plain": [
       "alt.Chart(...)"
      ]
     },
     "metadata": {},
     "output_type": "display_data"
    },
    {
     "data": {
      "text/markdown": [
       "### DFSIGN: LumA"
      ],
      "text/plain": [
       "<IPython.core.display.Markdown object>"
      ]
     },
     "metadata": {},
     "output_type": "display_data"
    },
    {
     "data": {
      "text/html": [
       "\n",
       "<div id=\"altair-viz-d885cf539c2f473cadf58c347e086f60\"></div>\n",
       "<script type=\"text/javascript\">\n",
       "  (function(spec, embedOpt){\n",
       "    let outputDiv = document.currentScript.previousElementSibling;\n",
       "    if (outputDiv.id !== \"altair-viz-d885cf539c2f473cadf58c347e086f60\") {\n",
       "      outputDiv = document.getElementById(\"altair-viz-d885cf539c2f473cadf58c347e086f60\");\n",
       "    }\n",
       "    const paths = {\n",
       "      \"vega\": \"https://cdn.jsdelivr.net/npm//vega@5?noext\",\n",
       "      \"vega-lib\": \"https://cdn.jsdelivr.net/npm//vega-lib?noext\",\n",
       "      \"vega-lite\": \"https://cdn.jsdelivr.net/npm//vega-lite@4.8.1?noext\",\n",
       "      \"vega-embed\": \"https://cdn.jsdelivr.net/npm//vega-embed@6?noext\",\n",
       "    };\n",
       "\n",
       "    function loadScript(lib) {\n",
       "      return new Promise(function(resolve, reject) {\n",
       "        var s = document.createElement('script');\n",
       "        s.src = paths[lib];\n",
       "        s.async = true;\n",
       "        s.onload = () => resolve(paths[lib]);\n",
       "        s.onerror = () => reject(`Error loading script: ${paths[lib]}`);\n",
       "        document.getElementsByTagName(\"head\")[0].appendChild(s);\n",
       "      });\n",
       "    }\n",
       "\n",
       "    function showError(err) {\n",
       "      outputDiv.innerHTML = `<div class=\"error\" style=\"color:red;\">${err}</div>`;\n",
       "      throw err;\n",
       "    }\n",
       "\n",
       "    function displayChart(vegaEmbed) {\n",
       "      vegaEmbed(outputDiv, spec, embedOpt)\n",
       "        .catch(err => showError(`Javascript Error: ${err.message}<br>This usually means there's a typo in your chart specification. See the javascript console for the full traceback.`));\n",
       "    }\n",
       "\n",
       "    if(typeof define === \"function\" && define.amd) {\n",
       "      requirejs.config({paths});\n",
       "      require([\"vega-embed\"], displayChart, err => showError(`Error loading script: ${err.message}`));\n",
       "    } else if (typeof vegaEmbed === \"function\") {\n",
       "      displayChart(vegaEmbed);\n",
       "    } else {\n",
       "      loadScript(\"vega\")\n",
       "        .then(() => loadScript(\"vega-lite\"))\n",
       "        .then(() => loadScript(\"vega-embed\"))\n",
       "        .catch(showError)\n",
       "        .then(() => displayChart(vegaEmbed));\n",
       "    }\n",
       "  })({\"config\": {\"view\": {\"continuousWidth\": 400, \"continuousHeight\": 300}}, \"data\": {\"url\": \"LumA_DFSIGN_hist.json\"}, \"mark\": {\"type\": \"area\", \"interpolate\": \"step\", \"opacity\": 0.3}, \"encoding\": {\"color\": {\"type\": \"nominal\", \"field\": \"label1_label2\", \"title\": \"Label - Label\"}, \"x\": {\"type\": \"quantitative\", \"bin\": {\"maxbins\": 50}, \"field\": \"DFSIGN\"}, \"y\": {\"type\": \"quantitative\", \"aggregate\": \"sum\", \"axis\": {\"format\": \"%\"}, \"field\": \"pct\", \"stack\": null}}, \"transform\": [{\"calculate\": \"1 / datum.Count\", \"as\": \"pct\"}], \"$schema\": \"https://vega.github.io/schema/vega-lite/v4.8.1.json\"}, {\"mode\": \"vega-lite\"});\n",
       "</script>"
      ],
      "text/plain": [
       "alt.Chart(...)"
      ]
     },
     "metadata": {},
     "output_type": "display_data"
    },
    {
     "data": {
      "text/markdown": [
       "### DFSIGN: LumB"
      ],
      "text/plain": [
       "<IPython.core.display.Markdown object>"
      ]
     },
     "metadata": {},
     "output_type": "display_data"
    },
    {
     "data": {
      "text/html": [
       "\n",
       "<div id=\"altair-viz-35a4fb4c5ca44c5bbe50146dbe167164\"></div>\n",
       "<script type=\"text/javascript\">\n",
       "  (function(spec, embedOpt){\n",
       "    let outputDiv = document.currentScript.previousElementSibling;\n",
       "    if (outputDiv.id !== \"altair-viz-35a4fb4c5ca44c5bbe50146dbe167164\") {\n",
       "      outputDiv = document.getElementById(\"altair-viz-35a4fb4c5ca44c5bbe50146dbe167164\");\n",
       "    }\n",
       "    const paths = {\n",
       "      \"vega\": \"https://cdn.jsdelivr.net/npm//vega@5?noext\",\n",
       "      \"vega-lib\": \"https://cdn.jsdelivr.net/npm//vega-lib?noext\",\n",
       "      \"vega-lite\": \"https://cdn.jsdelivr.net/npm//vega-lite@4.8.1?noext\",\n",
       "      \"vega-embed\": \"https://cdn.jsdelivr.net/npm//vega-embed@6?noext\",\n",
       "    };\n",
       "\n",
       "    function loadScript(lib) {\n",
       "      return new Promise(function(resolve, reject) {\n",
       "        var s = document.createElement('script');\n",
       "        s.src = paths[lib];\n",
       "        s.async = true;\n",
       "        s.onload = () => resolve(paths[lib]);\n",
       "        s.onerror = () => reject(`Error loading script: ${paths[lib]}`);\n",
       "        document.getElementsByTagName(\"head\")[0].appendChild(s);\n",
       "      });\n",
       "    }\n",
       "\n",
       "    function showError(err) {\n",
       "      outputDiv.innerHTML = `<div class=\"error\" style=\"color:red;\">${err}</div>`;\n",
       "      throw err;\n",
       "    }\n",
       "\n",
       "    function displayChart(vegaEmbed) {\n",
       "      vegaEmbed(outputDiv, spec, embedOpt)\n",
       "        .catch(err => showError(`Javascript Error: ${err.message}<br>This usually means there's a typo in your chart specification. See the javascript console for the full traceback.`));\n",
       "    }\n",
       "\n",
       "    if(typeof define === \"function\" && define.amd) {\n",
       "      requirejs.config({paths});\n",
       "      require([\"vega-embed\"], displayChart, err => showError(`Error loading script: ${err.message}`));\n",
       "    } else if (typeof vegaEmbed === \"function\") {\n",
       "      displayChart(vegaEmbed);\n",
       "    } else {\n",
       "      loadScript(\"vega\")\n",
       "        .then(() => loadScript(\"vega-lite\"))\n",
       "        .then(() => loadScript(\"vega-embed\"))\n",
       "        .catch(showError)\n",
       "        .then(() => displayChart(vegaEmbed));\n",
       "    }\n",
       "  })({\"config\": {\"view\": {\"continuousWidth\": 400, \"continuousHeight\": 300}}, \"data\": {\"url\": \"LumB_DFSIGN_hist.json\"}, \"mark\": {\"type\": \"area\", \"interpolate\": \"step\", \"opacity\": 0.3}, \"encoding\": {\"color\": {\"type\": \"nominal\", \"field\": \"label1_label2\", \"title\": \"Label - Label\"}, \"x\": {\"type\": \"quantitative\", \"bin\": {\"maxbins\": 50}, \"field\": \"DFSIGN\"}, \"y\": {\"type\": \"quantitative\", \"aggregate\": \"sum\", \"axis\": {\"format\": \"%\"}, \"field\": \"pct\", \"stack\": null}}, \"transform\": [{\"calculate\": \"1 / datum.Count\", \"as\": \"pct\"}], \"$schema\": \"https://vega.github.io/schema/vega-lite/v4.8.1.json\"}, {\"mode\": \"vega-lite\"});\n",
       "</script>"
      ],
      "text/plain": [
       "alt.Chart(...)"
      ]
     },
     "metadata": {},
     "output_type": "display_data"
    }
   ],
   "source": [
    "subtypes = df.Subtype.unique()\n",
    "for key in distances.keys():\n",
    "    for subtype in [\"LumA\",\"LumB\"]:\n",
    "        url = f\"{subtype}_{key}_hist.json\"\n",
    "        g = alt.Chart(url).transform_calculate(\n",
    "            pct='1 / datum.Count'\n",
    "        ).mark_area(\n",
    "            opacity=0.3,\n",
    "            interpolate='step'\n",
    "        ).encode(\n",
    "            alt.X('%s:Q'%key, bin=alt.Bin(maxbins=50)),\n",
    "            alt.Y('sum(pct):Q', axis=alt.Axis(format='%'),stack=None),\n",
    "            alt.Color('label1_label2:N',title='Label - Label')\n",
    "        )\n",
    "        display(Markdown(f'### {key}: {subtype}'))\n",
    "        display(g)"
   ]
  },
  {
   "cell_type": "markdown",
   "metadata": {},
   "source": [
    "# Old below"
   ]
  },
  {
   "cell_type": "code",
   "execution_count": null,
   "metadata": {},
   "outputs": [],
   "source": [
    "alt.Chart(source.sample(n=10000)).mark_area(\n",
    "    opacity=0.3,\n",
    "    interpolate='step'\n",
    ").encode(\n",
    "    alt.X('DL2:Q', bin=alt.Bin(maxbins=50)),\n",
    "    alt.Y('count()', stack=None),\n",
    "    alt.Color('label1_label2:N')\n",
    ")"
   ]
  },
  {
   "cell_type": "code",
   "execution_count": null,
   "metadata": {},
   "outputs": [],
   "source": [
    "g.save('LumB_LumB_distances.png')"
   ]
  },
  {
   "cell_type": "code",
   "execution_count": null,
   "metadata": {},
   "outputs": [],
   "source": [
    "print('test')"
   ]
  },
  {
   "cell_type": "code",
   "execution_count": null,
   "metadata": {},
   "outputs": [],
   "source": [
    "constant = 'LumA'\n",
    "distance1_12 = get_distance(distance1,constant,constant)\n",
    "for n in df['Subtype'].unique():\n",
    "    if n != constant:\n",
    "        distance1_12 = distance1_12.append(get_distance(distance1,constant,n))\n",
    "\n",
    "alt.Chart(distance1_12.reset_index()).mark_area(\n",
    "    opacity=0.3,\n",
    "    interpolate='step'\n",
    ").encode(\n",
    "    alt.X('D1:Q', bin=alt.Bin(maxbins=100)),\n",
    "    alt.Y('count()', stack=None),\n",
    "    alt.Color('label1_label2:N')\n",
    ")"
   ]
  },
  {
   "cell_type": "code",
   "execution_count": null,
   "metadata": {},
   "outputs": [],
   "source": [
    "constant = 'LumB'\n",
    "distance1_12 = get_distance(distance1,constant,constant)\n",
    "for n in df['Subtype'].unique():\n",
    "    if n != constant:\n",
    "        distance1_12 = distance1_12.append(get_distance(distance1,constant,n))\n",
    "\n",
    "alt.Chart(distance1_12.reset_index()).mark_area(\n",
    "    opacity=0.3,\n",
    "    interpolate='step'\n",
    ").encode(\n",
    "    alt.X('D1:Q', bin=alt.Bin(maxbins=100)),\n",
    "    alt.Y('count()', stack=None),\n",
    "    alt.Color('label1_label2:N')\n",
    ")"
   ]
  },
  {
   "cell_type": "code",
   "execution_count": null,
   "metadata": {},
   "outputs": [],
   "source": [
    "D2 = pd.concat(Parallel(n_jobs=-1)(delayed(chunk_distance)(chunk,distance2) for chunk in chunks_pair_ixs))"
   ]
  },
  {
   "cell_type": "markdown",
   "metadata": {},
   "source": [
    "## Set some minimum values for sparsity"
   ]
  },
  {
   "cell_type": "code",
   "execution_count": null,
   "metadata": {},
   "outputs": [],
   "source": [
    "min_value = genes_df_scaled.shape[1]*0.3 # Choose a minimum value\n",
    "min_value"
   ]
  },
  {
   "cell_type": "code",
   "execution_count": null,
   "metadata": {},
   "outputs": [],
   "source": [
    "D2.plot.hist()"
   ]
  },
  {
   "cell_type": "code",
   "execution_count": null,
   "metadata": {},
   "outputs": [],
   "source": [
    "D2.unstack()"
   ]
  },
  {
   "cell_type": "code",
   "execution_count": null,
   "metadata": {},
   "outputs": [],
   "source": [
    "D2_visual = D2.copy() # or D2\n",
    "D2_visual.loc[D2.distance <= min_value] = 0 # just to make it more sparse\n",
    "D2_visual=D2_visual.fillna(0).unstack()\n",
    "D2_visual.index.name='index'\n",
    "D2_visual.columns = D2_visual.index\n",
    "D2_visual = D2_visual/genes_df_scaled.shape[1]\n",
    "D2_visual.to_csv(f'graphs/D2_gt_{min_value}.csv')"
   ]
  },
  {
   "cell_type": "code",
   "execution_count": null,
   "metadata": {},
   "outputs": [],
   "source": [
    "!ls graphs"
   ]
  },
  {
   "cell_type": "code",
   "execution_count": null,
   "metadata": {},
   "outputs": [],
   "source": [
    "min_value"
   ]
  },
  {
   "cell_type": "code",
   "execution_count": null,
   "metadata": {},
   "outputs": [],
   "source": [
    "D2_visual"
   ]
  },
  {
   "cell_type": "code",
   "execution_count": null,
   "metadata": {},
   "outputs": [],
   "source": [
    "min_value = genes_df_scaled.shape[1]*0.6 # Choose a minimum value\n",
    "min_value"
   ]
  },
  {
   "cell_type": "code",
   "execution_count": null,
   "metadata": {},
   "outputs": [],
   "source": [
    "D1_visual = D1.copy() # or D2\n",
    "D1_visual.loc[D1.distance <= min_value] = 0 # just to make it more sparse\n",
    "D1_visual = D1_visual.fillna(0).unstack()\n",
    "D1_visual.index.name='index'\n",
    "D1_visual.columns = D1_visual.index\n",
    "D1_visual.to_csv(f'graphs/D1_gt_{min_value}.csv')\n",
    "D1_visual#.dropna()"
   ]
  },
  {
   "cell_type": "markdown",
   "metadata": {},
   "source": [
    "## Test out the knowledge functionality"
   ]
  },
  {
   "cell_type": "code",
   "execution_count": null,
   "metadata": {},
   "outputs": [],
   "source": [
    "import knowledge"
   ]
  },
  {
   "cell_type": "code",
   "execution_count": null,
   "metadata": {},
   "outputs": [],
   "source": [
    "k = knowledge.Knowledge()\n",
    "k.distances"
   ]
  },
  {
   "cell_type": "code",
   "execution_count": null,
   "metadata": {},
   "outputs": [],
   "source": [
    "#import tensorflow as tf\n",
    "def cosine_sim(logits):\n",
    "    x_ = tf.expand_dims(logits, 0)\n",
    "    y_ = tf.expand_dims(logits, 1)\n",
    "    xN = tf.sqrt(tf.reduce_sum(tf.reshape((x_[None]*y_[:,None])*0+x_[None]**2, [-1, logits.shape[1]]),axis=1))\n",
    "    yN = tf.sqrt(tf.reduce_sum(tf.reshape((x_[None]*y_[:,None])*0+y_[:,None]**2, [-1, logits.shape[1]]),axis=1))\n",
    "    #z = tf.reshape(cosine_loss(y_true, y_pred), [-1, logits.shape[1]]), reduction_indices=[1])),axis=0)    \n",
    "    z = tf.reduce_sum(tf.reshape((x_[None]*y_[:,None]), [-1, logits.shape[1]]),axis=1)/(xN*yN)\n",
    "    return z\n",
    "\n",
    "#sess = tf.Session()\n",
    "#logits = tf.constant(genes_df_scaled.values[:3,:], dtype=tf.float32)\n",
    "#A = sess.run(cosine_sim(logits))"
   ]
  },
  {
   "cell_type": "code",
   "execution_count": null,
   "metadata": {},
   "outputs": [],
   "source": [
    "A"
   ]
  },
  {
   "cell_type": "code",
   "execution_count": null,
   "metadata": {},
   "outputs": [],
   "source": [
    "import tensorflow as tf\n",
    "sess = tf.Session(config=tf.ConfigProto(log_device_placement=True))\n"
   ]
  },
  {
   "cell_type": "code",
   "execution_count": null,
   "metadata": {},
   "outputs": [],
   "source": [
    "from sklearn.metrics.pairwise import cosine_similarity\n",
    "\n",
    "pd.DataFrame(cosine_similarity(genes_df_scaled.values[:3,:])).stack()"
   ]
  },
  {
   "cell_type": "markdown",
   "metadata": {},
   "source": [
    "This is looking good. We just need to do all combinations and then set the index. "
   ]
  },
  {
   "cell_type": "code",
   "execution_count": null,
   "metadata": {},
   "outputs": [],
   "source": [
    "np.reshape(A,(3,3))"
   ]
  },
  {
   "cell_type": "code",
   "execution_count": null,
   "metadata": {},
   "outputs": [],
   "source": [
    "\n",
    "\n",
    "\n",
    "D_visual.dropna()"
   ]
  },
  {
   "cell_type": "code",
   "execution_count": null,
   "metadata": {},
   "outputs": [],
   "source": [
    "from IPython.display import Image\n",
    "\n",
    "import networkx as nx\n",
    "\n",
    "def save(A,file=\"graph.png\"):\n",
    "    g = A.draw(format=file.split(\".\")[-1], prog='dot')\n",
    "    open(file,\"wb\").write(g)\n",
    "    return Image(g)\n",
    "\n",
    "G = nx.Graph()\n",
    "temp = D_visual.loc[D_visual.distance > 0].reset_index()\n",
    "for n in np.unique(list(temp.index1) + list(temp.index2)):\n",
    "    c = df.loc[n,'color']\n",
    "    G.add_node(n,color=c,style='filled',fillcolor=c)\n",
    "\n",
    "for index,values in D_visual.loc[D_visual.distance > 0].iterrows():\n",
    "    n1,n2 = index\n",
    "    G.add_edge(n1,n2,weight=genes_df_scaled.shape[1]-values.loc['distance'])"
   ]
  },
  {
   "cell_type": "code",
   "execution_count": null,
   "metadata": {},
   "outputs": [],
   "source": [
    "pos = nx.drawing.nx_agraph.graphviz_layout(G, prog='dot')\n",
    "A = nx.nx_agraph.to_agraph(G)\n",
    "A.graph_attr[\"rankdir\"] = \"LR\"\n",
    "# draw it in the notebook\n",
    "save(A)"
   ]
  },
  {
   "cell_type": "markdown",
   "metadata": {},
   "source": [
    "The additional terms to the loss function are broken into label-label, label-unknown, and unknown-unknown. We will model the label-label case first where mw stands for the match weight, mm stands for the mismatch weight.\n",
    "\n",
    "<pre>\n",
    "label1  label2 w\n",
    "---------------------------\n",
    "LumB    LumB    mw\n",
    "Unknown LumB    0|mmw\n",
    "LumB    Unknown 0|mmw\n",
    "Unknown Unknown 0\n",
    "</pre>\n",
    "If both samples are LumB subtype, then the weight to the loss function is mw > 0. If only a single sample is LumB subtype, then we may also set the mmw = 0 or mmw > 0. If you set mmw > 0, then you may use labeled and unlabelled.\n",
    "\n",
    "What I would like to test:\n",
    "1. Does this improve performance and/or convergence of DeepType (at least during the supervised learning phase)\n",
    "2. When running repeated experiments with varying random seed and/or parameters, do we have more consistency of results? \n"
   ]
  },
  {
   "cell_type": "markdown",
   "metadata": {},
   "source": [
    "### Let's work on a sample model"
   ]
  },
  {
   "cell_type": "code",
   "execution_count": null,
   "metadata": {
    "scrolled": true
   },
   "outputs": [],
   "source": [
    "nsample = 10\n",
    "genes_df_scaled_sampled = genes_df_scaled.sample(n=nsample,random_state=0)\n",
    "samples = genes_df_scaled_sampled.join(df[['Subtype','target']])\n",
    "(100*samples[['CCND1','FAM83H','C17orf28','FAM83D']]).round().astype(int).join(df[['Subtype','target']])"
   ]
  },
  {
   "cell_type": "code",
   "execution_count": null,
   "metadata": {},
   "outputs": [],
   "source": [
    "import itertools\n",
    "\n",
    "def get_diff(samples,y,cls):\n",
    "    diff_samples = pd.DataFrame(columns = list(genes_df_scaled_sampled.columns)+[\"Subtype_1\",\"Subtype_2\",\"ix1\",\"ix2\"])\n",
    "    diff_samples = diff_samples.set_index([\"ix1\",\"ix2\"])\n",
    "    for ix1,ix2 in itertools.permutations(samples.index,2):\n",
    "        if ix1 == ix2:\n",
    "            continue\n",
    "        new_sample = samples.loc[ix1,genes_df_scaled_sampled.columns] - samples.loc[ix2,genes_df_scaled_sampled.columns]\n",
    "        new_sample = new_sample.to_frame().T\n",
    "        #new_sample[\"label_1\"] = samples.loc[ix1,\"label\"]\n",
    "        #new_sample[\"label_2\"] = samples.loc[ix2,\"label\"]\n",
    "        new_sample[\"Subtype_1\"] = y.loc[ix1] #samples.loc[ix1,\"Subtype\"]\n",
    "        new_sample[\"Subtype_2\"] = y.loc[ix2] #samples.loc[ix2,\"Subtype\"]\n",
    "        new_sample[\"ix1\"] = ix1\n",
    "        new_sample[\"ix2\"] = ix2\n",
    "        new_sample = new_sample.set_index([\"ix1\",\"ix2\"])\n",
    "        diff_samples = diff_samples.append(new_sample)\n",
    "        \n",
    "    diff_samples['target'] = \"MatchIgnore\" # Case 4\n",
    "    diff_samples.loc[(diff_samples['Subtype_1'] != cls) & (diff_samples['Subtype_2'] == cls),'target'] = \"Mismatch1\"\n",
    "    diff_samples.loc[(diff_samples['Subtype_1'] == cls) & (diff_samples['Subtype_2'] != cls),'target'] = \"Mismatch2\"\n",
    "    diff_samples.loc[(diff_samples['Subtype_1'] == cls) & (diff_samples['Subtype_2'] == cls),'target'] = \"Match\"\n",
    "    diff_samples['target'] = diff_samples['target'].astype('category')\n",
    "    return diff_samples"
   ]
  },
  {
   "cell_type": "markdown",
   "metadata": {},
   "source": [
    "<pre>\n",
    "ID label1 label2 f(id1,id2)\n",
    "---------------------------\n",
    "1  LumB   LumB   Match\n",
    "2  Other  LumB   Mismatch1\n",
    "3  LumB   Other  Mismatch2\n",
    "4  Other  Other  MatchIgnore\n",
    "</pre>"
   ]
  },
  {
   "cell_type": "markdown",
   "metadata": {},
   "source": [
    "### Now construct the model"
   ]
  },
  {
   "cell_type": "code",
   "execution_count": null,
   "metadata": {},
   "outputs": [],
   "source": [
    "from sklearn.linear_model import LogisticRegression\n",
    "from sklearn.ensemble import RandomForestClassifier\n",
    "from sklearn.model_selection import StratifiedKFold, cross_val_score, RepeatedStratifiedKFold, StratifiedShuffleSplit\n",
    "import imblearn\n",
    "\n",
    "oversample = imblearn.over_sampling.RandomOverSampler()\n",
    "undersample = imblearn.under_sampling.RandomUnderSampler()\n",
    "\n",
    "#X,y = diff_samples[genes_df_scaled_sampled.columns], diff_samples['target']\n",
    "X,y = samples[genes_df_scaled_sampled.columns], samples['Subtype']\n",
    "\n",
    "#X, y = oversample.fit_resample(X_orig, y_orig)\n",
    "#cv = RepeatedStratifiedKFold(n_splits=10, n_repeats = 2, random_state=1)\n",
    "\n",
    "#print(\"f1_micro\")\n",
    "#print(cross_val_score(clf, X, y, cv=cv, scoring='f1_micro'))\n",
    "#print(\"f1_macro\")\n",
    "#print(cross_val_score(clf, X, y, cv=cv, scoring='f1_macro'))\n",
    "#print(\"f1_weighted\")\n",
    "#print(cross_val_score(clf, X, y, cv=cv, scoring='f1_weighted'))"
   ]
  },
  {
   "cell_type": "code",
   "execution_count": null,
   "metadata": {},
   "outputs": [],
   "source": [
    "from sklearn.metrics import classification_report\n",
    "clf = RandomForestClassifier(max_depth=2, random_state=0)\n",
    "from sklearn.tree import DecisionTreeClassifier\n",
    "#clf = DecisionTreeClassifier()\n",
    "\n",
    "from sklearn.neighbors import KNeighborsClassifier\n",
    "clf = KNeighborsClassifier(n_neighbors=3)\n",
    "\n",
    "from sklearn.svm import OneClassSVM\n",
    "from sklearn.neighbors import LocalOutlierFactor\n",
    "\n",
    "labels = y.unique()\n",
    "cnt = 1\n",
    "\n",
    "all_scores_df = []\n",
    "random_states = [0]\n",
    "for random_state in random_states:\n",
    "    cv = StratifiedShuffleSplit(n_splits=2, test_size=0.3, random_state=random_state)\n",
    "    scores = {}\n",
    "    for train_index, test_index in cv.split(X, y):\n",
    "        X_train, X_test = X.iloc[train_index], X.iloc[test_index]\n",
    "        y_train, y_test = y.iloc[train_index], y.iloc[test_index]\n",
    "\n",
    "        print(f'Round {cnt}')\n",
    "        for cls in labels:\n",
    "            diff_samples = get_diff(X_train,y_train,cls)\n",
    "            Xdiff = diff_samples.drop([\"target\",\"Subtype_1\",\"Subtype_2\"],axis=1)\n",
    "            ydiff = diff_samples['target']\n",
    "            Xone = Xdiff.loc[ydiff == \"Match\"]\n",
    "            \n",
    "            clf = OneClassSVM(gamma='auto')\n",
    "            #clf = LocalOutlierFactor(n_neighbors=2,novelty=True)\n",
    "            clf.fit(Xone)\n",
    "\n",
    "            #X_over, y_over = oversample.fit_resample(X_train, y_train)\n",
    "            #X_under, y_under = undersample.fit_resample(X_train, y_train)\n",
    "            #clf.fit(X_under,y_under)\n",
    "\n",
    "            diff_samples_test = get_diff(X_test,y_test,cls)\n",
    "            Xdiff_test = diff_samples_test.drop([\"target\",\"Subtype_1\",\"Subtype_2\"],axis=1)\n",
    "            ydiff_test = diff_samples_test['target']\n",
    "            decf = clf.decision_function(Xdiff_test)\n",
    "            new_data =  pd.DataFrame(decf,index=ydiff_test.index).join(ydiff_test)\n",
    "            if cls not in scores:\n",
    "                scores[cls] = new_data\n",
    "            else:\n",
    "                scores[cls].append(new_data)\n",
    "        cnt+=1"
   ]
  },
  {
   "cell_type": "code",
   "execution_count": null,
   "metadata": {},
   "outputs": [],
   "source": [
    "Xone"
   ]
  },
  {
   "cell_type": "code",
   "execution_count": null,
   "metadata": {},
   "outputs": [],
   "source": [
    "scores['LumA']"
   ]
  },
  {
   "cell_type": "code",
   "execution_count": null,
   "metadata": {},
   "outputs": [],
   "source": [
    "scores['LumA'].loc[scores['LumA'].target=='Match'].mean()"
   ]
  },
  {
   "cell_type": "code",
   "execution_count": null,
   "metadata": {},
   "outputs": [],
   "source": [
    "scores['LumA'].loc[scores['LumA'].target!='Match'].mean()"
   ]
  },
  {
   "cell_type": "code",
   "execution_count": null,
   "metadata": {},
   "outputs": [],
   "source": [
    "scores_df_target.loc[scores_df_target.Subtype!='LumB']"
   ]
  },
  {
   "cell_type": "code",
   "execution_count": null,
   "metadata": {},
   "outputs": [],
   "source": [
    "means = pd.DataFrame(columns=[\"Match\",\"Mismatch\",\"Subtype\"]).set_index(\"Subtype\")\n",
    "for label in labels:\n",
    "    mismatch = scores_df_target.loc[scores_df_target.Subtype!=label][label].mean()\n",
    "    match = scores_df_target.loc[scores_df_target.Subtype==label][label].mean()\n",
    "    means = means.append(pd.Series([match,mismatch],name=label,index=means.columns))\n",
    "means"
   ]
  },
  {
   "cell_type": "code",
   "execution_count": null,
   "metadata": {},
   "outputs": [],
   "source": [
    "scores_df_target.loc[scores_df_target.Subtype=='Basal']['Basal'].mean()"
   ]
  },
  {
   "cell_type": "code",
   "execution_count": null,
   "metadata": {},
   "outputs": [],
   "source": [
    "clf.predict_proba(diff_samples[genes_df_scaled_sampled.columns].iloc[[0]])"
   ]
  },
  {
   "cell_type": "code",
   "execution_count": null,
   "metadata": {},
   "outputs": [],
   "source": [
    "import numpy as np\n",
    "from sklearn.decomposition import PCA\n",
    "pca = PCA(n_components=2)\n",
    "pca.fit(genes_df_scaled)\n",
    "\n",
    "print(pca.explained_variance_ratio_)\n",
    "\n",
    "print(pca.singular_values_)"
   ]
  },
  {
   "cell_type": "code",
   "execution_count": null,
   "metadata": {},
   "outputs": [],
   "source": [
    "scores = pca.transform(genes_df_scaled)\n",
    "scores = pd.DataFrame(scores,columns=[\"PC1\",\"PC2\"])\n",
    "scores['Subtype'] = df.label.map({1:'Basal',2:'HER2+',3:'LumA',4:'LumB',5:'Normal Like',6:'Normal'})"
   ]
  },
  {
   "cell_type": "code",
   "execution_count": null,
   "metadata": {},
   "outputs": [],
   "source": [
    "scores"
   ]
  },
  {
   "cell_type": "code",
   "execution_count": null,
   "metadata": {},
   "outputs": [],
   "source": [
    "import altair as alt\n",
    "points = alt.Chart(scores).mark_point().encode(\n",
    "    x='PC1:Q',\n",
    "    y='PC2:Q',\n",
    "    color='Subtype:N'\n",
    ")\n",
    "points"
   ]
  },
  {
   "cell_type": "code",
   "execution_count": null,
   "metadata": {},
   "outputs": [],
   "source": [
    "import tensorflow as tf\n",
    "def cosine_sim(logits):\n",
    "    x_ = tf.expand_dims(logits, 0)\n",
    "    y_ = tf.expand_dims(logits, 1)\n",
    "    xN = tf.sqrt(tf.reduce_sum(tf.reshape((x_[None]*y_[:,None])*0+x_[None]**2, [-1, logits.shape[1]]),axis=1))\n",
    "    yN = tf.sqrt(tf.reduce_sum(tf.reshape((x_[None]*y_[:,None])*0+y_[:,None]**2, [-1, logits.shape[1]]),axis=1))\n",
    "    #z = tf.reshape(cosine_loss(y_true, y_pred), [-1, logits.shape[1]]), reduction_indices=[1])),axis=0)    \n",
    "    z = tf.reduce_sum(tf.reshape((x_[None]*y_[:,None]), [-1, logits.shape[1]]),axis=1)/(xN*yN)\n",
    "    return z"
   ]
  },
  {
   "cell_type": "code",
   "execution_count": null,
   "metadata": {},
   "outputs": [],
   "source": [
    "import tensorflow as tf\n",
    "def cosine_sim(logits):\n",
    "    x_ = tf.expand_dims(logits, 0)\n",
    "    y_ = tf.expand_dims(logits, 1)\n",
    "    xN = tf.sqrt(tf.reduce_sum(tf.reshape((x_[None]*y_[:,None])*0+x_[None]**2, [-1, logits.shape[1]]),axis=1))\n",
    "    yN = tf.sqrt(tf.reduce_sum(tf.reshape((x_[None]*y_[:,None])*0+y_[:,None]**2, [-1, logits.shape[1]]),axis=1))\n",
    "    #z = tf.reshape(cosine_loss(y_true, y_pred), [-1, logits.shape[1]]), reduction_indices=[1])),axis=0)    \n",
    "    z = tf.reduce_sum(tf.reshape((x_[None]*y_[:,None]), [-1, logits.shape[1]]),axis=1)/(xN*yN)\n",
    "    return z\n",
    "\n",
    "sess = tf.Session()\n",
    "logits = tf.constant(genes_df_scaled.values, dtype=tf.float32)\n",
    "A = sess.run(cosine_sim(logits))"
   ]
  },
  {
   "cell_type": "code",
   "execution_count": null,
   "metadata": {},
   "outputs": [],
   "source": [
    "m = int(np.sqrt(len(A)))\n",
    "A = np.reshape(A,(m,m))"
   ]
  },
  {
   "cell_type": "code",
   "execution_count": null,
   "metadata": {},
   "outputs": [],
   "source": [
    "pd.DataFrame(A).to_csv('graph_Luminal_B_101_BRCA1View20000.csv')"
   ]
  },
  {
   "cell_type": "code",
   "execution_count": null,
   "metadata": {},
   "outputs": [],
   "source": [
    "import networkx as nx\n",
    "G=nx.from_numpy_matrix(A)"
   ]
  },
  {
   "cell_type": "code",
   "execution_count": null,
   "metadata": {},
   "outputs": [],
   "source": [
    "from IPython.display import Image\n",
    "\n",
    "def save(A):\n",
    "    open(\"graph.png\",\"wb\").write(A.draw(format='png', prog='dot'))\n",
    "\n",
    "pos = nx.drawing.nx_agraph.graphviz_layout(G, prog='neato')\n",
    "#print(edge_labels)\n",
    "# Modify node fillcolor and edge color.\n",
    "#D.node_attr.update(color='blue', style='filled', fillcolor='yellow')\n",
    "#D.edge_attr.update(color='blue', arrowsize=1)\n",
    "A = nx.nx_agraph.to_agraph(G)\n",
    "A.graph_attr[\"rankdir\"] = \"LR\"\n",
    "# draw it in the notebook\n",
    "save(A)"
   ]
  },
  {
   "cell_type": "code",
   "execution_count": null,
   "metadata": {},
   "outputs": [],
   "source": []
  }
 ],
 "metadata": {
  "kernelspec": {
   "display_name": "Python 3",
   "language": "python",
   "name": "python3"
  },
  "language_info": {
   "codemirror_mode": {
    "name": "ipython",
    "version": 3
   },
   "file_extension": ".py",
   "mimetype": "text/x-python",
   "name": "python",
   "nbconvert_exporter": "python",
   "pygments_lexer": "ipython3",
   "version": "3.7.3"
  }
 },
 "nbformat": 4,
 "nbformat_minor": 4
}
