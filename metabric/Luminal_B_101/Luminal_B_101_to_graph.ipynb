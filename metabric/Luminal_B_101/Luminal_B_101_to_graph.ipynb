{
 "cells": [
  {
   "cell_type": "code",
   "execution_count": 1,
   "metadata": {},
   "outputs": [],
   "source": [
    "%load_ext autoreload\n",
    "%autoreload 2\n",
    "%matplotlib inline"
   ]
  },
  {
   "cell_type": "code",
   "execution_count": 45,
   "metadata": {},
   "outputs": [],
   "source": [
    "from IPython.display import display, Markdown, Latex"
   ]
  },
  {
   "cell_type": "code",
   "execution_count": 2,
   "metadata": {},
   "outputs": [],
   "source": [
    "from pathlib import Path\n",
    "home = str(Path.home())"
   ]
  },
  {
   "cell_type": "code",
   "execution_count": 3,
   "metadata": {},
   "outputs": [],
   "source": [
    "import sys\n",
    "sys.path.insert(0,f'{home}/knowledgelib/')"
   ]
  },
  {
   "cell_type": "code",
   "execution_count": 4,
   "metadata": {},
   "outputs": [],
   "source": [
    "import pyknowledge"
   ]
  },
  {
   "cell_type": "code",
   "execution_count": 5,
   "metadata": {},
   "outputs": [],
   "source": [
    "import pandas as pd\n",
    "from sklearn.preprocessing import StandardScaler"
   ]
  },
  {
   "cell_type": "code",
   "execution_count": 6,
   "metadata": {},
   "outputs": [],
   "source": [
    "import scipy.io\n",
    "import pandas as pd\n",
    "import numpy as np\n",
    "\n",
    "mat = scipy.io.loadmat(\"/disk/metabric/BRCA1View20000.mat\")"
   ]
  },
  {
   "cell_type": "code",
   "execution_count": 7,
   "metadata": {},
   "outputs": [
    {
     "data": {
      "text/plain": [
       "0          SCGB2A2\n",
       "1            MUCL1\n",
       "2          SCGB1D2\n",
       "3              PIP\n",
       "4        LOC648852\n",
       "           ...    \n",
       "19995    LOC642453\n",
       "19996    LOC652100\n",
       "19997    LOC646050\n",
       "19998    LOC644912\n",
       "19999    LOC652294\n",
       "Length: 20000, dtype: object"
      ]
     },
     "execution_count": 7,
     "metadata": {},
     "output_type": "execute_result"
    }
   ],
   "source": [
    "gene_labels = open(\"gene_labels.txt\").read().split(\"\\n\")\n",
    "pd.Series(gene_labels)"
   ]
  },
  {
   "cell_type": "code",
   "execution_count": 8,
   "metadata": {},
   "outputs": [
    {
     "data": {
      "text/html": [
       "<div>\n",
       "<style scoped>\n",
       "    .dataframe tbody tr th:only-of-type {\n",
       "        vertical-align: middle;\n",
       "    }\n",
       "\n",
       "    .dataframe tbody tr th {\n",
       "        vertical-align: top;\n",
       "    }\n",
       "\n",
       "    .dataframe thead th {\n",
       "        text-align: right;\n",
       "    }\n",
       "</style>\n",
       "<table border=\"1\" class=\"dataframe\">\n",
       "  <thead>\n",
       "    <tr style=\"text-align: right;\">\n",
       "      <th></th>\n",
       "      <th>SCGB2A2</th>\n",
       "      <th>MUCL1</th>\n",
       "      <th>SCGB1D2</th>\n",
       "      <th>PIP</th>\n",
       "      <th>LOC648852</th>\n",
       "      <th>DNAJA2</th>\n",
       "      <th>TFF3</th>\n",
       "      <th>S100P</th>\n",
       "      <th>CPB1</th>\n",
       "      <th>CEACAM6</th>\n",
       "      <th>...</th>\n",
       "      <th>LOC645307</th>\n",
       "      <th>IL1RAP</th>\n",
       "      <th>LOC647149</th>\n",
       "      <th>LOC642453</th>\n",
       "      <th>LOC652100</th>\n",
       "      <th>LOC646050</th>\n",
       "      <th>LOC644912</th>\n",
       "      <th>LOC652294</th>\n",
       "      <th>target</th>\n",
       "      <th>Subtype</th>\n",
       "    </tr>\n",
       "  </thead>\n",
       "  <tbody>\n",
       "    <tr>\n",
       "      <th>0</th>\n",
       "      <td>6.365374</td>\n",
       "      <td>5.610561</td>\n",
       "      <td>5.134799</td>\n",
       "      <td>5.735802</td>\n",
       "      <td>5.855315</td>\n",
       "      <td>5.443985</td>\n",
       "      <td>8.005882</td>\n",
       "      <td>5.615179</td>\n",
       "      <td>6.682096</td>\n",
       "      <td>5.756946</td>\n",
       "      <td>...</td>\n",
       "      <td>5.420998</td>\n",
       "      <td>5.396492</td>\n",
       "      <td>5.358751</td>\n",
       "      <td>5.424770</td>\n",
       "      <td>5.411055</td>\n",
       "      <td>5.242460</td>\n",
       "      <td>5.197767</td>\n",
       "      <td>5.643537</td>\n",
       "      <td>6</td>\n",
       "      <td>Normal</td>\n",
       "    </tr>\n",
       "    <tr>\n",
       "      <th>1</th>\n",
       "      <td>14.330442</td>\n",
       "      <td>7.979139</td>\n",
       "      <td>10.244240</td>\n",
       "      <td>7.138279</td>\n",
       "      <td>9.890661</td>\n",
       "      <td>11.195867</td>\n",
       "      <td>13.511164</td>\n",
       "      <td>10.548596</td>\n",
       "      <td>5.491578</td>\n",
       "      <td>6.805606</td>\n",
       "      <td>...</td>\n",
       "      <td>5.167652</td>\n",
       "      <td>5.273045</td>\n",
       "      <td>5.287980</td>\n",
       "      <td>5.398061</td>\n",
       "      <td>5.226934</td>\n",
       "      <td>5.396744</td>\n",
       "      <td>5.352158</td>\n",
       "      <td>5.811813</td>\n",
       "      <td>4</td>\n",
       "      <td>LumB</td>\n",
       "    </tr>\n",
       "    <tr>\n",
       "      <th>2</th>\n",
       "      <td>14.388331</td>\n",
       "      <td>6.016715</td>\n",
       "      <td>12.164435</td>\n",
       "      <td>5.272691</td>\n",
       "      <td>6.468386</td>\n",
       "      <td>5.265518</td>\n",
       "      <td>13.386034</td>\n",
       "      <td>8.764722</td>\n",
       "      <td>7.331663</td>\n",
       "      <td>11.967719</td>\n",
       "      <td>...</td>\n",
       "      <td>5.327874</td>\n",
       "      <td>5.549589</td>\n",
       "      <td>5.333051</td>\n",
       "      <td>5.368544</td>\n",
       "      <td>5.296182</td>\n",
       "      <td>5.694022</td>\n",
       "      <td>5.459744</td>\n",
       "      <td>5.269015</td>\n",
       "      <td>4</td>\n",
       "      <td>LumB</td>\n",
       "    </tr>\n",
       "    <tr>\n",
       "      <th>3</th>\n",
       "      <td>13.111243</td>\n",
       "      <td>7.251862</td>\n",
       "      <td>8.389121</td>\n",
       "      <td>8.664654</td>\n",
       "      <td>10.378585</td>\n",
       "      <td>5.544646</td>\n",
       "      <td>11.159766</td>\n",
       "      <td>8.263224</td>\n",
       "      <td>5.497906</td>\n",
       "      <td>5.923506</td>\n",
       "      <td>...</td>\n",
       "      <td>5.009093</td>\n",
       "      <td>5.345468</td>\n",
       "      <td>5.176322</td>\n",
       "      <td>5.326991</td>\n",
       "      <td>5.480259</td>\n",
       "      <td>5.292691</td>\n",
       "      <td>5.242160</td>\n",
       "      <td>5.635111</td>\n",
       "      <td>5</td>\n",
       "      <td>Normal Like</td>\n",
       "    </tr>\n",
       "    <tr>\n",
       "      <th>4</th>\n",
       "      <td>12.243103</td>\n",
       "      <td>7.293489</td>\n",
       "      <td>10.919581</td>\n",
       "      <td>9.566137</td>\n",
       "      <td>8.503568</td>\n",
       "      <td>11.492583</td>\n",
       "      <td>11.531352</td>\n",
       "      <td>9.818938</td>\n",
       "      <td>9.443134</td>\n",
       "      <td>6.889670</td>\n",
       "      <td>...</td>\n",
       "      <td>5.487783</td>\n",
       "      <td>5.479967</td>\n",
       "      <td>5.332074</td>\n",
       "      <td>5.273141</td>\n",
       "      <td>5.282872</td>\n",
       "      <td>5.222482</td>\n",
       "      <td>5.186136</td>\n",
       "      <td>5.616094</td>\n",
       "      <td>3</td>\n",
       "      <td>LumA</td>\n",
       "    </tr>\n",
       "  </tbody>\n",
       "</table>\n",
       "<p>5 rows × 20002 columns</p>\n",
       "</div>"
      ],
      "text/plain": [
       "     SCGB2A2     MUCL1    SCGB1D2       PIP  LOC648852     DNAJA2       TFF3  \\\n",
       "0   6.365374  5.610561   5.134799  5.735802   5.855315   5.443985   8.005882   \n",
       "1  14.330442  7.979139  10.244240  7.138279   9.890661  11.195867  13.511164   \n",
       "2  14.388331  6.016715  12.164435  5.272691   6.468386   5.265518  13.386034   \n",
       "3  13.111243  7.251862   8.389121  8.664654  10.378585   5.544646  11.159766   \n",
       "4  12.243103  7.293489  10.919581  9.566137   8.503568  11.492583  11.531352   \n",
       "\n",
       "       S100P      CPB1    CEACAM6  ...  LOC645307    IL1RAP  LOC647149  \\\n",
       "0   5.615179  6.682096   5.756946  ...   5.420998  5.396492   5.358751   \n",
       "1  10.548596  5.491578   6.805606  ...   5.167652  5.273045   5.287980   \n",
       "2   8.764722  7.331663  11.967719  ...   5.327874  5.549589   5.333051   \n",
       "3   8.263224  5.497906   5.923506  ...   5.009093  5.345468   5.176322   \n",
       "4   9.818938  9.443134   6.889670  ...   5.487783  5.479967   5.332074   \n",
       "\n",
       "   LOC642453  LOC652100  LOC646050  LOC644912  LOC652294  target      Subtype  \n",
       "0   5.424770   5.411055   5.242460   5.197767   5.643537       6       Normal  \n",
       "1   5.398061   5.226934   5.396744   5.352158   5.811813       4         LumB  \n",
       "2   5.368544   5.296182   5.694022   5.459744   5.269015       4         LumB  \n",
       "3   5.326991   5.480259   5.292691   5.242160   5.635111       5  Normal Like  \n",
       "4   5.273141   5.282872   5.222482   5.186136   5.616094       3         LumA  \n",
       "\n",
       "[5 rows x 20002 columns]"
      ]
     },
     "execution_count": 8,
     "metadata": {},
     "output_type": "execute_result"
    }
   ],
   "source": [
    "gene_labels = [g[0] for g in mat['gene'][0]]\n",
    "df = pd.DataFrame(mat['data'].transpose(), columns=gene_labels)\n",
    "# df['id'] = mat['id'][0]\n",
    "df['target'] = mat['targets']\n",
    "df['Subtype'] = df.target.map({1:'Basal',2:'HER2+',3:'LumA',4:'LumB',5:'Normal Like',6:'Normal'})\n",
    "df.head()"
   ]
  },
  {
   "cell_type": "code",
   "execution_count": 22,
   "metadata": {},
   "outputs": [],
   "source": [
    "lum_genes = pd.read_csv('Luminal_B_101_Gene_List.csv')\n",
    "\n",
    "genes_df = df.loc[:,df.columns.isin(lum_genes[\"Gene\"])]"
   ]
  },
  {
   "cell_type": "markdown",
   "metadata": {},
   "source": [
    "## Here is where we would select difference scalers"
   ]
  },
  {
   "cell_type": "code",
   "execution_count": 9,
   "metadata": {},
   "outputs": [],
   "source": [
    "scaler = None\n",
    "\n",
    "if scaler is None:\n",
    "    scaler = StandardScaler()\n",
    "    scaler.fit(genes_df)\n",
    "\n",
    "genes_df_scaled = pd.DataFrame(scaler.transform(genes_df),index=genes_df.index,columns=genes_df.columns).fillna(0)"
   ]
  },
  {
   "cell_type": "code",
   "execution_count": 10,
   "metadata": {},
   "outputs": [
    {
     "data": {
      "text/html": [
       "<div>\n",
       "<style scoped>\n",
       "    .dataframe tbody tr th:only-of-type {\n",
       "        vertical-align: middle;\n",
       "    }\n",
       "\n",
       "    .dataframe tbody tr th {\n",
       "        vertical-align: top;\n",
       "    }\n",
       "\n",
       "    .dataframe thead th {\n",
       "        text-align: right;\n",
       "    }\n",
       "</style>\n",
       "<table border=\"1\" class=\"dataframe\">\n",
       "  <thead>\n",
       "    <tr style=\"text-align: right;\">\n",
       "      <th></th>\n",
       "      <th>CCND1</th>\n",
       "      <th>FAM83H</th>\n",
       "      <th>C17orf28</th>\n",
       "      <th>FAM83D</th>\n",
       "      <th>SRGAP1</th>\n",
       "      <th>UBE2C</th>\n",
       "      <th>BOP1</th>\n",
       "      <th>BRF2</th>\n",
       "      <th>KIFC2</th>\n",
       "      <th>TROAP</th>\n",
       "      <th>...</th>\n",
       "      <th>RAD54B</th>\n",
       "      <th>NFKBIL2</th>\n",
       "      <th>ZBTB10</th>\n",
       "      <th>PSMC3IP</th>\n",
       "      <th>LETM2</th>\n",
       "      <th>BRCA1</th>\n",
       "      <th>FAM82B</th>\n",
       "      <th>MYBL2</th>\n",
       "      <th>FRS2</th>\n",
       "      <th>CIT</th>\n",
       "    </tr>\n",
       "  </thead>\n",
       "  <tbody>\n",
       "    <tr>\n",
       "      <th>0</th>\n",
       "      <td>-0.100659</td>\n",
       "      <td>-3.189314</td>\n",
       "      <td>-1.163106</td>\n",
       "      <td>-1.368472</td>\n",
       "      <td>0.197607</td>\n",
       "      <td>-2.160346</td>\n",
       "      <td>-1.268345</td>\n",
       "      <td>0.235924</td>\n",
       "      <td>-0.933807</td>\n",
       "      <td>-1.898709</td>\n",
       "      <td>...</td>\n",
       "      <td>-1.410917</td>\n",
       "      <td>-0.539807</td>\n",
       "      <td>-0.990863</td>\n",
       "      <td>-1.394209</td>\n",
       "      <td>-1.683707</td>\n",
       "      <td>-1.760110</td>\n",
       "      <td>0.504558</td>\n",
       "      <td>-0.916205</td>\n",
       "      <td>-1.437369</td>\n",
       "      <td>1.309344</td>\n",
       "    </tr>\n",
       "    <tr>\n",
       "      <th>1</th>\n",
       "      <td>-0.396379</td>\n",
       "      <td>1.923176</td>\n",
       "      <td>0.505856</td>\n",
       "      <td>-0.638042</td>\n",
       "      <td>1.477128</td>\n",
       "      <td>0.040077</td>\n",
       "      <td>2.057732</td>\n",
       "      <td>2.492817</td>\n",
       "      <td>2.267095</td>\n",
       "      <td>-0.076725</td>\n",
       "      <td>...</td>\n",
       "      <td>0.275690</td>\n",
       "      <td>0.731575</td>\n",
       "      <td>-0.143936</td>\n",
       "      <td>-0.736753</td>\n",
       "      <td>-0.378679</td>\n",
       "      <td>-0.281442</td>\n",
       "      <td>1.326211</td>\n",
       "      <td>1.086842</td>\n",
       "      <td>-0.746088</td>\n",
       "      <td>-0.877594</td>\n",
       "    </tr>\n",
       "    <tr>\n",
       "      <th>2</th>\n",
       "      <td>0.153928</td>\n",
       "      <td>2.076008</td>\n",
       "      <td>0.727836</td>\n",
       "      <td>-0.948505</td>\n",
       "      <td>0.592500</td>\n",
       "      <td>-0.527023</td>\n",
       "      <td>1.303371</td>\n",
       "      <td>0.617340</td>\n",
       "      <td>1.742926</td>\n",
       "      <td>-0.027667</td>\n",
       "      <td>...</td>\n",
       "      <td>-0.095986</td>\n",
       "      <td>-1.137496</td>\n",
       "      <td>-1.343864</td>\n",
       "      <td>-0.062959</td>\n",
       "      <td>0.889682</td>\n",
       "      <td>1.095956</td>\n",
       "      <td>2.489593</td>\n",
       "      <td>0.528456</td>\n",
       "      <td>0.021510</td>\n",
       "      <td>-0.872164</td>\n",
       "    </tr>\n",
       "    <tr>\n",
       "      <th>3</th>\n",
       "      <td>0.764704</td>\n",
       "      <td>0.830027</td>\n",
       "      <td>-0.425847</td>\n",
       "      <td>-0.142911</td>\n",
       "      <td>0.458682</td>\n",
       "      <td>0.967930</td>\n",
       "      <td>1.843483</td>\n",
       "      <td>-0.298788</td>\n",
       "      <td>1.120019</td>\n",
       "      <td>1.767628</td>\n",
       "      <td>...</td>\n",
       "      <td>-0.692801</td>\n",
       "      <td>1.483901</td>\n",
       "      <td>-1.242918</td>\n",
       "      <td>0.485040</td>\n",
       "      <td>-0.336100</td>\n",
       "      <td>1.149192</td>\n",
       "      <td>0.498185</td>\n",
       "      <td>-1.617987</td>\n",
       "      <td>0.403393</td>\n",
       "      <td>2.220044</td>\n",
       "    </tr>\n",
       "    <tr>\n",
       "      <th>4</th>\n",
       "      <td>1.547597</td>\n",
       "      <td>0.188069</td>\n",
       "      <td>1.024349</td>\n",
       "      <td>-0.520472</td>\n",
       "      <td>0.484273</td>\n",
       "      <td>0.318252</td>\n",
       "      <td>-0.363769</td>\n",
       "      <td>2.339653</td>\n",
       "      <td>0.595944</td>\n",
       "      <td>0.124801</td>\n",
       "      <td>...</td>\n",
       "      <td>-0.001107</td>\n",
       "      <td>-0.621344</td>\n",
       "      <td>-1.815289</td>\n",
       "      <td>1.112204</td>\n",
       "      <td>1.060896</td>\n",
       "      <td>1.191882</td>\n",
       "      <td>-1.432317</td>\n",
       "      <td>2.028444</td>\n",
       "      <td>0.153414</td>\n",
       "      <td>-0.619178</td>\n",
       "    </tr>\n",
       "  </tbody>\n",
       "</table>\n",
       "<p>5 rows × 90 columns</p>\n",
       "</div>"
      ],
      "text/plain": [
       "      CCND1    FAM83H  C17orf28    FAM83D    SRGAP1     UBE2C      BOP1  \\\n",
       "0 -0.100659 -3.189314 -1.163106 -1.368472  0.197607 -2.160346 -1.268345   \n",
       "1 -0.396379  1.923176  0.505856 -0.638042  1.477128  0.040077  2.057732   \n",
       "2  0.153928  2.076008  0.727836 -0.948505  0.592500 -0.527023  1.303371   \n",
       "3  0.764704  0.830027 -0.425847 -0.142911  0.458682  0.967930  1.843483   \n",
       "4  1.547597  0.188069  1.024349 -0.520472  0.484273  0.318252 -0.363769   \n",
       "\n",
       "       BRF2     KIFC2     TROAP  ...    RAD54B   NFKBIL2    ZBTB10   PSMC3IP  \\\n",
       "0  0.235924 -0.933807 -1.898709  ... -1.410917 -0.539807 -0.990863 -1.394209   \n",
       "1  2.492817  2.267095 -0.076725  ...  0.275690  0.731575 -0.143936 -0.736753   \n",
       "2  0.617340  1.742926 -0.027667  ... -0.095986 -1.137496 -1.343864 -0.062959   \n",
       "3 -0.298788  1.120019  1.767628  ... -0.692801  1.483901 -1.242918  0.485040   \n",
       "4  2.339653  0.595944  0.124801  ... -0.001107 -0.621344 -1.815289  1.112204   \n",
       "\n",
       "      LETM2     BRCA1    FAM82B     MYBL2      FRS2       CIT  \n",
       "0 -1.683707 -1.760110  0.504558 -0.916205 -1.437369  1.309344  \n",
       "1 -0.378679 -0.281442  1.326211  1.086842 -0.746088 -0.877594  \n",
       "2  0.889682  1.095956  2.489593  0.528456  0.021510 -0.872164  \n",
       "3 -0.336100  1.149192  0.498185 -1.617987  0.403393  2.220044  \n",
       "4  1.060896  1.191882 -1.432317  2.028444  0.153414 -0.619178  \n",
       "\n",
       "[5 rows x 90 columns]"
      ]
     },
     "execution_count": 10,
     "metadata": {},
     "output_type": "execute_result"
    }
   ],
   "source": [
    "genes_df_scaled.head()"
   ]
  },
  {
   "cell_type": "markdown",
   "metadata": {},
   "source": [
    "### Look at the genes individually"
   ]
  },
  {
   "cell_type": "code",
   "execution_count": 25,
   "metadata": {},
   "outputs": [
    {
     "data": {
      "text/html": [
       "<div>\n",
       "<style scoped>\n",
       "    .dataframe tbody tr th:only-of-type {\n",
       "        vertical-align: middle;\n",
       "    }\n",
       "\n",
       "    .dataframe tbody tr th {\n",
       "        vertical-align: top;\n",
       "    }\n",
       "\n",
       "    .dataframe thead th {\n",
       "        text-align: right;\n",
       "    }\n",
       "</style>\n",
       "<table border=\"1\" class=\"dataframe\">\n",
       "  <thead>\n",
       "    <tr style=\"text-align: right;\">\n",
       "      <th></th>\n",
       "      <th>Subtype</th>\n",
       "      <th>target</th>\n",
       "      <th>Gene</th>\n",
       "      <th>Value</th>\n",
       "      <th>Count</th>\n",
       "    </tr>\n",
       "  </thead>\n",
       "  <tbody>\n",
       "    <tr>\n",
       "      <th>0</th>\n",
       "      <td>Basal</td>\n",
       "      <td>1</td>\n",
       "      <td>CCND1</td>\n",
       "      <td>-1.097702</td>\n",
       "      <td>29700</td>\n",
       "    </tr>\n",
       "    <tr>\n",
       "      <th>1</th>\n",
       "      <td>Basal</td>\n",
       "      <td>1</td>\n",
       "      <td>CCND1</td>\n",
       "      <td>-1.959590</td>\n",
       "      <td>29700</td>\n",
       "    </tr>\n",
       "    <tr>\n",
       "      <th>2</th>\n",
       "      <td>Basal</td>\n",
       "      <td>1</td>\n",
       "      <td>CCND1</td>\n",
       "      <td>-1.669629</td>\n",
       "      <td>29700</td>\n",
       "    </tr>\n",
       "    <tr>\n",
       "      <th>3</th>\n",
       "      <td>Basal</td>\n",
       "      <td>1</td>\n",
       "      <td>CCND1</td>\n",
       "      <td>-0.945976</td>\n",
       "      <td>29700</td>\n",
       "    </tr>\n",
       "    <tr>\n",
       "      <th>4</th>\n",
       "      <td>Basal</td>\n",
       "      <td>1</td>\n",
       "      <td>CCND1</td>\n",
       "      <td>-1.037353</td>\n",
       "      <td>29700</td>\n",
       "    </tr>\n",
       "    <tr>\n",
       "      <th>...</th>\n",
       "      <td>...</td>\n",
       "      <td>...</td>\n",
       "      <td>...</td>\n",
       "      <td>...</td>\n",
       "      <td>...</td>\n",
       "    </tr>\n",
       "    <tr>\n",
       "      <th>191965</th>\n",
       "      <td>Normal Like</td>\n",
       "      <td>5</td>\n",
       "      <td>CIT</td>\n",
       "      <td>-1.315802</td>\n",
       "      <td>18180</td>\n",
       "    </tr>\n",
       "    <tr>\n",
       "      <th>191966</th>\n",
       "      <td>Normal Like</td>\n",
       "      <td>5</td>\n",
       "      <td>CIT</td>\n",
       "      <td>1.581201</td>\n",
       "      <td>18180</td>\n",
       "    </tr>\n",
       "    <tr>\n",
       "      <th>191967</th>\n",
       "      <td>Normal Like</td>\n",
       "      <td>5</td>\n",
       "      <td>CIT</td>\n",
       "      <td>-0.080073</td>\n",
       "      <td>18180</td>\n",
       "    </tr>\n",
       "    <tr>\n",
       "      <th>191968</th>\n",
       "      <td>Normal Like</td>\n",
       "      <td>5</td>\n",
       "      <td>CIT</td>\n",
       "      <td>-0.119161</td>\n",
       "      <td>18180</td>\n",
       "    </tr>\n",
       "    <tr>\n",
       "      <th>191969</th>\n",
       "      <td>Normal Like</td>\n",
       "      <td>5</td>\n",
       "      <td>CIT</td>\n",
       "      <td>-0.289078</td>\n",
       "      <td>18180</td>\n",
       "    </tr>\n",
       "  </tbody>\n",
       "</table>\n",
       "<p>191970 rows × 5 columns</p>\n",
       "</div>"
      ],
      "text/plain": [
       "            Subtype  target   Gene     Value  Count\n",
       "0             Basal       1  CCND1 -1.097702  29700\n",
       "1             Basal       1  CCND1 -1.959590  29700\n",
       "2             Basal       1  CCND1 -1.669629  29700\n",
       "3             Basal       1  CCND1 -0.945976  29700\n",
       "4             Basal       1  CCND1 -1.037353  29700\n",
       "...             ...     ...    ...       ...    ...\n",
       "191965  Normal Like       5    CIT -1.315802  18180\n",
       "191966  Normal Like       5    CIT  1.581201  18180\n",
       "191967  Normal Like       5    CIT -0.080073  18180\n",
       "191968  Normal Like       5    CIT -0.119161  18180\n",
       "191969  Normal Like       5    CIT -0.289078  18180\n",
       "\n",
       "[191970 rows x 5 columns]"
      ]
     },
     "execution_count": 25,
     "metadata": {},
     "output_type": "execute_result"
    }
   ],
   "source": [
    "source = genes_df_scaled.join(df[['Subtype','target']]).melt(id_vars=['Subtype','target'])\n",
    "source.columns = [\"Subtype\",\"target\",\"Gene\",\"Value\"]\n",
    "counts = source.groupby('Subtype')['target'].count().to_frame()\n",
    "counts.columns = ['Count']\n",
    "source = source.set_index('Subtype').join(counts).reset_index()\n",
    "# use the url approach to keep notebook smaller\n",
    "url = 'Luminal_B_101_to_graph_fig1'\n",
    "pyknowledge.plot.prepare_url(source,url)\n",
    "source"
   ]
  },
  {
   "cell_type": "code",
   "execution_count": 26,
   "metadata": {},
   "outputs": [
    {
     "data": {
      "text/html": [
       "\n",
       "<div id=\"altair-viz-496b5907b79c42bd8a3e15c7a3f4bbfa\"></div>\n",
       "<script type=\"text/javascript\">\n",
       "  (function(spec, embedOpt){\n",
       "    let outputDiv = document.currentScript.previousElementSibling;\n",
       "    if (outputDiv.id !== \"altair-viz-496b5907b79c42bd8a3e15c7a3f4bbfa\") {\n",
       "      outputDiv = document.getElementById(\"altair-viz-496b5907b79c42bd8a3e15c7a3f4bbfa\");\n",
       "    }\n",
       "    const paths = {\n",
       "      \"vega\": \"https://cdn.jsdelivr.net/npm//vega@5?noext\",\n",
       "      \"vega-lib\": \"https://cdn.jsdelivr.net/npm//vega-lib?noext\",\n",
       "      \"vega-lite\": \"https://cdn.jsdelivr.net/npm//vega-lite@4.8.1?noext\",\n",
       "      \"vega-embed\": \"https://cdn.jsdelivr.net/npm//vega-embed@6?noext\",\n",
       "    };\n",
       "\n",
       "    function loadScript(lib) {\n",
       "      return new Promise(function(resolve, reject) {\n",
       "        var s = document.createElement('script');\n",
       "        s.src = paths[lib];\n",
       "        s.async = true;\n",
       "        s.onload = () => resolve(paths[lib]);\n",
       "        s.onerror = () => reject(`Error loading script: ${paths[lib]}`);\n",
       "        document.getElementsByTagName(\"head\")[0].appendChild(s);\n",
       "      });\n",
       "    }\n",
       "\n",
       "    function showError(err) {\n",
       "      outputDiv.innerHTML = `<div class=\"error\" style=\"color:red;\">${err}</div>`;\n",
       "      throw err;\n",
       "    }\n",
       "\n",
       "    function displayChart(vegaEmbed) {\n",
       "      vegaEmbed(outputDiv, spec, embedOpt)\n",
       "        .catch(err => showError(`Javascript Error: ${err.message}<br>This usually means there's a typo in your chart specification. See the javascript console for the full traceback.`));\n",
       "    }\n",
       "\n",
       "    if(typeof define === \"function\" && define.amd) {\n",
       "      requirejs.config({paths});\n",
       "      require([\"vega-embed\"], displayChart, err => showError(`Error loading script: ${err.message}`));\n",
       "    } else if (typeof vegaEmbed === \"function\") {\n",
       "      displayChart(vegaEmbed);\n",
       "    } else {\n",
       "      loadScript(\"vega\")\n",
       "        .then(() => loadScript(\"vega-lite\"))\n",
       "        .then(() => loadScript(\"vega-embed\"))\n",
       "        .catch(showError)\n",
       "        .then(() => displayChart(vegaEmbed));\n",
       "    }\n",
       "  })({\"config\": {\"view\": {\"continuousWidth\": 400, \"continuousHeight\": 300}}, \"data\": {\"url\": \"Luminal_B_101_to_graph_fig1\"}, \"mark\": {\"type\": \"area\", \"interpolate\": \"step\", \"opacity\": 0.3}, \"encoding\": {\"color\": {\"type\": \"nominal\", \"field\": \"Subtype\"}, \"row\": {\"type\": \"nominal\", \"field\": \"Gene\"}, \"x\": {\"type\": \"quantitative\", \"bin\": {\"maxbins\": 100}, \"field\": \"Value\"}, \"y\": {\"type\": \"quantitative\", \"aggregate\": \"sum\", \"axis\": {\"format\": \"%\"}, \"field\": \"pct\", \"stack\": null}}, \"transform\": [{\"calculate\": \"100 / datum.Count\", \"as\": \"pct\"}], \"$schema\": \"https://vega.github.io/schema/vega-lite/v4.8.1.json\"}, {\"mode\": \"vega-lite\"});\n",
       "</script>"
      ],
      "text/plain": [
       "alt.Chart(...)"
      ]
     },
     "execution_count": 26,
     "metadata": {},
     "output_type": "execute_result"
    }
   ],
   "source": [
    "pyknowledge.plot.histogram_1(url,'Value','Subtype','Gene')"
   ]
  },
  {
   "cell_type": "markdown",
   "metadata": {},
   "source": [
    "## Knowledge Overview\n",
    "These genes are deemed important based on previous research into the LuminalB subtype. The pattern is unspecified and is a set of genes. As previously mentioned, the relationship between pairs of samples is the input to the modified cross-entropy loss function. This requires defining a distance between samples. We define the distance as the number of the number of LumB genes within one standard deviation of one another."
   ]
  },
  {
   "cell_type": "code",
   "execution_count": 28,
   "metadata": {},
   "outputs": [],
   "source": [
    "# get us ready to parallize distance\n",
    "ncores = 7\n",
    "pair_ixs = pyknowledge.common.get_pair_inxs(df.shape[0])\n",
    "chunks_pair_ixs = list(pyknowledge.common.divide_chunks(pair_ixs,pyknowledge.common.calc_len_chunk(len(pair_ixs),ncores)))"
   ]
  },
  {
   "cell_type": "code",
   "execution_count": 29,
   "metadata": {},
   "outputs": [],
   "source": [
    "from joblib import Parallel, delayed"
   ]
  },
  {
   "cell_type": "code",
   "execution_count": 37,
   "metadata": {},
   "outputs": [],
   "source": [
    "helper = lambda distance_func: pd.concat(Parallel(n_jobs=-1)(delayed(pyknowledge.distance.chunk_distance)(genes_df_scaled,chunk,distance_func) for chunk in chunks_pair_ixs))"
   ]
  },
  {
   "cell_type": "code",
   "execution_count": 38,
   "metadata": {},
   "outputs": [],
   "source": [
    "DL1 = helper(pyknowledge.distance.L1)"
   ]
  },
  {
   "cell_type": "code",
   "execution_count": 39,
   "metadata": {},
   "outputs": [],
   "source": [
    "DL2 = helper(pyknowledge.distance.L2)"
   ]
  },
  {
   "cell_type": "code",
   "execution_count": 40,
   "metadata": {},
   "outputs": [],
   "source": [
    "DFSIGN = helper(pyknowledge.distance.FSIGN)"
   ]
  },
  {
   "cell_type": "code",
   "execution_count": 41,
   "metadata": {},
   "outputs": [
    {
     "data": {
      "text/plain": [
       "DataTransformerRegistry.enable('default')"
      ]
     },
     "execution_count": 41,
     "metadata": {},
     "output_type": "execute_result"
    }
   ],
   "source": [
    "alt.data_transformers.disable_max_rows()"
   ]
  },
  {
   "cell_type": "code",
   "execution_count": 43,
   "metadata": {},
   "outputs": [],
   "source": [
    "Ds = {'DL1':DL1,'DL2':DL2,'DFSIGN':DFSIGN}"
   ]
  },
  {
   "cell_type": "code",
   "execution_count": 44,
   "metadata": {},
   "outputs": [],
   "source": [
    "distances = {}\n",
    "for key in Ds.keys():\n",
    "    distances[key] = pd.DataFrame(list(Ds[key]['distance']),columns=[key],index=Ds[key].index)"
   ]
  },
  {
   "cell_type": "code",
   "execution_count": 46,
   "metadata": {},
   "outputs": [],
   "source": [
    "for key in distances.keys():\n",
    "    distances[key] = pyknowledge.distance.remove_self_ref(distances[key]).dropna()"
   ]
  },
  {
   "cell_type": "code",
   "execution_count": 50,
   "metadata": {},
   "outputs": [],
   "source": [
    "for key in distances.keys():\n",
    "    distances[key] = pyknowledge.common.add_labels(df,distances[key])"
   ]
  },
  {
   "cell_type": "code",
   "execution_count": 51,
   "metadata": {
    "scrolled": true
   },
   "outputs": [
    {
     "data": {
      "text/html": [
       "<div>\n",
       "<style scoped>\n",
       "    .dataframe tbody tr th:only-of-type {\n",
       "        vertical-align: middle;\n",
       "    }\n",
       "\n",
       "    .dataframe tbody tr th {\n",
       "        vertical-align: top;\n",
       "    }\n",
       "\n",
       "    .dataframe thead th {\n",
       "        text-align: right;\n",
       "    }\n",
       "</style>\n",
       "<table border=\"1\" class=\"dataframe\">\n",
       "  <thead>\n",
       "    <tr style=\"text-align: right;\">\n",
       "      <th></th>\n",
       "      <th></th>\n",
       "      <th>DFSIGN</th>\n",
       "      <th>label1</th>\n",
       "      <th>label2</th>\n",
       "      <th>label1_label2</th>\n",
       "    </tr>\n",
       "    <tr>\n",
       "      <th>index1</th>\n",
       "      <th>index2</th>\n",
       "      <th></th>\n",
       "      <th></th>\n",
       "      <th></th>\n",
       "      <th></th>\n",
       "    </tr>\n",
       "  </thead>\n",
       "  <tbody>\n",
       "    <tr>\n",
       "      <th rowspan=\"5\" valign=\"top\">0</th>\n",
       "      <th>1</th>\n",
       "      <td>0.422222</td>\n",
       "      <td>Normal</td>\n",
       "      <td>LumB</td>\n",
       "      <td>Normal - LumB</td>\n",
       "    </tr>\n",
       "    <tr>\n",
       "      <th>2</th>\n",
       "      <td>0.433333</td>\n",
       "      <td>Normal</td>\n",
       "      <td>LumB</td>\n",
       "      <td>Normal - LumB</td>\n",
       "    </tr>\n",
       "    <tr>\n",
       "      <th>3</th>\n",
       "      <td>0.466667</td>\n",
       "      <td>Normal</td>\n",
       "      <td>Normal Like</td>\n",
       "      <td>Normal - Normal Like</td>\n",
       "    </tr>\n",
       "    <tr>\n",
       "      <th>4</th>\n",
       "      <td>0.366667</td>\n",
       "      <td>Normal</td>\n",
       "      <td>LumA</td>\n",
       "      <td>Normal - LumA</td>\n",
       "    </tr>\n",
       "    <tr>\n",
       "      <th>5</th>\n",
       "      <td>0.344444</td>\n",
       "      <td>Normal</td>\n",
       "      <td>HER2+</td>\n",
       "      <td>Normal - HER2+</td>\n",
       "    </tr>\n",
       "  </tbody>\n",
       "</table>\n",
       "</div>"
      ],
      "text/plain": [
       "                 DFSIGN  label1       label2         label1_label2\n",
       "index1 index2                                                     \n",
       "0      1       0.422222  Normal         LumB         Normal - LumB\n",
       "       2       0.433333  Normal         LumB         Normal - LumB\n",
       "       3       0.466667  Normal  Normal Like  Normal - Normal Like\n",
       "       4       0.366667  Normal         LumA         Normal - LumA\n",
       "       5       0.344444  Normal        HER2+        Normal - HER2+"
      ]
     },
     "execution_count": 51,
     "metadata": {},
     "output_type": "execute_result"
    }
   ],
   "source": [
    "distances[key].head()"
   ]
  },
  {
   "cell_type": "markdown",
   "metadata": {},
   "source": [
    "### Prepare our distances for plotting"
   ]
  },
  {
   "cell_type": "code",
   "execution_count": null,
   "metadata": {},
   "outputs": [],
   "source": [
    "subtypes = df.Subtype.unique()\n",
    "for subtype in subtypes:\n",
    "    for key in distances.keys():\n",
    "        source = pyknowledge.plot.prepare_source1(df,distances[key],subtype,subtypes)\n",
    "        group_counts = source.groupby('label1_label2')[key].count().to_frame()\n",
    "        group_counts.columns = ['Count']\n",
    "        source = source.set_index('label1_label2').join(group_counts).reset_index()\n",
    "        url = f\"{subtype}_{key}_hist.json\"\n",
    "        source.to_json(url,orient='records')"
   ]
  },
  {
   "cell_type": "code",
   "execution_count": null,
   "metadata": {},
   "outputs": [],
   "source": [
    "source.head()"
   ]
  },
  {
   "cell_type": "code",
   "execution_count": null,
   "metadata": {},
   "outputs": [],
   "source": [
    "subtypes = df.Subtype.unique()\n",
    "for key in distances.keys():\n",
    "    for subtype in [\"LumA\",\"LumB\"]:\n",
    "        url = f\"{subtype}_{key}_hist.json\"\n",
    "        g = alt.Chart(url).transform_calculate(\n",
    "            pct='1 / datum.Count'\n",
    "        ).mark_area(\n",
    "            opacity=0.3,\n",
    "            interpolate='step'\n",
    "        ).encode(\n",
    "            alt.X('%s:Q'%key, bin=alt.Bin(maxbins=50)),\n",
    "            alt.Y('sum(pct):Q', axis=alt.Axis(format='%'),stack=None),\n",
    "            alt.Color('label1_label2:N',title='Label - Label')\n",
    "        )\n",
    "        display(Markdown(f'### {key}: {subtype}'))\n",
    "        display(g)"
   ]
  },
  {
   "cell_type": "markdown",
   "metadata": {},
   "source": [
    "# Old below"
   ]
  },
  {
   "cell_type": "code",
   "execution_count": null,
   "metadata": {},
   "outputs": [],
   "source": [
    "alt.Chart(source.sample(n=10000)).mark_area(\n",
    "    opacity=0.3,\n",
    "    interpolate='step'\n",
    ").encode(\n",
    "    alt.X('DL2:Q', bin=alt.Bin(maxbins=50)),\n",
    "    alt.Y('count()', stack=None),\n",
    "    alt.Color('label1_label2:N')\n",
    ")"
   ]
  },
  {
   "cell_type": "code",
   "execution_count": null,
   "metadata": {},
   "outputs": [],
   "source": [
    "g.save('LumB_LumB_distances.png')"
   ]
  },
  {
   "cell_type": "code",
   "execution_count": null,
   "metadata": {},
   "outputs": [],
   "source": [
    "print('test')"
   ]
  },
  {
   "cell_type": "code",
   "execution_count": null,
   "metadata": {},
   "outputs": [],
   "source": [
    "constant = 'LumA'\n",
    "distance1_12 = get_distance(distance1,constant,constant)\n",
    "for n in df['Subtype'].unique():\n",
    "    if n != constant:\n",
    "        distance1_12 = distance1_12.append(get_distance(distance1,constant,n))\n",
    "\n",
    "alt.Chart(distance1_12.reset_index()).mark_area(\n",
    "    opacity=0.3,\n",
    "    interpolate='step'\n",
    ").encode(\n",
    "    alt.X('D1:Q', bin=alt.Bin(maxbins=100)),\n",
    "    alt.Y('count()', stack=None),\n",
    "    alt.Color('label1_label2:N')\n",
    ")"
   ]
  },
  {
   "cell_type": "code",
   "execution_count": null,
   "metadata": {},
   "outputs": [],
   "source": [
    "constant = 'LumB'\n",
    "distance1_12 = get_distance(distance1,constant,constant)\n",
    "for n in df['Subtype'].unique():\n",
    "    if n != constant:\n",
    "        distance1_12 = distance1_12.append(get_distance(distance1,constant,n))\n",
    "\n",
    "alt.Chart(distance1_12.reset_index()).mark_area(\n",
    "    opacity=0.3,\n",
    "    interpolate='step'\n",
    ").encode(\n",
    "    alt.X('D1:Q', bin=alt.Bin(maxbins=100)),\n",
    "    alt.Y('count()', stack=None),\n",
    "    alt.Color('label1_label2:N')\n",
    ")"
   ]
  },
  {
   "cell_type": "code",
   "execution_count": null,
   "metadata": {},
   "outputs": [],
   "source": [
    "D2 = pd.concat(Parallel(n_jobs=-1)(delayed(chunk_distance)(chunk,distance2) for chunk in chunks_pair_ixs))"
   ]
  },
  {
   "cell_type": "markdown",
   "metadata": {},
   "source": [
    "## Set some minimum values for sparsity"
   ]
  },
  {
   "cell_type": "code",
   "execution_count": null,
   "metadata": {},
   "outputs": [],
   "source": [
    "min_value = genes_df_scaled.shape[1]*0.3 # Choose a minimum value\n",
    "min_value"
   ]
  },
  {
   "cell_type": "code",
   "execution_count": null,
   "metadata": {},
   "outputs": [],
   "source": [
    "D2.plot.hist()"
   ]
  },
  {
   "cell_type": "code",
   "execution_count": null,
   "metadata": {},
   "outputs": [],
   "source": [
    "D2.unstack()"
   ]
  },
  {
   "cell_type": "code",
   "execution_count": null,
   "metadata": {},
   "outputs": [],
   "source": [
    "D2_visual = D2.copy() # or D2\n",
    "D2_visual.loc[D2.distance <= min_value] = 0 # just to make it more sparse\n",
    "D2_visual=D2_visual.fillna(0).unstack()\n",
    "D2_visual.index.name='index'\n",
    "D2_visual.columns = D2_visual.index\n",
    "D2_visual = D2_visual/genes_df_scaled.shape[1]\n",
    "D2_visual.to_csv(f'graphs/D2_gt_{min_value}.csv')"
   ]
  },
  {
   "cell_type": "code",
   "execution_count": null,
   "metadata": {},
   "outputs": [],
   "source": [
    "!ls graphs"
   ]
  },
  {
   "cell_type": "code",
   "execution_count": null,
   "metadata": {},
   "outputs": [],
   "source": [
    "min_value"
   ]
  },
  {
   "cell_type": "code",
   "execution_count": null,
   "metadata": {},
   "outputs": [],
   "source": [
    "D2_visual"
   ]
  },
  {
   "cell_type": "code",
   "execution_count": null,
   "metadata": {},
   "outputs": [],
   "source": [
    "min_value = genes_df_scaled.shape[1]*0.6 # Choose a minimum value\n",
    "min_value"
   ]
  },
  {
   "cell_type": "code",
   "execution_count": null,
   "metadata": {},
   "outputs": [],
   "source": [
    "D1_visual = D1.copy() # or D2\n",
    "D1_visual.loc[D1.distance <= min_value] = 0 # just to make it more sparse\n",
    "D1_visual = D1_visual.fillna(0).unstack()\n",
    "D1_visual.index.name='index'\n",
    "D1_visual.columns = D1_visual.index\n",
    "D1_visual.to_csv(f'graphs/D1_gt_{min_value}.csv')\n",
    "D1_visual#.dropna()"
   ]
  },
  {
   "cell_type": "markdown",
   "metadata": {},
   "source": [
    "## Test out the knowledge functionality"
   ]
  },
  {
   "cell_type": "code",
   "execution_count": null,
   "metadata": {},
   "outputs": [],
   "source": [
    "import knowledge"
   ]
  },
  {
   "cell_type": "code",
   "execution_count": null,
   "metadata": {},
   "outputs": [],
   "source": [
    "k = knowledge.Knowledge()\n",
    "k.distances"
   ]
  },
  {
   "cell_type": "code",
   "execution_count": null,
   "metadata": {},
   "outputs": [],
   "source": [
    "#import tensorflow as tf\n",
    "def cosine_sim(logits):\n",
    "    x_ = tf.expand_dims(logits, 0)\n",
    "    y_ = tf.expand_dims(logits, 1)\n",
    "    xN = tf.sqrt(tf.reduce_sum(tf.reshape((x_[None]*y_[:,None])*0+x_[None]**2, [-1, logits.shape[1]]),axis=1))\n",
    "    yN = tf.sqrt(tf.reduce_sum(tf.reshape((x_[None]*y_[:,None])*0+y_[:,None]**2, [-1, logits.shape[1]]),axis=1))\n",
    "    #z = tf.reshape(cosine_loss(y_true, y_pred), [-1, logits.shape[1]]), reduction_indices=[1])),axis=0)    \n",
    "    z = tf.reduce_sum(tf.reshape((x_[None]*y_[:,None]), [-1, logits.shape[1]]),axis=1)/(xN*yN)\n",
    "    return z\n",
    "\n",
    "#sess = tf.Session()\n",
    "#logits = tf.constant(genes_df_scaled.values[:3,:], dtype=tf.float32)\n",
    "#A = sess.run(cosine_sim(logits))"
   ]
  },
  {
   "cell_type": "code",
   "execution_count": null,
   "metadata": {},
   "outputs": [],
   "source": [
    "A"
   ]
  },
  {
   "cell_type": "code",
   "execution_count": null,
   "metadata": {},
   "outputs": [],
   "source": [
    "import tensorflow as tf\n",
    "sess = tf.Session(config=tf.ConfigProto(log_device_placement=True))\n"
   ]
  },
  {
   "cell_type": "code",
   "execution_count": null,
   "metadata": {},
   "outputs": [],
   "source": [
    "from sklearn.metrics.pairwise import cosine_similarity\n",
    "\n",
    "pd.DataFrame(cosine_similarity(genes_df_scaled.values[:3,:])).stack()"
   ]
  },
  {
   "cell_type": "markdown",
   "metadata": {},
   "source": [
    "This is looking good. We just need to do all combinations and then set the index. "
   ]
  },
  {
   "cell_type": "code",
   "execution_count": null,
   "metadata": {},
   "outputs": [],
   "source": [
    "np.reshape(A,(3,3))"
   ]
  },
  {
   "cell_type": "code",
   "execution_count": null,
   "metadata": {},
   "outputs": [],
   "source": [
    "\n",
    "\n",
    "\n",
    "D_visual.dropna()"
   ]
  },
  {
   "cell_type": "code",
   "execution_count": null,
   "metadata": {},
   "outputs": [],
   "source": [
    "from IPython.display import Image\n",
    "\n",
    "import networkx as nx\n",
    "\n",
    "def save(A,file=\"graph.png\"):\n",
    "    g = A.draw(format=file.split(\".\")[-1], prog='dot')\n",
    "    open(file,\"wb\").write(g)\n",
    "    return Image(g)\n",
    "\n",
    "G = nx.Graph()\n",
    "temp = D_visual.loc[D_visual.distance > 0].reset_index()\n",
    "for n in np.unique(list(temp.index1) + list(temp.index2)):\n",
    "    c = df.loc[n,'color']\n",
    "    G.add_node(n,color=c,style='filled',fillcolor=c)\n",
    "\n",
    "for index,values in D_visual.loc[D_visual.distance > 0].iterrows():\n",
    "    n1,n2 = index\n",
    "    G.add_edge(n1,n2,weight=genes_df_scaled.shape[1]-values.loc['distance'])"
   ]
  },
  {
   "cell_type": "code",
   "execution_count": null,
   "metadata": {},
   "outputs": [],
   "source": [
    "pos = nx.drawing.nx_agraph.graphviz_layout(G, prog='dot')\n",
    "A = nx.nx_agraph.to_agraph(G)\n",
    "A.graph_attr[\"rankdir\"] = \"LR\"\n",
    "# draw it in the notebook\n",
    "save(A)"
   ]
  },
  {
   "cell_type": "markdown",
   "metadata": {},
   "source": [
    "The additional terms to the loss function are broken into label-label, label-unknown, and unknown-unknown. We will model the label-label case first where mw stands for the match weight, mm stands for the mismatch weight.\n",
    "\n",
    "<pre>\n",
    "label1  label2 w\n",
    "---------------------------\n",
    "LumB    LumB    mw\n",
    "Unknown LumB    0|mmw\n",
    "LumB    Unknown 0|mmw\n",
    "Unknown Unknown 0\n",
    "</pre>\n",
    "If both samples are LumB subtype, then the weight to the loss function is mw > 0. If only a single sample is LumB subtype, then we may also set the mmw = 0 or mmw > 0. If you set mmw > 0, then you may use labeled and unlabelled.\n",
    "\n",
    "What I would like to test:\n",
    "1. Does this improve performance and/or convergence of DeepType (at least during the supervised learning phase)\n",
    "2. When running repeated experiments with varying random seed and/or parameters, do we have more consistency of results? \n"
   ]
  },
  {
   "cell_type": "markdown",
   "metadata": {},
   "source": [
    "### Let's work on a sample model"
   ]
  },
  {
   "cell_type": "code",
   "execution_count": null,
   "metadata": {
    "scrolled": true
   },
   "outputs": [],
   "source": [
    "nsample = 10\n",
    "genes_df_scaled_sampled = genes_df_scaled.sample(n=nsample,random_state=0)\n",
    "samples = genes_df_scaled_sampled.join(df[['Subtype','target']])\n",
    "(100*samples[['CCND1','FAM83H','C17orf28','FAM83D']]).round().astype(int).join(df[['Subtype','target']])"
   ]
  },
  {
   "cell_type": "code",
   "execution_count": null,
   "metadata": {},
   "outputs": [],
   "source": [
    "import itertools\n",
    "\n",
    "def get_diff(samples,y,cls):\n",
    "    diff_samples = pd.DataFrame(columns = list(genes_df_scaled_sampled.columns)+[\"Subtype_1\",\"Subtype_2\",\"ix1\",\"ix2\"])\n",
    "    diff_samples = diff_samples.set_index([\"ix1\",\"ix2\"])\n",
    "    for ix1,ix2 in itertools.permutations(samples.index,2):\n",
    "        if ix1 == ix2:\n",
    "            continue\n",
    "        new_sample = samples.loc[ix1,genes_df_scaled_sampled.columns] - samples.loc[ix2,genes_df_scaled_sampled.columns]\n",
    "        new_sample = new_sample.to_frame().T\n",
    "        #new_sample[\"label_1\"] = samples.loc[ix1,\"label\"]\n",
    "        #new_sample[\"label_2\"] = samples.loc[ix2,\"label\"]\n",
    "        new_sample[\"Subtype_1\"] = y.loc[ix1] #samples.loc[ix1,\"Subtype\"]\n",
    "        new_sample[\"Subtype_2\"] = y.loc[ix2] #samples.loc[ix2,\"Subtype\"]\n",
    "        new_sample[\"ix1\"] = ix1\n",
    "        new_sample[\"ix2\"] = ix2\n",
    "        new_sample = new_sample.set_index([\"ix1\",\"ix2\"])\n",
    "        diff_samples = diff_samples.append(new_sample)\n",
    "        \n",
    "    diff_samples['target'] = \"MatchIgnore\" # Case 4\n",
    "    diff_samples.loc[(diff_samples['Subtype_1'] != cls) & (diff_samples['Subtype_2'] == cls),'target'] = \"Mismatch1\"\n",
    "    diff_samples.loc[(diff_samples['Subtype_1'] == cls) & (diff_samples['Subtype_2'] != cls),'target'] = \"Mismatch2\"\n",
    "    diff_samples.loc[(diff_samples['Subtype_1'] == cls) & (diff_samples['Subtype_2'] == cls),'target'] = \"Match\"\n",
    "    diff_samples['target'] = diff_samples['target'].astype('category')\n",
    "    return diff_samples"
   ]
  },
  {
   "cell_type": "markdown",
   "metadata": {},
   "source": [
    "<pre>\n",
    "ID label1 label2 f(id1,id2)\n",
    "---------------------------\n",
    "1  LumB   LumB   Match\n",
    "2  Other  LumB   Mismatch1\n",
    "3  LumB   Other  Mismatch2\n",
    "4  Other  Other  MatchIgnore\n",
    "</pre>"
   ]
  },
  {
   "cell_type": "markdown",
   "metadata": {},
   "source": [
    "### Now construct the model"
   ]
  },
  {
   "cell_type": "code",
   "execution_count": null,
   "metadata": {},
   "outputs": [],
   "source": [
    "from sklearn.linear_model import LogisticRegression\n",
    "from sklearn.ensemble import RandomForestClassifier\n",
    "from sklearn.model_selection import StratifiedKFold, cross_val_score, RepeatedStratifiedKFold, StratifiedShuffleSplit\n",
    "import imblearn\n",
    "\n",
    "oversample = imblearn.over_sampling.RandomOverSampler()\n",
    "undersample = imblearn.under_sampling.RandomUnderSampler()\n",
    "\n",
    "#X,y = diff_samples[genes_df_scaled_sampled.columns], diff_samples['target']\n",
    "X,y = samples[genes_df_scaled_sampled.columns], samples['Subtype']\n",
    "\n",
    "#X, y = oversample.fit_resample(X_orig, y_orig)\n",
    "#cv = RepeatedStratifiedKFold(n_splits=10, n_repeats = 2, random_state=1)\n",
    "\n",
    "#print(\"f1_micro\")\n",
    "#print(cross_val_score(clf, X, y, cv=cv, scoring='f1_micro'))\n",
    "#print(\"f1_macro\")\n",
    "#print(cross_val_score(clf, X, y, cv=cv, scoring='f1_macro'))\n",
    "#print(\"f1_weighted\")\n",
    "#print(cross_val_score(clf, X, y, cv=cv, scoring='f1_weighted'))"
   ]
  },
  {
   "cell_type": "code",
   "execution_count": null,
   "metadata": {},
   "outputs": [],
   "source": [
    "from sklearn.metrics import classification_report\n",
    "clf = RandomForestClassifier(max_depth=2, random_state=0)\n",
    "from sklearn.tree import DecisionTreeClassifier\n",
    "#clf = DecisionTreeClassifier()\n",
    "\n",
    "from sklearn.neighbors import KNeighborsClassifier\n",
    "clf = KNeighborsClassifier(n_neighbors=3)\n",
    "\n",
    "from sklearn.svm import OneClassSVM\n",
    "from sklearn.neighbors import LocalOutlierFactor\n",
    "\n",
    "labels = y.unique()\n",
    "cnt = 1\n",
    "\n",
    "all_scores_df = []\n",
    "random_states = [0]\n",
    "for random_state in random_states:\n",
    "    cv = StratifiedShuffleSplit(n_splits=2, test_size=0.3, random_state=random_state)\n",
    "    scores = {}\n",
    "    for train_index, test_index in cv.split(X, y):\n",
    "        X_train, X_test = X.iloc[train_index], X.iloc[test_index]\n",
    "        y_train, y_test = y.iloc[train_index], y.iloc[test_index]\n",
    "\n",
    "        print(f'Round {cnt}')\n",
    "        for cls in labels:\n",
    "            diff_samples = get_diff(X_train,y_train,cls)\n",
    "            Xdiff = diff_samples.drop([\"target\",\"Subtype_1\",\"Subtype_2\"],axis=1)\n",
    "            ydiff = diff_samples['target']\n",
    "            Xone = Xdiff.loc[ydiff == \"Match\"]\n",
    "            \n",
    "            clf = OneClassSVM(gamma='auto')\n",
    "            #clf = LocalOutlierFactor(n_neighbors=2,novelty=True)\n",
    "            clf.fit(Xone)\n",
    "\n",
    "            #X_over, y_over = oversample.fit_resample(X_train, y_train)\n",
    "            #X_under, y_under = undersample.fit_resample(X_train, y_train)\n",
    "            #clf.fit(X_under,y_under)\n",
    "\n",
    "            diff_samples_test = get_diff(X_test,y_test,cls)\n",
    "            Xdiff_test = diff_samples_test.drop([\"target\",\"Subtype_1\",\"Subtype_2\"],axis=1)\n",
    "            ydiff_test = diff_samples_test['target']\n",
    "            decf = clf.decision_function(Xdiff_test)\n",
    "            new_data =  pd.DataFrame(decf,index=ydiff_test.index).join(ydiff_test)\n",
    "            if cls not in scores:\n",
    "                scores[cls] = new_data\n",
    "            else:\n",
    "                scores[cls].append(new_data)\n",
    "        cnt+=1"
   ]
  },
  {
   "cell_type": "code",
   "execution_count": null,
   "metadata": {},
   "outputs": [],
   "source": [
    "Xone"
   ]
  },
  {
   "cell_type": "code",
   "execution_count": null,
   "metadata": {},
   "outputs": [],
   "source": [
    "scores['LumA']"
   ]
  },
  {
   "cell_type": "code",
   "execution_count": null,
   "metadata": {},
   "outputs": [],
   "source": [
    "scores['LumA'].loc[scores['LumA'].target=='Match'].mean()"
   ]
  },
  {
   "cell_type": "code",
   "execution_count": null,
   "metadata": {},
   "outputs": [],
   "source": [
    "scores['LumA'].loc[scores['LumA'].target!='Match'].mean()"
   ]
  },
  {
   "cell_type": "code",
   "execution_count": null,
   "metadata": {},
   "outputs": [],
   "source": [
    "scores_df_target.loc[scores_df_target.Subtype!='LumB']"
   ]
  },
  {
   "cell_type": "code",
   "execution_count": null,
   "metadata": {},
   "outputs": [],
   "source": [
    "means = pd.DataFrame(columns=[\"Match\",\"Mismatch\",\"Subtype\"]).set_index(\"Subtype\")\n",
    "for label in labels:\n",
    "    mismatch = scores_df_target.loc[scores_df_target.Subtype!=label][label].mean()\n",
    "    match = scores_df_target.loc[scores_df_target.Subtype==label][label].mean()\n",
    "    means = means.append(pd.Series([match,mismatch],name=label,index=means.columns))\n",
    "means"
   ]
  },
  {
   "cell_type": "code",
   "execution_count": null,
   "metadata": {},
   "outputs": [],
   "source": [
    "scores_df_target.loc[scores_df_target.Subtype=='Basal']['Basal'].mean()"
   ]
  },
  {
   "cell_type": "code",
   "execution_count": null,
   "metadata": {},
   "outputs": [],
   "source": [
    "clf.predict_proba(diff_samples[genes_df_scaled_sampled.columns].iloc[[0]])"
   ]
  },
  {
   "cell_type": "code",
   "execution_count": null,
   "metadata": {},
   "outputs": [],
   "source": [
    "import numpy as np\n",
    "from sklearn.decomposition import PCA\n",
    "pca = PCA(n_components=2)\n",
    "pca.fit(genes_df_scaled)\n",
    "\n",
    "print(pca.explained_variance_ratio_)\n",
    "\n",
    "print(pca.singular_values_)"
   ]
  },
  {
   "cell_type": "code",
   "execution_count": null,
   "metadata": {},
   "outputs": [],
   "source": [
    "scores = pca.transform(genes_df_scaled)\n",
    "scores = pd.DataFrame(scores,columns=[\"PC1\",\"PC2\"])\n",
    "scores['Subtype'] = df.label.map({1:'Basal',2:'HER2+',3:'LumA',4:'LumB',5:'Normal Like',6:'Normal'})"
   ]
  },
  {
   "cell_type": "code",
   "execution_count": null,
   "metadata": {},
   "outputs": [],
   "source": [
    "scores"
   ]
  },
  {
   "cell_type": "code",
   "execution_count": null,
   "metadata": {},
   "outputs": [],
   "source": [
    "import altair as alt\n",
    "points = alt.Chart(scores).mark_point().encode(\n",
    "    x='PC1:Q',\n",
    "    y='PC2:Q',\n",
    "    color='Subtype:N'\n",
    ")\n",
    "points"
   ]
  },
  {
   "cell_type": "code",
   "execution_count": null,
   "metadata": {},
   "outputs": [],
   "source": [
    "import tensorflow as tf\n",
    "def cosine_sim(logits):\n",
    "    x_ = tf.expand_dims(logits, 0)\n",
    "    y_ = tf.expand_dims(logits, 1)\n",
    "    xN = tf.sqrt(tf.reduce_sum(tf.reshape((x_[None]*y_[:,None])*0+x_[None]**2, [-1, logits.shape[1]]),axis=1))\n",
    "    yN = tf.sqrt(tf.reduce_sum(tf.reshape((x_[None]*y_[:,None])*0+y_[:,None]**2, [-1, logits.shape[1]]),axis=1))\n",
    "    #z = tf.reshape(cosine_loss(y_true, y_pred), [-1, logits.shape[1]]), reduction_indices=[1])),axis=0)    \n",
    "    z = tf.reduce_sum(tf.reshape((x_[None]*y_[:,None]), [-1, logits.shape[1]]),axis=1)/(xN*yN)\n",
    "    return z"
   ]
  },
  {
   "cell_type": "code",
   "execution_count": null,
   "metadata": {},
   "outputs": [],
   "source": [
    "import tensorflow as tf\n",
    "def cosine_sim(logits):\n",
    "    x_ = tf.expand_dims(logits, 0)\n",
    "    y_ = tf.expand_dims(logits, 1)\n",
    "    xN = tf.sqrt(tf.reduce_sum(tf.reshape((x_[None]*y_[:,None])*0+x_[None]**2, [-1, logits.shape[1]]),axis=1))\n",
    "    yN = tf.sqrt(tf.reduce_sum(tf.reshape((x_[None]*y_[:,None])*0+y_[:,None]**2, [-1, logits.shape[1]]),axis=1))\n",
    "    #z = tf.reshape(cosine_loss(y_true, y_pred), [-1, logits.shape[1]]), reduction_indices=[1])),axis=0)    \n",
    "    z = tf.reduce_sum(tf.reshape((x_[None]*y_[:,None]), [-1, logits.shape[1]]),axis=1)/(xN*yN)\n",
    "    return z\n",
    "\n",
    "sess = tf.Session()\n",
    "logits = tf.constant(genes_df_scaled.values, dtype=tf.float32)\n",
    "A = sess.run(cosine_sim(logits))"
   ]
  },
  {
   "cell_type": "code",
   "execution_count": null,
   "metadata": {},
   "outputs": [],
   "source": [
    "m = int(np.sqrt(len(A)))\n",
    "A = np.reshape(A,(m,m))"
   ]
  },
  {
   "cell_type": "code",
   "execution_count": null,
   "metadata": {},
   "outputs": [],
   "source": [
    "pd.DataFrame(A).to_csv('graph_Luminal_B_101_BRCA1View20000.csv')"
   ]
  },
  {
   "cell_type": "code",
   "execution_count": null,
   "metadata": {},
   "outputs": [],
   "source": [
    "import networkx as nx\n",
    "G=nx.from_numpy_matrix(A)"
   ]
  },
  {
   "cell_type": "code",
   "execution_count": null,
   "metadata": {},
   "outputs": [],
   "source": [
    "from IPython.display import Image\n",
    "\n",
    "def save(A):\n",
    "    open(\"graph.png\",\"wb\").write(A.draw(format='png', prog='dot'))\n",
    "\n",
    "pos = nx.drawing.nx_agraph.graphviz_layout(G, prog='neato')\n",
    "#print(edge_labels)\n",
    "# Modify node fillcolor and edge color.\n",
    "#D.node_attr.update(color='blue', style='filled', fillcolor='yellow')\n",
    "#D.edge_attr.update(color='blue', arrowsize=1)\n",
    "A = nx.nx_agraph.to_agraph(G)\n",
    "A.graph_attr[\"rankdir\"] = \"LR\"\n",
    "# draw it in the notebook\n",
    "save(A)"
   ]
  },
  {
   "cell_type": "code",
   "execution_count": null,
   "metadata": {},
   "outputs": [],
   "source": []
  }
 ],
 "metadata": {
  "kernelspec": {
   "display_name": "Python 3",
   "language": "python",
   "name": "python3"
  },
  "language_info": {
   "codemirror_mode": {
    "name": "ipython",
    "version": 3
   },
   "file_extension": ".py",
   "mimetype": "text/x-python",
   "name": "python",
   "nbconvert_exporter": "python",
   "pygments_lexer": "ipython3",
   "version": "3.7.3"
  }
 },
 "nbformat": 4,
 "nbformat_minor": 4
}
