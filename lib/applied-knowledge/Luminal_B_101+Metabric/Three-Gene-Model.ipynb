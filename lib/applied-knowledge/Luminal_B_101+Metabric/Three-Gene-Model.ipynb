{
 "cells": [
  {
   "cell_type": "markdown",
   "metadata": {},
   "source": [
    "Details:\n",
    "\n",
    "https://academic.oup.com/jnci/article/104/4/311/979947\n",
    "\n",
    "> Single sample predictors (SSPs) and Subtype classification models (SCMs) are gene expression–based classifiers used to identify the four primary molecular subtypes of breast cancer (basal-like, HER2-enriched, luminal A, and luminal B). SSPs use hierarchical clustering, followed by nearest centroid classification, based on large sets of tumor-intrinsic genes. SCMs use a mixture of Gaussian distributions based on sets of genes with expression specifically correlated with three key breast cancer genes (estrogen receptor [ER], HER2, and aurora kinase A [AURKA]). The aim of this study was to compare the robustness, classification concordance, and prognostic value of these classifiers with those of a simplified three-gene SCM in a large compendium of microarray datasets.\n",
    "\n",
    "AURKA\n",
    "\n",
    "ER is ESR1 (Source: https://www.genecards.org/cgi-bin/carddisp.pl?gene=ESR1)\n",
    "\n",
    "HER2 is ERBB2 (Source: https://www.genecards.org/cgi-bin/carddisp.pl?gene=ERBB2)"
   ]
  },
  {
   "cell_type": "code",
   "execution_count": 1,
   "metadata": {},
   "outputs": [],
   "source": [
    "%load_ext autoreload\n",
    "%autoreload 2\n",
    "%matplotlib inline"
   ]
  },
  {
   "cell_type": "code",
   "execution_count": 2,
   "metadata": {},
   "outputs": [],
   "source": [
    "from pathlib import Path\n",
    "home = str(Path.home())"
   ]
  },
  {
   "cell_type": "code",
   "execution_count": 3,
   "metadata": {},
   "outputs": [],
   "source": [
    "KNOWLEDGE_LIB=f'{home}/knowledgelib'"
   ]
  },
  {
   "cell_type": "code",
   "execution_count": 60,
   "metadata": {},
   "outputs": [],
   "source": [
    "from IPython.display import display, Markdown, Latex\n",
    "import sys\n",
    "sys.path.insert(0,f'{KNOWLEDGE_LIB}')\n",
    "import pyknowledge\n",
    "import pandas as pd\n",
    "from sklearn.preprocessing import StandardScaler\n",
    "import scipy.io\n",
    "import pandas as pd\n",
    "import numpy as np\n",
    "import joblib"
   ]
  },
  {
   "cell_type": "markdown",
   "metadata": {},
   "source": [
    "## Load the input data"
   ]
  },
  {
   "cell_type": "code",
   "execution_count": 84,
   "metadata": {},
   "outputs": [],
   "source": [
    "## Customize this load to read in the data and format it with the correct columns\n",
    "def load_data_all():\n",
    "    mat = scipy.io.loadmat(\"/disk/metabric/BRCA1View20000.mat\")\n",
    "    #gene_labels = open(\"/disk/metabric/gene_labels.txt\").read().split(\"\\n\")\n",
    "    gene_labels = [g[0] for g in mat['gene'][0]]\n",
    "    df = pd.DataFrame(mat['data'].transpose(), columns=gene_labels)\n",
    "    df['target'] = mat['targets']\n",
    "    df['Subtype'] = df.target.map({1:'Basal',2:'HER2+',3:'LumA',4:'LumB',5:'Normal Like',6:'Normal'})\n",
    "    return df\n",
    "\n",
    "def load_data_train():\n",
    "    mat = scipy.io.loadmat(\"/disk/metabric/BRCA1View20000.mat\")\n",
    "    data_train = joblib.load('/disk/metabric/data_train.joblib.z')\n",
    "    gene_labels = [g[0] for g in mat['gene'][0]]\n",
    "    df = pd.DataFrame(data_train, columns=gene_labels)\n",
    "    targets_train = joblib.load('/disk/metabric/targets_train.joblib.z')\n",
    "    df['target'] = pd.DataFrame(targets_train).apply(lambda x: x.idxmax(),axis=1)+1\n",
    "    df['Subtype'] = df.target.map({1:'Basal',2:'HER2+',3:'LumA',4:'LumB',5:'Normal Like',6:'Normal'})\n",
    "    return df"
   ]
  },
  {
   "cell_type": "code",
   "execution_count": 85,
   "metadata": {},
   "outputs": [],
   "source": [
    "df = load_data_train()"
   ]
  },
  {
   "cell_type": "code",
   "execution_count": 86,
   "metadata": {},
   "outputs": [
    {
     "data": {
      "text/html": [
       "<div>\n",
       "<style scoped>\n",
       "    .dataframe tbody tr th:only-of-type {\n",
       "        vertical-align: middle;\n",
       "    }\n",
       "\n",
       "    .dataframe tbody tr th {\n",
       "        vertical-align: top;\n",
       "    }\n",
       "\n",
       "    .dataframe thead th {\n",
       "        text-align: right;\n",
       "    }\n",
       "</style>\n",
       "<table border=\"1\" class=\"dataframe\">\n",
       "  <thead>\n",
       "    <tr style=\"text-align: right;\">\n",
       "      <th></th>\n",
       "      <th>SCGB2A2</th>\n",
       "      <th>MUCL1</th>\n",
       "      <th>SCGB1D2</th>\n",
       "      <th>PIP</th>\n",
       "      <th>LOC648852</th>\n",
       "      <th>DNAJA2</th>\n",
       "      <th>TFF3</th>\n",
       "      <th>S100P</th>\n",
       "      <th>CPB1</th>\n",
       "      <th>CEACAM6</th>\n",
       "      <th>...</th>\n",
       "      <th>LOC645307</th>\n",
       "      <th>IL1RAP</th>\n",
       "      <th>LOC647149</th>\n",
       "      <th>LOC642453</th>\n",
       "      <th>LOC652100</th>\n",
       "      <th>LOC646050</th>\n",
       "      <th>LOC644912</th>\n",
       "      <th>LOC652294</th>\n",
       "      <th>target</th>\n",
       "      <th>Subtype</th>\n",
       "    </tr>\n",
       "  </thead>\n",
       "  <tbody>\n",
       "    <tr>\n",
       "      <th>0</th>\n",
       "      <td>0.908510</td>\n",
       "      <td>0.139088</td>\n",
       "      <td>0.764444</td>\n",
       "      <td>0.651265</td>\n",
       "      <td>0.349056</td>\n",
       "      <td>0.567440</td>\n",
       "      <td>0.578564</td>\n",
       "      <td>0.814381</td>\n",
       "      <td>0.086647</td>\n",
       "      <td>0.362837</td>\n",
       "      <td>...</td>\n",
       "      <td>0.364566</td>\n",
       "      <td>0.079349</td>\n",
       "      <td>0.211496</td>\n",
       "      <td>0.351567</td>\n",
       "      <td>0.389877</td>\n",
       "      <td>0.413055</td>\n",
       "      <td>0.331442</td>\n",
       "      <td>0.374569</td>\n",
       "      <td>4</td>\n",
       "      <td>LumB</td>\n",
       "    </tr>\n",
       "    <tr>\n",
       "      <th>1</th>\n",
       "      <td>0.934538</td>\n",
       "      <td>0.049072</td>\n",
       "      <td>0.782634</td>\n",
       "      <td>0.773825</td>\n",
       "      <td>0.730930</td>\n",
       "      <td>0.634978</td>\n",
       "      <td>0.854290</td>\n",
       "      <td>0.851756</td>\n",
       "      <td>0.078594</td>\n",
       "      <td>0.320924</td>\n",
       "      <td>...</td>\n",
       "      <td>0.467865</td>\n",
       "      <td>0.171720</td>\n",
       "      <td>0.585898</td>\n",
       "      <td>0.241270</td>\n",
       "      <td>0.461529</td>\n",
       "      <td>0.309278</td>\n",
       "      <td>0.263151</td>\n",
       "      <td>0.292425</td>\n",
       "      <td>3</td>\n",
       "      <td>LumA</td>\n",
       "    </tr>\n",
       "    <tr>\n",
       "      <th>2</th>\n",
       "      <td>0.524853</td>\n",
       "      <td>0.406733</td>\n",
       "      <td>0.163209</td>\n",
       "      <td>0.134442</td>\n",
       "      <td>0.038088</td>\n",
       "      <td>0.094724</td>\n",
       "      <td>0.064081</td>\n",
       "      <td>0.573838</td>\n",
       "      <td>0.096810</td>\n",
       "      <td>0.235072</td>\n",
       "      <td>...</td>\n",
       "      <td>0.429290</td>\n",
       "      <td>0.290603</td>\n",
       "      <td>0.628923</td>\n",
       "      <td>0.237323</td>\n",
       "      <td>0.286573</td>\n",
       "      <td>0.320950</td>\n",
       "      <td>0.307942</td>\n",
       "      <td>0.263117</td>\n",
       "      <td>1</td>\n",
       "      <td>Basal</td>\n",
       "    </tr>\n",
       "    <tr>\n",
       "      <th>3</th>\n",
       "      <td>0.902295</td>\n",
       "      <td>0.147643</td>\n",
       "      <td>0.977220</td>\n",
       "      <td>0.663033</td>\n",
       "      <td>0.815075</td>\n",
       "      <td>0.604350</td>\n",
       "      <td>0.873636</td>\n",
       "      <td>0.447166</td>\n",
       "      <td>0.081619</td>\n",
       "      <td>0.426047</td>\n",
       "      <td>...</td>\n",
       "      <td>0.350638</td>\n",
       "      <td>0.128083</td>\n",
       "      <td>0.694055</td>\n",
       "      <td>0.541073</td>\n",
       "      <td>0.423310</td>\n",
       "      <td>0.409276</td>\n",
       "      <td>0.145611</td>\n",
       "      <td>0.476674</td>\n",
       "      <td>4</td>\n",
       "      <td>LumB</td>\n",
       "    </tr>\n",
       "    <tr>\n",
       "      <th>4</th>\n",
       "      <td>0.977377</td>\n",
       "      <td>0.240862</td>\n",
       "      <td>0.797600</td>\n",
       "      <td>0.802047</td>\n",
       "      <td>0.761589</td>\n",
       "      <td>0.083435</td>\n",
       "      <td>0.976002</td>\n",
       "      <td>0.503392</td>\n",
       "      <td>0.052166</td>\n",
       "      <td>0.558618</td>\n",
       "      <td>...</td>\n",
       "      <td>0.479229</td>\n",
       "      <td>0.297583</td>\n",
       "      <td>0.798297</td>\n",
       "      <td>0.332865</td>\n",
       "      <td>0.272482</td>\n",
       "      <td>0.239817</td>\n",
       "      <td>0.582246</td>\n",
       "      <td>0.275380</td>\n",
       "      <td>3</td>\n",
       "      <td>LumA</td>\n",
       "    </tr>\n",
       "  </tbody>\n",
       "</table>\n",
       "<p>5 rows × 20002 columns</p>\n",
       "</div>"
      ],
      "text/plain": [
       "    SCGB2A2     MUCL1   SCGB1D2       PIP  LOC648852    DNAJA2      TFF3  \\\n",
       "0  0.908510  0.139088  0.764444  0.651265   0.349056  0.567440  0.578564   \n",
       "1  0.934538  0.049072  0.782634  0.773825   0.730930  0.634978  0.854290   \n",
       "2  0.524853  0.406733  0.163209  0.134442   0.038088  0.094724  0.064081   \n",
       "3  0.902295  0.147643  0.977220  0.663033   0.815075  0.604350  0.873636   \n",
       "4  0.977377  0.240862  0.797600  0.802047   0.761589  0.083435  0.976002   \n",
       "\n",
       "      S100P      CPB1   CEACAM6  ...  LOC645307    IL1RAP  LOC647149  \\\n",
       "0  0.814381  0.086647  0.362837  ...   0.364566  0.079349   0.211496   \n",
       "1  0.851756  0.078594  0.320924  ...   0.467865  0.171720   0.585898   \n",
       "2  0.573838  0.096810  0.235072  ...   0.429290  0.290603   0.628923   \n",
       "3  0.447166  0.081619  0.426047  ...   0.350638  0.128083   0.694055   \n",
       "4  0.503392  0.052166  0.558618  ...   0.479229  0.297583   0.798297   \n",
       "\n",
       "   LOC642453  LOC652100  LOC646050  LOC644912  LOC652294  target  Subtype  \n",
       "0   0.351567   0.389877   0.413055   0.331442   0.374569       4     LumB  \n",
       "1   0.241270   0.461529   0.309278   0.263151   0.292425       3     LumA  \n",
       "2   0.237323   0.286573   0.320950   0.307942   0.263117       1    Basal  \n",
       "3   0.541073   0.423310   0.409276   0.145611   0.476674       4     LumB  \n",
       "4   0.332865   0.272482   0.239817   0.582246   0.275380       3     LumA  \n",
       "\n",
       "[5 rows x 20002 columns]"
      ]
     },
     "execution_count": 86,
     "metadata": {},
     "output_type": "execute_result"
    }
   ],
   "source": [
    "df.head()"
   ]
  },
  {
   "cell_type": "markdown",
   "metadata": {},
   "source": [
    "## Knowledge"
   ]
  },
  {
   "cell_type": "markdown",
   "metadata": {},
   "source": [
    "#### Genes"
   ]
  },
  {
   "cell_type": "code",
   "execution_count": 87,
   "metadata": {},
   "outputs": [],
   "source": [
    "knowledge_genes = [\"ERBB2\",\"ESR1\",\"AURKA\"]"
   ]
  },
  {
   "cell_type": "code",
   "execution_count": 88,
   "metadata": {},
   "outputs": [
    {
     "data": {
      "text/html": [
       "<div>\n",
       "<style scoped>\n",
       "    .dataframe tbody tr th:only-of-type {\n",
       "        vertical-align: middle;\n",
       "    }\n",
       "\n",
       "    .dataframe tbody tr th {\n",
       "        vertical-align: top;\n",
       "    }\n",
       "\n",
       "    .dataframe thead th {\n",
       "        text-align: right;\n",
       "    }\n",
       "</style>\n",
       "<table border=\"1\" class=\"dataframe\">\n",
       "  <thead>\n",
       "    <tr style=\"text-align: right;\">\n",
       "      <th></th>\n",
       "      <th>ESR1</th>\n",
       "      <th>AURKA</th>\n",
       "      <th>ERBB2</th>\n",
       "    </tr>\n",
       "  </thead>\n",
       "  <tbody>\n",
       "    <tr>\n",
       "      <th>0</th>\n",
       "      <td>0.687125</td>\n",
       "      <td>0.329215</td>\n",
       "      <td>0.497957</td>\n",
       "    </tr>\n",
       "    <tr>\n",
       "      <th>1</th>\n",
       "      <td>0.734959</td>\n",
       "      <td>0.234983</td>\n",
       "      <td>0.446970</td>\n",
       "    </tr>\n",
       "    <tr>\n",
       "      <th>2</th>\n",
       "      <td>0.055104</td>\n",
       "      <td>0.621349</td>\n",
       "      <td>0.373268</td>\n",
       "    </tr>\n",
       "    <tr>\n",
       "      <th>3</th>\n",
       "      <td>0.849794</td>\n",
       "      <td>0.396547</td>\n",
       "      <td>0.443011</td>\n",
       "    </tr>\n",
       "    <tr>\n",
       "      <th>4</th>\n",
       "      <td>0.848890</td>\n",
       "      <td>0.210881</td>\n",
       "      <td>0.537853</td>\n",
       "    </tr>\n",
       "  </tbody>\n",
       "</table>\n",
       "</div>"
      ],
      "text/plain": [
       "       ESR1     AURKA     ERBB2\n",
       "0  0.687125  0.329215  0.497957\n",
       "1  0.734959  0.234983  0.446970\n",
       "2  0.055104  0.621349  0.373268\n",
       "3  0.849794  0.396547  0.443011\n",
       "4  0.848890  0.210881  0.537853"
      ]
     },
     "execution_count": 88,
     "metadata": {},
     "output_type": "execute_result"
    }
   ],
   "source": [
    "genes_df = pyknowledge.common.subset_columns(df,knowledge_genes)\n",
    "genes_df.head()"
   ]
  },
  {
   "cell_type": "markdown",
   "metadata": {},
   "source": [
    "## EDA"
   ]
  },
  {
   "cell_type": "markdown",
   "metadata": {},
   "source": [
    "### Each gene individually"
   ]
  },
  {
   "cell_type": "code",
   "execution_count": 89,
   "metadata": {
    "scrolled": true
   },
   "outputs": [
    {
     "data": {
      "text/html": [
       "\n",
       "<div id=\"altair-viz-6a5126c84f604ee5b38c4bc7647f703b\"></div>\n",
       "<script type=\"text/javascript\">\n",
       "  (function(spec, embedOpt){\n",
       "    let outputDiv = document.currentScript.previousElementSibling;\n",
       "    if (outputDiv.id !== \"altair-viz-6a5126c84f604ee5b38c4bc7647f703b\") {\n",
       "      outputDiv = document.getElementById(\"altair-viz-6a5126c84f604ee5b38c4bc7647f703b\");\n",
       "    }\n",
       "    const paths = {\n",
       "      \"vega\": \"https://cdn.jsdelivr.net/npm//vega@5?noext\",\n",
       "      \"vega-lib\": \"https://cdn.jsdelivr.net/npm//vega-lib?noext\",\n",
       "      \"vega-lite\": \"https://cdn.jsdelivr.net/npm//vega-lite@4.8.1?noext\",\n",
       "      \"vega-embed\": \"https://cdn.jsdelivr.net/npm//vega-embed@6?noext\",\n",
       "    };\n",
       "\n",
       "    function loadScript(lib) {\n",
       "      return new Promise(function(resolve, reject) {\n",
       "        var s = document.createElement('script');\n",
       "        s.src = paths[lib];\n",
       "        s.async = true;\n",
       "        s.onload = () => resolve(paths[lib]);\n",
       "        s.onerror = () => reject(`Error loading script: ${paths[lib]}`);\n",
       "        document.getElementsByTagName(\"head\")[0].appendChild(s);\n",
       "      });\n",
       "    }\n",
       "\n",
       "    function showError(err) {\n",
       "      outputDiv.innerHTML = `<div class=\"error\" style=\"color:red;\">${err}</div>`;\n",
       "      throw err;\n",
       "    }\n",
       "\n",
       "    function displayChart(vegaEmbed) {\n",
       "      vegaEmbed(outputDiv, spec, embedOpt)\n",
       "        .catch(err => showError(`Javascript Error: ${err.message}<br>This usually means there's a typo in your chart specification. See the javascript console for the full traceback.`));\n",
       "    }\n",
       "\n",
       "    if(typeof define === \"function\" && define.amd) {\n",
       "      requirejs.config({paths});\n",
       "      require([\"vega-embed\"], displayChart, err => showError(`Error loading script: ${err.message}`));\n",
       "    } else if (typeof vegaEmbed === \"function\") {\n",
       "      displayChart(vegaEmbed);\n",
       "    } else {\n",
       "      loadScript(\"vega\")\n",
       "        .then(() => loadScript(\"vega-lite\"))\n",
       "        .then(() => loadScript(\"vega-embed\"))\n",
       "        .catch(showError)\n",
       "        .then(() => displayChart(vegaEmbed));\n",
       "    }\n",
       "  })({\"config\": {\"view\": {\"continuousWidth\": 400, \"continuousHeight\": 300}}, \"data\": {\"url\": \"three_gene_model_to_graph_fig1.json\"}, \"mark\": {\"type\": \"area\", \"interpolate\": \"step\", \"opacity\": 0.3}, \"encoding\": {\"color\": {\"type\": \"nominal\", \"field\": \"Subtype\"}, \"row\": {\"type\": \"nominal\", \"field\": \"Gene\"}, \"x\": {\"type\": \"quantitative\", \"bin\": {\"maxbins\": 100}, \"field\": \"Value\"}, \"y\": {\"type\": \"quantitative\", \"aggregate\": \"sum\", \"axis\": {\"format\": \"%\"}, \"field\": \"pct\", \"stack\": null}}, \"transform\": [{\"calculate\": \"1 / datum.Count\", \"as\": \"pct\"}], \"$schema\": \"https://vega.github.io/schema/vega-lite/v4.8.1.json\"}, {\"mode\": \"vega-lite\"});\n",
       "</script>"
      ],
      "text/plain": [
       "alt.Chart(...)"
      ]
     },
     "execution_count": 89,
     "metadata": {},
     "output_type": "execute_result"
    }
   ],
   "source": [
    "source = genes_df.join(df[['Subtype','target']]).melt(id_vars=['Subtype','target'])\n",
    "source.columns = [\"Subtype\",\"target\",\"Gene\",\"Value\"]\n",
    "counts = source.groupby('Subtype')['target'].count().to_frame()\n",
    "counts.columns = ['Count']\n",
    "source = source.set_index('Subtype').join(counts).reset_index()\n",
    "# use the url approach to keep notebook smaller\n",
    "url = 'three_gene_model_to_graph_fig1.json'\n",
    "pyknowledge.plot.prepare_url(source,url)\n",
    "# TODO: Figure out what happened to this graph\n",
    "pyknowledge.plot.histogram_1(url,'Value','Subtype','Gene',file='three_gene_model_to_graph_fig1.png')"
   ]
  },
  {
   "cell_type": "markdown",
   "metadata": {},
   "source": [
    "## Pipeline\n",
    "\n",
    "I want this to look like a sklearn pipeline optimization where we can do a grid search. What is our objective function?"
   ]
  },
  {
   "cell_type": "code",
   "execution_count": 90,
   "metadata": {},
   "outputs": [
    {
     "data": {
      "text/plain": [
       "['Unscaled data',\n",
       " 'Data after standard scaling',\n",
       " 'Data after min-max scaling',\n",
       " 'Data after max-abs scaling',\n",
       " 'Data after robust scaling',\n",
       " 'Data after power transformation (Yeo-Johnson)',\n",
       " 'Data after power transformation (Box-Cox)',\n",
       " 'Data after quantile transformation (uniform pdf)',\n",
       " 'Data after quantile transformation (gaussian pdf)',\n",
       " 'Data after sample-wise L2 normalizing']"
      ]
     },
     "execution_count": 90,
     "metadata": {},
     "output_type": "execute_result"
    }
   ],
   "source": [
    "transformer = pyknowledge.transformers.ScaleTransformer()\n",
    "methods = list(transformer.distributions.set_index('method').index)\n",
    "methods"
   ]
  },
  {
   "cell_type": "code",
   "execution_count": 102,
   "metadata": {},
   "outputs": [],
   "source": [
    "import copy\n",
    "import itertools\n",
    "import json\n",
    "from sklearn.pipeline import Pipeline\n",
    "\n",
    "# Here you define your pipeline\n",
    "pipe_factory = [['scaler',  lambda params: pyknowledge.transformers.ScaleTransformer(**params)],\n",
    "                ['feature', lambda params: pyknowledge.transformers.FeatureSelector(**params)],\n",
    "                ['knn', lambda params: pyknowledge.transformers.KNNTransformer(**params)]]\n",
    "                #['distribution', lambda params: pyknowledge.transformers.DistributionTransformer(**params)]]\n",
    "\n",
    "# Here you specify what arguments you want to search across\n",
    "param_grid = {\n",
    "    'scaler__method': ['Unscaled data',\n",
    "                       'Data after standard scaling',\n",
    "                       'Data after min-max scaling',\n",
    "                       'Data after robust scaling'\n",
    "                      ],\n",
    "    'feature__columns': [knowledge_genes]\n",
    "}\n",
    "\n",
    "def grid_search(X,sub_types,pipe_factory,param_grid,sub_type_subset=None):\n",
    "    test_dfs = []\n",
    "    \n",
    "    grouped = {}\n",
    "    for key in param_grid.keys():\n",
    "        key2,key3 = key.split(\"__\")\n",
    "        if key2 not in grouped:\n",
    "            grouped[key2] = {}\n",
    "        grouped[key2][key3] = param_grid[key]\n",
    "    n = []\n",
    "\n",
    "    for k in grouped.keys():\n",
    "        n1 = []\n",
    "        for k2 in grouped[k].keys():\n",
    "            for v in grouped[k][k2]:\n",
    "                n1.append((k,k2,v))\n",
    "        n.append(n1)\n",
    "    \n",
    "\n",
    "    param_options = list(itertools.product(*n))\n",
    "    \n",
    "    if sub_type_subset is not None:\n",
    "        mask = sub_types.isin(sub_type_subset)\n",
    "        X = X.loc[mask]\n",
    "        sub_types = sub_types[mask]\n",
    "\n",
    "    results = None\n",
    "\n",
    "    #print(param_options[0:3], '\\n\\n\\n')\n",
    "    for param_options1 in param_options:\n",
    "        \n",
    "        steps = []\n",
    "        step_params = {}\n",
    "        for step_name,func in pipe_factory:\n",
    "            #print(step_name, func)\n",
    "            cloned_params = {}\n",
    "            for k1,k2,value in param_options1:\n",
    "                #print(k1, k2, value)\n",
    "                if k1 == step_name:\n",
    "                    cloned_params[k2] = value\n",
    "                    step_params[f\"{step_name}__{k2}\"] = value\n",
    "            steps.append((step_name,func(cloned_params)))\n",
    "\n",
    "        index_cols = list(step_params.keys())\n",
    "        results1 = pd.DataFrame([],columns=['obj1']+index_cols)\n",
    "        for k in index_cols:\n",
    "            v = step_params[k]\n",
    "            if type(v) == list:\n",
    "                v = tuple(v)\n",
    "            results1.loc[0,k] = v\n",
    "\n",
    "        pipe = Pipeline(steps)\n",
    "        pipe.fit(X,sub_types)\n",
    "        distances, indices, labels = pipe.transform(X)\n",
    "        \n",
    "        sum_obj = 0\n",
    "        c = 0\n",
    "        for i,sub_type in enumerate(sub_types):\n",
    "            count = np.sum(labels[i,:] == sub_type)\n",
    "            sum_obj += count\n",
    "        obj1 = sum_obj/len(sub_types)/labels.shape[1]\n",
    "\n",
    "        results1.loc[0,'obj1'] = obj1\n",
    "        \n",
    "        results1.set_index(index_cols,inplace=True)\n",
    "        \n",
    "        if results is None:\n",
    "            results = results1\n",
    "        else:\n",
    "            results = results.append(results1)\n",
    "            \n",
    "    return results.infer_objects()"
   ]
  },
  {
   "cell_type": "code",
   "execution_count": 109,
   "metadata": {},
   "outputs": [],
   "source": [
    "genes_df_sample = genes_df.copy()\n",
    "sub_type_subset=['Normal like', 'HER2+', 'LumB', 'LumA']\n",
    "results = grid_search(genes_df_sample,df.loc[genes_df_sample.index]['Subtype'],pipe_factory,param_grid,sub_type_subset=sub_type_subset)\n"
   ]
  },
  {
   "cell_type": "code",
   "execution_count": 110,
   "metadata": {},
   "outputs": [
    {
     "data": {
      "text/html": [
       "<div>\n",
       "<style scoped>\n",
       "    .dataframe tbody tr th:only-of-type {\n",
       "        vertical-align: middle;\n",
       "    }\n",
       "\n",
       "    .dataframe tbody tr th {\n",
       "        vertical-align: top;\n",
       "    }\n",
       "\n",
       "    .dataframe thead th {\n",
       "        text-align: right;\n",
       "    }\n",
       "</style>\n",
       "<table border=\"1\" class=\"dataframe\">\n",
       "  <thead>\n",
       "    <tr style=\"text-align: right;\">\n",
       "      <th></th>\n",
       "      <th></th>\n",
       "      <th>obj1</th>\n",
       "    </tr>\n",
       "    <tr>\n",
       "      <th>scaler__method</th>\n",
       "      <th>feature__columns</th>\n",
       "      <th></th>\n",
       "    </tr>\n",
       "  </thead>\n",
       "  <tbody>\n",
       "    <tr>\n",
       "      <th>Unscaled data</th>\n",
       "      <th>(ERBB2, ESR1, AURKA)</th>\n",
       "      <td>0.699485</td>\n",
       "    </tr>\n",
       "    <tr>\n",
       "      <th>Data after standard scaling</th>\n",
       "      <th>(ERBB2, ESR1, AURKA)</th>\n",
       "      <td>0.701416</td>\n",
       "    </tr>\n",
       "    <tr>\n",
       "      <th>Data after min-max scaling</th>\n",
       "      <th>(ERBB2, ESR1, AURKA)</th>\n",
       "      <td>0.701094</td>\n",
       "    </tr>\n",
       "    <tr>\n",
       "      <th>Data after robust scaling</th>\n",
       "      <th>(ERBB2, ESR1, AURKA)</th>\n",
       "      <td>0.701737</td>\n",
       "    </tr>\n",
       "  </tbody>\n",
       "</table>\n",
       "</div>"
      ],
      "text/plain": [
       "                                                      obj1\n",
       "scaler__method              feature__columns              \n",
       "Unscaled data               (ERBB2, ESR1, AURKA)  0.699485\n",
       "Data after standard scaling (ERBB2, ESR1, AURKA)  0.701416\n",
       "Data after min-max scaling  (ERBB2, ESR1, AURKA)  0.701094\n",
       "Data after robust scaling   (ERBB2, ESR1, AURKA)  0.701737"
      ]
     },
     "execution_count": 110,
     "metadata": {},
     "output_type": "execute_result"
    }
   ],
   "source": [
    "results"
   ]
  },
  {
   "cell_type": "code",
   "execution_count": 111,
   "metadata": {},
   "outputs": [
    {
     "data": {
      "text/plain": [
       "['results.joblib.z']"
      ]
     },
     "execution_count": 111,
     "metadata": {},
     "output_type": "execute_result"
    }
   ],
   "source": [
    "import joblib\n",
    "joblib.dump(results,'results.joblib.z')"
   ]
  },
  {
   "cell_type": "markdown",
   "metadata": {},
   "source": [
    "## Get the best parameters"
   ]
  },
  {
   "cell_type": "code",
   "execution_count": 115,
   "metadata": {},
   "outputs": [
    {
     "data": {
      "text/plain": [
       "{'scaler__method': 'Data after robust scaling',\n",
       " 'feature__columns': ('ERBB2', 'ESR1', 'AURKA')}"
      ]
     },
     "execution_count": 115,
     "metadata": {},
     "output_type": "execute_result"
    }
   ],
   "source": [
    "best_params = {}\n",
    "best = results['obj1'].idxmax()\n",
    "for i,c in enumerate(results.index.names):\n",
    "    best_params[c] = best[i]\n",
    "best_params"
   ]
  },
  {
   "cell_type": "code",
   "execution_count": 130,
   "metadata": {},
   "outputs": [
    {
     "data": {
      "text/plain": [
       "Pipeline(steps=[('scaler',\n",
       "                 ScaleTransformer(method='Data after robust scaling')),\n",
       "                ('feature',\n",
       "                 FeatureSelector(columns=['ERBB2', 'ESR1', 'AURKA'])),\n",
       "                ('knn', KNNTransformer())])"
      ]
     },
     "execution_count": 130,
     "metadata": {},
     "output_type": "execute_result"
    }
   ],
   "source": [
    "steps = []\n",
    "for name,func in pipe_factory:\n",
    "    params = {}\n",
    "    for key in best_params.keys():\n",
    "        fields = key.split(\"__\")\n",
    "        if f\"{name}__\" in key:\n",
    "            if type(best_params[key]) == tuple:\n",
    "                best_params[key] = list(best_params[key])\n",
    "            params[fields[1]] = best_params[key]\n",
    "    steps.append((name,func(params)))\n",
    "\n",
    "X = genes_df_sample.copy()\n",
    "sub_types = df.loc[genes_df_sample.index]['Subtype'].copy()\n",
    "if sub_type_subset is not None:\n",
    "    mask = sub_types.isin(sub_type_subset)\n",
    "    X = X.loc[mask]\n",
    "    sub_types = sub_types[mask]\n",
    "    \n",
    "pipeline = Pipeline(steps)\n",
    "pipeline.fit(X,sub_types)"
   ]
  },
  {
   "cell_type": "code",
   "execution_count": 132,
   "metadata": {},
   "outputs": [],
   "source": [
    "distances, indices, labels = pipeline.transform(X)"
   ]
  },
  {
   "cell_type": "code",
   "execution_count": 133,
   "metadata": {},
   "outputs": [
    {
     "data": {
      "text/plain": [
       "array([['LumA', 'HER2+', 'LumB'],\n",
       "       ['LumA', 'LumB', 'LumA'],\n",
       "       ['LumB', 'LumB', 'LumB'],\n",
       "       ...,\n",
       "       ['LumA', 'LumA', 'LumA'],\n",
       "       ['LumB', 'LumA', 'LumB'],\n",
       "       ['LumA', 'LumB', 'LumA']], dtype=object)"
      ]
     },
     "execution_count": 133,
     "metadata": {},
     "output_type": "execute_result"
    }
   ],
   "source": [
    "labels"
   ]
  },
  {
   "cell_type": "code",
   "execution_count": 136,
   "metadata": {},
   "outputs": [],
   "source": [
    "import networkx as nx\n",
    "G = nx.Graph()\n",
    "for i in range(len(indices)):\n",
    "    for ix in indices[i,:]:\n",
    "        G.add_edge(i,ix)"
   ]
  },
  {
   "cell_type": "code",
   "execution_count": 138,
   "metadata": {},
   "outputs": [
    {
     "data": {
      "image/png": "[encoded data removed]",
      "text/plain": [
       "<Figure size 432x288 with 1 Axes>"
      ]
     },
     "metadata": {},
     "output_type": "display_data"
    }
   ],
   "source": [
    "nx.draw(G)"
   ]
  },
  {
   "cell_type": "markdown",
   "metadata": {},
   "source": [
    "## TODO: Make only the true connections"
   ]
  },
  {
   "cell_type": "code",
   "execution_count": null,
   "metadata": {},
   "outputs": [],
   "source": []
  }
 ],
 "metadata": {
  "kernelspec": {
   "display_name": "Python 3",
   "language": "python",
   "name": "python3"
  },
  "language_info": {
   "codemirror_mode": {
    "name": "ipython",
    "version": 3
   },
   "file_extension": ".py",
   "mimetype": "text/x-python",
   "name": "python",
   "nbconvert_exporter": "python",
   "pygments_lexer": "ipython3",
   "version": "3.7.3"
  }
 },
 "nbformat": 4,
 "nbformat_minor": 4
}
