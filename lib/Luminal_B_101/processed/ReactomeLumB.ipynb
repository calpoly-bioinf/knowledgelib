{
 "cells": [
  {
   "cell_type": "code",
   "execution_count": 1,
   "metadata": {},
   "outputs": [],
   "source": [
    "%load_ext autoreload\n",
    "%autoreload 2\n",
    "%matplotlib inline"
   ]
  },
  {
   "cell_type": "code",
   "execution_count": 2,
   "metadata": {},
   "outputs": [],
   "source": [
    "from pathlib import Path\n",
    "home = str(Path.home())"
   ]
  },
  {
   "cell_type": "code",
   "execution_count": 3,
   "metadata": {},
   "outputs": [],
   "source": [
    "KNOWLEDGE_LIB=f'{home}/knowledgelib'"
   ]
  },
  {
   "cell_type": "code",
   "execution_count": 5,
   "metadata": {},
   "outputs": [],
   "source": [
    "import sys\n",
    "import pandas as pd\n",
    "import pandas as pd\n",
    "import numpy as np\n",
    "\n",
    "sys.path.insert(0,f'{KNOWLEDGE_LIB}')\n",
    "import pyknowledge"
   ]
  },
  {
   "cell_type": "code",
   "execution_count": 13,
   "metadata": {},
   "outputs": [
    {
     "data": {
      "text/plain": [
       "850"
      ]
     },
     "execution_count": 13,
     "metadata": {},
     "output_type": "execute_result"
    }
   ],
   "source": [
    "len(pathways_df)"
   ]
  },
  {
   "cell_type": "code",
   "execution_count": 15,
   "metadata": {},
   "outputs": [
    {
     "data": {
      "text/plain": [
       "488"
      ]
     },
     "execution_count": 15,
     "metadata": {},
     "output_type": "execute_result"
    }
   ],
   "source": [
    "len(pathways_df[['Pathway name']].drop_duplicates())"
   ]
  },
  {
   "cell_type": "code",
   "execution_count": 16,
   "metadata": {},
   "outputs": [
    {
     "name": "stdout",
     "output_type": "stream",
     "text": [
      "\\begin{tabular}{llrr}\n",
      "\\toprule\n",
      "{} &                                       Pathway name &  \\#Reactions found &  Entities FDR \\\\\n",
      "\\midrule\n",
      "0 &                 Transcriptional Regulation by TP53 &                22 &      0.016532 \\\\\n",
      "1 &                                         Cell Cycle &               149 &      0.016532 \\\\\n",
      "2 &  TP53 Regulates Transcription of Genes Involved... &                 7 &      0.059871 \\\\\n",
      "3 &                    Gene expression (Transcription) &                68 &      0.059871 \\\\\n",
      "4 &                    RNA Polymerase II Transcription &                62 &      0.073280 \\\\\n",
      "5 &         HDR through Homologous Recombination (HRR) &                14 &      0.100683 \\\\\n",
      "6 &  TFAP2A acts as a transcriptional repressor dur... &                 2 &      0.100683 \\\\\n",
      "8 &  Aberrant regulation of mitotic cell cycle due ... &                 2 &      0.100683 \\\\\n",
      "7 &  Resolution of D-loop Structures through Hollid... &                 8 &      0.100683 \\\\\n",
      "9 &                      RUNX3 regulates WNT signaling &                 2 &      0.100683 \\\\\n",
      "\\bottomrule\n",
      "\\end{tabular}\n",
      "\n"
     ]
    }
   ],
   "source": [
    "pathways_df = pyknowledge.pathways.get_pathway_genes(f'{KNOWLEDGE_LIB}/lib/Luminal_B_101/processed/ReactomeLumB.csv')\n",
    "print(pathways_df.sort_values('Entities pValue')[['Pathway name','#Reactions found','Entities FDR']].drop_duplicates().head(10).to_latex())"
   ]
  },
  {
   "cell_type": "code",
   "execution_count": null,
   "metadata": {},
   "outputs": [],
   "source": []
  }
 ],
 "metadata": {
  "kernelspec": {
   "display_name": "Python 3",
   "language": "python",
   "name": "python3"
  },
  "language_info": {
   "codemirror_mode": {
    "name": "ipython",
    "version": 3
   },
   "file_extension": ".py",
   "mimetype": "text/x-python",
   "name": "python",
   "nbconvert_exporter": "python",
   "pygments_lexer": "ipython3",
   "version": "3.7.3"
  }
 },
 "nbformat": 4,
 "nbformat_minor": 4
}
