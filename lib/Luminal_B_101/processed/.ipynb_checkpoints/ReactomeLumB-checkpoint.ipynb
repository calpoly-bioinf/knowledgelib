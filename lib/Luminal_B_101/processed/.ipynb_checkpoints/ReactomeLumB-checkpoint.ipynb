{
 "cells": [
  {
   "cell_type": "code",
   "execution_count": 11,
   "metadata": {},
   "outputs": [
    {
     "name": "stdout",
     "output_type": "stream",
     "text": [
      "The autoreload extension is already loaded. To reload it, use:\n",
      "  %reload_ext autoreload\n"
     ]
    }
   ],
   "source": [
    "%load_ext autoreload\n",
    "%autoreload 2\n",
    "%matplotlib inline"
   ]
  },
  {
   "cell_type": "code",
   "execution_count": 12,
   "metadata": {},
   "outputs": [],
   "source": [
    "from pathlib import Path\n",
    "home = str(Path.home())"
   ]
  },
  {
   "cell_type": "code",
   "execution_count": 13,
   "metadata": {},
   "outputs": [],
   "source": [
    "KNOWLEDGE_LIB=f'{home}/knowledgelib'"
   ]
  },
  {
   "cell_type": "code",
   "execution_count": 14,
   "metadata": {},
   "outputs": [],
   "source": [
    "import sys\n",
    "import pandas as pd\n",
    "import pandas as pd\n",
    "import numpy as np\n",
    "\n",
    "sys.path.insert(0,f'{KNOWLEDGE_LIB}')\n",
    "import pyknowledge"
   ]
  },
  {
   "cell_type": "code",
   "execution_count": 15,
   "metadata": {},
   "outputs": [
    {
     "name": "stdout",
     "output_type": "stream",
     "text": [
      "\\begin{tabular}{llrr}\n",
      "\\toprule\n",
      "{} &                                       Pathway name &  \\#Reactions found &  Entities FDR \\\\\n",
      "\\midrule\n",
      "0 &                 Transcriptional Regulation by TP53 &                22 &      0.016532 \\\\\n",
      "1 &                                         Cell Cycle &               149 &      0.016532 \\\\\n",
      "2 &  TP53 Regulates Transcription of Genes Involved... &                 7 &      0.059871 \\\\\n",
      "3 &                    Gene expression (Transcription) &                68 &      0.059871 \\\\\n",
      "4 &                    RNA Polymerase II Transcription &                62 &      0.073280 \\\\\n",
      "5 &         HDR through Homologous Recombination (HRR) &                14 &      0.100683 \\\\\n",
      "6 &  TFAP2A acts as a transcriptional repressor dur... &                 2 &      0.100683 \\\\\n",
      "8 &  Aberrant regulation of mitotic cell cycle due ... &                 2 &      0.100683 \\\\\n",
      "7 &  Resolution of D-loop Structures through Hollid... &                 8 &      0.100683 \\\\\n",
      "9 &                      RUNX3 regulates WNT signaling &                 2 &      0.100683 \\\\\n",
      "\\bottomrule\n",
      "\\end{tabular}\n",
      "\n"
     ]
    }
   ],
   "source": [
    "pathways_df = pyknowledge.pathways.get_pathway_genes(f'{KNOWLEDGE_LIB}/lib/Luminal_B_101/processed/ReactomeLumB.csv')\n",
    "print(pathways_df.sort_values('Entities pValue')[['Pathway name','#Reactions found','Entities FDR']].drop_duplicates().head(10).to_latex())"
   ]
  },
  {
   "cell_type": "code",
   "execution_count": 16,
   "metadata": {},
   "outputs": [
    {
     "data": {
      "text/plain": [
       "488"
      ]
     },
     "execution_count": 16,
     "metadata": {},
     "output_type": "execute_result"
    }
   ],
   "source": [
    "len(pathways_df[['Pathway name']].drop_duplicates())"
   ]
  },
  {
   "cell_type": "code",
   "execution_count": 17,
   "metadata": {},
   "outputs": [
    {
     "data": {
      "text/html": [
       "<div>\n",
       "<style scoped>\n",
       "    .dataframe tbody tr th:only-of-type {\n",
       "        vertical-align: middle;\n",
       "    }\n",
       "\n",
       "    .dataframe tbody tr th {\n",
       "        vertical-align: top;\n",
       "    }\n",
       "\n",
       "    .dataframe thead th {\n",
       "        text-align: right;\n",
       "    }\n",
       "</style>\n",
       "<table border=\"1\" class=\"dataframe\">\n",
       "  <thead>\n",
       "    <tr style=\"text-align: right;\">\n",
       "      <th></th>\n",
       "      <th>Pathway name</th>\n",
       "    </tr>\n",
       "  </thead>\n",
       "  <tbody>\n",
       "    <tr>\n",
       "      <th>0</th>\n",
       "      <td>Transcriptional Regulation by TP53</td>\n",
       "    </tr>\n",
       "    <tr>\n",
       "      <th>1</th>\n",
       "      <td>Cell Cycle</td>\n",
       "    </tr>\n",
       "    <tr>\n",
       "      <th>2</th>\n",
       "      <td>TP53 Regulates Transcription of Genes Involved...</td>\n",
       "    </tr>\n",
       "    <tr>\n",
       "      <th>3</th>\n",
       "      <td>Gene expression (Transcription)</td>\n",
       "    </tr>\n",
       "    <tr>\n",
       "      <th>4</th>\n",
       "      <td>RNA Polymerase II Transcription</td>\n",
       "    </tr>\n",
       "    <tr>\n",
       "      <th>...</th>\n",
       "      <td>...</td>\n",
       "    </tr>\n",
       "    <tr>\n",
       "      <th>483</th>\n",
       "      <td>Immune System</td>\n",
       "    </tr>\n",
       "    <tr>\n",
       "      <th>484</th>\n",
       "      <td>Infectious disease</td>\n",
       "    </tr>\n",
       "    <tr>\n",
       "      <th>485</th>\n",
       "      <td>Metabolism</td>\n",
       "    </tr>\n",
       "    <tr>\n",
       "      <th>486</th>\n",
       "      <td>GPCR downstream signalling</td>\n",
       "    </tr>\n",
       "    <tr>\n",
       "      <th>487</th>\n",
       "      <td>Signaling by GPCR</td>\n",
       "    </tr>\n",
       "  </tbody>\n",
       "</table>\n",
       "<p>488 rows × 1 columns</p>\n",
       "</div>"
      ],
      "text/plain": [
       "                                          Pathway name\n",
       "0                   Transcriptional Regulation by TP53\n",
       "1                                           Cell Cycle\n",
       "2    TP53 Regulates Transcription of Genes Involved...\n",
       "3                      Gene expression (Transcription)\n",
       "4                      RNA Polymerase II Transcription\n",
       "..                                                 ...\n",
       "483                                      Immune System\n",
       "484                                 Infectious disease\n",
       "485                                         Metabolism\n",
       "486                         GPCR downstream signalling\n",
       "487                                  Signaling by GPCR\n",
       "\n",
       "[488 rows x 1 columns]"
      ]
     },
     "execution_count": 17,
     "metadata": {},
     "output_type": "execute_result"
    }
   ],
   "source": [
    "pathways_df[['Pathway name']].drop_duplicates()"
   ]
  },
  {
   "cell_type": "code",
   "execution_count": null,
   "metadata": {},
   "outputs": [],
   "source": []
  },
  {
   "cell_type": "code",
   "execution_count": null,
   "metadata": {},
   "outputs": [],
   "source": []
  }
 ],
 "metadata": {
  "kernelspec": {
   "display_name": "Python 3",
   "language": "python",
   "name": "python3"
  },
  "language_info": {
   "codemirror_mode": {
    "name": "ipython",
    "version": 3
   },
   "file_extension": ".py",
   "mimetype": "text/x-python",
   "name": "python",
   "nbconvert_exporter": "python",
   "pygments_lexer": "ipython3",
   "version": "3.7.3"
  }
 },
 "nbformat": 4,
 "nbformat_minor": 4
}
